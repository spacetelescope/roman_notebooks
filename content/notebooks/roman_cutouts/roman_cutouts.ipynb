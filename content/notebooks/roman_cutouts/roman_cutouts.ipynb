{
 "cells": [
  {
   "cell_type": "markdown",
   "id": "3c0a6cde-7792-4d71-80fe-5f95b7a00b05",
   "metadata": {},
   "source": [
    "# Creating Cutouts of Roman Data with Astrocut\n",
    "\n",
    "---"
   ]
  },
  {
   "cell_type": "markdown",
   "id": "aa597792-e981-4447-b3ad-f217bce73526",
   "metadata": {},
   "source": [
    "## Kernel Information and Read-Only Status\n",
    "\n",
    "To run this notebook, please select the \"Roman Calibration\" kernel at the top right of your window.\n",
    "\n",
    "This notebook is read-only. You can run cells and make edits, but you must save changes to a different location. We recommend saving the notebook within your home directory, or to a new folder within your home (e.g. <span style=\"font-variant:small-caps;\">file > save notebook as > my-nbs/nb.ipynb</span>). Note that a directory must exist before you attempt to add a notebook to it.\n",
    "\n",
    "## IMPORTANT: Astrocut Version\n",
    "\n",
    "Be sure to upgrade the astrocut version to 1.0.1 before running this tutorial. Check it now:"
   ]
  },
  {
   "cell_type": "code",
   "execution_count": null,
   "id": "da214053-6e27-415a-ad81-ff63648ab20c",
   "metadata": {},
   "outputs": [],
   "source": [
    "import astrocut\n",
    "\n",
    "print(f'astrocut version = {astrocut.__version__}')"
   ]
  },
  {
   "cell_type": "markdown",
   "id": "94e0b5d3-e58e-4d87-bcf3-d94d5b052a19",
   "metadata": {},
   "source": [
    "**If you have astrocut version 1.0.0**, then uncomment the following cell, run it, and then restart the kernel. You can restart the kernel by going to the menubar, selecting \"Kernel\" then \"Restart Kernel...\". You can also press the button at the top of the notebook that looks like a circle with an arrow.\n",
    "\n",
    "**Failure to upgrade astrocut to version 1.0.1 will result in errors in the tutorial notebook cells.**"
   ]
  },
  {
   "cell_type": "code",
   "execution_count": null,
   "id": "44813ef2-94d7-434d-9947-0608aa155eea",
   "metadata": {},
   "outputs": [],
   "source": [
    "#!pip install --upgrade astrocut==1.1.0"
   ]
  },
  {
   "cell_type": "markdown",
   "id": "684dff85-f5a2-49f4-bb6f-0706bfc2f3b1",
   "metadata": {},
   "source": [
    "## Imports\n",
    "\n",
    "The following packages are used for these reasons:\n",
    "\n",
    "- *asdf* - To handle ASDF input and output\n",
    "- *roman_datamodels* - To read Roman WFI ASDF files\n",
    "- *s3fs* - To access cloud files as though they were local\n",
    "- *matplotlib* - The plotting package used for demonstrating the cutout\n",
    "- *numpy* - To handle array functions\n",
    "- *astrocut* - The main package import, used to generate the cutouts from the input file\n",
    "- *astropy* - To manage the output FITS data file type and handle input sky coordinates"
   ]
  },
  {
   "cell_type": "code",
   "execution_count": null,
   "id": "87d1cdc6-6757-461e-8658-ee7b50abd9f1",
   "metadata": {},
   "outputs": [],
   "source": [
    "import warnings\n",
    "from copy import deepcopy\n",
    "\n",
    "import asdf\n",
    "import astropy.units as u\n",
    "import matplotlib.pyplot as plt\n",
    "import numpy as np\n",
    "import roman_datamodels as rdm\n",
    "import s3fs\n",
    "from astrocut import get_center_pixel, ASDFCutout\n",
    "from astropy.coordinates import SkyCoord\n",
    "from astropy.wcs import WCS\n",
    "from astropy.nddata import Cutout2D\n",
    "from astropy.utils.exceptions import AstropyDeprecationWarning\n",
    "\n",
    "# Ignore warnings from the 'astropy.wcs' module\n",
    "# When creating cutouts -> WARNING: Polynomial distortion is not implemented.\n",
    "warnings.filterwarnings('ignore', module='astropy.wcs')\n",
    "\n",
    "# Ignore AstropyDeprecationWarning\n",
    "# When creating cutouts -> WARNING: AstropyDeprecationWarning: The class \"Fits\" has been renamed to \"FITS\" in version 7.0. \n",
    "# The old name is deprecated and may be removed in a future version. Use FITS instead. [astropy.units.format]\n",
    "warnings.filterwarnings('ignore', category=AstropyDeprecationWarning)"
   ]
  },
  {
   "cell_type": "markdown",
   "id": "77bdd3ee",
   "metadata": {},
   "source": [
    "## Introduction"
   ]
  },
  {
   "cell_type": "markdown",
   "id": "d107a95c",
   "metadata": {},
   "source": [
    "The `astrocut` tool allows users to generate cutouts out of large astronomical images. In this tutorial, we demonstrate how to use `astrocut` to generate cutouts from a calibrated Level 2 (L2; calibrated rate image) simulated product created with Roman I-Sim."
   ]
  },
  {
   "cell_type": "markdown",
   "id": "aae80744-8c8f-45f2-ad53-9ddf7165c310",
   "metadata": {},
   "source": [
    "---"
   ]
  },
  {
   "cell_type": "markdown",
   "id": "7402d2cc-a274-4c3c-a528-c5e72a3eb618",
   "metadata": {},
   "source": [
    "## Setup\n",
    "\n",
    "The first step of the analysis is to read the Roman WFI image data, which are stored in Advanced Scientific Data Format (ASDF) files. For this example, we start with a calibrated L2 simulated image created with [Roman I-Sim](https://romanisim.readthedocs.io/en/latest/). For more information about Roman's data products, check the [Roman User Documentation](https://roman-docs.stsci.edu/).\n",
    "\n",
    "After launch, Roman data will be available through the [Mikulski Archive for Space Telescopes (MAST)](https://archive.stsci.edu/). For testing purposes, some simulated data has been placed in a separate S3 bucket.  We access the Roman data files from the RRN S3 bucket using `s3fs`. For more information about how to access the S3 bucket, please see the [Data Discovery and Access](../data_discovery_and_access/data_discovery_and_access.ipynb) tutorial."
   ]
  },
  {
   "cell_type": "code",
   "execution_count": null,
   "id": "b8b75c86-2b70-4777-a8d9-2d57b5aeed68",
   "metadata": {},
   "outputs": [],
   "source": [
    "fs = s3fs.S3FileSystem(anon=True)\n",
    "asdf_dir_uri = 's3://stpubdata/roman/nexus/soc_simulations/tutorial_data/'\n",
    "asdf_file_uri = asdf_dir_uri + 'r0003201001001001004_0001_wfi02_f106_cal.asdf'\n",
    "\n",
    "# Read the file into memory\n",
    "with fs.open(asdf_file_uri, 'rb') as f:\n",
    "    with asdf.open(f) as af:\n",
    "        dm = rdm.open(af)\n",
    "        data = deepcopy(dm.data)\n",
    "        gwcs = deepcopy(dm.meta.wcs)"
   ]
  },
  {
   "cell_type": "markdown",
   "id": "744b1151-c16a-4144-9f12-e879975f3741",
   "metadata": {},
   "source": [
    "## Examine Coordinates\n",
    "\n",
    "### GWCS\n",
    "\n",
    "Roman ASDF images use a [Generalized World Coordinate System (GWCS)](https://gwcs.readthedocs.io/en/latest/index.html) object to handle coordinate transformations, as opposed to the [Flexible Image Transport System (FITS)](https://fits.gsfc.nasa.gov/fits_primer.html) [WCS standard](https://fits.gsfc.nasa.gov/fits_wcs.html). GWCS is more flexible than FITS WCS, and contains a compound model of transformations from detector to world coordinates.  It is stored in the image files within the `meta.wcs` attribute.  Let's examine the sky and pixel coordinates of our image:"
   ]
  },
  {
   "cell_type": "code",
   "execution_count": null,
   "id": "e8fde1f9-09c3-4bb4-adfe-3855806621d7",
   "metadata": {},
   "outputs": [],
   "source": [
    "print('Some GWCS Info:')\n",
    "print('---------------')\n",
    "print('- Input frame: ', gwcs.input_frame)\n",
    "print('- Output frame: ', gwcs.output_frame)\n",
    "print('- Pixel bounds: ', gwcs.bounding_box)\n",
    "print('- Sky footprint: ', gwcs.footprint())"
   ]
  },
  {
   "cell_type": "markdown",
   "id": "1882905b-cb9b-46d2-b383-ebf323c0ed77",
   "metadata": {},
   "source": [
    "### Coordinate Analysis\n",
    "\n",
    "Next, we will do some coordinate analysis of points in the image. For three sets of input sky coordinates, we will compute the pixel coordinates, the computed sky coordinates, and the separation between the input and computed sky coordinates. The points correspond to the center of the image, the far upper right, and the far lower left. First, let's define some helper functions:"
   ]
  },
  {
   "cell_type": "code",
   "execution_count": null,
   "id": "4c1553c0-41d3-42cc-8aa1-6ee5f29a938f",
   "metadata": {},
   "outputs": [],
   "source": [
    "# Define some helper functions\n",
    "\n",
    "def get_sep(coord1, coord2):\n",
    "    \"\"\" Compute separation between two sky coordinates \"\"\"\n",
    "    return coord1.separation(coord2).to(u.arcsec)\n",
    "    \n",
    "\n",
    "def get_pix_info(xx, coord):\n",
    "    \"\"\" Print some pixel coordinate info \"\"\"\n",
    "    print('Pixel Coord:', xx)\n",
    "    ss = gwcs.pixel_to_world(*xx)\n",
    "    print('Computed Sky Coord:', ss)\n",
    "    print('Separation:', get_sep(coord, ss))    \n",
    "\n",
    "\n",
    "def print_coord_info(coord):\n",
    "    \"\"\" Print some sky coordinate info \"\"\"\n",
    "    print('Input Sky Coord:', coord)\n",
    "    xx = gwcs.invert(coord)\n",
    "    get_pix_info(xx, coord)"
   ]
  },
  {
   "cell_type": "markdown",
   "id": "6774e247-f1a5-438d-ac27-845cc22abf0a",
   "metadata": {},
   "source": [
    "Next, we will do some coordinate analysis for the center of the image, the far upper-right corner, and the far lower-left corner in the image. For three sets of input sky coordinates, we will compute the pixel coordinates, the computed sky coordinates, and the separation between the input and computed sky coordinates."
   ]
  },
  {
   "cell_type": "code",
   "execution_count": null,
   "id": "6995ac65-c6e1-4049-a043-5e63b40e5a4a",
   "metadata": {},
   "outputs": [],
   "source": [
    "# Sky coord of central pixel\n",
    "print('Central Image Pixel')\n",
    "print('-------------------')\n",
    "pix_x, pix_y = np.shape(data)[0] // 2, np.shape(data)[1] // 2\n",
    "center_coord = gwcs.pixel_to_world(pix_x, pix_y)\n",
    "print_coord_info(center_coord)\n",
    "print('\\n')\n",
    "\n",
    "# Sky coord at far edge (upper right)\n",
    "print('Far Edge Pixel - Upper Right')\n",
    "print('-----------------------------')\n",
    "ss = gwcs.pixel_to_world(4077, 4077)\n",
    "print_coord_info(ss)\n",
    "print('\\n')\n",
    "\n",
    "# Sky coord at far edge (lower left)\n",
    "print('Far Edge Pixel - Lower Left')\n",
    "print('---------------------------')\n",
    "ss = gwcs.pixel_to_world(2, 2)\n",
    "print_coord_info(ss)\n",
    "print('\\n')\n",
    "\n",
    "# Get computed pixel coordinates from world coordinates with get_center_pixel()\n",
    "test_coord = SkyCoord('270.8719 -0.26437', unit='deg') # test out different sky coordinates here!\n",
    "print('Computed Closet Pixel Coordinate')\n",
    "print('--------------------------------')\n",
    "print('Test Sky Coord:', test_coord)\n",
    "pc, ww = get_center_pixel(gwcs, test_coord.ra, test_coord.dec)\n",
    "get_pix_info(pc, test_coord)\n"
   ]
  },
  {
   "cell_type": "markdown",
   "id": "d53d649a-86c3-42bb-a870-d42df7d691bd",
   "metadata": {},
   "source": [
    "---"
   ]
  },
  {
   "cell_type": "markdown",
   "id": "5a37e0f7-6a0d-4bd9-b708-c845618e1d31",
   "metadata": {},
   "source": [
    "## Creating the ASDF Image Cutout \n",
    "Here, we will create the image cutout.  First, we plot the expected cutout on the input image with a red square."
   ]
  },
  {
   "cell_type": "code",
   "execution_count": null,
   "id": "268f4637-94ca-4dcd-a9e9-39e81291b6cb",
   "metadata": {},
   "outputs": [],
   "source": [
    "# Define cutout size\n",
    "cutout_size = 200\n",
    "\n",
    "# Define cutout coordinates\n",
    "coord = center_coord\n",
    "\n",
    "# Plot original image\n",
    "plt.imshow(data, vmin=0, vmax=5, origin='lower')\n",
    "\n",
    "# Plot the expected cutout with red square\n",
    "pc, ww = get_center_pixel(gwcs, coord.ra, coord.dec)\n",
    "tmp = Cutout2D(data, position=pc, wcs=ww, size=cutout_size, mode='partial')\n",
    "tmp.plot_on_original(color='red')\n",
    "\n",
    "# More plot details\n",
    "plt.title('Expected Cutout Position')\n",
    "padding = 500\n",
    "plt.xlim(pix_x - padding, pix_x + padding)\n",
    "plt.ylim(pix_y - padding, pix_y + padding)\n",
    "plt.show()"
   ]
  },
  {
   "cell_type": "markdown",
   "id": "784020a0-32ff-4d0b-b260-d8e116319df0",
   "metadata": {},
   "source": [
    "The `~astrocut.ASDFCutout` class takes as input the following: \n",
    "- `input_files`: Input ASDF filename(s) or URI(s)\n",
    "- `coordinates`: The coordinates of the cutout center.\n",
    "- `cutout_size`: The size of the cutout array in pixels or angular units.\n",
    "- `fill_value`: The value for any cutout pixels outside the original image (optional, default `np.nan`).\n",
    "- `verbose`: If `True`, log messages are printed to the console (optional, default `False`).\n",
    "  \n",
    "Let's create a square cutout at the center of the image with 200 pixels on each side."
   ]
  },
  {
   "cell_type": "code",
   "execution_count": null,
   "id": "b71c7031-ffe6-4941-8a12-25d7b1948937",
   "metadata": {},
   "outputs": [],
   "source": [
    "# Create the image cutout\n",
    "asdf_cutout = ASDFCutout(asdf_file_uri, coord, cutout_size)"
   ]
  },
  {
   "cell_type": "markdown",
   "id": "63db81b5",
   "metadata": {},
   "source": [
    "The resulting `ASDFCutout` object can be used to access the cutout data and metadata. The following attributes are available:\n",
    "- `cutouts`: A list of cutouts as `~astropy.nddata.Cutout2D` objects. These objects contain the cutout data, shape, world coordinate system, and other helpful properties.\n",
    "- `asdf_cutouts`: A list of cutouts as `~asdf.AsdfFile` objects.\n",
    "- `fits_cutouts`: A list of cutouts as `~astropy.io.fits.HDUList` objects.\n",
    "\n",
    "The cutout objects in these lists can be used to access cutout data and metadata, as shown in the cells below."
   ]
  },
  {
   "cell_type": "code",
   "execution_count": null,
   "id": "41862fce",
   "metadata": {},
   "outputs": [],
   "source": [
    "# Access ~astropy.nddata.Cutout2D object\n",
    "cutout = asdf_cutout.cutouts[0]\n",
    "print('Cutout Data Shape:', cutout.shape)\n",
    "print('Cutout Original Position:', cutout.position_original)\n",
    "print('Cutout Position:', cutout.position_cutout)"
   ]
  },
  {
   "cell_type": "code",
   "execution_count": null,
   "id": "af1352f8",
   "metadata": {},
   "outputs": [],
   "source": [
    "# Access ~asdf.AsdfFile object\n",
    "cutout_asdf = asdf_cutout.asdf_cutouts[0]\n",
    "cutout_asdf.info()"
   ]
  },
  {
   "cell_type": "code",
   "execution_count": null,
   "id": "e87ad919",
   "metadata": {},
   "outputs": [],
   "source": [
    "# Access ~astropy.io.fits.HDUList object\n",
    "cutout_fits = asdf_cutout.fits_cutouts[0]\n",
    "cutout_fits.info()"
   ]
  },
  {
   "cell_type": "markdown",
   "id": "7d38ea90",
   "metadata": {},
   "source": [
    "### Inspect ASDF Cutout Object\n",
    "\n",
    "Now, let's inspect the ASDF cutout object and display the cutout with matplotlib."
   ]
  },
  {
   "cell_type": "code",
   "execution_count": null,
   "id": "b463570a",
   "metadata": {},
   "outputs": [],
   "source": [
    "data_asdf = cutout_asdf['roman']['data']\n",
    "gwcs_asdf = cutout_asdf['roman']['meta']['wcs']"
   ]
  },
  {
   "cell_type": "markdown",
   "id": "be14cd8e",
   "metadata": {},
   "source": [
    "#### Plot Cutout in Pixel Coordinates\n",
    "\n",
    "Next, we will plot the cutout in pixel coordinates. The pixel coordinates are shown along the axes, and the cutout is a 200 x 200 pixel square."
   ]
  },
  {
   "cell_type": "code",
   "execution_count": null,
   "id": "b4b73b5b",
   "metadata": {},
   "outputs": [],
   "source": [
    "def plot_cutout_pixel(img):\n",
    "    \"\"\" Display the cutout using pixel coordinates \"\"\"\n",
    "    plt.figure(figsize=(6, 6))\n",
    "    plt.imshow(img, vmin=0, vmax=5, origin=\"lower\")\n",
    "    plt.title('Cutout in Pixel Coordinates')\n",
    "    plt.show()\n",
    "\n",
    "\n",
    "plot_cutout_pixel(data_asdf)"
   ]
  },
  {
   "cell_type": "markdown",
   "id": "d4342cb4",
   "metadata": {},
   "source": [
    "#### Plot Cutout in Sky Coordinates\n",
    "\n",
    "Next, we will plot the cutout in sky coordinates. We will use the cutout's GWCS object as a plot projection."
   ]
  },
  {
   "cell_type": "code",
   "execution_count": null,
   "id": "74fb5307",
   "metadata": {},
   "outputs": [],
   "source": [
    "def plot_cutout_world(img, coord, wcs):    \n",
    "    \"\"\" Display the cutout using world coordinate system \"\"\"\n",
    "    plt.figure(figsize=(6, 6))\n",
    "    plt.title('Cutout in Sky Coordinates')\n",
    "    plt.xticks([])\n",
    "    plt.yticks([])\n",
    "    ax = plt.subplot(projection=wcs)\n",
    "    ax.imshow(img, vmin=0, vmax=5, origin='lower')\n",
    "    ax.grid(color='white', ls='solid')\n",
    "    \n",
    "    # Overplot the original sky coordinate in cyan\n",
    "    ax.scatter_coord(coord, s=100, edgecolor='cyan', facecolor='none')\n",
    "    \n",
    "    # Plot central pixel in white\n",
    "    center_loc = img.shape[0] // 2\n",
    "    ax.scatter([center_loc], [center_loc], s=100, edgecolor='white', facecolor='none')\n",
    "\n",
    "    # Plot sky coord of central pixel in yellow\n",
    "    if hasattr(wcs, 'all_pix2world'):\n",
    "        # WCS case\n",
    "        ra, dec = wcs.all_pix2world(center_loc, center_loc, 0)\n",
    "    else:\n",
    "        # GWCS case\n",
    "        ra, dec = wcs(center_loc, center_loc)\n",
    "    cc = SkyCoord(ra, dec, unit='deg')\n",
    "    ax.scatter_coord(cc, s=50, edgecolor='yellow', facecolor='none')\n",
    "    \n",
    "    plt.show()"
   ]
  },
  {
   "cell_type": "code",
   "execution_count": null,
   "id": "66473ba4",
   "metadata": {},
   "outputs": [],
   "source": [
    "# Print the cutout GWCS\n",
    "print(gwcs_asdf, '\\n')\n",
    "\n",
    "# Print the position of input coordinates\n",
    "print(\"SkyCoords Info:\")\n",
    "print('Input Requested', coord)\n",
    "\n",
    "# Plot the figure with WCS\n",
    "header_gwcs = gwcs_asdf.to_fits_sip()\n",
    "wcs = WCS(header_gwcs)\n",
    "plot_cutout_world(data_asdf, coord, wcs)"
   ]
  },
  {
   "cell_type": "markdown",
   "id": "cc5a3a79",
   "metadata": {},
   "source": [
    "### Inspect FITS Cutout Object\n",
    "\n",
    "Now, let's inspect the FITS cutout object and display the cutout with matplotlib."
   ]
  },
  {
   "cell_type": "code",
   "execution_count": null,
   "id": "a29c636f-4b21-497d-baa2-415818750a27",
   "metadata": {},
   "outputs": [],
   "source": [
    "data_fits = cutout_fits[0].data\n",
    "header = cutout_fits[0].header\n",
    "wcs_fits = WCS(header)"
   ]
  },
  {
   "cell_type": "markdown",
   "id": "67fdb869",
   "metadata": {},
   "source": [
    "#### Plot Cutout in Pixel Coordinates\n",
    "\n",
    "Next, we will plot the cutout in pixel coordinates. The pixel coordinates are shown along the axes, and the cutout is a 200 x 200 pixel square."
   ]
  },
  {
   "cell_type": "code",
   "execution_count": null,
   "id": "b824c655",
   "metadata": {},
   "outputs": [],
   "source": [
    "plot_cutout_pixel(data_fits)"
   ]
  },
  {
   "cell_type": "markdown",
   "id": "60db4ff2-b179-4c2b-9513-e0a546337291",
   "metadata": {},
   "source": [
    "#### Cutout in Sky Coordinates\n",
    "\n",
    "Next, we will plot the cutout in sky coordinates. We will use the cutout's GWCS object as a plot projection."
   ]
  },
  {
   "cell_type": "code",
   "execution_count": null,
   "id": "b26b07e5",
   "metadata": {},
   "outputs": [],
   "source": [
    "# Print the cutout WCS\n",
    "print(wcs, '\\n')\n",
    "\n",
    "# Print the position of input coordinates\n",
    "print(\"SkyCoords Info:\")\n",
    "print('Input Requested', coord)\n",
    "\n",
    "# Plot the figure with WCS\n",
    "plot_cutout_world(data_fits, coord, wcs)"
   ]
  },
  {
   "cell_type": "markdown",
   "id": "ec76fa78-7bf1-4522-887b-fe5b5ec50dc0",
   "metadata": {},
   "source": [
    "---"
   ]
  },
  {
   "cell_type": "markdown",
   "id": "5b604f31-2363-4c6d-b509-1cd33963632d",
   "metadata": {},
   "source": [
    "## Partial Image Cutouts\n",
    "\n",
    "Sometimes, cutouts are made near the edge of Roman images. In these cases, part of the cutout may fall outside of the original image.\n",
    "\n",
    "The `ASDFCutout` class takes an optional `fill_value` parameter for this circumstance. It describes the value that should be given to any pixels in the cutout that fall outside of the input image. The default value is `np.nan`.\n",
    "\n",
    "To illustrate this, we will take a cutout from the lower right corner of the image. The cutout will be 300 pixels on each side."
   ]
  },
  {
   "cell_type": "code",
   "execution_count": null,
   "id": "e44ac158-b88e-484a-95f8-4ada5f0803de",
   "metadata": {},
   "outputs": [],
   "source": [
    "# Roman images are 4088 x 4088, so pick values for edge_x and edge_y that are greater than 4088 - cutout_size\n",
    "cutout_size = 300\n",
    "edge_x = 4000\n",
    "edge_y = 4000\n",
    "\n",
    "# Convert to sky coordinates\n",
    "edge_coord = gwcs.pixel_to_world(edge_x, edge_y)\n",
    "edge_coord\n",
    "\n",
    "# Plot original image\n",
    "plt.imshow(data, vmin=0, vmax=5, origin='lower')\n",
    "\n",
    "# Plot the expected cutout with red square\n",
    "pc, ww = get_center_pixel(gwcs, edge_coord.ra, edge_coord.dec)\n",
    "tmp = Cutout2D(data, position=pc, wcs=ww, size=cutout_size, mode='partial')\n",
    "tmp.plot_on_original(color='red')\n",
    "\n",
    "# More plot details\n",
    "plt.title('Expected Cutout Position')\n",
    "padding = 500\n",
    "plt.xlim(edge_x - padding, edge_x + padding)\n",
    "plt.ylim(edge_y - padding, edge_y + padding)\n",
    "plt.show()"
   ]
  },
  {
   "cell_type": "markdown",
   "id": "2c9d0f88-ec6c-4aeb-ad3e-7f92c0e4a661",
   "metadata": {},
   "source": [
    "Notice how the top and right side of the square are outside of the image? We can assign the value of these pixels in our cutout using the `fill_value` parameter.\n",
    "\n",
    "### Create Image Cutout\n",
    "\n",
    "We will create the partial cutout and fill in any outside pixels with a value of 0."
   ]
  },
  {
   "cell_type": "code",
   "execution_count": null,
   "id": "956ab4b3-8609-4493-8603-41e03143ae96",
   "metadata": {},
   "outputs": [],
   "source": [
    "# Create the partial image cutout\n",
    "asdf_cutout_partial = ASDFCutout(asdf_file_uri, edge_coord, cutout_size, fill_value=0)\n",
    "\n",
    "# Get Cutout2D object\n",
    "cutout_partial = asdf_cutout_partial.cutouts[0]\n",
    "print('Cutout Data Shape:', cutout_partial.shape)\n",
    "print('Cutout Original Position:', cutout_partial.position_original)\n",
    "print('Cutout Position:', cutout_partial.position_cutout)"
   ]
  },
  {
   "cell_type": "markdown",
   "id": "8bacd46f-c449-4689-8451-95f060aff5a0",
   "metadata": {},
   "source": [
    "### Inspect Image Cutout\n",
    "\n",
    "Let's inspect the cutout object and display it with matplotlib."
   ]
  },
  {
   "cell_type": "code",
   "execution_count": null,
   "id": "44897d9e-07bf-4729-b3fa-7ec8d4556102",
   "metadata": {},
   "outputs": [],
   "source": [
    "# Plot cutout in pixel coordinates\n",
    "plot_cutout_pixel(cutout_partial.data)"
   ]
  },
  {
   "cell_type": "code",
   "execution_count": null,
   "id": "a315be9b-53ec-4852-a79c-b21682b375de",
   "metadata": {},
   "outputs": [],
   "source": [
    "# Print the cutout wcs\n",
    "print(cutout_partial.wcs, '\\n')\n",
    "\n",
    "# Print FITS WCS position of various sky coordinates\n",
    "print(\"SkyCoords Info:\")\n",
    "print('Input Requested', edge_coord)\n",
    "\n",
    "# Plot the figure with wcs\n",
    "plot_cutout_world(cutout_partial.data, edge_coord, cutout_partial.wcs)"
   ]
  },
  {
   "cell_type": "markdown",
   "id": "16d79e1a-8175-4482-8a41-9fb3a713837c",
   "metadata": {},
   "source": [
    "As expected, the pixels that fall outside of the original image have been assigned a value of 0."
   ]
  },
  {
   "cell_type": "markdown",
   "id": "7a0388ce-8b95-47b8-949e-498e34211106",
   "metadata": {},
   "source": [
    "---"
   ]
  },
  {
   "cell_type": "markdown",
   "id": "26b9e4a3-3321-488f-b72b-f2d4a16bf4c8",
   "metadata": {},
   "source": [
    "## Additional Resources\n",
    "- [Astrocut Documentation](https://astrocut.readthedocs.io)\n",
    "- [Advanced Scientific Data Format Documentation](https://asdf.readthedocs.io/en/latest/)"
   ]
  },
  {
   "cell_type": "markdown",
   "id": "6c9f597d-56fc-4aaa-9fd0-3caccffbfa38",
   "metadata": {},
   "source": [
    "---"
   ]
  },
  {
   "cell_type": "markdown",
   "id": "99d925a3-122e-4742-91d2-979efaa4d0a5",
   "metadata": {},
   "source": [
    "## About this Notebook\n",
    "\n",
    "**Authors**: Thomas Dutkiewicz, Brian Cherinka, Sam Bianco<br>\n",
    "**Last Updated**: 2025-06-05"
   ]
  },
  {
   "cell_type": "markdown",
   "id": "7b20a4a1-2c07-488e-ac35-ae08b965e97f",
   "metadata": {},
   "source": [
    "***"
   ]
  },
  {
   "cell_type": "markdown",
   "id": "86513da4-1356-4a23-b264-3a2f835b3bc7",
   "metadata": {},
   "source": [
    "[Top of Page](#top)\n",
    "<img style=\"float: right;\" src=\"https://raw.githubusercontent.com/spacetelescope/notebooks/master/assets/stsci_pri_combo_mark_horizonal_white_bkgd.png\" alt=\"Space Telescope Logo\" width=\"200px\"/> "
   ]
  }
 ],
 "metadata": {
  "kernelspec": {
   "display_name": "Roman Calibration",
   "language": "python",
   "name": "roman-cal"
  },
  "language_info": {
   "codemirror_mode": {
    "name": "ipython",
    "version": 3
   },
   "file_extension": ".py",
   "mimetype": "text/x-python",
   "name": "python",
   "nbconvert_exporter": "python",
   "pygments_lexer": "ipython3",
   "version": "3.12.9"
  }
 },
 "nbformat": 4,
 "nbformat_minor": 5
}
