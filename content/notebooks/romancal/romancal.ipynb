{
 "cells": [
  {
   "cell_type": "markdown",
   "metadata": {
    "slideshow": {
     "slide_type": "slide"
    }
   },
   "source": [
    "# Calibrating WFI Data with RomanCal "
   ]
  },
  {
   "cell_type": "markdown",
   "metadata": {
    "slideshow": {
     "slide_type": "skip"
    }
   },
   "source": [
    "***"
   ]
  },
  {
   "cell_type": "markdown",
   "metadata": {
    "slideshow": {
     "slide_type": "slide"
    }
   },
   "source": [
    "## Kernel Information and Read-Only Status\n",
    "\n",
    "To run this notebook, please select the \"Roman Calibration\" kernel at the top right of your window.\n",
    "\n",
    "This notebook is read-only. You can run cells and make edits, but you must save changes to a different location. We recommend saving the notebook within your home directory, or to a new folder within your home (e.g. <span style=\"font-variant:small-caps;\">file > save notebook as > my-nbs/nb.ipynb</span>). Note that a directory must exist before you attempt to add a notebook to it.\n",
    "\n",
    "## Imports\n",
    " Libraries used\n",
    "- *romancal* for running the processing pipeline\n",
    "- *roman_datamodels* for opening Roman WFI ASDF files\n",
    "- *s3fs* for streaming files from an S3 bucket"
   ]
  },
  {
   "cell_type": "code",
   "execution_count": null,
   "metadata": {
    "slideshow": {
     "slide_type": "fragment"
    }
   },
   "outputs": [],
   "source": [
    "import roman_datamodels as rdm\n",
    "import romancal\n",
    "from romancal.pipeline import ExposurePipeline\n",
    "import s3fs"
   ]
  },
  {
   "cell_type": "markdown",
   "metadata": {
    "slideshow": {
     "slide_type": "slide"
    }
   },
   "source": [
    "## Introduction\n",
    "The purpose of this notebook is to calibrate Level 1 (L1) data with the Roman WFI science calibration pipeline RomanCal (Python package name `romancal`) to produce Level 2 (L2) exposure level data. \n",
    "\n",
    "Details about the Roman data levels can be found [here](https://roman-docs.stsci.edu/data-handbook-home/wfi-data-format/data-levels-and-products). A Level 1 file contains a single uncalibrated ramp exposure in units of Data Numbers (DN).  Level 1 files are three-dimensional data cubes, one dimension for time and two dimensions for image coordinates, that are shaped as  arrays with (N resultants, 4096 image rows, 4096 image columns). The Level 2 WFI data are calibrated images in instrumental units of DN / second.  They are two-dimensional arrays shaped as (4088 image rows, 4088 image columns)."
   ]
  },
  {
   "cell_type": "markdown",
   "metadata": {},
   "source": [
    "***"
   ]
  },
  {
   "cell_type": "markdown",
   "metadata": {
    "slideshow": {
     "slide_type": "slide"
    }
   },
   "source": [
    "## Tutorial Data\n",
    "In this tutorial, we use Level 1 WFI data files simulated with `romanisim`. The files are stored in the science platform S3 bucket. For more information on how to access these data, see the Data Discovery and Access tutorial."
   ]
  },
  {
   "cell_type": "markdown",
   "metadata": {},
   "source": [
    "## Run romancal on L1 Data\n",
    "To run `romancal` on the L1 data, there are two options:\n",
    "1. You can use the exposure-level pipeline to run all steps (basic), or\n",
    "2. You can run one or more individual steps (advanced).\n",
    "\n",
    "### Basic Example: Full Pipeline\n",
    "\n",
    "The input file for our example is a WFI L1 ASDF file. We must copy the file to our local storage as the RomanCal exposure pipeline currently only works with an input file on disk. Individual pipeline steps (described further below) can run directly on datamodels in memory."
   ]
  },
  {
   "cell_type": "code",
   "execution_count": null,
   "metadata": {},
   "outputs": [],
   "source": [
    "asdf_dir_uri = 's3://roman-sci-test-data-prod-summer-beta-test/'\n",
    "fs = s3fs.S3FileSystem()\n",
    "\n",
    "asdf_file_uri = asdf_dir_uri + 'ROMANISIM/DENSE_REGION/R0.5_DP0.5_PA0/r0000101001001001001_01101_0001_WFI01_uncal.asdf'\n",
    "_ = fs.get(asdf_file_uri, '.')"
   ]
  },
  {
   "cell_type": "markdown",
   "metadata": {},
   "source": [
    "Let's start with the basic example of running the \"complete\" pipeline. Please note that in this example, we are skipping the final two steps in the pipeline, source detection and tweakreg, for two reasons: first, the source detection step on our example takes a long time to run due to the density of sources; and second, source detection and tweakreg are meant to align the image to the Gaia astrometric frame, but the sources in our simulated image are not real and do not correspond to Gaia sources. There are other optional parameters that may be set for individual steps in a similar manner, and more information can be found in the [romancal documentation](https://roman-pipeline.readthedocs.io/en/latest/index.html).\n",
    "\n",
    "The save_results optional parameter will save the resulting file to your local disk. You can enable this by setting the value to True. In our example, we will keep the output calibrated result in memory instead."
   ]
  },
  {
   "cell_type": "code",
   "execution_count": null,
   "metadata": {},
   "outputs": [],
   "source": [
    "pipe = ExposurePipeline(save_results=False, steps={'source_detection': {'skip': True}, 'tweakreg': {'skip': True}})\n",
    "result = pipe.process('r0000101001001001001_01101_0001_WFI01_uncal.asdf')"
   ]
  },
  {
   "cell_type": "markdown",
   "metadata": {},
   "source": [
    "The output from the exposure pipeline is currently returned as a list. You will need to index the results variable with a `[0]` to access the datamodel object."
   ]
  },
  {
   "cell_type": "code",
   "execution_count": null,
   "metadata": {},
   "outputs": [],
   "source": [
    "type(result)"
   ]
  },
  {
   "cell_type": "code",
   "execution_count": null,
   "metadata": {},
   "outputs": [],
   "source": [
    "type(result[0])"
   ]
  },
  {
   "cell_type": "markdown",
   "metadata": {},
   "source": [
    "In the example above, you can see how we passed optional parameters to individual steps in the pipeline. The pipeline steps in order are:\n",
    "\n",
    "- `romancal.dq_init.dq_init_step`: Bad pixel masking and data quality initialization\n",
    "- `romancal.saturation.SaturationStep`: Saturation flagging up-the-ramp\n",
    "- `romancal.refpix.RefPixStep`: 1/f noise correction\n",
    "- `romancal.linearity.LinearityStep`: Classic non-linearity correction\n",
    "- `romancal.dark_current.DarkCurrentStep`: Dark current subtraction\n",
    "- `romancal.ramp_fitting.ramp_fit_step`: Jump detection and fitting up-the-ramp\n",
    "- `romancal.assign_wcs.AssignWcsStep`: Initialize the WCS with the pointing information\n",
    "- `romancal.flatfield.FlatFieldStep`: Apply the flat field to the data\n",
    "- `romancal.photom.PhotomStep`: Populate photometric calibration information\n",
    "- `romancal.source_detection.SourceDetectionStep`: Run source detection on the image\n",
    "- `romancal.tweakreg.TweakRegStep`: Match sources to Gaia and update WCS information\n",
    "\n",
    "Note that the ramp fitting step transforms the datamodel in memory, therefore steps after ramp fitting cannot be applied to a datamodel that has not been run through the ramp fitting step (and likewise steps prior to ramp fitting should not be run on datamodels after the ramp fitting step).\n",
    "\n",
    "### Advanced Example: Running Individual Pipeline Steps\n",
    "\n",
    "Now, for a mode advanced use case, let's update the WCS based on the pointing information. In this example, let's imagine that we have simulated a field in a L2 calibrated file, and we want to update the distortion model in the file's gwcs (Generalized World Coordinate System) object. We can do so by running the individual AssignWcsStep on a L2 ASDF file streamed from the S3 bucket. Let's start by opening the L2 file in memory from the S3 bucket:"
   ]
  },
  {
   "cell_type": "code",
   "execution_count": null,
   "metadata": {},
   "outputs": [],
   "source": [
    "asdf_dir_uri = 's3://roman-sci-test-data-prod-summer-beta-test/'\n",
    "fs = s3fs.S3FileSystem()\n",
    "\n",
    "asdf_file_uri = asdf_dir_uri + 'ROMANISIM/DENSE_REGION/R0.5_DP0.5_PA0/r0000101001001001001_01101_0001_WFI01_cal.asdf'\n",
    "with fs.open(asdf_file_uri, 'rb') as f:\n",
    "    dm = rdm.open(f)"
   ]
  },
  {
   "cell_type": "markdown",
   "metadata": {},
   "source": [
    "Next, let's run AssignWcsStep on the datamodel. Doing so will return an updated datamodel in memory:"
   ]
  },
  {
   "cell_type": "code",
   "execution_count": null,
   "metadata": {},
   "outputs": [],
   "source": [
    "dm.info()"
   ]
  },
  {
   "cell_type": "code",
   "execution_count": null,
   "metadata": {},
   "outputs": [],
   "source": [
    "wcs_step = romancal.assign_wcs.AssignWcsStep()\n",
    "result = wcs_step.process(dm)"
   ]
  },
  {
   "cell_type": "markdown",
   "metadata": {},
   "source": [
    "In this case, the output from the step is the datamodel rather than a list:"
   ]
  },
  {
   "cell_type": "code",
   "execution_count": null,
   "metadata": {},
   "outputs": [],
   "source": [
    "type(result)"
   ]
  },
  {
   "cell_type": "markdown",
   "metadata": {},
   "source": [
    "If we would like to use our own version of the distortion reference file rather than the one from CRDS, then we can use the file with the override_distortion optional parameter:"
   ]
  },
  {
   "cell_type": "code",
   "execution_count": null,
   "metadata": {},
   "outputs": [],
   "source": [
    "# wcs_step = romancal.assign_wcs.AssignWcsStep(override_distortion='my_distortion_file.asdf')\n",
    "# result = wcs_step.process(dm)"
   ]
  },
  {
   "cell_type": "markdown",
   "metadata": {},
   "source": [
    "Similar override parameters exist for all reference file types. More information on WFI reference file types may be found in the RDox article [CRDS for Reference Files](https://roman-docs.stsci.edu/data-handbook-home/accessing-wfi-data/crds-for-reference-files).\n",
    "\n",
    "As before, we directed the updated datamodel to the variable \"result\" in active memory. We can access the information in the \"result\" (such as the gwcs object or data array) as in any other datamodel object. To write the result to disk, we can do so with the `save()` method. We can also pass this datamodel along to the next pipeline step and chain steps together. For more information on working with datamodels, see the Working with ASDF tutorial."
   ]
  },
  {
   "cell_type": "markdown",
   "metadata": {},
   "source": [
    "## Aditional Resources\n",
    "- [romanisim](https://romanisim.readthedocs.io/en/latest/index.html)\n",
    "- [romancal](https://roman-pipeline.readthedocs.io/en/latest/index.html)\n",
    "- [Roman Documentation](https://roman-docs.stsci.edu)"
   ]
  },
  {
   "cell_type": "markdown",
   "metadata": {
    "slideshow": {
     "slide_type": "slide"
    }
   },
   "source": [
    "## About this notebook\n",
    "**Author:** Sanjib Sharma, Tyler Desjardins  \n",
    "**Updated On:** 2024-06-18"
   ]
  },
  {
   "cell_type": "markdown",
   "metadata": {},
   "source": [
    "***"
   ]
  },
  {
   "cell_type": "markdown",
   "metadata": {},
   "source": [
    "[Top of Page](#top)\n",
    "<img style=\"float: right;\" src=\"https://raw.githubusercontent.com/spacetelescope/notebooks/master/assets/stsci_pri_combo_mark_horizonal_white_bkgd.png\" alt=\"Space Telescope Logo\" width=\"200px\"/> "
   ]
  }
 ],
 "metadata": {
  "kernelspec": {
   "display_name": "Roman Calibration latest (2024-03-25)",
   "language": "python",
   "name": "roman-cal"
  },
  "language_info": {
   "codemirror_mode": {
    "name": "ipython",
    "version": 3
   },
   "file_extension": ".py",
   "mimetype": "text/x-python",
   "name": "python",
   "nbconvert_exporter": "python",
   "pygments_lexer": "ipython3",
   "version": "3.11.9"
  }
 },
 "nbformat": 4,
 "nbformat_minor": 4
}
