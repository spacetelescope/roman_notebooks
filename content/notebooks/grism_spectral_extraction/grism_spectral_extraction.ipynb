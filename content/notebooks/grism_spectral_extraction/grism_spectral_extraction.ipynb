{
 "cells": [
  {
   "cell_type": "markdown",
   "id": "2c893bf8",
   "metadata": {},
   "source": [
    "# Roman Spectroscopy: Grism Spectral Extraction"
   ]
  },
  {
   "cell_type": "markdown",
   "id": "dd773246-8f89-4403-9aae-e8dd41cd83c4",
   "metadata": {},
   "source": [
    "***"
   ]
  },
  {
   "cell_type": "markdown",
   "id": "74f24450-c9e0-47d8-85b2-d3d0cfa10b02",
   "metadata": {},
   "source": [
    "## Kernel Information and Read-Only Status\n",
    "\n",
    "To run this notebook, please select the \"Roman Calibration\" kernel at the top right of your window.\n",
    "\n",
    "This notebook is read-only. You can run cells and make edits, but you must save changes to a different location. We recommend saving the notebook within your home directory, or to a new folder within your home (e.g. <span style=\"font-variant:small-caps;\">file > save notebook as > my-nbs/nb.ipynb</span>). Note that a directory must exist before you attempt to add a notebook to it."
   ]
  },
  {
   "cell_type": "markdown",
   "id": "b48a3187-45a1-40be-8466-56c1c0959526",
   "metadata": {},
   "source": [
    "## Imports\n",
    "\n"
   ]
  },
  {
   "cell_type": "code",
   "execution_count": null,
   "id": "0107dc04-6f30-4ecf-b9a5-6395cc05c5db",
   "metadata": {},
   "outputs": [],
   "source": [
    "import asdf\n",
    "import roman_datamodels as rdm\n",
    "import astropy.io.fits as fits\n",
    "import matplotlib.pyplot as plt\n",
    "import numpy as np\n",
    "import s3fs\n",
    "\n",
    "from astropy.table import Table\n",
    "from scipy.ndimage import rotate\n",
    "from scipy.interpolate import interp1d\n",
    "from matplotlib.patches import Circle, Rectangle\n",
    "from astropy.nddata import Cutout2D\n",
    "from itertools import cycle\n",
    "from astropy.convolution import convolve\n",
    "from astropy.visualization import simple_norm\n",
    "from photutils.segmentation import detect_sources\n",
    "\n",
    "%matplotlib inline"
   ]
  },
  {
   "cell_type": "markdown",
   "id": "8b189f1a-4d4e-48e9-8889-f7185a4183e1",
   "metadata": {},
   "source": [
    "## Introduction"
   ]
  },
  {
   "attachments": {},
   "cell_type": "markdown",
   "id": "3629d045",
   "metadata": {},
   "source": [
    "In this notebook, we demonstrate an example workflow one can follow to extract the grism spectra from Roman WFI images. We will use simulated grism data for this exercise and illustrate how to go from a full 2-D grism dispersed image to a 1-D spectrum for a source of interest.\n",
    "\n",
    "**Important Disclaimer:** This workflow is vastly simplified for the purposes of demonstration. This does not represent the full functionality available from the [Grism/Prism Data Processing System (GDPS)]( https://roman.gsfc.nasa.gov/science/roses/GDPSforROSES.pdf), which is the pipeline being developed for reducing Roman WFI spectral data. In the limited demonstration showcased here, we will be making several simplifying assumptions, which will be highlighted by **Notes** throughout the notebook."
   ]
  },
  {
   "cell_type": "markdown",
   "id": "b482bc98-4dbb-44fe-b3a6-c960283147a5",
   "metadata": {},
   "source": [
    "### Initial Setup and Utility Functions\n",
    "\n",
    "Let's begin by setting up a couple utility functions that will be used throughout the notebook:"
   ]
  },
  {
   "cell_type": "code",
   "execution_count": null,
   "id": "f287b831-e381-4ec7-a078-17787f1834fd",
   "metadata": {},
   "outputs": [],
   "source": [
    "def get_vmin_vmax(img, fac_neg=1.5, fac_pos=3):\n",
    "    \"\"\"\n",
    "    Returns a min-max value to scale images (when plotting)\n",
    "    \"\"\"\n",
    "    med, std = np.nanmedian(img), np.nanstd(img)\n",
    "    vmin = med - fac_neg * std\n",
    "    vmax = med + fac_pos * std\n",
    "    return vmin, vmax\n",
    "\n",
    "def cutout_image(image, position, size, fill_value=0):\n",
    "    \"\"\"\n",
    "    Uses the astropy Cutout2D to cutout a part of the image\n",
    "    \"\"\"\n",
    "    return Cutout2D(image, position, size=size, mode=\"partial\", fill_value=fill_value).data"
   ]
  },
  {
   "cell_type": "markdown",
   "id": "fa510fd3-55e9-4ce6-b02d-44593f61ef8c",
   "metadata": {},
   "source": [
    "#### Simulated Grism Spectroscopy Data\n",
    "\n",
    "For this demonstration, we will use the simulated grism images from [Wang et al. (2022, ApJ, 928, 1)](https://ui.adsabs.harvard.edu/abs/2022ApJ...928....1W), developed as part of the Roman High Latitude Spectroscopic Survey (HLSS) Grism Simulation Products. Please refer to [their IRSA page](https://irsa.ipac.caltech.edu/data/theory/Roman/Wang2022a/) for full details on the simulation. Briefly, these simulations cover an area of 4 sq. deg., across a redshift range of $0<z<3$. The simulation products have been designed to closely mimic future observations by incorporating survey parameters from the planned HLSS, such as detection limits, exposure times, roll angles, and dithering.\n",
    "\n",
    "For this exercise, we provide the direct and grism images for one of the Roman detectors (WFI01) in the ASDF data format for Roman, along with a source catalog."
   ]
  },
  {
   "cell_type": "markdown",
   "id": "9da44330-cc6e-4d7d-8045-d57d6baae530",
   "metadata": {},
   "source": [
    "#### Loading the Simulated Data\n",
    "\n",
    "Let's load the relevant files:\n",
    "- WFI direct image corresponding to the grism pointing to locate the on-sky source positions (ASDF format)\n",
    "- WFI grism image with the slitless spectra (ASDF format)\n",
    "- Input catalog for the simulated sources (FITS format)"
   ]
  },
  {
   "cell_type": "code",
   "execution_count": null,
   "id": "d7b9a205-1e5a-4867-a5dd-500e4236b0c0",
   "metadata": {
    "scrolled": true
   },
   "outputs": [],
   "source": [
    "fs = s3fs.S3FileSystem(anon=True)\n",
    "asdf_dir_uri = 's3://stpubdata/roman/nexus/soc_simulations/tutorial_data/'\n",
    "\n",
    "# Read in the direct image\n",
    "asdf_file_uri = asdf_dir_uri + 'r0007601002004013001_0001_wfi01_f158_cal.asdf'\n",
    "direct_asdf = rdm.open(fs.open(asdf_file_uri, 'rb'))\n",
    "direct_img = direct_asdf.data\n",
    "\n",
    "# Read in the grism image\n",
    "asdf_file_uri = asdf_dir_uri + 'r0007601002004013002_0001_wfi01_grism_cal.asdf'\n",
    "grism_asdf = rdm.open(fs.open(asdf_file_uri, 'rb'))\n",
    "grism_img = grism_asdf.data\n",
    "grism_err = grism_asdf.err\n",
    "\n",
    "# Read in the catalog\n",
    "asdf_file_uri = asdf_dir_uri + 'r0007601002004013001_0001_catalog.fits'\n",
    "hdu = fits.open(asdf_file_uri, fsspec_kwargs={'anon':True})\n",
    "catalog = Table(hdu[1].data)"
   ]
  },
  {
   "cell_type": "markdown",
   "id": "d5cf606a-f436-4579-98be-5dfb7abd711e",
   "metadata": {},
   "source": [
    "#### Initial Quick Look at the Data\n",
    "\n",
    "Let's first make a quick plot of the direct and dispersed images for visualization. We will also overlay the positions of the sources from the catalog.\n",
    "\n",
    "##### Getting the Direct-to-Dispersed Mapping\n",
    "\n",
    "We need to know the mapping between the source position in the direct image and the corresponding spectral trace in the dispersed image. This transformation is part of the Roman \"optical model\" and will be included in the Roman calibration files, along with utility tools. However, since these tools are still under development, here we provide the spectral trace reference positions and tilts in the catalog (see the `X_GRISM`, `Y_GRISM`, and `THETA_GRISM` columns). \n",
    "\n",
    "**NOTE**: The reference position of the spectra we provide is defined at **1.55 microns**. We assume the wavelength dispersion of the Roman grism to be **11 Angstroms per pixel**. WHile the dispersion varies slightly over the wavelength range, we ignore the effects for simplicity."
   ]
  },
  {
   "cell_type": "code",
   "execution_count": null,
   "id": "ea93f4e4-6810-4e9d-95fe-2b8265497694",
   "metadata": {},
   "outputs": [],
   "source": [
    "### Setup the figure\n",
    "fig, (ax1, ax2) = plt.subplots(1, 2, figsize=(18, 9), dpi=75, sharex=True, sharey=True, tight_layout=True)\n",
    "\n",
    "### Plot the direct image\n",
    "vmin, vmax = get_vmin_vmax(direct_img)\n",
    "ax1.imshow(\n",
    "    direct_img,\n",
    "    vmin=vmin,\n",
    "    vmax=vmax,\n",
    "    cmap=plt.cm.Greys,\n",
    "    origin=\"lower\",\n",
    ")\n",
    "ax1.set_title(\"Direct Image\", fontsize=18, fontweight=600)\n",
    "\n",
    "### Plot the grism image\n",
    "vmin, vmax = get_vmin_vmax(grism_img)\n",
    "ax2.imshow(\n",
    "    grism_img,\n",
    "    vmin=vmin,\n",
    "    vmax=vmax,\n",
    "    cmap=plt.cm.Greys,\n",
    "    origin=\"lower\",\n",
    ")\n",
    "ax2.set_title(\"Dispersed (Grism) Image\", fontsize=18, fontweight=600)\n",
    "\n",
    "### Overlay the source positions in the direct image\n",
    "for i, entry in enumerate(catalog[catalog[\"mag_ROMAN_WFI_NIR_F146\"] < 18]): # only show the bright objects\n",
    "    ax1.add_patch(\n",
    "        Circle(\n",
    "            (entry[\"X_IMAGE\"], entry[\"Y_IMAGE\"]),\n",
    "            radius=entry[\"A_IMAGE\"] * 3.5,\n",
    "            facecolor=\"none\",\n",
    "            edgecolor=\"r\",\n",
    "            lw=1.5,\n",
    "        )\n",
    "    )\n",
    "    bbox = [50, 1200]\n",
    "    ax2.add_patch(Rectangle((entry[\"X_GRISM\"]-bbox[0]/2, entry[\"Y_GRISM\"]-bbox[1]/2), *bbox, angle=entry[\"THETA_GRISM\"]-90, lw=0.8, facecolor=\"none\", edgecolor='r'))\n",
    "\n",
    "ax1.set_xlim(0, grism_img.shape[0])\n",
    "ax1.set_ylim(0, grism_img.shape[1]);"
   ]
  },
  {
   "cell_type": "markdown",
   "id": "a8df369c-5c5c-4226-9cb6-0e55c9e6608f",
   "metadata": {},
   "source": [
    "## Cutout of a 2-D Spectrum\n",
    "\n",
    "Let's now pick an object and make a cutout of its 2-D spectrum. We will also rotate the spectra by its tilt (90 degrees) for visualization, which will make plotting them easier.\n",
    "\n",
    "**Note:** The process of extracting a 2-D spectral cutout is highly simplified. The spectral traces typically require high-order rectification. For simplicity, we are skipping this step and only considering a rotational transformation. Also, please note that while `scipy.ndimage.rotate()` is convenient, it does not necessarily conserve flux, which is important for proper spectral measurements.\n",
    "\n",
    "First, we write a function to perform our 2D extraction since this will be utilized again later."
   ]
  },
  {
   "cell_type": "code",
   "execution_count": null,
   "id": "1a8ed6e5-1a06-4aeb-8a1d-b2a1f9800834",
   "metadata": {},
   "outputs": [],
   "source": [
    "def extract_2D_spectrum(xpix, ypix, theta, size_spatial, grism_img, grism_err, size_wavelength=1200):\n",
    "    \"\"\"\n",
    "    Cutout a 2D spectrum at the desired position for a given size (spatial and spectral dimensions)\n",
    "    This assumes the spectra are aligned along the y-axis of the dispersed image\n",
    "    The recommended size in the wavelength dimension is 1200 px\n",
    "    \"\"\"\n",
    "    ### Define the extraction box\n",
    "    size = [size_spatial, size_wavelength]\n",
    "\n",
    "    ### Use astropy's Cutout2D\n",
    "    ### Fill value is set to 0 to avoid issues with rotate\n",
    "    flux2D = cutout_image(image=grism_img, position=(xpix, ypix), size=size[::-1], fill_value=0)\n",
    "    ferr2D = cutout_image(image=grism_err, position=(xpix, ypix), size=size[::-1], fill_value=0)\n",
    "\n",
    "    ### Rotate the vertial spectral just for plotting purposes\n",
    "    flux2D = rotate(flux2D, theta)\n",
    "    ferr2D = rotate(ferr2D, theta)\n",
    "\n",
    "    return flux2D, ferr2D"
   ]
  },
  {
   "cell_type": "markdown",
   "id": "dba4474e-4fa0-43f2-b384-31e9cd053f79",
   "metadata": {},
   "source": [
    "Let's pick a bright star as our test object -- e.g., ID# 197462 in the catalog."
   ]
  },
  {
   "cell_type": "code",
   "execution_count": null,
   "id": "421016d2-5c31-42ff-970e-b069e3a4777a",
   "metadata": {},
   "outputs": [],
   "source": [
    "### Let's choose an object\n",
    "entry = catalog[catalog[\"SOURCE_ID\"]==197462][0]\n",
    "\n",
    "### Cutout the 2D spectrum\n",
    "flux2D, ferr2D = extract_2D_spectrum(entry[\"X_GRISM\"], entry[\"Y_GRISM\"], entry[\"THETA_GRISM\"], size_spatial=entry[\"A_IMAGE\"] * 10, grism_img=grism_img, grism_err=grism_err)\n",
    "\n",
    "### Also cutout a direct image stamp\n",
    "stamp = rotate(cutout_image(image=direct_img, position=(entry[\"X_IMAGE\"], entry[\"Y_IMAGE\"]), size=flux2D.shape[0]), 90)\n",
    "\n",
    "### Make a quick plot\n",
    "fig, axes = plt.subplots(1, 2, figsize=(8, 2), width_ratios=[1, 15], dpi=100, tight_layout=True)\n",
    "\n",
    "vmin, vmax = get_vmin_vmax(stamp)\n",
    "axes[0].imshow(stamp, origin=\"lower\", vmin=vmin, vmax=vmax, cmap=plt.cm.Greys)\n",
    "\n",
    "vmin, vmax = get_vmin_vmax(flux2D)\n",
    "axes[1].imshow(flux2D, origin=\"lower\", vmin=vmin, vmax=vmax, cmap=plt.cm.Greys)\n",
    "\n",
    "for axis in axes:\n",
    "    axis.xaxis.set_visible(False)\n",
    "    axis.yaxis.set_visible(False)"
   ]
  },
  {
   "cell_type": "markdown",
   "id": "e9cc76f1-587c-4c1a-ba71-d832d9a59382",
   "metadata": {},
   "source": [
    "Now that we have a 2D cutout of the spectrum, we need to assign wavelength information.\n",
    "\n",
    "### Set up the Wavelength Array\n",
    "\n",
    "Recall that the provided position for the spectral mapping traces to **1.55 microns** and the spectral dispersion for the Roman grism spectrum is **11 Angstroms per pixel** (approximately; see caveats above). With this information we can define a wavelength axis for the extracted spectrum. "
   ]
  },
  {
   "cell_type": "code",
   "execution_count": null,
   "id": "53ec4d63-c1d3-4569-9283-2956b07475fd",
   "metadata": {},
   "outputs": [],
   "source": [
    "def get_wavelength_info(flux2D):\n",
    "    \"\"\"\n",
    "    Setup spatial and wavelength coordinate arrays\n",
    "    \"\"\"\n",
    "    grism_dispersion = 0.0011 # micron / px (approximately)\n",
    "    grism_zeropoint = 1.55 # micron\n",
    "\n",
    "    idx2D, idy2D = np.indices(flux2D.shape)\n",
    "    idx2D = idx2D - flux2D.shape[0] / 2\n",
    "    idy2D = idy2D - flux2D.shape[1] / 2\n",
    "\n",
    "    wave2D = idy2D * grism_dispersion + grism_zeropoint\n",
    "\n",
    "    return idx2D, wave2D"
   ]
  },
  {
   "cell_type": "code",
   "execution_count": null,
   "id": "eb3634ee-d89d-4b95-a70f-edf7355887b5",
   "metadata": {},
   "outputs": [],
   "source": [
    "### Make a quick plot\n",
    "fig, axes = plt.subplots(1, 2, figsize=(10, 2), width_ratios=[1, 7], dpi=100, tight_layout=True)\n",
    "\n",
    "vmin, vmax = get_vmin_vmax(stamp)\n",
    "axes[0].imshow(stamp, origin=\"lower\", vmin=vmin, vmax=vmax, cmap=plt.cm.Greys)\n",
    "axes[0].xaxis.set_visible(False)\n",
    "axes[0].yaxis.set_visible(False)\n",
    "\n",
    "vmin, vmax = get_vmin_vmax(flux2D)\n",
    "idx2D, wave2D = get_wavelength_info(flux2D=flux2D)\n",
    "axes[1].pcolormesh(wave2D, idx2D, flux2D, vmin=vmin, vmax=vmax, cmap=plt.cm.Greys)\n",
    "\n",
    "axes[1].set_xlim(0.9, 2.0)\n",
    "axes[1].set_ylim(-40, 40)\n",
    "axes[1].set_xlabel(\"Observed Wavelength [$\\\\mu$m]\", fontsize=15);"
   ]
  },
  {
   "cell_type": "markdown",
   "id": "1d9ea087-40e9-4506-ba40-7bb89d22f317",
   "metadata": {},
   "source": [
    "Now, we move to the 1-D spectral extraction.\n",
    "\n",
    "### Box Extraction\n",
    "\n",
    "The simplest and most straightforward way to extract a 1-D spectrum from our 2-D cutout is to use the \"Box extraction\" method, by defining a window around the trace and summing up the flux along the spatial dimension. The dimension of the box window has a significant impact on the extracted spectrum -- it needs to be large enough to capture all the flux from the source, but not too large to include excessive amounts of noise which would degrade the quality of the 1-D spectrum. As an initial approach, we can define the size of the extraction box based on the size of the source measured from the direct image. We'll use the semi-major axis length from the catalog, scaled by a scalar factor, to explore how the window size affects the extracted 1-D spectrum."
   ]
  },
  {
   "cell_type": "code",
   "execution_count": null,
   "id": "b0a0b119-d850-4311-b123-13892ee2b838",
   "metadata": {},
   "outputs": [],
   "source": [
    "def do_box_extraction(idx2D, wave2D, flux2D, ferr2D, extract_size):\n",
    "    \"\"\"\n",
    "    Perform a box extraction\n",
    "    \"\"\"\n",
    "    cond = np.abs(idx2D[:,0]) < extract_size / 2\n",
    "    wave1D = np.nanmean(wave2D, axis=0)\n",
    "    flux1D = np.nansum(flux2D[cond, :], axis=0)\n",
    "    ferr1D = np.sqrt(np.nansum(ferr2D[cond, :]**2, axis=0))\n",
    "\n",
    "    return wave1D, flux1D, ferr1D"
   ]
  },
  {
   "cell_type": "markdown",
   "id": "0d815498-6b92-43cb-958a-38b1d9ff4ecc",
   "metadata": {},
   "source": [
    "Let's use a range of box sizes for the 1D extraction and see how it performs for our target."
   ]
  },
  {
   "cell_type": "code",
   "execution_count": null,
   "id": "32b594d6-5c93-401b-a70f-b6106b248158",
   "metadata": {},
   "outputs": [],
   "source": [
    "fig, axes = plt.subplots(2, 2, figsize=(8, 4), width_ratios=[1, 6], height_ratios=[1, 2], dpi=100)\n",
    "fig.subplots_adjust(left=0.05, right=0.95, top=0.95, bottom=0.15, wspace=0.05, hspace=0.05)\n",
    "axes = axes.flatten()\n",
    "axes[2].set_visible(False)\n",
    "\n",
    "# Plot the direct image stamp\n",
    "vmin, vmax = get_vmin_vmax(stamp)\n",
    "axes[0].imshow(stamp, origin=\"lower\", vmin=vmin, vmax=vmax, cmap=plt.cm.Greys)\n",
    "axes[0].xaxis.set_visible(False)\n",
    "axes[0].yaxis.set_visible(False)\n",
    "\n",
    "# Plot the 2D spectrum\n",
    "vmin, vmax = get_vmin_vmax(flux2D)\n",
    "axes[1].pcolormesh(wave2D, idx2D, flux2D, vmin=vmin, vmax=vmax, cmap=plt.cm.Greys)\n",
    "axes[1].set_xlim(0.9, 2.0)\n",
    "[label.set_visible(False) for label in axes[1].get_yticklabels() + axes[1].get_xticklabels()]\n",
    "\n",
    "color_cycle = cycle(plt.cm.Set1.colors)\n",
    "for factor in [1, 2, 3, 4, 5]:\n",
    "    color = next(color_cycle)\n",
    "    wave1D, flux1D, ferr1D = do_box_extraction(idx2D=idx2D, wave2D=wave2D, flux2D=flux2D, ferr2D=ferr2D, extract_size=entry[\"A_IMAGE\"]*factor)\n",
    "    axes[3].errorbar(wave1D, flux1D, yerr=ferr1D, marker='o', color=color, lw=1.5, mew=0, markersize=0, elinewidth=0.2, capsize=0, alpha=0.8)\n",
    "    axes[1].hlines([-entry[\"A_IMAGE\"]*factor/2, entry[\"A_IMAGE\"]*factor/2], *axes[1].get_xlim(), color=color, lw=1.5, ls='--', alpha=0.8)\n",
    "axes[3].set_xlim(axes[1].get_xlim());"
   ]
  },
  {
   "cell_type": "markdown",
   "id": "568f1c16-f661-4672-885b-473ea6a579b8",
   "metadata": {},
   "source": [
    "As noted above, the size of the extraction box is crucial. If it is too small, it may miss flux from the true source; if it is too large, it may include excessive noise, reducing the overall quality of the resulting spectrum. Therefore, we turn to the optimal extraction method.\n",
    "\n",
    "### Optimal Extraction\n",
    "\n",
    "[Horne (1986, PASP, 98, 609)](https://ui.adsabs.harvard.edu/abs/1986PASP...98..609H/abstract) provides an algorithm to optimally extract a 1-D spectrum. To run the optimal extraction, we need the source 1-D profile in the spatial dimension, that we can obtain from the WFI direct image.\n",
    "\n",
    "First, let's write up a quick function to implement the Horne+86 algorithm."
   ]
  },
  {
   "cell_type": "code",
   "execution_count": null,
   "id": "7cd50646-c3e8-4ab1-9430-58bea09db567",
   "metadata": {},
   "outputs": [],
   "source": [
    "def do_optimal_extraction(idx2D, wave2D, flux2D, ferr2D, stamp):\n",
    "    \"\"\"\n",
    "    Performs optimal extraction following Horne+86\n",
    "    \"\"\"\n",
    "    # Generate a 1D light profile for the source from the direct image\n",
    "    stamp = stamp - np.median(stamp)\n",
    "    prof1D = np.nansum(stamp, axis=1)\n",
    "    prof1D = prof1D / np.sum(prof1D)\n",
    "    prof2D = np.repeat(prof1D, flux2D.shape[1]).reshape(len(prof1D), flux2D.shape[1])\n",
    "\n",
    "    # Apply some basic masking\n",
    "    mask = ~np.isfinite(flux2D) | ~np.isfinite(ferr2D) | (ferr2D<=0)\n",
    "    flux2D = np.ma.masked_array(flux2D, mask=mask)\n",
    "    ferr2D = np.ma.masked_array(ferr2D, mask=mask)\n",
    "\n",
    "    # Compute the relevant terms for the Horne+86 algorithm\n",
    "    ivar2D = 1 / ferr2D**2\n",
    "    num2D = ivar2D * prof2D * flux2D\n",
    "    den2D = ivar2D * prof2D**2\n",
    "\n",
    "    # Compute the final wavelength and flux arrays\n",
    "    wave1D = np.mean(wave2D, axis=0)\n",
    "    flux1D = np.ma.sum(num2D, axis=0) / np.ma.sum(den2D, axis=0)\n",
    "    ferr1D = np.ma.sqrt(1 / np.ma.sum(den2D, axis=0))\n",
    "\n",
    "    return wave1D, flux1D.filled(np.nan), ferr1D.filled(np.nan)"
   ]
  },
  {
   "cell_type": "markdown",
   "id": "91298b3f-0699-4e1b-9734-1034668000ab",
   "metadata": {},
   "source": [
    "Let's apply this optimal extraction to our target and compare the two extraction methods."
   ]
  },
  {
   "cell_type": "code",
   "execution_count": null,
   "id": "7569ed99-8cb7-420c-9c1b-6049546eb6b7",
   "metadata": {},
   "outputs": [],
   "source": [
    "fig, axes = plt.subplots(2, 2, figsize=(8, 4), width_ratios=[1, 6], height_ratios=[1, 2], dpi=100)\n",
    "fig.subplots_adjust(left=0.05, right=0.95, top=0.95, bottom=0.15, wspace=0.05, hspace=0.05)\n",
    "axes = axes.flatten()\n",
    "axes[2].set_visible(False)\n",
    "\n",
    "# Plot the direct image stamp\n",
    "vmin, vmax = get_vmin_vmax(stamp)\n",
    "axes[0].imshow(stamp, origin=\"lower\", vmin=vmin, vmax=vmax, cmap=plt.cm.Greys)\n",
    "axes[0].xaxis.set_visible(False)\n",
    "axes[0].yaxis.set_visible(False)\n",
    "\n",
    "# Plot the 2D spectrum\n",
    "vmin, vmax = get_vmin_vmax(flux2D)\n",
    "axes[1].pcolormesh(wave2D, idx2D, flux2D, vmin=vmin, vmax=vmax, cmap=plt.cm.Greys)\n",
    "axes[1].set_xlim(0.9, 2.0)\n",
    "[label.set_visible(False) for label in axes[1].get_yticklabels() + axes[1].get_xticklabels()]\n",
    "\n",
    "color_cycle = cycle(plt.cm.Set1.colors)\n",
    "for factor in [2, 3, 4]:\n",
    "    color = next(color_cycle)\n",
    "    wave1D, flux1D, ferr1D = do_box_extraction(idx2D=idx2D, wave2D=wave2D, flux2D=flux2D, ferr2D=ferr2D, extract_size=entry[\"A_IMAGE\"]*factor)\n",
    "    axes[3].errorbar(wave1D, flux1D, yerr=ferr1D, marker='o', color=color, lw=1.5, mew=0, markersize=0, elinewidth=0.2, capsize=0, alpha=0.8)\n",
    "    axes[1].hlines([-entry[\"A_IMAGE\"]*factor/2, entry[\"A_IMAGE\"]*factor/2], *axes[1].get_xlim(), color=color, lw=1.5, ls='--', alpha=0.8)\n",
    "\n",
    "wave1D, flux1D, ferr1D = do_optimal_extraction(idx2D=idx2D, wave2D=wave2D, flux2D=flux2D, ferr2D=ferr2D, stamp=stamp)\n",
    "axes[3].errorbar(wave1D, flux1D, yerr=ferr1D, color='k', marker='o', lw=1.5, mew=0, markersize=0, elinewidth=0.2, capsize=0, alpha=0.8)\n",
    "\n",
    "axes[3].set_xlim(axes[1].get_xlim());"
   ]
  },
  {
   "cell_type": "markdown",
   "id": "09754708-a54f-47b1-ae5c-466f003fa8d3",
   "metadata": {},
   "source": [
    "#### Masking Neighboring Sources in Direct Cutouts\n",
    "\n",
    "It is essential to properly mask neighboring sources before generating the 1-D light profile for the target. Failing to do so will result in an inaccurate 1-D spectrum. To address it, we can use a `photutils` source detection function on the stamp and apply it to mask out any other sources within the region.\n",
    "\n",
    "While our target does not require this step, it will be necessary for other sources discussed below."
   ]
  },
  {
   "cell_type": "code",
   "execution_count": null,
   "id": "1ed45138-b1c8-4543-9ef7-d840f38b22d7",
   "metadata": {},
   "outputs": [],
   "source": [
    "grism_img_thresh = np.std(grism_img)\n",
    "grism_img_skybkg = np.median(grism_img) / 2\n",
    "\n",
    "def mk_segmented_stamp(data, skybkg=grism_img_skybkg, thresh=grism_img_thresh*0.8):\n",
    "\n",
    "    if skybkg is None:\n",
    "        skybkg = np.median(data)\n",
    "    if thresh is None:\n",
    "        thresh = np.std(data) / 2\n",
    "\n",
    "    segm = detect_sources(data-skybkg, thresh, npixels=5).data\n",
    "\n",
    "    data_segm = data.copy()\n",
    "    idx = [i // 2 for i in segm.shape]\n",
    "    data_segm[(segm!=segm[*idx]) & (segm>0)] = 0\n",
    "    return data_segm"
   ]
  },
  {
   "cell_type": "markdown",
   "id": "d5cf4a21-2896-4c62-99ca-6f230ac05e47",
   "metadata": {},
   "source": [
    "### Full Workflow: Grism Image to Extracted 1-D Spectrum\n",
    "\n",
    "Now that we have demonstrated all the steps, let's combine them into a single workflow that performs the full 1-D extraction and apply it multiple sources."
   ]
  },
  {
   "cell_type": "code",
   "execution_count": null,
   "id": "b1b01d44-fb71-40b8-bfbb-9c331695799d",
   "metadata": {},
   "outputs": [],
   "source": [
    "def do_full_extraction(entry, direct_img, grism_img, grism_err, size_factor=10, box_size_factor=None, plot=True):\n",
    "    \"\"\"\n",
    "    Performs the full 1D spectral extraction workflow for a given object provided as a row from the catalog\n",
    "    Requires X_IMAGE, Y_IMAGE, A_IMAGE, X_GRISM, Y_GRISM columns from the catalog\n",
    "    Also requires the direct and grism images\n",
    "    Optionally produces plots\n",
    "    \"\"\"\n",
    "    # Start by extracting the 2D spectrum\n",
    "    size_spatial = np.clip(entry[\"A_IMAGE\"] * size_factor, 10, 500)\n",
    "    flux2D, ferr2D = extract_2D_spectrum(entry[\"X_GRISM\"], entry[\"Y_GRISM\"], entry[\"THETA_GRISM\"], size_spatial=size_spatial, grism_img=grism_img, grism_err=grism_err)\n",
    "\n",
    "    # Generate a stamp for the source from the direct image and also mask other objects in the stamp\n",
    "    stamp = rotate(cutout_image(image=direct_img, position=(entry[\"X_IMAGE\"], entry[\"Y_IMAGE\"]), size=flux2D.shape[0]), 90)\n",
    "    stamp_masked = mk_segmented_stamp(data=stamp)\n",
    "\n",
    "    # Generate the wavelength info\n",
    "    idx2D, wave2D = get_wavelength_info(flux2D=flux2D)\n",
    "\n",
    "    # Generate the 1D spectrum with optimal extraction\n",
    "    wave1D, flux1D, ferr1D = do_optimal_extraction(idx2D=idx2D, wave2D=wave2D, flux2D=flux2D, ferr2D=ferr2D, stamp=stamp_masked)\n",
    "\n",
    "    # (optionally) Generate a plot to show of the spectrum and also box extraction results\n",
    "    if plot:\n",
    "        # Setup the subplots\n",
    "        fig, axes = plt.subplots(2, 2, figsize=(12, 4), width_ratios=[1, 6], height_ratios=[2, 3], dpi=100)\n",
    "        fig.subplots_adjust(left=0.05, right=0.95, top=0.95, bottom=0.15, wspace=0.05, hspace=0.05)\n",
    "        axes = axes.flatten()\n",
    "        axes[2].set_visible(False)\n",
    "\n",
    "        # Plot the direct image stamp\n",
    "        vmin, vmax = get_vmin_vmax(stamp_masked)\n",
    "        axes[0].imshow(stamp_masked, origin=\"lower\", vmin=vmin, vmax=vmax, cmap=plt.cm.Greys)\n",
    "        axes[0].xaxis.set_visible(False)\n",
    "        axes[0].yaxis.set_visible(False)\n",
    "\n",
    "        # Plot the 2D spectrum\n",
    "        vmin, vmax = get_vmin_vmax(flux2D[int(flux2D.shape[0] / 4) : int(flux2D.shape[0] * 3 / 4), :])\n",
    "        axes[1].pcolormesh(wave2D, idx2D, flux2D, vmin=vmin, vmax=vmax, cmap=plt.cm.Greys)\n",
    "        axes[1].set_xlim(0.9, 1.9)\n",
    "        [label.set_visible(False) for label in axes[1].get_yticklabels() + axes[1].get_xticklabels()]\n",
    "\n",
    "        # Plot box extraction\n",
    "        color_cycle = cycle(plt.cm.Set1.colors)\n",
    "        _flux1D_for_ylim = []\n",
    "        if box_size_factor is not None:\n",
    "            for factor in np.atleast_1d(box_size_factor):\n",
    "                color = next(color_cycle)\n",
    "                _wave1D, _flux1D, _ferr1D = do_box_extraction(idx2D=idx2D, wave2D=wave2D, flux2D=flux2D, ferr2D=ferr2D, extract_size=entry[\"A_IMAGE\"]*factor)\n",
    "                axes[3].errorbar(_wave1D, _flux1D, yerr=_ferr1D, marker='o', lw=1.5, mew=0, markersize=0, elinewidth=0.2, capsize=0, alpha=0.8)\n",
    "                axes[1].hlines([-entry[\"A_IMAGE\"]*factor/2, entry[\"A_IMAGE\"]*factor/2], *axes[1].get_xlim(), color=color, lw=1.5, ls='--', alpha=0.8)\n",
    "                _flux1D_for_ylim = np.append(_flux1D_for_ylim, _flux1D[(np.abs(wave1D-1.5) < 0.4) & (_flux1D > 0)])\n",
    "\n",
    "        # Plot Optical extraction\n",
    "        axes[3].errorbar(wave1D, flux1D, yerr=ferr1D, color='k', marker='o', lw=1.5, mew=0, markersize=0, elinewidth=0.2, capsize=0, alpha=0.8)\n",
    "        axes[3].set_xlim(axes[1].get_xlim())\n",
    "\n",
    "        # Plot decorations and axis limits\n",
    "        flux1D_for_ylim = flux1D[(np.abs(wave1D-1.5) < 0.4) & (flux1D > 0)]\n",
    "        flux1D_for_ylim = np.append(flux1D_for_ylim, _flux1D_for_ylim)\n",
    "        ylim = np.nanpercentile(flux1D_for_ylim, [1, 100])\n",
    "        axes[3].set_ylim(0, ylim[1]*1.3)\n",
    "        axes[3].set_ylabel(\"Flux [DN/s]\", fontsize=14)\n",
    "        axes[3].set_xlabel(\"Wavelength [$\\\\mu$m]\", fontsize=14)\n",
    "        axes[3].text(0.995, 0.98, f\"ID#{entry['SOURCE_ID']:d}\", va=\"top\", ha=\"right\", color=\"k\", fontsize=18, transform=axes[3].transAxes)\n",
    "\n",
    "    return {\"stamp\": stamp,\n",
    "            \"flux2D\": flux2D, \"ferr2D\": ferr2D, \"idx2D\": idx2D, \"wave2D\": wave2D,\n",
    "            \"wave1D\": wave1D, \"flux1D\": flux1D, \"ferr1D\": ferr1D}"
   ]
  },
  {
   "cell_type": "markdown",
   "id": "c92cad93-763c-4eb6-b717-6a23e614a11e",
   "metadata": {},
   "source": [
    "## Examples of Bright Stars\n",
    "\n",
    "Let's start with some examples of bright stars, IDs: 46656, 197387, 197396, 197413, 197418, 197462, 197484, 197503, 197585, 197590, 197592, 197594"
   ]
  },
  {
   "cell_type": "code",
   "execution_count": null,
   "id": "fc30b9a9-e623-4c6a-ae65-638967e83894",
   "metadata": {},
   "outputs": [],
   "source": [
    "star_IDs = [197387, 197396, 197413, 197418, 197462, 197484, 197503, 197585, 197590, 197592, 197594]\n",
    "for star_ID in star_IDs[::3]:   # Only showing a subset; increase as needed\n",
    "    entry = catalog[catalog[\"SOURCE_ID\"]==star_ID][0]\n",
    "    do_full_extraction(entry, direct_img, grism_img, grism_err, box_size_factor=[2, 3, 4], plot=True)"
   ]
  },
  {
   "cell_type": "markdown",
   "id": "b6c5c919-72ec-43c7-ac87-36dd3517080c",
   "metadata": {},
   "source": [
    "## Examples of Galaxies\n",
    "\n",
    "Now let's take a look at some galaxies. Here you can experiment with whichever objects you want from the source catalog. For demonstration purposes, we have provided a few select examples that highlight interesting spectral features."
   ]
  },
  {
   "cell_type": "code",
   "execution_count": null,
   "id": "d9875a48-4395-49a9-a772-e04e91fa9c37",
   "metadata": {},
   "outputs": [],
   "source": [
    "galaxy_IDs = [19942, 115897, 83060, 59378, 14068]\n",
    "for source_ID in galaxy_IDs:\n",
    "    entry = catalog[catalog[\"SOURCE_ID\"]==source_ID][0]\n",
    "    do_full_extraction(entry, direct_img, grism_img, grism_err, size_factor=25, box_size_factor=[2, 3, 4], plot=True)"
   ]
  },
  {
   "cell_type": "markdown",
   "id": "e85298cb-807d-4253-9867-5bd3a9902d64",
   "metadata": {},
   "source": [
    "## Examples of Nearby Emission Line Galaxies\n",
    "\n",
    "Here are a couple examples of emission line galaxies that are close enough to see the emission lines from the neighboring object in the extracted 2-D spectrum."
   ]
  },
  {
   "cell_type": "code",
   "execution_count": null,
   "id": "a7a258b4-74ec-466c-9a90-49db97bc0777",
   "metadata": {},
   "outputs": [],
   "source": [
    "pairs_IDs = [171608, 19942, 35048, 147993]\n",
    "for source_ID in pairs_IDs:\n",
    "    entry = catalog[catalog[\"SOURCE_ID\"]==source_ID][0]\n",
    "    do_full_extraction(entry, direct_img, grism_img, grism_err, size_factor=25, box_size_factor=[2, 3, 4], plot=True)"
   ]
  },
  {
   "cell_type": "markdown",
   "id": "14f6b64e-009a-468a-b664-ebfd7ec990fe",
   "metadata": {},
   "source": [
    "## Example of Overlapping Spectra\n",
    "\n",
    "Here is an example of two spectra, one from a star (ID#197738) and another from a bright, high-redshift emission line galaxy (ID#166231), that happen to overlap.\n",
    "\n",
    "In this case, it is imperative to perform a \"decontamination\" to accurately recover the true flux of the individual source. This is a non-trivial process and this functionality will be available in the Roman GDPS pipeline."
   ]
  },
  {
   "cell_type": "code",
   "execution_count": null,
   "id": "e0e6d380-b391-4752-adb5-23375d9ad78c",
   "metadata": {},
   "outputs": [],
   "source": [
    "entry_str = catalog[catalog[\"SOURCE_ID\"]==197738][0]\n",
    "entry_gal = catalog[catalog[\"SOURCE_ID\"]==166231][0]\n",
    "\n",
    "stamp = rotate(cutout_image(image=direct_img, position=(entry_str[\"X_IMAGE\"], entry_str[\"Y_IMAGE\"]), size=[800, 100]), 90)\n",
    "flux2D = rotate(cutout_image(image=grism_img, position=(entry_str[\"X_GRISM\"], entry_str[\"Y_GRISM\"]-400), size=[800, 100]), entry_str[\"THETA_GRISM\"])\n",
    "\n",
    "fig, (ax1, ax2) = plt.subplots(2, 1, figsize=(12,3.5), dpi=75, tight_layout=True)\n",
    "\n",
    "vmin, vmax = get_vmin_vmax(stamp)\n",
    "ax1.imshow(stamp, origin=\"lower\", vmin=vmin, vmax=vmax, cmap=plt.cm.Greys)\n",
    "ax1.scatter(stamp.shape[1]/2 - 1, stamp.shape[0]/2 - 1, color=\"r\", marker=\"x\", lw=2, s=100)\n",
    "ax1.scatter(stamp.shape[1]/2 - 1 + (entry_gal[\"Y_IMAGE\"]-entry_str[\"Y_IMAGE\"]),\n",
    "            stamp.shape[0]/2 - 1 - (entry_gal[\"X_IMAGE\"]-entry_str[\"X_IMAGE\"]), color=\"r\", marker=\"x\", lw=2, s=100)\n",
    "\n",
    "vmin, vmax = get_vmin_vmax(flux2D)\n",
    "ax2.imshow(flux2D, origin=\"lower\", vmin=vmin, vmax=vmax, cmap=plt.cm.Greys)\n",
    "\n",
    "for ax in [ax1, ax2]:\n",
    "    ax.xaxis.set_visible(False)\n",
    "    ax.yaxis.set_visible(False)"
   ]
  },
  {
   "cell_type": "code",
   "execution_count": null,
   "id": "52fd3926-a708-42dd-926c-d31197789720",
   "metadata": {},
   "outputs": [],
   "source": [
    "do_full_extraction(entry_str, direct_img, grism_img, grism_err, size_factor=25, box_size_factor=[2, 3, 4], plot=True)\n",
    "do_full_extraction(entry_gal, direct_img, grism_img, grism_err, size_factor=40, box_size_factor=[2, 3, 4], plot=True);"
   ]
  },
  {
   "cell_type": "markdown",
   "id": "dd510c52-089f-4c6f-8989-15e2431658b9",
   "metadata": {},
   "source": [
    "## Additional Resources\n",
    "\n",
    "- [GDPS Presentation](https://roman.gsfc.nasa.gov/science/roses/GDPSforROSES.pdf])"
   ]
  },
  {
   "cell_type": "markdown",
   "id": "202eb030",
   "metadata": {},
   "source": [
    "## About this Notebook\n",
    "\n",
    "**Author:** Vihang Mehta\\\n",
    "**Updated On:** 2025-09-30\n",
    "\n",
    "---"
   ]
  }
 ],
 "metadata": {
  "kernelspec": {
   "display_name": "Roman Calibration",
   "language": "python",
   "name": "roman-cal"
  },
  "language_info": {
   "codemirror_mode": {
    "name": "ipython",
    "version": 3
   },
   "file_extension": ".py",
   "mimetype": "text/x-python",
   "name": "python",
   "nbconvert_exporter": "python",
   "pygments_lexer": "ipython3",
   "version": "3.12.9"
  },
  "widgets": {
   "application/vnd.jupyter.widget-state+json": {
    "state": {},
    "version_major": 2,
    "version_minor": 0
   }
  }
 },
 "nbformat": 4,
 "nbformat_minor": 5
}
