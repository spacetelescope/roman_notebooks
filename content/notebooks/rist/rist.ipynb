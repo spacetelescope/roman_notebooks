{
 "cells": [
  {
   "cell_type": "markdown",
   "metadata": {
    "slideshow": {
     "slide_type": "slide"
    }
   },
   "source": [
    "# The Roman Interactive Sensitivity Tool (RIST)"
   ]
  },
  {
   "cell_type": "markdown",
   "metadata": {
    "slideshow": {
     "slide_type": "skip"
    }
   },
   "source": [
    "***"
   ]
  },
  {
   "cell_type": "markdown",
   "metadata": {
    "slideshow": {
     "slide_type": "slide"
    }
   },
   "source": [
    "## Kernel Information and Read-Only Status\n",
    "\n",
    "To run this notebook, please select the \"Roman Calibration\" kernel at the top right of your window.\n",
    "\n",
    "This notebook is read-only. You can run cells and make edits, but you must save changes to a different location. We recommend saving the notebook within your home directory, or to a new folder within your home (e.g. <span style=\"font-variant:small-caps;\">file > save notebook as > my-nbs/nb.ipynb</span>). Note that a directory must exist before you attempt to add a notebook to it.\n",
    "\n",
    "## Introduction\n",
    "Roman Interactive Sensitivity Tool (RIST) is a simulation tool designed to help users quickly explore the feasibility of observations for the Wide Field Instrument (WFI). RIST is a simplified version of [Pandeia](https://www.stsci.edu/roman/science-planning-toolbox/pandeia) (the Exposure Time Calculator) -- it uses a pre-computed grid of exposure time calculations with Pandeia that sample a set of exposure parameters and observing setups.\n",
    "\n",
    "RIST provides users an estimate of signal-to-noise ratio (SNR) based on their selections of source brightness, spectral energy distribution (SED) type, multi-accumulation (MA) tables, and number of resultants, while using a single on-axis point source with a default background of Pandeia. For the details of the background, see Notes below. \n",
    "\n",
    "\n",
    "## Requirements\n",
    "RIST depends on a number of modules to run. A comprehensive list of these modules and how they are utilized are listed below:\n",
    "- *NumPy* for numerical computing\n",
    "- *pandas* to read and load the pre-computed *pandeia* grid\n",
    "- *bokeh* for the interactive plotting\n",
    "- *xarray* to provide RIST an N-dimentional array as a structure of the pre-computed *pandeia* grid\n",
    "- *SciPy* to interpolate RIST's *xarray* grid.\n",
    "- *Pandeia* is the Exposure Time Calculator for Roman and is used to compute a grid that samples a set of parameter space. Pandeia uses the following modules:\n",
    "  - *astropy* \n",
    "  - *photutils\n",
    "  - *synphot\n",
    "  - *stsynphot\n",
    "\n",
    "\n",
    "\n",
    "## Import \n",
    "RIST is designed to work within a Jupyter notebook cell with an import of the ``plot_rist`` module.\n",
    "Execute the cell below to start using RIST.\n",
    "***"
   ]
  },
  {
   "cell_type": "code",
   "execution_count": null,
   "metadata": {
    "slideshow": {
     "slide_type": "fragment"
    }
   },
   "outputs": [],
   "source": [
    "from plot_rist import plot_rist"
   ]
  },
  {
   "cell_type": "markdown",
   "metadata": {},
   "source": [
    "## Notes\n",
    "- RIST assumes a point source target. For extended sources, please use Pandeia for more accurate results.\n",
    "- Among the 18 detectors of WFI, all calculations were done for SCA01. More information on the detectors can be found [here](https://roman-docs.stsci.edu/roman-instruments-home/wfi-imaging-mode-user-guide/wfi-design/description-of-wfi).\n",
    "- Background was calculated using the [JWST Backgrounds Tool](https://jwst-docs.stsci.edu/jwst-other-tools/jwst-backgrounds-tool#gsc.tab=0). \n",
    "    - The \"minzodi\" background option refers to a background at RA = 17:26:49 & Dec = -73:20:03 (J2000). At this location, the zodiacal emission is 20% higher than the celestial minimum.\n",
    "    - The \"benchmark\" background refers to the background at the minzodi location on June 19, 2020. \n",
    "- Multi-accumulation (MA) tables describe the sequence of individual reads that are combined into resultants and that comprise the up-the-ramp simplaing during a single exposure of the WFI detectors. The MA tables currently available in RIST are based on the Roman Design Reference Mission, and are thoroughly documented on [RDox](https://roman-docs.stsci.edu/raug/astronomers-proposal-tool-apt/appendix/appendix-wfi-multiaccum-tables).\n",
    "- RIST uses the following abbreviations:\n",
    "    - IMG: Imaging mode\n",
    "    - HLWAS: High Latitude Wide Area Survey\n",
    "- The computed SNR values can be visualized by hovering the cursor over the points in the plot.\n",
    "- Pandeia cannot calculate a SNR for saturated sources. In RIST, saturated points are set to zero and marked as triangles in the plot.\n",
    "- The x-axis shows the central wavelength of each Roman filter.\n",
    "- Once you are satisfied with the estimated SNRs, you should use the [Roman WFI ETC](https://roman.etc.stsci.edu/) to provide specific observing parameters for [Roman APT](https://roman-docs.stsci.edu/raug). Documentation on the Roman WFI ETC can be found [here](https://roman-docs.stsci.edu/simulation-tools-handbook-home/roman-wfi-exposure-time-calculator)."
   ]
  },
  {
   "cell_type": "markdown",
   "metadata": {},
   "source": [
    "***"
   ]
  },
  {
   "cell_type": "markdown",
   "metadata": {},
   "source": [
    "## Caveats\n",
    "- Any limitations that Pandeia bears are also interited by RIST. Please see [RDox for Pandeia](https://roman-docs.stsci.edu/simulation-tools-handbook-home/pandeia-for-roman/caveats-for-using-pandeia-for-roman) for the details on caveats for using Pandeia for Roman.\n",
    "- The current version does not handle the following features and the users need to use Pandeia for:\n",
    "    - Extended sources -- all SNR computations are performed for a point source. \n",
    "    - The spectroscopic observing mode -- future versions of RIST will support the WFI spectrocopic mode. "
   ]
  },
  {
   "cell_type": "markdown",
   "metadata": {},
   "source": [
    "## Additional Resources\n",
    "\n",
    "- RIST Article on RDox (coming soon)\n",
    "- [Introduction to WFI](https://roman-docs.stsci.edu/roman-instruments-home/wfi-imaging-mode-user-guide/introduction-to-wfi)\n",
    "- [WFI MultiAccum Tables](https://roman-docs.stsci.edu/raug/astronomers-proposal-tool-apt/appendix/appendix-wfi-multiaccum-tables)\n",
    "- [Pandeia for Roman on RDox](https://roman-docs.stsci.edu/simulation-tools-handbook-home/pandeia-for-roman)\n",
    "- [Other Roman Simulation Tools](https://roman-docs.stsci.edu/simulation-tools-handbook-home)\n"
   ]
  },
  {
   "cell_type": "markdown",
   "metadata": {},
   "source": [
    "## Software release\n",
    "We expect to release an updated version of RIST pre-computed grid every time Pandeia updates its reference files for Roman. The current grid is generated using the following versions of Pandeia and its reference data:\n",
    "\n",
    "   - Pandeia_version: 2024.12\n",
    "   - Pandeia_refdata: 2024.12\n"
   ]
  },
  {
   "cell_type": "markdown",
   "metadata": {},
   "source": [
    "## Help\n",
    "For assistance with RIST, please contact the Roman SOC Help Desk through https://stsci.service-now.com/roman\n"
   ]
  },
  {
   "cell_type": "markdown",
   "metadata": {
    "slideshow": {
     "slide_type": "slide"
    }
   },
   "source": [
    "## About this notebook\n",
    "\n",
    "**Author:** Eunkyu Han  \n",
    "**Last Updated**: 2024 December"
   ]
  },
  {
   "cell_type": "markdown",
   "metadata": {},
   "source": [
    "***"
   ]
  },
  {
   "cell_type": "markdown",
   "metadata": {},
   "source": [
    "[Top of Page](#top)\n",
    "<img style=\"float: right;\" src=\"https://raw.githubusercontent.com/spacetelescope/notebooks/master/assets/stsci_pri_combo_mark_horizonal_white_bkgd.png\" alt=\"Space Telescope Logo\" width=\"200px\"/> "
   ]
  }
 ],
 "metadata": {
  "kernelspec": {
   "display_name": "Python 3 (ipykernel)",
   "language": "python",
   "name": "python3"
  },
  "language_info": {
   "codemirror_mode": {
    "name": "ipython",
    "version": 3
   },
   "file_extension": ".py",
   "mimetype": "text/x-python",
   "name": "python",
   "nbconvert_exporter": "python",
   "pygments_lexer": "ipython3",
   "version": "3.11.3"
  }
 },
 "nbformat": 4,
 "nbformat_minor": 4
}
