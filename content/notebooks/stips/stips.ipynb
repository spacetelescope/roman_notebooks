{
 "cells": [
  {
   "cell_type": "markdown",
   "metadata": {
    "slideshow": {
     "slide_type": "slide"
    }
   },
   "source": [
    "# STIPS Tutorial"
   ]
  },
  {
   "cell_type": "markdown",
   "metadata": {
    "slideshow": {
     "slide_type": "skip"
    }
   },
   "source": [
    "***"
   ]
  },
  {
   "cell_type": "markdown",
   "metadata": {
    "jp-MarkdownHeadingCollapsed": true,
    "slideshow": {
     "slide_type": "slide"
    }
   },
   "source": [
    "## Kernel Information and Read-Only Status\n",
    "\n",
    "To run this notebook, please select the \"Roman Calibration\" kernel at the top right of your window.\n",
    "\n",
    "This notebook is read-only. You can run cells and make edits, but you must save changes to a different location. We recommend saving the notebook within your home directory, or to a new folder within your home (e.g. <span style=\"font-variant:small-caps;\">file > save notebook as > my-nbs/nb.ipynb</span>). Note that a directory must exist before you attempt to add a notebook to it.\n",
    "\n",
    "## Introduction\n",
    "\n",
    "**STIPS**, or the Space Telescope Imaging Product Simulator, is a tool developed by STScI for simulating observations of astronomical scenes with the Roman Wide Field Instrument (WFI).\n",
    "\n",
    "STIPS can generate images of the entire WFI array, which consists of 18 Sensor Chip Assemblies (SCAs). STIPS depends on the Pandeia Exposure time calculator and the WebbPSF point spread function (PSF) generator to create these simulations. Tutorial notebooks for both Pandeia and WebbPSF are also available. Users can choose to simulate between 1 and 18 SCAs in any of the WFI imaging filters, insert any number of point or extended sources, and specify a sky background estimate. STIPS will scale input fluxes to observed values, retrieve appropriate PSFs (interpolated to the positions of the sources), and add in additonal noise terms.\n",
    "\n",
    "As described in the [Caveats to Using STIPS for Roman](https://roman-docs.stsci.edu/simulation-tools-handbook-home/stips-space-telescope-imaging-product-simulator/caveats-of-using-stips-for-roman), neither pixel saturation nor non-linearity residuals are currently supported.\n",
    "\n",
    "This notebook is a starter guide to simulating and manipulating scenes with STIPS."
   ]
  },
  {
   "cell_type": "markdown",
   "metadata": {},
   "source": [
    "## Imports\n",
    "\n",
    "Besides the STIPS-related imports, the `matplotlib` imports will help visualize simulated images and `astropy.io.fits` will help write a FITS table on the fly."
   ]
  },
  {
   "cell_type": "code",
   "execution_count": null,
   "metadata": {},
   "outputs": [],
   "source": [
    "import matplotlib as mpl\n",
    "import matplotlib.pyplot as plt\n",
    "import stips\n",
    "import yaml\n",
    "\n",
    "from astropy.io import fits\n",
    "from stips.astro_image import AstroImage\n",
    "from stips.observation_module import ObservationModule\n",
    "from stips.scene_module import SceneModule"
   ]
  },
  {
   "cell_type": "markdown",
   "metadata": {},
   "source": [
    "### Environment report\n",
    "\n",
    "To verify the existing STIPS installation alongside its associated data files and dependencies, run the cell below. (Find the current software requirements [in the STIPS documentation](https://stips.readthedocs.io/en/latest/installation.html#stips-requirements).)"
   ]
  },
  {
   "cell_type": "code",
   "execution_count": null,
   "metadata": {},
   "outputs": [],
   "source": [
    "print(stips.__env__report__)"
   ]
  },
  {
   "cell_type": "markdown",
   "metadata": {},
   "source": [
    "***"
   ]
  },
  {
   "cell_type": "markdown",
   "metadata": {},
   "source": [
    "## Examples"
   ]
  },
  {
   "cell_type": "markdown",
   "metadata": {},
   "source": [
    "### Basic STIPS Usage\n",
    "\n",
    "This tutorial builds on the concepts introduced in the [STIPS Overview](https://roman-docs.stsci.edu/simulation-tools-handbook-home/stips-space-telescope-imaging-product-simulator/overview-of-stips) article and is designed to walk through the phases of using STIPS at the most introductory level: creating a small scene, designing an observation, and generating a simulated imaged.\n",
    "\n",
    "At its most fundamental level, STIPS takes a dictionary of observation and instrument parameters and a source catalog in order to return a simulated image. The source catalog can be either a user-defined input catalog in FITS format or it can be simulated using the STIPS `SceneModule` class (see below).\n",
    "\n",
    "In this example, we start by specifiying an **observation dictionary** for an image taken with the F129 filter, using the WFI01 detector, and with an exposure time of 300 seconds.\n",
    "\n",
    "**Note:** We first need to update the path to the PSF cache using a YAML configuration file. A patch to fix the setting of this path in STIPS module calls will be released in the near future."
   ]
  },
  {
   "cell_type": "code",
   "execution_count": null,
   "metadata": {},
   "outputs": [],
   "source": [
    "fix = {'psf_cache_location': '/home/jovyan'}\n",
    "with open('./stips_config.yaml', 'w') as file:\n",
    "    yaml.dump(fix, file)"
   ]
  },
  {
   "cell_type": "markdown",
   "metadata": {},
   "source": [
    "Now we set up the observation dictionary:"
   ]
  },
  {
   "cell_type": "code",
   "execution_count": null,
   "metadata": {},
   "outputs": [],
   "source": [
    "obs = {'instrument': 'WFI', 'filters': ['F129'], 'detectors': 1,\n",
    "       'background': 'pandeia', 'observations_id': 42, 'exptime': 300,\n",
    "       'offsets': [{'offset_id': 1, 'offset_centre': False, 'offset_ra': 0.0,\n",
    "                    'offset_dec': 0.0, 'offset_pa': 0.0}]\n",
    "       }"
   ]
  },
  {
   "cell_type": "markdown",
   "metadata": {},
   "source": [
    "Then we feed the dictionary to an instance of the `ObservationModule` class, while also specifying the central coordinates (90 degrees right ascension and 30 degrees declination) and position angle (0 degrees) as keyword arguments."
   ]
  },
  {
   "cell_type": "code",
   "execution_count": null,
   "metadata": {},
   "outputs": [],
   "source": [
    "obm = ObservationModule(obs, ra=90, dec=30, pa=0, seed=42, cores=6)"
   ]
  },
  {
   "attachments": {},
   "cell_type": "markdown",
   "metadata": {},
   "source": [
    "#### Create a Simple Astronomical Scene\n",
    "\n",
    "The other requirement is an input source catalog. In this case, we generate and input a user-defined catalog. STIPS accepts [several types of tables and catalogs](https://stips.readthedocs.io/en/latest/using_stips/catalogue_formats.html#stips-table-formats) in either the IPAC text or FITS BinTable format. This example uses a Mixed Catalog, which requires the following columns:\n",
    "\n",
    "* `id`: Object ID\n",
    "* `ra`: Right ascension (RA), in degrees\n",
    "* `dec`: Declination (DEC), in degrees\n",
    "* `flux`: Flux, in `units` (defined below)\n",
    "* `type`: Approximation used to profile a source. Options are `'sersic'` (for extended sources) or `point`\n",
    "* `n`: Sersic profile index\n",
    "* `phi`: Position angle of the Sersic profle's major axis, in degrees\n",
    "* `ratio`: Ratio of the Sersic profile's major and minor axes\n",
    "  * Since `n`, `phi`, `ratio` only apply to extended sources, they are ignored in rows where `type` is set to `'point'`.\n",
    "* `notes`: Optional per-source comments\n",
    "* `units`: One of `‘p’` for photons/s, `‘e’` for electrons/s, `‘j’` for Jansky, or `‘c’` for counts/s\n",
    "\n",
    "Below, we create a catalog containing two sources located near the central coordinates specified in the `ObservationModule`."
   ]
  },
  {
   "cell_type": "code",
   "execution_count": null,
   "metadata": {},
   "outputs": [],
   "source": [
    "cols = [\n",
    "    fits.Column(name='id', array=[1, 2], format='K'),\n",
    "    fits.Column(name='ra', array=[90.02, 90.03], format='D'),\n",
    "    fits.Column(name='dec', array=[29.98, 29.97], format='D'),\n",
    "    fits.Column(name='flux', array=[0.00023, 0.0004], format='D'),\n",
    "    fits.Column(name='type', array=['point', 'point'], format='8A'),\n",
    "    fits.Column(name='n', array=[0, 0], format='D'),\n",
    "    fits.Column(name='re', array=[0, 0], format='D'),\n",
    "    fits.Column(name='phi', array=[0, 0], format='D'),\n",
    "    fits.Column(name='ratio', array=[0, 0], format='D'),\n",
    "    fits.Column(name='notes', array=['', ''], format='8A'),\n",
    "    fits.Column(name='units', array=['j', 'j'], format='8A')\n",
    "]"
   ]
  },
  {
   "cell_type": "markdown",
   "metadata": {},
   "source": [
    "Next, we save the columns as a FITS table in the BinTable format and assign header keys that specify the filter and catalog type:"
   ]
  },
  {
   "cell_type": "code",
   "execution_count": null,
   "metadata": {},
   "outputs": [],
   "source": [
    "hdut = fits.BinTableHDU.from_columns(cols)\n",
    "hdut.header['TYPE'] = 'mixed'\n",
    "hdut.header['FILTER'] = 'F129'"
   ]
  },
  {
   "cell_type": "markdown",
   "metadata": {},
   "source": [
    "And we save the catalog locally:"
   ]
  },
  {
   "cell_type": "code",
   "execution_count": null,
   "metadata": {},
   "outputs": [],
   "source": [
    "cat_file = 'catalog.fits'\n",
    "hdut.writeto(cat_file, overwrite=True)"
   ]
  },
  {
   "cell_type": "markdown",
   "metadata": {},
   "source": [
    "#### Simulate an Image\n",
    "\n",
    "With the observation module and source catalog in tow, STIPS can take over the image simulation process. First, we trigger the initialization of a new observation:"
   ]
  },
  {
   "cell_type": "code",
   "execution_count": null,
   "metadata": {},
   "outputs": [],
   "source": [
    "obm.nextObservation()"
   ]
  },
  {
   "cell_type": "markdown",
   "metadata": {},
   "source": [
    "Next, we simulate an image containing the sources from the catalog we created earlier. Then, we add error residuals to the image:"
   ]
  },
  {
   "cell_type": "code",
   "execution_count": null,
   "metadata": {
    "scrolled": true
   },
   "outputs": [],
   "source": [
    "cat_name = obm.addCatalogue(cat_file)"
   ]
  },
  {
   "cell_type": "code",
   "execution_count": null,
   "metadata": {
    "scrolled": true
   },
   "outputs": [],
   "source": [
    "obm.addError()"
   ]
  },
  {
   "cell_type": "markdown",
   "metadata": {},
   "source": [
    "We finish by saving the outputs to a FITS file. The `finalize()` method of the `ObservationModule` object can also return a full field of view mosaic and a list of the simulation's initial parameters."
   ]
  },
  {
   "cell_type": "code",
   "execution_count": null,
   "metadata": {},
   "outputs": [],
   "source": [
    "fits_file_1, _, params_1 = obm.finalize(mosaic=False)\n",
    "print(f\"Output FITS file is {fits_file_1}\")"
   ]
  },
  {
   "cell_type": "code",
   "execution_count": null,
   "metadata": {},
   "outputs": [],
   "source": [
    "for prm in params_1:\n",
    "    print(prm)"
   ]
  },
  {
   "cell_type": "code",
   "execution_count": null,
   "metadata": {},
   "outputs": [],
   "source": [
    "img_1 = fits.getdata(fits_file_1)[1000:1500, 2500:3000]\n",
    "\n",
    "plt.imshow(img_1, vmax=1.5, origin='lower', cmap='bone')"
   ]
  },
  {
   "cell_type": "markdown",
   "metadata": {},
   "source": [
    "### Generate Scenes Using STIPS Built-In Functions\n",
    "\n",
    "STIPS can simulate scenes by importing pre-existing catalogs (as in the first example) or by using built-in functionality that generates collections of stars or galaxies based on user-specified parameters. Below, we will use the STIPS `SceneModule` to generate a stellar population and a galactic population.\n",
    "\n",
    "First, we specify a set of parameters that will be used in both scenes (RA, DEC, ID) and initialize two `SceneModule` instances, one for the stellar population and one for the galaxy population:"
   ]
  },
  {
   "cell_type": "code",
   "execution_count": null,
   "metadata": {},
   "outputs": [],
   "source": [
    "obs_prefix_1 = 'notebook_example1'\n",
    "obs_ra = 150.0\n",
    "obs_dec = -2.5\n",
    "\n",
    "scm_stellar = SceneModule(out_prefix=obs_prefix_1, ra=obs_ra, dec=obs_dec)\n",
    "scm_galactic = SceneModule(out_prefix=obs_prefix_1, ra=obs_ra, dec=obs_dec)"
   ]
  },
  {
   "cell_type": "markdown",
   "metadata": {},
   "source": [
    "#### Create a Stellar Population\n",
    "\n",
    "Now we create a dictionary containing the parameters of the desired stellar population to pass to the `SceneModule` instance's `CreatePopulation()` method. The following parameters are needed to define a stellar population:\n",
    "\n",
    "- Number of point sources\n",
    "- Upper and lower limit of the age of the stars (in years)\n",
    "- Upper and lower limit of the metallicity of the stars\n",
    "- Initial Mass Function\n",
    "- Binary fraction\n",
    "- Clustering (True/False)\n",
    "- Distribution type (Uniform, Inverse power-law)\n",
    "- Total radius of the population\n",
    "- Distance from the population\n",
    "- Offset RA and DEC from the center of the scene being created\n",
    "\n",
    "A full accounting of each dictionary entry's meaning can be found in the docstring of the `CreatePopulation()` method:"
   ]
  },
  {
   "cell_type": "code",
   "execution_count": null,
   "metadata": {},
   "outputs": [],
   "source": [
    "scm_stellar.CreatePopulation?"
   ]
  },
  {
   "cell_type": "code",
   "execution_count": null,
   "metadata": {},
   "outputs": [],
   "source": [
    "stellar_parameters = {'n_stars': 100, 'age_low': 7.5e12, 'age_high': 7.5e12,\n",
    "                      'z_low': -2.0, 'z_high': -2.0, 'imf': 'salpeter',\n",
    "                      'alpha': -2.35, 'binary_fraction': 0.1,\n",
    "                      'distribution': 'invpow', 'clustered': True,\n",
    "                      'radius': 100.0, 'radius_units': 'pc',\n",
    "                      'distance_low': 20.0, 'distance_high': 20.0,\n",
    "                      'offset_ra': 0.0, 'offset_dec': 0.0\n",
    "                      }"
   ]
  },
  {
   "cell_type": "markdown",
   "metadata": {},
   "source": [
    "We pass the dictionary to the stellar `SceneModule` instance's `CreatePopulation()` method. Running the method will save the newly-generated population locally."
   ]
  },
  {
   "cell_type": "code",
   "execution_count": null,
   "metadata": {
    "scrolled": true
   },
   "outputs": [],
   "source": [
    "stellar_cat_file = scm_stellar.CreatePopulation(stellar_parameters)\n",
    "print(f\"Stellar population saved to file {stellar_cat_file}\")"
   ]
  },
  {
   "cell_type": "markdown",
   "metadata": {},
   "source": [
    "#### Create a Galactic Population\n",
    "\n",
    "Repeat the population generation process, now by creating a dictionary containing parameters of a desired _galactic_ population. The following paramters are needed to define a galaxy population:\n",
    "\n",
    "- Number of galaxies\n",
    "- Upper and lower limit of the redshift\n",
    "- Upper and lower limit of the galactic radii\n",
    "- Range of V-band surface brightness magnitudes\n",
    "- Clustering (True/False)\n",
    "- Distribution type (Uniform, Inverse power-law)\n",
    "- Radius of the distribution\n",
    "- Offset RA and DEC from the center of the scene being created\n",
    "\n",
    "A full accounting of each dictionary entry's meaning can be found in the docstring of the `CreateGalaxies()` method:"
   ]
  },
  {
   "cell_type": "code",
   "execution_count": null,
   "metadata": {},
   "outputs": [],
   "source": [
    "scm_galactic.CreateGalaxies?"
   ]
  },
  {
   "cell_type": "markdown",
   "metadata": {},
   "source": [
    "We pass the dictionary to the galaxy `SceneModule` instance's `CreateGalaxies()` method, and save the result locally:"
   ]
  },
  {
   "cell_type": "code",
   "execution_count": null,
   "metadata": {},
   "outputs": [],
   "source": [
    "galaxy_parameters = {'n_gals': 10, 'z_low': 0.0, 'z_high': 0.2,\n",
    "                     'rad_low': 0.01, 'rad_high': 2.0,\n",
    "                     'sb_v_low': 30.0, 'sb_v_high': 25.0,\n",
    "                     'distribution': 'uniform', 'clustered': False,\n",
    "                     'radius': 200.0, 'radius_units': 'arcsec',\n",
    "                     'offset_ra': 0.0, 'offset_dec': 0.0\n",
    "                     }"
   ]
  },
  {
   "cell_type": "code",
   "execution_count": null,
   "metadata": {},
   "outputs": [],
   "source": [
    "galaxy_cat_file = scm_galactic.CreateGalaxies(galaxy_parameters)\n",
    "print(f\"Galaxy population saved to file {galaxy_cat_file}\")"
   ]
  },
  {
   "cell_type": "markdown",
   "metadata": {},
   "source": [
    "#### Set up an Observation (First Pointing)\n",
    "\n",
    "Once we've created a scene, we can use STIPS to simulate as many exposures of it in as many orientations as we'd like. In STIPS, a single telescope pointing is called an _offset_, and a collection of exposures is an _observation_.\n",
    "\n",
    "We start this subsection by creating a single _offset_ that is dithered by 2 degrees in right ascension and rotated by 0.5 degrees in position angle from the center of the scene."
   ]
  },
  {
   "cell_type": "code",
   "execution_count": null,
   "metadata": {},
   "outputs": [],
   "source": [
    "offset_1 = {'offset_id': 1, 'offset_centre': False,\n",
    "            # True would center each detector on the same on-sky point\n",
    "            'offset_ra': 2.0, 'offset_dec': 0.0, 'offset_pa': 0.5\n",
    "            }"
   ]
  },
  {
   "cell_type": "markdown",
   "metadata": {},
   "source": [
    "The offset information is contained within an _observation_ that is taken with the F129 filter, uses detectors WFI01 through WFI03, and has an exposure time of 1500 seconds. We also apply distortion and specify a sky background of 0.24 counts/s/pixel."
   ]
  },
  {
   "cell_type": "code",
   "execution_count": null,
   "metadata": {},
   "outputs": [],
   "source": [
    "observation_parameters_1 = {'instrument': 'WFI', 'filters': ['F129'],\n",
    "                            'detectors': 3, 'distortion': True,\n",
    "                            'background': 0.24, 'observations_id': 1,\n",
    "                            'exptime': 1500, 'offsets': [offset_1]\n",
    "                            }"
   ]
  },
  {
   "cell_type": "markdown",
   "metadata": {},
   "source": [
    "STIPS can also apply various types of error residuals to the observation. Here, we only include residuals from flat-fields and the dark current."
   ]
  },
  {
   "cell_type": "code",
   "execution_count": null,
   "metadata": {},
   "outputs": [],
   "source": [
    "residuals_1 = {'residual_flat': True, 'residual_dark': True,\n",
    "               'residual_cosmic': False, 'residual_poisson': False,\n",
    "               'residual_readnoise': False\n",
    "               }"
   ]
  },
  {
   "cell_type": "markdown",
   "metadata": {},
   "source": [
    "Next, we feed the observation dictionary to an instance of the `ObservationModule` class, alongside the observation ID, right ascension, and declination specified earlier in this example."
   ]
  },
  {
   "cell_type": "code",
   "execution_count": null,
   "metadata": {},
   "outputs": [],
   "source": [
    "obm_1 = ObservationModule(observation_parameters_1, residual=residuals_1,\n",
    "                          out_prefix=obs_prefix_1, ra=obs_ra, dec=obs_dec)"
   ]
  },
  {
   "cell_type": "markdown",
   "metadata": {},
   "source": [
    "We call the `ObservationModule` object's `nextObservation()` method to move to the first offset/filter combination (`offset_1` and F129) contained in the object."
   ]
  },
  {
   "cell_type": "code",
   "execution_count": null,
   "metadata": {
    "scrolled": true
   },
   "outputs": [],
   "source": [
    "obm_1.nextObservation()"
   ]
  },
  {
   "cell_type": "markdown",
   "metadata": {},
   "source": [
    "Now that the observation is fully set up, we add the stellar and galactic populations to it. (Please note that each population may take about a minute to load.)"
   ]
  },
  {
   "cell_type": "code",
   "execution_count": null,
   "metadata": {
    "scrolled": true
   },
   "outputs": [],
   "source": [
    "output_stellar_catalogs_1 = obm_1.addCatalogue(stellar_cat_file)\n",
    "output_galaxy_catalogs_1 = obm_1.addCatalogue(galaxy_cat_file)\n",
    "print(f\"Output Catalogs are {output_stellar_catalogs_1} and \"\n",
    "      f\"{output_galaxy_catalogs_1}.\")"
   ]
  },
  {
   "cell_type": "code",
   "execution_count": null,
   "metadata": {
    "scrolled": true
   },
   "outputs": [],
   "source": [
    "obm_1.addError()"
   ]
  },
  {
   "cell_type": "markdown",
   "metadata": {},
   "source": [
    "As before, finish by saving the simulated image to a FITS file."
   ]
  },
  {
   "cell_type": "code",
   "execution_count": null,
   "metadata": {},
   "outputs": [],
   "source": [
    "fits_file_1, _, params_1 = obm_1.finalize(mosaic=False)\n",
    "print(f\"Output FITS file is {fits_file_1}\")"
   ]
  },
  {
   "cell_type": "code",
   "execution_count": null,
   "metadata": {},
   "outputs": [],
   "source": [
    "img_1 = fits.getdata(fits_file_1, ext=1)\n",
    "\n",
    "plt.imshow(img_1, vmin=0.15, vmax=0.6, origin='lower', cmap='bone')"
   ]
  },
  {
   "cell_type": "markdown",
   "metadata": {},
   "source": [
    "#### Modify an Observation (by Adding a Second Pointing)\n",
    "\n",
    "To observe the same scene under different conditions, we make a new `ObservationModule` object that takes updated versions of the input observation parameter and residual dictionaries. The collection of resulting `ObservationModule` objects can be thought of as a dithered set of observations.\n",
    "\n",
    "For the second observation, we assume an offset of 10 degrees in right ascension and rotated by 27 degrees in position angle from the center of the scene."
   ]
  },
  {
   "cell_type": "code",
   "execution_count": null,
   "metadata": {},
   "outputs": [],
   "source": [
    "offset_2 = {'offset_id': 1, 'offset_centre': False,\n",
    "            # True centers each detector on same point\n",
    "            'offset_ra': 10.0, 'offset_dec': 0.0, 'offset_pa': 27\n",
    "            }"
   ]
  },
  {
   "cell_type": "markdown",
   "metadata": {},
   "source": [
    "The second observation is identical to the first (F129 filter, detectors WFI01 through WFI03, exposure time of 1500 seconds, distortion, and a sky background of 0.24 counts/s/pixel) with the exception of the offset parameters."
   ]
  },
  {
   "cell_type": "code",
   "execution_count": null,
   "metadata": {},
   "outputs": [],
   "source": [
    "observation_parameters_2 = {'instrument': 'WFI', 'filters': ['F129'],\n",
    "                            'detectors': 3, 'distortion': True,\n",
    "                            'background': 0.24, 'observations_id': 1,\n",
    "                            'exptime': 1500, 'offsets': [offset_2]\n",
    "                            }"
   ]
  },
  {
   "cell_type": "markdown",
   "metadata": {},
   "source": [
    "This time, we include residuals from the flat-field and read noise."
   ]
  },
  {
   "cell_type": "code",
   "execution_count": null,
   "metadata": {},
   "outputs": [],
   "source": [
    "residuals_2 = {'residual_flat': True, 'residual_dark': False,\n",
    "               'residual_cosmic': False, 'residual_poisson': False,\n",
    "               'residual_readnoise': True\n",
    "               }"
   ]
  },
  {
   "cell_type": "markdown",
   "metadata": {},
   "source": [
    "We create the new `ObservationModule` object and initialize it for a simulation."
   ]
  },
  {
   "cell_type": "code",
   "execution_count": null,
   "metadata": {},
   "outputs": [],
   "source": [
    "obs_prefix_2 = 'notebook_example2'\n",
    "obm_2 = ObservationModule(observation_parameters_2, residuals=residuals_2,\n",
    "                          out_prefix=obs_prefix_2, ra=obs_ra, dec=obs_dec)"
   ]
  },
  {
   "cell_type": "code",
   "execution_count": null,
   "metadata": {
    "scrolled": true
   },
   "outputs": [],
   "source": [
    "obm_2.nextObservation()"
   ]
  },
  {
   "cell_type": "markdown",
   "metadata": {},
   "source": [
    "Add the stellar and galactic populations to the new observation along with the sources of error chosen above."
   ]
  },
  {
   "cell_type": "code",
   "execution_count": null,
   "metadata": {
    "scrolled": true
   },
   "outputs": [],
   "source": [
    "output_stellar_catalogs_2 = obm_2.addCatalogue(stellar_cat_file)\n",
    "output_galaxy_catalogs_2 = obm_2.addCatalogue(galaxy_cat_file)\n",
    "print(f\"Output Catalogs are {output_stellar_catalogs_2} and \"\n",
    "      f\"{output_galaxy_catalogs_2}.\")"
   ]
  },
  {
   "cell_type": "code",
   "execution_count": null,
   "metadata": {
    "scrolled": true
   },
   "outputs": [],
   "source": [
    "obm_2.addError()"
   ]
  },
  {
   "cell_type": "code",
   "execution_count": null,
   "metadata": {},
   "outputs": [],
   "source": [
    "fits_file_2, _, params_2 = obm_2.finalize(mosaic=False)\n",
    "print(f\"Output FITS file is {fits_file_2}\")"
   ]
  },
  {
   "cell_type": "markdown",
   "metadata": {},
   "source": [
    "Below, we visualize two pointings side by side:"
   ]
  },
  {
   "cell_type": "code",
   "execution_count": null,
   "metadata": {},
   "outputs": [],
   "source": [
    "img_2 = fits.getdata(fits_file_2, ext=1)\n",
    "\n",
    "fig_2, ax_2 = plt.subplots(1, 2, figsize=(8, 4))\n",
    "ax_2[0].imshow(img_1, vmin=0.15, vmax=0.6, origin='lower', cmap='bone')\n",
    "ax_2[1].imshow(img_2, vmin=0.15, vmax=0.6, origin='lower', cmap='bone')"
   ]
  },
  {
   "cell_type": "markdown",
   "metadata": {},
   "source": [
    "### Add an Artifical Point Source to an Observation\n",
    "\n",
    "With the STIPS `makePSF` utility, users can \"clip\" a PSF from a given detector pixel position in a scene and inject it elsewhere.\n",
    "\n",
    "This is achieved by first applying a bi-linear interpolation of a 3x3 array from the STIPS PSF library to compute the best PSF at the specified integer SCA pixels, and then by performing bicubic interpolations over the PSF's supersampled pixel grid to fill out its sub-pixel positions. The resulting PSF can then be injected in an existing scene or used to create new scenes.\n",
    "\n",
    "Use the `make_epsf_array()` method from STIPS' `AstroImage` class to create an example PSF from the library."
   ]
  },
  {
   "cell_type": "code",
   "execution_count": null,
   "metadata": {},
   "outputs": [],
   "source": [
    "ai = AstroImage()\n",
    "\n",
    "ai.detector = 'SCA01'\n",
    "ai.filter = 'F129'\n",
    "test_psf = ai.make_epsf_array()[0][0][0]"
   ]
  },
  {
   "cell_type": "code",
   "execution_count": null,
   "metadata": {},
   "outputs": [],
   "source": [
    "plt.imshow(test_psf, cmap='bone')"
   ]
  },
  {
   "cell_type": "markdown",
   "metadata": {},
   "source": [
    "Specify the pixel coordinates of the source's center (which are just the center of the PSF in this case) and the pixel length of the intended cutout (1/8th of the full example PSF's pixel length)."
   ]
  },
  {
   "cell_type": "code",
   "execution_count": null,
   "metadata": {},
   "outputs": [],
   "source": [
    "psf_mid_pixel = (test_psf.shape[0] - 1) // 2\n",
    "boxsize = test_psf.shape[0] // 8"
   ]
  },
  {
   "cell_type": "markdown",
   "metadata": {},
   "source": [
    "Inject the source at pixel (2000, 2000) with an arbitrary flux of 3000 DN/sec in a copy of the simulated image from the second observation simulated above. Can you see the newly injected PSF in the comparison plot?"
   ]
  },
  {
   "cell_type": "code",
   "execution_count": null,
   "metadata": {},
   "outputs": [],
   "source": [
    "img_3 = img_2.copy()\n",
    "xpix = 2000\n",
    "ypix = 2000\n",
    "flux = 3000\n",
    "\n",
    "img_3_inj = stips.utilities.makePSF.place_source(xpix, ypix, flux, img_3,\n",
    "                                                 test_psf, boxsize=boxsize,\n",
    "                                                 psf_center=psf_mid_pixel)"
   ]
  },
  {
   "cell_type": "code",
   "execution_count": null,
   "metadata": {},
   "outputs": [],
   "source": [
    "fig_3, ax_3 = plt.subplots(1, 2, figsize=(8, 4))\n",
    "ax_3[0].imshow(img_2, vmin=0.15, vmax=0.6, origin='lower', cmap='bone')\n",
    "ax_3[1].imshow(img_3_inj, vmin=0.15, vmax=0.6, origin='lower', cmap='bone')\n",
    "\n",
    "for ax in ax_3:\n",
    "    ax.add_patch(plt.Circle((xpix, ypix), 75, color='r', alpha=.7, fill=False))"
   ]
  },
  {
   "cell_type": "markdown",
   "metadata": {},
   "source": [
    "## Additional Resources\n",
    "\n",
    "- The Roman User Documentation's [\"STIPS Overview\"](https://roman-docs.stsci.edu/simulation-tools-handbook-home/stips-space-telescope-imaging-product-simulator/overview-of-stips) page and associated tutorials.\n",
    "- The latest version of the [STIPS documentation](https://stips.readthedocs.io/en/latest/) on ReadTheDocs.\n",
    "- The [Roman Help Desk](https://roman-docs.stsci.edu/roman-help-desk-at-stsci), an official outlet for user questions about STIPS."
   ]
  },
  {
   "cell_type": "markdown",
   "metadata": {
    "slideshow": {
     "slide_type": "slide"
    }
   },
   "source": [
    "## About this notebook\n",
    "\n",
    "**Author:** Justin Otor  \n",
    "**Updated On:** 2024-05"
   ]
  },
  {
   "cell_type": "markdown",
   "metadata": {},
   "source": [
    "***"
   ]
  },
  {
   "cell_type": "markdown",
   "metadata": {},
   "source": [
    "[Top of Page](#top)\n",
    "<img style=\"float: right;\" src=\"https://raw.githubusercontent.com/spacetelescope/notebooks/master/assets/stsci_pri_combo_mark_horizonal_white_bkgd.png\" alt=\"Space Telescope Logo\" width=\"200px\"/> "
   ]
  }
 ],
 "metadata": {
  "kernelspec": {
   "display_name": "Python 3 (ipykernel)",
   "language": "python",
   "name": "python3"
  },
  "language_info": {
   "codemirror_mode": {
    "name": "ipython",
    "version": 3
   },
   "file_extension": ".py",
   "mimetype": "text/x-python",
   "name": "python",
   "nbconvert_exporter": "python",
   "pygments_lexer": "ipython3",
   "version": "3.11.9"
  }
 },
 "nbformat": 4,
 "nbformat_minor": 4
}
