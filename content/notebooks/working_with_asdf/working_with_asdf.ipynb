{
 "cells": [
  {
   "cell_type": "markdown",
   "metadata": {
    "slideshow": {
     "slide_type": "slide"
    }
   },
   "source": [
    "# Working with Roman `ASDF` Files\n",
    "***\n",
    "\n",
    "## Learning Goals\n",
    "\n",
    "This notebook is designed to walk you through opening and handling Roman Wide Field Instrument (WFI) data files using the [`roman_datamodels`](https://github.com/spacetelescope/roman_datamodels) package and the `ASDF` Python library.\n",
    "\n",
    "## Table of Contents\n",
    "\n",
    "\\- [0. Introduction](#intro)\n",
    "\n",
    "\\- [1. Opening an `ASDF` File with `roman_datamodels`](#open_rdm)\n",
    "\n",
    "\\- [2. Reading Data](#read_data)\n",
    "\n",
    "\\- [3. Exploring Metadata](#metadata)\n",
    "\n",
    "\\- [4. Accessing WCS Information](#wcs)\n",
    "\n",
    "\\- [5. Reading Roman Data using the `asdf` Library](#asdf)\n",
    "\n",
    "***\n",
    "\n",
    "<a id = intro></a>\n",
    "## 0. Introduction\n",
    "\n",
    "Roman Wide Field Instrument (WFI) data are stored in [Advanced Scientific Data Format (ASDF)](https://asdf-standard.readthedocs.io/) files, which combine human-readable hierarchical metadata structure with binary array data. `ASDF` files are self-validating using pre-defined schema. There are tools to interact with `ASDF` files in Python, Julia, C/C++, and IDL. In this notebook we focus on the Python interface.\n",
    "\n",
    "Roman `ASDF` files can be opened and manipulated using two main approaches: \n",
    "\n",
    "1. Using the `roman_datamodels` library\n",
    "\n",
    "2. Using the `asdf` library\n",
    "\n",
    "Both approaches should allow accessing the full data. Using `roman_datamodels` has as an advantage that the different data blocks are loaded as `stnode`-based objects, and gives us access to their methods. The `asdf` library, on the other hand, loads the data blocks as they were serialized in disk, which loses some of the `roman_datamodels` capabilities but can allow more flexibility. We illustrate the two approaches in this notebook, and showcase loading via `roman_datamodels`.\n",
    "\n",
    "Additional information about `ASDF` in the context of Roman can be found in the [Roman Data Handbook](https://roman-docs.stsci.edu/data-handbook-home/wfi-data-format).\n",
    "\n",
    "***\n",
    "\n",
    "### Kernel Information\n",
    "\n",
    "To run this notebook, please select the \"Roman Calibration\" kernel at the top right of your window.\n",
    "\n",
    "### Imports\n",
    "Here we import the required packages for our data access examples including:\n",
    "\n",
    "- `numpy` for array operations\n",
    "\n",
    "- `asdf` for `ASDF` input/output\n",
    "\n",
    "- `roman_datamodels` to handle input/output and validation of data models\n",
    "\n",
    "- `matplotlib.pyplot` for plotting data\n",
    "\n",
    "- `astropy.units` to handle units\n",
    "\n",
    "- `astropy.time` to handle time\n",
    "\n",
    "- `astropy.coordinates` to handle celestial coordinates\n",
    "\n",
    "- `pprint` for enhanced printing\n",
    "\n",
    "- `s3fs` for streaming in data directly from the cloud"
   ]
  },
  {
   "cell_type": "code",
   "execution_count": null,
   "metadata": {
    "slideshow": {
     "slide_type": "fragment"
    }
   },
   "outputs": [],
   "source": [
    "%matplotlib inline\n",
    "import numpy as np\n",
    "import asdf\n",
    "import roman_datamodels as rdm\n",
    "import matplotlib.pyplot as plt\n",
    "import astropy.units as u\n",
    "import astropy.time\n",
    "from astropy.coordinates import SkyCoord\n",
    "from pprint import pprint\n",
    "import s3fs"
   ]
  },
  {
   "cell_type": "markdown",
   "metadata": {
    "slideshow": {
     "slide_type": "slide"
    }
   },
   "source": [
    "***\n",
    "<a id = open_rdm></a>\n",
    "## 1. Opening an `ASDF` File with `roman_datamodels`\n",
    "\n",
    "All Roman data products conform to one of the data models described by the [`roman_datamodels`](https://roman-datamodels.readthedocs.io/en/latest/) package. This package wraps the `asdf` library and provides utilities to read and save data conforming to the official data models. We illustrate how to use `roman_datamodels` to load data from an ASDF file containing simulated Roman data."
   ]
  },
  {
   "cell_type": "code",
   "execution_count": null,
   "metadata": {},
   "outputs": [],
   "source": [
    "asdf_dir_uri = 's3://roman-sci-test-data-prod-summer-beta-test/'\n",
    "fs = s3fs.S3FileSystem()\n",
    "\n",
    "asdf_file_uri_l2 = asdf_dir_uri + 'ROMANISIM/DENSE_REGION/R0.5_DP0.5_PA0/r0000101001001001001_01101_0001_WFI01_cal.asdf'\n",
    "\n",
    "with fs.open(asdf_file_uri_l2, 'rb') as fb:\n",
    "    f = rdm.open(fb).copy()"
   ]
  },
  {
   "cell_type": "markdown",
   "metadata": {},
   "source": [
    "A high-level summary of the file can be retrieved by using the `info()` method. We have limited the number of rows printed to `30`, but you can change that number to your liking or to `None` to see all nodes."
   ]
  },
  {
   "cell_type": "code",
   "execution_count": null,
   "metadata": {},
   "outputs": [],
   "source": [
    "f.info(max_rows=30)"
   ]
  },
  {
   "cell_type": "markdown",
   "metadata": {},
   "source": [
    "Note that, by default, the `open()` method does not load the data in memory unless told to do so explicitly, which makes opening `ASDF` files a quick operation. \n",
    "\n",
    "At this point, we have information about the shape and type of the different data blocks, but we don't have access to the data until we load them. We can either load the data blocks by instantiating them or by setting `lazy_load = False`.\n",
    "\n",
    "An `ASDF` object can be used like a nested dictionary. Each block can be explored via the `.keys()` attribute. "
   ]
  },
  {
   "cell_type": "code",
   "execution_count": null,
   "metadata": {},
   "outputs": [],
   "source": [
    "pprint(f.keys())"
   ]
  },
  {
   "cell_type": "markdown",
   "metadata": {},
   "source": [
    "For a Level-2 (L2) image, the list of blocks includes:"
   ]
  },
  {
   "cell_type": "code",
   "execution_count": null,
   "metadata": {},
   "outputs": [],
   "source": [
    "for key in f.keys():\n",
    "    print(key)"
   ]
  },
  {
   "cell_type": "markdown",
   "metadata": {},
   "source": [
    "***\n",
    "<a id = read_data></a>\n",
    "## 2. Reading Data\n",
    "We can access the science image by loading the `data` block."
   ]
  },
  {
   "cell_type": "code",
   "execution_count": null,
   "metadata": {},
   "outputs": [],
   "source": [
    "img = f['data']\n",
    "type(img)"
   ]
  },
  {
   "cell_type": "markdown",
   "metadata": {},
   "source": [
    "Note that Roman images are expressed as `astropy.Quantity` objects, often with units attached to them. This functionality can only be used in Python. However, the images will still be loaded correctly using other languages (although the units will not automatically load).\n",
    "\n",
    "Using `astropy.Quantity` objects can help prevent confusion with units.  However, sometimes it is convenient to handle the images as [NumPy `ndarrays`](https://numpy.org/doc/2.0/reference/generated/numpy.ndarray.html). These are stored in the `.value` attribute of the `astropy.Quantity` object. \n",
    "\n",
    "For example, a typical operation with images is visualization; however, `matplotlib`'s `imshow` cannot render `astropy.Quantity` objects, in which case it is necessary to use the `.value` attribute. For more information on how to visualize data in `ASDF` files, see the [Data Visualization notebook tutorial](https://github.com/spacetelescope/roman_notebooks/tree/main/content/notebooks/data_visualization)."
   ]
  },
  {
   "cell_type": "code",
   "execution_count": null,
   "metadata": {},
   "outputs": [],
   "source": [
    "print(f'Exploring the values of `img`: {img.value}')\n",
    "print(f'Exploring the data type of `img.value`: {type(img.value)}')\n",
    "print(f'Exploring the units of `img`: {img.unit}')\n",
    "print(f'Exploring the type of `img.units: {type(img.unit)}')"
   ]
  },
  {
   "cell_type": "markdown",
   "metadata": {},
   "source": [
    "As with array data stored in other file types, we can perform analyses on the arrays in memory. For example, we can check the image content by building a 1-D histogram of the its values:"
   ]
  },
  {
   "cell_type": "code",
   "execution_count": null,
   "metadata": {},
   "outputs": [],
   "source": [
    "plt.figure(figsize=(12, 6), \n",
    "           layout='tight')\n",
    "\n",
    "plt.hist(img.value.flatten(),\n",
    "         histtype='step',\n",
    "         range=(-0.6, 0.6),\n",
    "         bins=300)\n",
    "\n",
    "plt.xlabel(f'Pixel value [{img.unit}]',\n",
    "           fontsize=16)\n",
    "plt.ylabel('Pixels/bin',\n",
    "           fontsize=16)\n",
    "\n",
    "plt.show()"
   ]
  },
  {
   "cell_type": "markdown",
   "metadata": {},
   "source": [
    "We can explore other data blocks, for example, the [data quality (DQ) flags](https://roman-pipeline.readthedocs.io/en/latest/roman/references_general/references_general.html#data-quality-flags). Let's take a look at DQ values, which are the bitwise sum of all DQ bits flagged during data processing."
   ]
  },
  {
   "cell_type": "code",
   "execution_count": null,
   "metadata": {},
   "outputs": [],
   "source": [
    "unique_dq = np.unique(f['dq'])\n",
    "\n",
    "for uu in unique_dq:\n",
    "    br = np.binary_repr(uu)\n",
    "\n",
    "    print(\"------------\")\n",
    "    print('Flag', uu)\n",
    "\n",
    "    for ii, cc in enumerate(br[::-1]):\n",
    "        if int(cc) == 1:\n",
    "            print('Bits on:', ii, 2**ii)"
   ]
  },
  {
   "cell_type": "markdown",
   "metadata": {},
   "source": [
    "***\n",
    "<a id = metadata></a>\n",
    "## 3. Exploring metadata\n",
    "\n",
    "One of the advantages of `ASDF` is its extensibility, and the ability to store human-readable hierarchical metadata. Let's further explore the metadata."
   ]
  },
  {
   "cell_type": "code",
   "execution_count": null,
   "metadata": {},
   "outputs": [],
   "source": [
    "# This way we get a dictionary\n",
    "meta = f['meta']\n",
    "\n",
    "print(type(meta))\n",
    "\n",
    "print(meta)"
   ]
  },
  {
   "cell_type": "markdown",
   "metadata": {},
   "source": [
    "We retrieved the `meta` data block as a dictionary, which contains a collection of dictionaries. We will\n",
    " iterate over its keys to see what they contain:"
   ]
  },
  {
   "cell_type": "code",
   "execution_count": null,
   "metadata": {},
   "outputs": [],
   "source": [
    "for key in meta.keys():\n",
    "    print(key)"
   ]
  },
  {
   "cell_type": "markdown",
   "metadata": {},
   "source": [
    "As shown above, the `meta` data block contains a lot of useful metadata information. Two of the most typical keys, for example, are the `wcs` key containing information about the World Coordinate System, and also the `photometry` key containing information about how to transform units from instrumental (`DN/sec`) to physical (`MJy/sr`).\n",
    "\n",
    "We continue going deeper in the metadata tree. In this case, we select the `aperture` key:"
   ]
  },
  {
   "cell_type": "code",
   "execution_count": null,
   "metadata": {},
   "outputs": [],
   "source": [
    "for key in meta['aperture'].keys():\n",
    "    print(key)"
   ]
  },
  {
   "cell_type": "markdown",
   "metadata": {},
   "source": [
    "Alternatively, if you have opened the file with `roman_datamodels`, then you can retrieve the data blocks as `stnode._node.DNode` objects:"
   ]
  },
  {
   "cell_type": "code",
   "execution_count": null,
   "metadata": {},
   "outputs": [],
   "source": [
    "meta2 = f.meta\n",
    "\n",
    "print(type(meta2))"
   ]
  },
  {
   "cell_type": "markdown",
   "metadata": {},
   "source": [
    "And you can go deeper in the metadata tree as shown below:"
   ]
  },
  {
   "cell_type": "code",
   "execution_count": null,
   "metadata": {},
   "outputs": [],
   "source": [
    "ap = meta2.aperture\n",
    "\n",
    "print(type(ap))"
   ]
  },
  {
   "cell_type": "markdown",
   "metadata": {},
   "source": [
    "The advantage of this latest approach is that you have access to the schema of each node."
   ]
  },
  {
   "cell_type": "code",
   "execution_count": null,
   "metadata": {},
   "outputs": [],
   "source": [
    "pprint(ap.get_schema())"
   ]
  },
  {
   "cell_type": "markdown",
   "metadata": {},
   "source": [
    "### Taking advantage of `astropy.time.Time` objects in the metadata\n",
    "\n",
    "Another feature in WFI `ASDF` metadata is the storage of times as `astropy.time.Time` objects, which provide numerous convenient methods for converting to different reference systems and formats. We illustrate here a few examples and for a more comprehensive view of `astropy.time` please check the [documentation](https://docs.astropy.org/en/stable/time/)."
   ]
  },
  {
   "cell_type": "code",
   "execution_count": null,
   "metadata": {},
   "outputs": [],
   "source": [
    "start_time = meta2['exposure']['start_time']\n",
    "print(f'Start time of the exposure: {start_time}\\n; datatype: {type(start_time)}')"
   ]
  },
  {
   "cell_type": "markdown",
   "metadata": {},
   "source": [
    "We can convert this start time to `MJD` very easily:"
   ]
  },
  {
   "cell_type": "code",
   "execution_count": null,
   "metadata": {},
   "outputs": [],
   "source": [
    "start_time.mjd"
   ]
  },
  {
   "cell_type": "markdown",
   "metadata": {},
   "source": [
    "We can use `Time` objects and operate with them. For example, we can get the exposure length by just subtracting the start time from the end time:"
   ]
  },
  {
   "cell_type": "code",
   "execution_count": null,
   "metadata": {},
   "outputs": [],
   "source": [
    "end_time = meta2['exposure']['end_time']\n",
    "exp_len = end_time - start_time"
   ]
  },
  {
   "cell_type": "markdown",
   "metadata": {},
   "source": [
    "And then express the exposure length in different units:"
   ]
  },
  {
   "cell_type": "code",
   "execution_count": null,
   "metadata": {},
   "outputs": [],
   "source": [
    "print('Exposure length in seconds:', exp_len.to(u.s))\n",
    "print('Exposure length in days:', exp_len.to(u.day))\n",
    "print('Exposure length in years:', exp_len.to(u.year))"
   ]
  },
  {
   "cell_type": "markdown",
   "metadata": {},
   "source": [
    "***\n",
    "<a id = wcs></a>\n",
    "## 4. Accessing WCS Information\n",
    "\n",
    "Roman uses [Generalized World Coordinate System standard (GWCS)](https://gwcs.readthedocs.io). The WCS can be found in the `wcs` key within the `meta` block."
   ]
  },
  {
   "cell_type": "code",
   "execution_count": null,
   "metadata": {},
   "outputs": [],
   "source": [
    "gwcs = f['meta']['wcs']\n",
    "pprint(gwcs)"
   ]
  },
  {
   "cell_type": "markdown",
   "metadata": {},
   "source": [
    "The WCS can be retrieved as a `gwcs` object, which is built upon and is compatible with `astropy.wcs` utilities."
   ]
  },
  {
   "cell_type": "code",
   "execution_count": null,
   "metadata": {},
   "outputs": [],
   "source": [
    "print(type(gwcs))"
   ]
  },
  {
   "cell_type": "markdown",
   "metadata": {},
   "source": [
    "The `gwcs` object can be used to convert between image pixel and sky coordinates.\n",
    "\n",
    "**Note:** the `gwcs` object uses Python zero-indexing, therefore the center of the first pixel in Python is `(0, 0)`, while in the formal definition of the WFI science coordinate system the center of the bottom-left pixel is `(1, 1)`. More information about the Roman coordinate systems can be found in the [Simulation Tools Handbook](https://roman-docs.stsci.edu/simulation-tools-handbook-home/simulation-development-utilities/pysiaf-for-roman).\n",
    "\n",
    "In this example, let's convert the central pixel position of the detector to the corresponding right ascension and declination on the sky. The center of the L2 image array in the science coordinate frame is `(x, y) = (2044.5, 2044.5) pixels` (note that the 4-pixel reference border was removed during processing). Recall that we must subtract `1` from both axes to convert to Python's zero-indexed system: "
   ]
  },
  {
   "cell_type": "code",
   "execution_count": null,
   "metadata": {},
   "outputs": [],
   "source": [
    "print(gwcs(2043.5, 2043.5))"
   ]
  },
  {
   "cell_type": "markdown",
   "metadata": {},
   "source": [
    "Likewise, we can convert from celestial coordinates to pixel coordinates using the inverse transform via the `.invert()` method. For example, using a slightly different position still within this detector:"
   ]
  },
  {
   "cell_type": "code",
   "execution_count": null,
   "metadata": {},
   "outputs": [],
   "source": [
    "print(gwcs.invert(0.43, 0.53))"
   ]
  },
  {
   "cell_type": "markdown",
   "metadata": {},
   "source": [
    "Notice that `gwcs` assumed our inputs were the right ascension and declination, respectively, in degrees. If we want to be more specific, then the `gwcs` object can also take as input an `astropy.coordinates.SkyCoord` object:"
   ]
  },
  {
   "cell_type": "code",
   "execution_count": null,
   "metadata": {},
   "outputs": [],
   "source": [
    "cdt = SkyCoord(0.43, 0.53, unit='deg')\n",
    "print(gwcs.invert(cdt))"
   ]
  },
  {
   "cell_type": "markdown",
   "metadata": {},
   "source": [
    "***\n",
    "<a id=asdf></a>\n",
    "## 5. Reading Roman data using the basic `asdf` library\n",
    "\n",
    "We now illustrate how to read Roman WFI data using the basic `asdf` library.\n",
    "\n",
    "The main avenue to read a generic `ASDF` file is via the `open` method in the `asdf` package. This returns an `AsdfObject` object."
   ]
  },
  {
   "cell_type": "code",
   "execution_count": null,
   "metadata": {},
   "outputs": [],
   "source": [
    "asdf_dir_uri = 's3://roman-sci-test-data-prod-summer-beta-test/'\n",
    "fs = s3fs.S3FileSystem()\n",
    "\n",
    "asdf_file_uri_l2 = f'{asdf_dir_uri}ROMANISIM/DENSE_REGION/R0.5_DP0.5_PA0/r0000101001001001001_01101_0001_WFI01_cal.asdf'\n",
    "\n",
    "with fs.open(asdf_file_uri_l2, 'rb') as fb:\n",
    "    f = asdf.open(fb).copy()"
   ]
  },
  {
   "cell_type": "markdown",
   "metadata": {},
   "source": [
    "Another useful method to explore the contents of an `ASDF` file is the `.tree` attribute:"
   ]
  },
  {
   "cell_type": "code",
   "execution_count": null,
   "metadata": {},
   "outputs": [],
   "source": [
    "pprint(f.tree)"
   ]
  },
  {
   "cell_type": "markdown",
   "metadata": {},
   "source": [
    "For WFI `ASDF` files, the three high-level blocks are: \n",
    "* `asdf_library`: It contains information about the `asdf` library used to create the file.\n",
    "* `history`: It contains metadata information about the extensions used to create the file.\n",
    "* `roman`: This block contains Roman data and metadata.\n",
    "\n",
    "Within the `roman` block, the `data` block contains the data, which corresponds to an uncalibrated ramp in Level 1 (L1) products, a calibrated rate image in L2 products, and a mosaic image in Level 3 (L3) products.\n",
    "\n",
    "Other interesting data blocks are: \n",
    "- `meta`: metadata information\n",
    "- `err`: estimated uncertainties\n",
    "- `dq`: data quality flags\n",
    "\n",
    "For more information about these data blocks and L2 data products, we recommend reading the [Roman Data Handbook](https://roman-docs.stsci.edu/data-handbook-home/wfi-data-format/data-levels-and-products#DataLevelsandProducts-level2).\n",
    "\n",
    "We further showcase the usage of the `asdf` basic library below using a L1 file."
   ]
  },
  {
   "cell_type": "code",
   "execution_count": null,
   "metadata": {},
   "outputs": [],
   "source": [
    "asdf_file_uri_l1 = f'{asdf_dir_uri}ROMANISIM/DENSE_REGION/R0.5_DP0.5_PA0/r0000101001001001001_01101_0001_WFI01_uncal.asdf'\n",
    "\n",
    "with fs.open(asdf_file_uri_l1, 'rb') as fb:\n",
    "    g = asdf.open(fb).copy()\n",
    "\n",
    "print(g.info())"
   ]
  },
  {
   "cell_type": "markdown",
   "metadata": {},
   "source": [
    "Loading the data follows the same procedure as above. Comparing the data structures, we notice an extra data block: `amp33`, which contains the data from the 33rd amplifier. Additionally, the L1 arrays have sizes `(4096, 4096)` pixels, different from the previous L2 image size of `(4088, 4088)` pixels. On top of that, our `data` array is now a 3-D datacube rather than a 2-D image, in units of `DN` rather than `DN/sec`.\n",
    "\n",
    "Let's plot the value of a single pixel up-the-ramp:"
   ]
  },
  {
   "cell_type": "code",
   "execution_count": null,
   "metadata": {},
   "outputs": [],
   "source": [
    "plt.figure(figsize=(6, 6),\n",
    "           layout='tight')\n",
    "\n",
    "plt.plot(g['roman']['data'][:, 1000, 1000])\n",
    "\n",
    "plt.title('Up-the-ramp samples for pixel 1000, 1000')\n",
    "\n",
    "plt.xlabel('Resultant number',\n",
    "           fontsize=16)\n",
    "plt.ylabel('Pixel value [DN]',\n",
    "           fontsize=16)\n",
    "\n",
    "plt.show()"
   ]
  },
  {
   "cell_type": "markdown",
   "metadata": {},
   "source": [
    "The L1 datacube contains all the uncalibrated resultants that, after processing, yield the L2 rate images.\n",
    "\n",
    "We can pass the and `AsdfObject` to `roman_datamodels.open` as well:"
   ]
  },
  {
   "cell_type": "code",
   "execution_count": null,
   "metadata": {},
   "outputs": [],
   "source": [
    "data_rdm = rdm.open(g)\n",
    "\n",
    "print(type(data_rdm))"
   ]
  },
  {
   "cell_type": "markdown",
   "metadata": {},
   "source": [
    "`roman_datamodels` understood our L1 data and identified it as a `ScienceRaw` model, which we explore further below.\n",
    "\n",
    "Once more, we can use the general `.info()` method to gather information about the data."
   ]
  },
  {
   "cell_type": "code",
   "execution_count": null,
   "metadata": {},
   "outputs": [],
   "source": [
    "data_rdm.info()\n",
    "\n",
    "for key in data_rdm.keys():\n",
    "    print(key)"
   ]
  },
  {
   "cell_type": "markdown",
   "metadata": {},
   "source": [
    "Note that despite the key `roman` being shown by the `.info()` method, the only keys displayed in the `ScienceRaw` object are those inside the `roman` group. This is because `data_rdm` is no longer an `AsdfObject`, but a `ScienceRawModel` object.\n",
    "\n",
    "We can still retrieve its data blocks easily by instantiating its corresponding attributes/nodes or by using the keys as dictionary keys. The former method will yield the corresponding `roman_datamodels` node, whereas the latter will yield a dictionary."
   ]
  },
  {
   "cell_type": "code",
   "execution_count": null,
   "metadata": {},
   "outputs": [],
   "source": [
    "type(data_rdm.meta), type(data_rdm['meta'])"
   ]
  },
  {
   "cell_type": "markdown",
   "metadata": {},
   "source": [
    "***\n",
    "## Additional Resources\n",
    "\n",
    "For more information about Roman data products and additional resources please consider visiting the links below:\n",
    "\n",
    "- [Roman User Documentation -- RDox](https://roman-docs.stsci.edu/)\n",
    "\n",
    "- [MAST](https://archive.stsci.edu)\n",
    "\n",
    "- [`ASDF` Python API](https://asdf.readthedocs.io/en/latest/)\n",
    "\n",
    "- [`ASDF` standard](https://asdf-standard.readthedocs.io/)\n",
    "\n",
    "**For additional support, please contact the [Roman Help Desk at STScI](https://stsci.service-now.com/roman).**\n",
    "\n",
    "## About this notebook\n",
    "\n",
    "**Author:** Javier Sánchez, Andra Stroe\n",
    "\n",
    "**Updated On:** 2024-11-06\n",
    "\n",
    "***"
   ]
  },
  {
   "cell_type": "markdown",
   "metadata": {},
   "source": [
    "[Top of Page](#top)\n",
    "<img style=\"float: right;\" src=\"https://raw.githubusercontent.com/spacetelescope/notebooks/master/assets/stsci_pri_combo_mark_horizonal_white_bkgd.png\" alt=\"Space Telescope Logo\" width=\"200px\"/> "
   ]
  }
 ],
 "metadata": {
  "kernelspec": {
   "display_name": "roman_science_platform24",
   "language": "python",
   "name": "python3"
  },
  "language_info": {
   "codemirror_mode": {
    "name": "ipython",
    "version": 3
   },
   "file_extension": ".py",
   "mimetype": "text/x-python",
   "name": "python",
   "nbconvert_exporter": "python",
   "pygments_lexer": "ipython3",
   "version": "3.13.0"
  }
 },
 "nbformat": 4,
 "nbformat_minor": 4
}
