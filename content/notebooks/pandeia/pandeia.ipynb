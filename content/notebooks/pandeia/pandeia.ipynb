{
 "cells": [
  {
   "cell_type": "markdown",
   "id": "0290a873-1aa5-4a61-8fa6-5e835c23ecfb",
   "metadata": {
    "slideshow": {
     "slide_type": "slide"
    }
   },
   "source": [
    "# Pandeia Tutorial"
   ]
  },
  {
   "cell_type": "markdown",
   "id": "2e56a935-ade2-4948-afcf-757efe5be8e5",
   "metadata": {
    "slideshow": {
     "slide_type": "skip"
    }
   },
   "source": [
    "***"
   ]
  },
  {
   "cell_type": "markdown",
   "id": "69496441-f1c0-4325-b125-8f23397e7dc5",
   "metadata": {
    "slideshow": {
     "slide_type": "slide"
    }
   },
   "source": [
    "## Kernel Information\n",
    "\n",
    "To run this notebook, please select the \"Roman Calibration\" kernel at the top right of your window.\n",
    "\n",
    "## Introduction\n",
    "\n",
    "**Pandeia** is a high-fidelity exposure time calculator developed by STScI to characterize optimal observing setups for user-created astronomical scenes. It supports the Roman Wide Field Instrument (WFI) as well as the James Webb Space Telescope's full complement of instruments.\n",
    "\n",
    "Due to the complexity of its simulations, Pandeia is best used on scenes that encompass ~5% of a single WFI detector. (To simulate larger areas, see the STIPS notebook tutorial.)\n",
    "\n",
    "This notebook walks through brief examples of common use cases.\n",
    "\n",
    "## Imports\n",
    "\n",
    "Besides the Pandeia-related imports, we will use `scipy.optimize.minimize_scalar` to help with optimizing signal-to-noise ratios (SNRs), `scipy.interpolate.interp1d` to calculate a desired target magnitude for a given observing setup and `numpy` to handle numerical computing."
   ]
  },
  {
   "cell_type": "code",
   "execution_count": null,
   "id": "b96c3c70-16d1-4349-8904-00f3828d4f79",
   "metadata": {},
   "outputs": [],
   "source": [
    "from pandeia.engine.calc_utils import build_default_calc\n",
    "from pandeia.engine.perform_calculation import perform_calculation\n",
    "from scipy.optimize import minimize_scalar\n",
    "from scipy import interpolate\n",
    "import numpy as np"
   ]
  },
  {
   "cell_type": "markdown",
   "id": "b6865f31-258d-4cf6-a6a0-1dae41773b02",
   "metadata": {},
   "source": [
    "We set `FILTER` as global variable before beginning since all examples make use of the same F129 imaging filter. Please note that Pandeia's filter definition is case-sensitive and will only take lower-case letters for filter names. "
   ]
  },
  {
   "cell_type": "code",
   "execution_count": null,
   "id": "eb47af89-3fc1-4984-b28a-06e0edf6cee4",
   "metadata": {},
   "outputs": [],
   "source": [
    "FILTER = 'f129'     # Pandeia's filter definitaion is case-sensitive and will only take lower-case letters for filter names "
   ]
  },
  {
   "cell_type": "markdown",
   "id": "2f82fc6f-2cec-4d5b-bd20-fc7d2e8594e8",
   "metadata": {},
   "source": [
    "***"
   ]
  },
  {
   "cell_type": "markdown",
   "id": "8971f3b8-7c8c-4c4e-8f13-756d9597949c",
   "metadata": {},
   "source": [
    "## Examples"
   ]
  },
  {
   "cell_type": "markdown",
   "id": "c4088527-cb26-4dee-999d-76a9803e9997",
   "metadata": {},
   "source": [
    "### Calculate a Scene's Signal-to-Noise Ratio\n",
    "\n",
    "In this first example, we calculate the expected SNR for a point source with a flat spectral distribution (default target) normalized to 25 AB magnitudes. We take three exposures in band F129 with the multi-accumulation (MA) table \"High Latitude Wide Area Survey - Imaging\", truncated after 5 resultants (91.20 seconds of total exposure time). MA tables describe the sequence of individual reads that are combined into resultants and comprise the up-the-ramp sampling during a single exposure of the WFI detectors. For more information on the WFI MA tables, please refer to the [RDox documentation](https://roman-docs.stsci.edu/raug/astronomers-proposal-tool-apt/appendix/appendix-wfi-multiaccum-tables).\n",
    "\n",
    "We first create a default calculation using Pandeia's built-in function `build_default_calc(<telescope>, <instrument>, <mode>)`: "
   ]
  },
  {
   "cell_type": "code",
   "execution_count": null,
   "id": "41bf5746-e8c1-41ee-8f64-9af598d13022",
   "metadata": {},
   "outputs": [],
   "source": [
    "calc = build_default_calc('roman', 'wfi', 'imaging')        # Creating a default calculation using Roman's WFI with an imaing mode"
   ]
  },
  {
   "cell_type": "markdown",
   "id": "d8036f34",
   "metadata": {},
   "source": [
    "Let's take a look at how the default calculation is set up:"
   ]
  },
  {
   "cell_type": "markdown",
   "id": "db27d9f0",
   "metadata": {},
   "source": []
  },
  {
   "cell_type": "code",
   "execution_count": null,
   "id": "a48d0642",
   "metadata": {},
   "outputs": [],
   "source": [
    "print(calc)                                                 # Print the default calculation"
   ]
  },
  {
   "cell_type": "markdown",
   "id": "013b4561",
   "metadata": {},
   "source": [
    "The `build_default_calc` created a scene with a single point source to observe with F087 filter, High Latitude Wide Area Survey - Imaging (hlwas_imaging) MA table, truncated after 5 resultants, and with a single exposure. With the WFI, an exposure refers to a single multi-accum sequence of the detector array at a single dither point in the dither pattern. Next, we define the observing setup and make some changes to the default setting:"
   ]
  },
  {
   "cell_type": "code",
   "execution_count": null,
   "id": "d5cdd524",
   "metadata": {},
   "outputs": [],
   "source": [
    "calc['configuration']['instrument']['filter'] = FILTER      # Setting the filter to F129\n",
    "calc['configuration']['detector']['nexp'] = 3               # Taking three exposures of multi-accum sequence"
   ]
  },
  {
   "cell_type": "markdown",
   "id": "1beda2d0-1fa3-4b88-8f4d-ff6f9d9416f2",
   "metadata": {},
   "source": [
    "Next, we change the default point source flux to 25 AB magnitudes:"
   ]
  },
  {
   "cell_type": "code",
   "execution_count": null,
   "id": "d4a78b80-ce4f-4840-9a28-1426b9bb5925",
   "metadata": {},
   "outputs": [],
   "source": [
    "mag = 25\n",
    "calc['scene'][0]['spectrum']['normalization']['norm_flux'] = mag\n",
    "calc['scene'][0]['spectrum']['normalization']['norm_fluxunit'] = 'abmag'"
   ]
  },
  {
   "cell_type": "markdown",
   "id": "55f5d8ac-126c-4b94-acd6-c26d9bfd63ac",
   "metadata": {},
   "source": [
    "Finally, we perform the signal to noise calculation using Pandeia's another built-in function `perform_calculation` and print the result:"
   ]
  },
  {
   "cell_type": "code",
   "execution_count": null,
   "id": "b2d7797c-fa09-49bd-a4e2-3363f6f97358",
   "metadata": {},
   "outputs": [],
   "source": [
    "report = perform_calculation(calc)\n",
    "sn = report['scalar']['sn']\n",
    "print(f'Estimated S/N: {sn:.2f}')"
   ]
  },
  {
   "attachments": {},
   "cell_type": "markdown",
   "id": "44c3825c-ea41-4270-9a8a-b4f347cc59ca",
   "metadata": {},
   "source": [
    "Note that this step may generate a WARNING from synphot that the spectrum is extrapolated, which can be ignored.\n",
    "\n",
    "Running Pandeia for Roman may return a warning such as: `if np.log(abs(val)) < -1*precision and val != 0.0`. This is related to a JWST-specific test for float precision, and can be ignored."
   ]
  },
  {
   "cell_type": "markdown",
   "id": "ca56cbc7-ade0-4cc3-8e21-81a2c1b4edf9",
   "metadata": {},
   "source": [
    "### Calculate Corresponding Magnitude for a Given Setup\n",
    "\n",
    "In this example, we are interested in understanding the corresponding magnitude for a given SNR and for a specific observing setup.\n",
    "\n",
    "The following helper functions use Pandeia to simulate a range of scenes at different magnitudes in order to estimate the corresponding magnitude for a given SNR and a number of exposures. As above, we assume a point source with a flat spectrum, and the MA table is set to the \"High Latitude Wide Area Survey - Imaging\" table with 5 resultants."
   ]
  },
  {
   "cell_type": "code",
   "execution_count": null,
   "id": "e6e68758-cef5-471b-89f1-0877c1d64b26",
   "metadata": {},
   "outputs": [],
   "source": [
    "def compute_mag(filt, nexp, bracket=(18, 30)):\n",
    "    \"\"\"\n",
    "    Method to compute the magnitude from S/N and number of exposures\n",
    " \n",
    "    Parameters\n",
    "    ----------\n",
    "    filt : str\n",
    "        Name of Roman WFI filter\n",
    "    nexp : int\n",
    "        Number of exposures\n",
    "    bracket : tuple\n",
    "        Range of magnitudes to test. default: (18, 30)\n",
    "\n",
    " \n",
    "    Returns\n",
    "    -------\n",
    "    mag_range : float\n",
    "        An array of magnitudes used to compute the SNRs\n",
    "    computed_snrs: float\n",
    "        An array of computed SNRs from Pandeia calculations\n",
    "    \"\"\"\n",
    " \n",
    "    # Set up default Roman observation\n",
    "    calc = build_default_calc('roman', 'wfi', 'imaging')\n",
    " \n",
    "    # Modify defaults to place a source with an AB magnitude\n",
    "    calc['scene'][0]['spectrum']['normalization']['norm_fluxunit'] = 'abmag'\n",
    "    calc['scene'][0]['spectrum']['normalization']['norm_waveunit'] = 'um'\n",
    "      \n",
    "    # Set number of exposures and filter\n",
    "    calc['configuration']['detector']['nexp'] = nexp\n",
    "    calc['configuration']['instrument']['filter'] = filt\n",
    "\n",
    "    # Create an array of magnitudes range of interest\n",
    "    mag_range = np.arange(bracket[0], bracket[1]+1, 1)\n",
    "    # Create empty lists to save the computations\n",
    "    computed_snrs = []\n",
    "    # Compute the SNRs for a given magnitude\n",
    "    for m in range(len(mag_range)):\n",
    "        mag = mag_range[m]\n",
    "        calc['scene'][0]['spectrum']['normalization']['norm_flux'] = mag\n",
    "        report = perform_calculation(calc)\n",
    "        computed_snrs.append(report['scalar']['sn'])\n",
    "\n",
    "    return mag_range, computed_snrs\n",
    "\n",
    "def _mag2sn_(mag_range, computed_snrs, sntarget):\n",
    "    \"\"\"\n",
    "    Calculate a magnitude given a desired SNR by interpolating (computed_snrs, mag_range) from compute_mag\n",
    "    \n",
    "    Parameters\n",
    "    ----------\n",
    "    mag_range: float\n",
    "        An array of magnitudes used in calculating a range of SNRs in compute_mag\n",
    "    computed_snrs: float\n",
    "        An array of computed SNR given the mag_range using Pandeia calculation object\n",
    "    sntarget: float\n",
    "        Required S/N\n",
    "    \n",
    "    \"\"\"\n",
    "    interpolator = interpolate.interp1d(computed_snrs, mag_range)\n",
    "    mag = interpolator(sntarget)\n",
    "\n",
    "    return mag"
   ]
  },
  {
   "cell_type": "markdown",
   "id": "da7050ff-9bda-44a7-b2d7-5f7bf13716fc",
   "metadata": {},
   "source": [
    "For example, we can use the helper functions to calculate the limiting magnitude corresponding to SNR = 5 and the following observing setup:\n",
    "\n",
    "- Number of exposures: 10\n",
    "- Filter: F129 (defined earlier)"
   ]
  },
  {
   "cell_type": "code",
   "execution_count": null,
   "id": "644bb5db-2a20-4d99-9937-ed6f3c8ca4d7",
   "metadata": {},
   "outputs": [],
   "source": [
    "sn = 5\n",
    "nexp = 10\n",
    "\n",
    "# mag, report = compute_mag(FILTER, sn, nexp)\n",
    "mag_range, computed_snrs = compute_mag(FILTER, nexp)\n",
    "mag = _mag2sn_(mag_range, computed_snrs, sn)\n",
    "print(f'Estimated magnitude: {mag:.2f}')"
   ]
  },
  {
   "cell_type": "markdown",
   "id": "0a547b7c-34d7-4b83-be71-977700f6e244",
   "metadata": {},
   "source": [
    "### Determine Optimal Number of Exposures\n",
    "\n",
    "Now, let's assume that we want to reach a specific SNR when observing a target of known flux, and ask how many exposures we should take of the default MA table.\n",
    "\n",
    "The following helper functions use Pandeia to simulate a range of scenes with different numbers of exposures in order to estimate the optimal observing time to reach the expected limiting magnitude for a source with a given flux. As above, we assume a point source with a flat spetrum, and the MA table is set to the \"High Latitude Wide Area Survey - Imaging\" table, truncated to 5 resultants."
   ]
  },
  {
   "cell_type": "code",
   "execution_count": null,
   "id": "b363d0f3-a2f6-4953-b4cd-f90872639cce",
   "metadata": {},
   "outputs": [],
   "source": [
    "def _nexp2sn_(nexp, calc, sntarget):\n",
    "    \"\"\"\n",
    "    Optimize a S/N ratio given a number of exposures. This is a helper function\n",
    "    used as an argument for scipy's minimize_scalar() as used in compute_mag().\n",
    "    \n",
    "    Parameters\n",
    "    ----------\n",
    "    nexp : int\n",
    "        The number of exposures used in an iteration of minimize_scalar()\n",
    "    calc : \n",
    "        A Pandeia calculation object\n",
    "    sntarget : \n",
    "        Required S/N from the matching argument of compute_mag()\n",
    "    \"\"\"\n",
    "    calc['configuration']['detector']['nexp'] = int(nexp)\n",
    "    etc = perform_calculation(calc)['scalar']\n",
    "    \n",
    "    return (sntarget - etc['sn'])**2\n",
    "\n",
    "\n",
    "def compute_nexp(filt, sn, mag, bracket=(1, 1000), xtol=0.1):\n",
    "    \"\"\"\n",
    "    Method to compute the number of exposures from S/N and magnitude\n",
    " \n",
    "    Parameters\n",
    "    ----------\n",
    "    filt : str\n",
    "        Name of Roman WFI filter\n",
    "    sn : float\n",
    "        Required S/N\n",
    "    mag : float\n",
    "        AB Magnitude of source\n",
    "    bracket : tuple, default (1, 1000)\n",
    "        Range of magnitudes to test\n",
    "    xtold: float, default 0.1\n",
    "        Target tolerance for minimizer\n",
    " \n",
    "    Returns\n",
    "    -------\n",
    "    nexp : float\n",
    "        Optimal number of exposures for specified S/N and magnitude\n",
    "    report: dict\n",
    "        Pandeia dictionary with optimal parameters\n",
    "    exptime: float\n",
    "        Exposure time for optimal observation\n",
    "    \"\"\"\n",
    " \n",
    "    # Set up default Roman observation\n",
    "    calc = build_default_calc('roman', 'wfi', 'imaging')\n",
    " \n",
    "    # Modify defaults to place a source with an AB magnitude\n",
    "    calc['scene'][0]['spectrum']['normalization']['norm_flux'] = mag\n",
    "    calc['scene'][0]['spectrum']['normalization']['norm_fluxunit'] = 'abmag'\n",
    "    calc['scene'][0]['spectrum']['normalization']['norm_waveunit'] = 'um'\n",
    "      \n",
    "    # Set filter\n",
    "    calc['configuration']['instrument']['filter'] = filt\n",
    " \n",
    "    # Check that the minimum of 1 exposure has a S/N lower than requested,\n",
    "    # otherwise there is no sense in attempting to minimize nexp.\n",
    "    calc['configuration']['detector']['nexp'] = 1\n",
    "    report = perform_calculation(calc)\n",
    "    \n",
    "    if report['scalar']['sn'] > sn:\n",
    "        nexp = 1\n",
    "    else:\n",
    "        res = minimize_scalar(_nexp2sn_, bracket=bracket, bounds=bracket,\n",
    "                              args=(calc, sn), method='bounded',\n",
    "                              options={'xatol': xtol})\n",
    "        \n",
    "        # Take the optimization result and set it to nexp\n",
    "        # 'x' is the solution array in the optimization result object\n",
    "        # For more details on the minimize_scalar function, refer to https://docs.scipy.org/doc/scipy/reference/generated/scipy.optimize.minimize_scalar.html\n",
    "        nexp = int(res['x'])       \n",
    "        calc['configuration']['detector']['nexp'] = nexp\n",
    "        report = perform_calculation(calc)\n",
    " \n",
    "        # this generally returns a S/N less than the required amount.\n",
    "        # let's ensure that we get *AT LEAST* the required S/N for 2 reasons:\n",
    "        # 1) better to err on the side of caution\n",
    "        # 2) make code consistent with the above if clause\n",
    "        if report['scalar']['sn'] < sn:\n",
    "            nexp += 1\n",
    "             \n",
    "    exptime = report['scalar']['total_exposure_time']\n",
    "         \n",
    "    return nexp, report, exptime"
   ]
  },
  {
   "cell_type": "markdown",
   "id": "7687c324-debf-41b9-a586-8bc1d17696a3",
   "metadata": {},
   "source": [
    "For example, we can use the functions above to determine the optimal number of exposures to reach a SNR of 20 when observing a point source of magnitude 26 in the F129 band:"
   ]
  },
  {
   "cell_type": "code",
   "execution_count": null,
   "id": "bf43823b-777a-4b15-af60-15eef89d6106",
   "metadata": {},
   "outputs": [],
   "source": [
    "sn = 20.\n",
    "mag = 26.\n",
    " \n",
    "nexp, etc, exptime = compute_nexp(FILTER, sn, mag)\n",
    "print(f'number of exposures: {nexp}')\n",
    "print(f'actual S/N reached: {etc[\"scalar\"][\"sn\"]:.2f}')\n",
    "print(f'Exposure time: {exptime:.2f}')"
   ]
  },
  {
   "cell_type": "markdown",
   "id": "d9827124-20f4-46ec-b9eb-a1dbebad24f0",
   "metadata": {},
   "source": [
    "### Modifying the Spectral Energy Distribution\n",
    "\n",
    "While previous examples assume a point source with a flat SED, Pandeia also offers the ability to use a a variety of different shapes and spectral inputs. In the example below, we calculate the SNR for an A0V star (Phoenix model) of magnitude 25 AB, observed in the F129 band, with 3 exposures of the default MA table (\"High Latitude Wide Area Survey - Imaging\", truncated to 5 resultants). For more information on how to implement complex scenes with a variety of shapes and SEDs, please refer to the [JWST Tutorials](https://jwst-docs.stsci.edu/jwst-exposure-time-calculator-overview/jwst-etc-pandeia-engine-tutorial/pandeia-quickstart#PandeiaQuickstart-Samplecode)."
   ]
  },
  {
   "cell_type": "code",
   "execution_count": null,
   "id": "26569041-1670-4285-ab13-3a837523b078",
   "metadata": {},
   "outputs": [],
   "source": [
    "calc = build_default_calc('roman', 'wfi', 'imaging')\n",
    "\n",
    "nexp = 3\n",
    "calc['configuration']['detector']['nexp'] = nexp\n",
    "calc['configuration']['instrument']['filter'] = FILTER"
   ]
  },
  {
   "cell_type": "code",
   "execution_count": null,
   "id": "95a2da69-828a-4e0f-9c79-10de708b2f5e",
   "metadata": {},
   "outputs": [],
   "source": [
    "mag = 25\n",
    "calc['scene'][0]['spectrum']['normalization']['norm_flux'] = mag\n",
    "calc['scene'][0]['spectrum']['normalization']['norm_fluxunit'] = 'abmag'\n",
    " \n",
    "calc['scene'][0]['spectrum']['sed']['sed_type'] = 'phoenix'\n",
    "calc['scene'][0]['spectrum']['sed']['key'] = 'a0v'"
   ]
  },
  {
   "cell_type": "code",
   "execution_count": null,
   "id": "d42f91b9-9759-4254-a35d-c54f2b6dc872",
   "metadata": {},
   "outputs": [],
   "source": [
    "report = perform_calculation(calc)\n",
    "sn = report['scalar']['sn']\n",
    "print(f'Estimated S/N: {sn:.2f}')"
   ]
  },
  {
   "cell_type": "markdown",
   "id": "f3b4f34e-6dab-4d83-8f0e-0dc900c0e2b6",
   "metadata": {},
   "source": [
    "## Additional Resources\n",
    "\n",
    "- The Roman User Documentation's [\"Pandeia for Roman\"](https://roman-docs.stsci.edu/simulation-tools-handbook-home/pandeia-for-roman) page and associated overview.\n",
    "- Full API references for [Pandeia Engine inputs](https://outerspace.stsci.edu/display/PEN/Pandeia+Engine+Input+API) and [Pandeia Engine outputs](https://outerspace.stsci.edu/display/PEN/Pandeia+Engine+Output+API).\n",
    "- The [Roman Help Desk](https://roman-docs.stsci.edu/roman-help-desk-at-stsci), an official outlet for user questions about Pandeia.\n",
    "- [Pandeia JWST Tutorials](https://jwst-docs.stsci.edu/jwst-exposure-time-calculator-overview/jwst-etc-pandeia-engine-tutorial/pandeia-quickstart#PandeiaQuickstart-Samplecode)"
   ]
  },
  {
   "cell_type": "markdown",
   "id": "34407a8d-b357-40b9-b87f-eb1bd783f80a",
   "metadata": {
    "slideshow": {
     "slide_type": "slide"
    }
   },
   "source": [
    "## About this notebook\n",
    "\n",
    "**Author:** Justin Otor, Eunkyu Han      \n",
    "**Updated On:** 2024-09"
   ]
  },
  {
   "cell_type": "markdown",
   "id": "8f685f1a-0099-488e-8a05-578c67143729",
   "metadata": {},
   "source": [
    "***"
   ]
  },
  {
   "cell_type": "markdown",
   "id": "828cc7ad-e828-4c14-ad63-93468accbd6e",
   "metadata": {},
   "source": [
    "[Top of Page](#top)\n",
    "<img style=\"float: right;\" src=\"https://raw.githubusercontent.com/spacetelescope/notebooks/master/assets/stsci_pri_combo_mark_horizonal_white_bkgd.png\" alt=\"Space Telescope Logo\" width=\"200px\"/> "
   ]
  }
 ],
 "metadata": {
  "kernelspec": {
   "display_name": "Roman Calibration latest (2024-03-25)",
   "language": "python",
   "name": "roman-cal"
  },
  "language_info": {
   "codemirror_mode": {
    "name": "ipython",
    "version": 3
   },
   "file_extension": ".py",
   "mimetype": "text/x-python",
   "name": "python",
   "nbconvert_exporter": "python",
   "pygments_lexer": "ipython3",
   "version": "3.11.9"
  }
 },
 "nbformat": 4,
 "nbformat_minor": 5
}
