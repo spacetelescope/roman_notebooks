{
 "cells": [
  {
   "cell_type": "markdown",
   "id": "0290a873-1aa5-4a61-8fa6-5e835c23ecfb",
   "metadata": {
    "slideshow": {
     "slide_type": "slide"
    }
   },
   "source": [
    "# Pandeia Tutorial"
   ]
  },
  {
   "cell_type": "markdown",
   "id": "2e56a935-ade2-4948-afcf-757efe5be8e5",
   "metadata": {
    "slideshow": {
     "slide_type": "skip"
    }
   },
   "source": [
    "***"
   ]
  },
  {
   "cell_type": "markdown",
   "id": "69496441-f1c0-4325-b125-8f23397e7dc5",
   "metadata": {
    "slideshow": {
     "slide_type": "slide"
    }
   },
   "source": [
    "## Kernel Information\n",
    "\n",
    "To run this notebook, please select the \"Roman Calibration\" kernel at the top right of your window.\n",
    "\n",
    "## Introduction\n",
    "\n",
    "**Pandeia** is a high-fidelity exposure time calculator developed by STScI to characterize optimal observing setups for user-created astronomical scenes. It supports the Roman Wide Field Instrument (WFI) as well as the James Webb Space Telescope's full complement of instruments.\n",
    "\n",
    "Due to the complexity of its simulations, Pandeia is best used on scenes that encompass ~5% of a single WFI detector. (To simulate larger areas, see the STIPS notebook tutorial.)\n",
    "\n",
    "This notebook walks through brief examples of common use cases.\n",
    "\n",
    "## Imports\n",
    "\n",
    "Besides the Pandeia-related imports, we will use `scipy.optimize.minimize_scalar` to help with optimizing signal-to-noise ratios (SNRs), `scipy.interpolate.interp1d` to calculate a desired target magnitude for a given observing setup and `numpy` to handle numerical computing."
   ]
  },
  {
   "cell_type": "code",
   "execution_count": 1,
   "id": "b96c3c70-16d1-4349-8904-00f3828d4f79",
   "metadata": {},
   "outputs": [],
   "source": [
    "from pandeia.engine.calc_utils import build_default_calc\n",
    "from pandeia.engine.perform_calculation import perform_calculation\n",
    "from scipy.optimize import minimize_scalar\n",
    "from scipy import interpolate\n",
    "import numpy as np"
   ]
  },
  {
   "cell_type": "markdown",
   "id": "b6865f31-258d-4cf6-a6a0-1dae41773b02",
   "metadata": {},
   "source": [
    "We set `FILTER` as global variable before beginning since all examples make use of the same F129 imaging filter. Please note that Pandeia's filter definition is case-sensitive and will only take lower-case letters for filter names. "
   ]
  },
  {
   "cell_type": "code",
   "execution_count": 2,
   "id": "eb47af89-3fc1-4984-b28a-06e0edf6cee4",
   "metadata": {},
   "outputs": [],
   "source": [
    "FILTER = 'f129'     # Pandeia's filter definitaion is case-sensitive and will only take lower-case letters for filter names "
   ]
  },
  {
   "cell_type": "markdown",
   "id": "2f82fc6f-2cec-4d5b-bd20-fc7d2e8594e8",
   "metadata": {},
   "source": [
    "***"
   ]
  },
  {
   "cell_type": "markdown",
   "id": "8971f3b8-7c8c-4c4e-8f13-756d9597949c",
   "metadata": {},
   "source": [
    "## Examples"
   ]
  },
  {
   "cell_type": "markdown",
   "id": "c4088527-cb26-4dee-999d-76a9803e9997",
   "metadata": {},
   "source": [
    "### Calculate a Scene's Signal-to-Noise Ratio\n",
    "\n",
    "In this first example, we calculate the expected SNR for a point source with a flat spectral distribution (default target) normalized to 25 AB magnitudes. We place the source on Detector #1 (internally: WFI01) and take three exposures in band F129 with the multi-accumulation (MA) table \"im_135_8\", with no truncation (139.1487 seconds of total exposure time). MA tables describe the sequence of individual reads that are combined into resultants and comprise the up-the-ramp sampling during a single exposure of the WFI detectors. For more information on the WFI detectors, please refer to the RDox documentation on [WFI](https://roman-docs.stsci.edu/roman-instruments-home/wfi-imaging-mode-user-guide/wfi-design/description-of-wfi) and for the MA tables, please refer to the RDox documentation on [MA tables](https://roman-docs.stsci.edu/raug/astronomers-proposal-tool-apt/appendix/appendix-wfi-multiaccum-tables).\n",
    "\n",
    "We first create a default calculation using Pandeia's built-in function `build_default_calc(<telescope>, <instrument>, <mode>)`: "
   ]
  },
  {
   "cell_type": "code",
   "execution_count": 3,
   "id": "41bf5746-e8c1-41ee-8f64-9af598d13022",
   "metadata": {},
   "outputs": [],
   "source": [
    "calc = build_default_calc('roman', 'wfi', 'imaging')        # Creating a default calculation using Roman's WFI with an imaing mode"
   ]
  },
  {
   "cell_type": "markdown",
   "id": "d8036f34",
   "metadata": {},
   "source": [
    "Let's take a look at how the default calculation is set up:"
   ]
  },
  {
   "cell_type": "code",
   "execution_count": null,
   "id": "a48d0642",
   "metadata": {},
   "outputs": [],
   "source": [
    "print(calc)                                                 # Print the default calculation"
   ]
  },
  {
   "cell_type": "markdown",
   "id": "013b4561",
   "metadata": {},
   "source": [
    "The `build_default_calc` created a scene with a single point source to observe with SCA01, F158 filter, \"im_135_8\" MA table, with no truncatation, and with a single exposure. With the WFI, an exposure refers to a single multi-accum sequence of the detector array at a single dither point in the dither pattern. Next, we define the observing setup and make some changes to the default setting:"
   ]
  },
  {
   "cell_type": "code",
   "execution_count": 5,
   "id": "d5cdd524",
   "metadata": {},
   "outputs": [],
   "source": [
    "calc['configuration']['instrument']['filter'] = FILTER      # Setting the filter to F129\n",
    "calc['configuration']['detector']['nexp'] = 3               # Taking three exposures of multi-accum sequence\n",
    "calc['configuration']['detector']['nresultants'] = 9        # Truncate after 9 resultant"
   ]
  },
  {
   "cell_type": "markdown",
   "id": "1beda2d0-1fa3-4b88-8f4d-ff6f9d9416f2",
   "metadata": {},
   "source": [
    "Next, we change the default point source flux to 25 AB magnitudes:"
   ]
  },
  {
   "cell_type": "code",
   "execution_count": null,
   "id": "d4a78b80-ce4f-4840-9a28-1426b9bb5925",
   "metadata": {},
   "outputs": [],
   "source": [
    "MAG = 25\n",
    "calc['scene'][0]['spectrum']['normalization']['norm_flux'] = MAG\n",
    "calc['scene'][0]['spectrum']['normalization']['norm_fluxunit'] = 'abmag'"
   ]
  },
  {
   "cell_type": "markdown",
   "id": "55f5d8ac-126c-4b94-acd6-c26d9bfd63ac",
   "metadata": {},
   "source": [
    "Finally, we perform the signal to noise calculation using Pandeia's another built-in function `perform_calculation` and print the result:"
   ]
  },
  {
   "cell_type": "code",
   "execution_count": null,
   "id": "b2d7797c-fa09-49bd-a4e2-3363f6f97358",
   "metadata": {},
   "outputs": [],
   "source": [
    "report = perform_calculation(calc)\n",
    "sn = report['scalar']['sn']\n",
    "print(f'Estimated S/N: {sn:.2f}')"
   ]
  },
  {
   "attachments": {},
   "cell_type": "markdown",
   "id": "44c3825c-ea41-4270-9a8a-b4f347cc59ca",
   "metadata": {},
   "source": [
    "Note that this step may generate a WARNING from synphot that the spectrum is extrapolated, which can be ignored.\n",
    "\n",
    "Running Pandeia for Roman may return a warning such as: `if np.log(abs(val)) < -1*precision and val != 0.0`. This is related to a JWST-specific test for float precision, and can be ignored."
   ]
  },
  {
   "cell_type": "markdown",
   "id": "d61559f5-68b1-40f3-8f80-7edab8f332bb",
   "metadata": {},
   "source": [
    "### Calculating Magnitude and Optimizing Exposures for Roman WFI Simulations\n",
    "\n",
    "For the next example, we begin by determining the corresponding magnitude for a given signal-to-noise ratio (SNR) and setup parameters. Next, we extend this analysis to calculate the optimal number of exposures required to reach a target SNR for a given source flux.\n",
    "\n",
    "The following helper functions use Pandeia to simulate a range of scenes at different magnitudes in order to estimate the corresponding magnitude for a given SNR and a number of exposures. As above, we assume a point source with a flat spectrum, and the MA table is set to the \"im_135_8\" table but this time without any truncation."
   ]
  },
  {
   "cell_type": "markdown",
   "id": "81aa2576-4638-481b-9978-bf96cd285b10",
   "metadata": {},
   "source": [
    "#### Step 1: Calculating Corresponding Magnitude for a Given Setup\n",
    "\n",
    "In the first step, we estimate the limiting magnitude for a point source at a desired SNR. This involves iterating over a range of magnitudes, computing the SNR for each, and interpolating the results to determine the magnitude corresponding to the target SNR. The observing parameters include the number of exposures and a specified filter.\n",
    "\n",
    "Example Use Case:\n",
    "\n",
    "SNR = <span style=\"color:red\">5</p>\n",
    "\n",
    "Number of exposures = <span style=\"color:red\">10</p>\n",
    "\n",
    "Filter = <span style=\"color:red\">F129</p>"
   ]
  },
  {
   "cell_type": "code",
   "execution_count": 10,
   "id": "e6e68758-cef5-471b-89f1-0877c1d64b26",
   "metadata": {},
   "outputs": [],
   "source": [
    "def compute_mag(filt, nexp, bracket=(18, 30)):\n",
    "    \"\"\"\n",
    "    Method to compute the magnitude from S/N and number of exposures\n",
    " \n",
    "    Parameters\n",
    "    ----------\n",
    "    filt : str\n",
    "        Name of Roman WFI filter\n",
    "    nexp : int\n",
    "        Number of exposures\n",
    "    bracket : tuple\n",
    "        Range of magnitudes to test. default: (18, 30)\n",
    "\n",
    " \n",
    "    Returns\n",
    "    -------\n",
    "    mag_range : float\n",
    "        An array of magnitudes used to compute the SNRs\n",
    "    computed_snrs: float\n",
    "        An array of computed SNRs from Pandeia calculations\n",
    "    \"\"\"\n",
    " \n",
    "    # Set up default Roman observation\n",
    "    calc = build_default_calc('roman', 'wfi', 'imaging')\n",
    " \n",
    "    # Modify defaults to place a source with an AB magnitude\n",
    "    calc['scene'][0]['spectrum']['normalization']['norm_fluxunit'] = 'abmag'\n",
    "    calc['scene'][0]['spectrum']['normalization']['norm_waveunit'] = 'um'\n",
    "      \n",
    "    # Set number of exposures and filter\n",
    "    calc['configuration']['detector']['nexp'] = nexp\n",
    "    calc['configuration']['instrument']['filter'] = filt\n",
    "\n",
    "    # Create an array of magnitudes range of interest\n",
    "    mag_range = np.arange(bracket[0], bracket[1]+1, 1)\n",
    "    # Create empty lists to save the computations\n",
    "    computed_snrs = []\n",
    "    # Compute the SNRs for a given magnitude\n",
    "    for m in range(len(mag_range)):\n",
    "        mag = mag_range[m]\n",
    "        calc['scene'][0]['spectrum']['normalization']['norm_flux'] = mag\n",
    "        report = perform_calculation(calc)\n",
    "        computed_snrs.append(report['scalar']['sn'])\n",
    "\n",
    "    return mag_range, computed_snrs\n",
    "\n",
    "def _mag2sn_(mag_range, computed_snrs, sntarget):\n",
    "    \"\"\"\n",
    "    Calculate a magnitude given a desired SNR by interpolating (computed_snrs, mag_range) from compute_mag\n",
    "    \n",
    "    Parameters\n",
    "    ----------\n",
    "    mag_range: float\n",
    "        An array of magnitudes used in calculating a range of SNRs in compute_mag\n",
    "    computed_snrs: float\n",
    "        An array of computed SNR given the mag_range using Pandeia calculation object\n",
    "    sntarget: float\n",
    "        Required S/N\n",
    "    \n",
    "    \"\"\"\n",
    "    interpolator = interpolate.interp1d(computed_snrs, mag_range)\n",
    "    mag = interpolator(sntarget)\n",
    "\n",
    "    return mag"
   ]
  },
  {
   "cell_type": "code",
   "execution_count": null,
   "id": "644bb5db-2a20-4d99-9937-ed6f3c8ca4d7",
   "metadata": {},
   "outputs": [],
   "source": [
    "SN = 5\n",
    "NEXP = 10\n",
    "\n",
    "# Run minimizer function to estimate the magnitude given sn and nexp\n",
    "mag_range, computed_snrs = compute_mag(FILTER, NEXP)\n",
    "mag = _mag2sn_(mag_range, computed_snrs, SN)\n",
    "print(f'Estimated magnitude: {mag:.2f}')"
   ]
  },
  {
   "cell_type": "markdown",
   "id": "d0d5a005-0cec-4288-9602-38e328e432d0",
   "metadata": {},
   "source": [
    "#### Step 2: Determining Optimal Number of Exposures\n",
    "With the magnitude determined, we then calculate the optimal number of exposures required to achieve a specified SNR for a known flux. This is done by simulating observations with varying numbers of exposures, identifying the minimum exposure count necessary to meet or exceed the target SNR. This ensures efficient use of telescope time while maintaining data quality.\n",
    "\n",
    "The following helper functions use Pandeia to simulate a range of scenes with different numbers of exposures in order to estimate the optimal observing time to reach the expected limiting magnitude for a source with a given flux. As above, we assume a point source with a flat spetrum, and the MA table is set to the \"c2a_img_hlwas\" table, truncated to 8 resultants.\n",
    "\n",
    "Example Use Case:\n",
    "\n",
    "SNR = <span style=\"color:red\">20</span>\n",
    "\n",
    "Magnitude = <span style=\"color:red\">26.84</span> (calculated from above, or known)\n",
    "\n",
    "Filter = <span style=\"color:red\">F129</span>"
   ]
  },
  {
   "cell_type": "code",
   "execution_count": null,
   "id": "b363d0f3-a2f6-4953-b4cd-f90872639cce",
   "metadata": {},
   "outputs": [],
   "source": [
    "def _nexp2sn_(nexp, calc, sntarget):\n",
    "    \"\"\"\n",
    "    Optimize a S/N ratio given a number of exposures. This is a helper function\n",
    "    used as an argument for scipy's minimize_scalar() as used in compute_mag().\n",
    "    \n",
    "    Parameters\n",
    "    ----------\n",
    "    nexp : int\n",
    "        The number of exposures used in an iteration of minimize_scalar()\n",
    "    calc : \n",
    "        A Pandeia calculation object\n",
    "    sntarget : \n",
    "        Required S/N from the matching argument of compute_mag()\n",
    "    \"\"\"\n",
    "    calc['configuration']['detector']['nexp'] = int(nexp)\n",
    "    etc = perform_calculation(calc)['scalar']\n",
    "    \n",
    "    return (sntarget - etc['sn'])**2\n",
    "\n",
    "\n",
    "def compute_nexp(filt, sn, mag, bracket=(1, 1000), xtol=0.1):\n",
    "    \"\"\"\n",
    "    Method to compute the number of exposures from S/N and magnitude\n",
    " \n",
    "    Parameters\n",
    "    ----------\n",
    "    filt : str\n",
    "        Name of Roman WFI filter\n",
    "    sn : float\n",
    "        Required S/N\n",
    "    mag : float\n",
    "        AB Magnitude of source\n",
    "    bracket : tuple, default (1, 1000)\n",
    "        Range of magnitudes to test\n",
    "    xtold: float, default 0.1\n",
    "        Target tolerance for minimizer\n",
    " \n",
    "    Returns\n",
    "    -------\n",
    "    nexp : float\n",
    "        Optimal number of exposures for specified S/N and magnitude\n",
    "    report: dict\n",
    "        Pandeia dictionary with optimal parameters\n",
    "    exptime: float\n",
    "        Exposure time for optimal observation\n",
    "    \"\"\"\n",
    " \n",
    "    # Set up default Roman observation\n",
    "    calc = build_default_calc('roman', 'wfi', 'imaging')\n",
    " \n",
    "    # Modify defaults to place a source with an AB magnitude\n",
    "    calc['scene'][0]['spectrum']['normalization']['norm_flux'] = mag\n",
    "    calc['scene'][0]['spectrum']['normalization']['norm_fluxunit'] = 'abmag'\n",
    "    calc['scene'][0]['spectrum']['normalization']['norm_waveunit'] = 'um'\n",
    "      \n",
    "    # Set filter\n",
    "    calc['configuration']['instrument']['filter'] = filt\n",
    " \n",
    "    # Check that the minimum of 1 exposure has a S/N lower than requested,\n",
    "    # otherwise there is no sense in attempting to minimize nexp.\n",
    "    calc['configuration']['detector']['nexp'] = 1\n",
    "    calc['configuration']['detector']['nresultants'] = 8\n",
    "    report = perform_calculation(calc)\n",
    "    \n",
    "    if report['scalar']['sn'] > sn:\n",
    "        nexp = 1\n",
    "    else:\n",
    "        res = minimize_scalar(_nexp2sn_, bracket=bracket, bounds=bracket,\n",
    "                              args=(calc, sn), method='bounded',\n",
    "                              options={'xatol': xtol})\n",
    "        \n",
    "        # Take the optimization result and set it to nexp\n",
    "        # 'x' is the solution array in the optimization result object\n",
    "        # For more details on the minimize_scalar function, refer to https://docs.scipy.org/doc/scipy/reference/generated/scipy.optimize.minimize_scalar.html\n",
    "        nexp = int(res['x'])       \n",
    "        calc['configuration']['detector']['nexp'] = nexp\n",
    "        report = perform_calculation(calc)\n",
    " \n",
    "        # this generally returns a S/N less than the required amount.\n",
    "        # let's ensure that we get *AT LEAST* the required S/N for 2 reasons:\n",
    "        # 1) better to err on the side of caution\n",
    "        # 2) make code consistent with the above if clause\n",
    "        if report['scalar']['sn'] < sn:\n",
    "            nexp += 1\n",
    "            # Re-calculate\n",
    "            calc['configuration']['detector']['nexp'] = nexp\n",
    "            report = perform_calculation(calc)\n",
    "\n",
    "             \n",
    "    exptime = report['scalar']['total_exposure_time']\n",
    "         \n",
    "    return nexp, report, exptime"
   ]
  },
  {
   "cell_type": "markdown",
   "id": "7687c324-debf-41b9-a586-8bc1d17696a3",
   "metadata": {},
   "source": [
    "For example, we can use the functions above to determine the optimal number of exposures to reach a SNR of 20 when observing a point source of magnitude 26.84 in the F129 band:"
   ]
  },
  {
   "cell_type": "code",
   "execution_count": null,
   "id": "bf43823b-777a-4b15-af60-15eef89d6106",
   "metadata": {},
   "outputs": [],
   "source": [
    "SN = 20.\n",
    "MAG = 26.84\n",
    " \n",
    "nexp, etc, exptime = compute_nexp(FILTER, SN, MAG)\n",
    "print(f'number of exposures: {nexp}')\n",
    "print(f'actual S/N reached: {etc[\"scalar\"][\"sn\"]:.2f}')\n",
    "print(f'Exposure time: {exptime:.2f}')"
   ]
  },
  {
   "cell_type": "markdown",
   "id": "d9827124-20f4-46ec-b9eb-a1dbebad24f0",
   "metadata": {},
   "source": [
    "### Modifying the Spectral Energy Distribution\n",
    "\n",
    "While previous examples assume a point source with a flat SED, Pandeia also offers the ability to use a a variety of different shapes and spectral inputs. In the example below, we calculate the SNR for an A0V star (Phoenix model) of magnitude 25 AB, observed in the F129 band, with 3 exposures of the default MA table (\"im_135_8\", with no truncation). For more information on how to implement complex scenes with a variety of shapes and SEDs, please refer to the [JWST Tutorials](https://jwst-docs.stsci.edu/jwst-exposure-time-calculator-overview/jwst-etc-pandeia-engine-tutorial/pandeia-quickstart#PandeiaQuickstart-Samplecode)."
   ]
  },
  {
   "cell_type": "code",
   "execution_count": null,
   "id": "26569041-1670-4285-ab13-3a837523b078",
   "metadata": {},
   "outputs": [],
   "source": [
    "calc = build_default_calc('roman', 'wfi', 'imaging')\n",
    "\n",
    "NEXP = 3\n",
    "calc['configuration']['detector']['nexp'] = NEXP\n",
    "calc['configuration']['instrument']['filter'] = FILTER"
   ]
  },
  {
   "cell_type": "code",
   "execution_count": null,
   "id": "95a2da69-828a-4e0f-9c79-10de708b2f5e",
   "metadata": {},
   "outputs": [],
   "source": [
    "MAG = 25\n",
    "calc['scene'][0]['spectrum']['normalization']['norm_flux'] = MAG\n",
    "calc['scene'][0]['spectrum']['normalization']['norm_fluxunit'] = 'abmag'\n",
    " \n",
    "calc['scene'][0]['spectrum']['sed']['sed_type'] = 'phoenix'\n",
    "calc['scene'][0]['spectrum']['sed']['key'] = 'a0v'"
   ]
  },
  {
   "cell_type": "code",
   "execution_count": null,
   "id": "d42f91b9-9759-4254-a35d-c54f2b6dc872",
   "metadata": {},
   "outputs": [],
   "source": [
    "report = perform_calculation(calc)\n",
    "sn = report['scalar']['sn']\n",
    "print(f'Estimated S/N: {sn:.2f}')"
   ]
  },
  {
   "cell_type": "markdown",
   "id": "33e9c5ee-f41c-4fc0-a9ea-ce4344c1b116",
   "metadata": {},
   "source": [
    "### Observing NGC2506-G31 with Roman WFI\n",
    "\n",
    "In this example, we show a real science case using NGC2506-G31, a G1V standard star that is used as a cross-mission calibration standard for both JWST and HST observations. We would like to see if Roman can observe the same star and if so, with which observing setup. We are interested in placing the star on SCA11. "
   ]
  },
  {
   "cell_type": "code",
   "execution_count": null,
   "id": "8222af0a-127e-4acd-9214-296f2f93e05c",
   "metadata": {},
   "outputs": [],
   "source": [
    "calc = build_default_calc('roman', 'wfi', 'imaging')        # Creating a default calculation using Roman's WFI with an imaing mode\n",
    "\n",
    "calc['configuration']['instrument']['filter'] = FILTER      # Setting the filter to F129\n",
    "calc['configuration']['instrument']['detector'] = 'wfi11'   # Setting the detector fo WFI11\n",
    "calc['configuration']['detector']['nexp'] = 1               # Taking one exposure of multi-accum sequence\n",
    "\n",
    "calc['configuration']['detector']['ma_table_name'] = 'im_135_8'    # Using the default MA table\n",
    "calc['configuration']['detector']['nresultants'] = -1       # No truncation of the MA table\n",
    "\n",
    "\n",
    "# Setting up the source SED\n",
    "calc['scene'][0]['spectrum']['sed']['sed_type'] = 'phoenix'\n",
    "calc['scene'][0]['spectrum']['sed']['key'] = 'g2v'          # Using the closest spectral type available to G1V\n",
    "\n",
    "\n",
    "# Setting up the normalization parameters\n",
    "calc['scene'][0]['spectrum']['normalization']['type'] = 'photsys'\n",
    "calc['scene'][0]['spectrum']['normalization']['norm_flux'] = 16.260     # K-band magnitude of the source\n",
    "calc['scene'][0]['spectrum']['normalization']['norm_fluxunit'] = 'vegamag'\n",
    "calc['scene'][0]['spectrum']['normalization']['bandpass'] = '2mass,ks'\n",
    "\n",
    "\n",
    "# Run the calculation\n",
    "report = perform_calculation(calc)"
   ]
  },
  {
   "cell_type": "markdown",
   "id": "b9c01070-2eed-4e3c-8d92-70c749726232",
   "metadata": {},
   "source": [
    "With the calculation ran, we would like to check to see if there are any warning messages from the report. You can access the warnings through the the \"warnings\" dictionary. "
   ]
  },
  {
   "cell_type": "code",
   "execution_count": null,
   "id": "8caa3387-f783-46c8-b5b4-5ccf4b781197",
   "metadata": {},
   "outputs": [],
   "source": [
    "print(report['warnings'])"
   ]
  },
  {
   "cell_type": "markdown",
   "id": "49d23740-edb9-4cd9-9713-65a842c79d0a",
   "metadata": {},
   "source": [
    "We see that there is a pixel that is partially saturated. If you are concerned that there is a partially saturated pixel, you can check the report to see what the maximum number of resultants is to avoid having the brighest pixel on the detector getting saturated. You can access this information through the \"sat_nresultants\" key within the \"scalar\" dictionary."
   ]
  },
  {
   "cell_type": "code",
   "execution_count": null,
   "id": "18beff8e-083e-4aec-917a-eff5e7bf0c6a",
   "metadata": {},
   "outputs": [],
   "source": [
    "print(report['scalar']['sat_nresultants'])"
   ]
  },
  {
   "cell_type": "markdown",
   "id": "d0ba4335-57bb-444b-94b3-bb3afda85a06",
   "metadata": {},
   "source": [
    "Let's check manually that it indeed is nresultant=5. The maximum nresultant for \"im_135_8\" MA table is 7 and we will calculate backward, from no truncation to incremented truncation. "
   ]
  },
  {
   "cell_type": "code",
   "execution_count": null,
   "id": "6f050b9e-ddf1-40cc-b1c5-dbb388b102f4",
   "metadata": {},
   "outputs": [],
   "source": [
    "for n in reversed(range(10)):\n",
    "    # Check to see if there is any warning message about the saturation (both partial and full)\n",
    "    # Stop the loop if the saturation warning no longer exists\n",
    "    # Adding 1 for the resultant because python indexing starts with 0. \n",
    "    resultant = n + 1\n",
    "    calc['configuration']['detector']['nresultants'] = resultant\n",
    "    report = perform_calculation(calc)\n",
    "    partial = report['warnings'].get('partial_saturated')\n",
    "    full = report['warnings'].get('full_saturated')\n",
    "\n",
    "    if (partial == None) and (full == None):\n",
    "        nresultant = resultant\n",
    "        print(f'No saturation happens with resultant {nresultant}')\n",
    "        break"
   ]
  },
  {
   "cell_type": "markdown",
   "id": "81bcdfa5-3bc8-4677-a05c-2053411a7fab",
   "metadata": {},
   "source": [
    "The answer turns out to be 5 indeed. \n",
    "\n",
    "Although we know the actual coordinate of this star, Pandeia engine does not support a simulation at a specific location or time\n",
    "as the engine comes with canned backgrounds at the locations that are representative locations for the footprints of three Core Community Surveys (see the RDox on the [Background Models in the Roman WFI ETC](https://roman-docs.stsci.edu/roman-instruments/wfi-imaging-mode-user-guide/observing-with-the-wfi-in-imaging-mode/considerations-of-backgrounds-for-roman-wfi-observations) section for more details). If you would like to see how the SNR changes with time at the specific location of this star, you have to use the web application of the ETC that is available at the [Roman WFI ETC](roman.etc.stsci.edu).\n",
    "\n"
   ]
  },
  {
   "cell_type": "markdown",
   "id": "0e525da6",
   "metadata": {},
   "source": [
    "### Modifying the Background\n",
    "Pandeia defines the background using 2 values in the configuration dictionary: background and background_level. Combination of these two values determines whether a pre-computed background data (the canned background) or a user-supplied background data (custom background) is used. As of Pandeia version version 2025.9, the default values used by the engine are hlwas-medium_field1 for the background and medium for the background_level. \n",
    "\n",
    "#### Canned Backgrounds \n",
    "The engine is shipped with a set of pre-computed backgrounds that are generated by the Roman Backgrounds Tool (RBT) at various locations within the 3 Core Community Surveys (CCS). Please refer to the [Pandeia Engine & Roman Interactive Sensitivity Tool (RIST)](https://roman-docs.stsci.edu/roman-instruments/wfi-imaging-mode-user-guide/observing-with-the-wfi-in-imaging-mode/considerations-of-backgrounds-for-roman-wfi-observations) section in Considerations of Backgrounds for Roman WFI Observations for the details. The followings are valid values for the background configuration dictionaries:\n",
    "\n",
    "- calc['background']\n",
    "    - hlwas-medium_field1\n",
    "    - hlwas-medium_field2\n",
    "    - hlwas-wide_field1\n",
    "    - hlwas-wide_field2\n",
    "    - hlwas-wide_field3\n",
    "    - hlwas-wide_field4\n",
    "    - hltds\n",
    "    - gbtds_mid_5stripe\n",
    "- calc['background_level']\n",
    "    - low\n",
    "    - medium (for hltds, only this background level is available)\n",
    "    - high\n",
    "\n",
    "In the code below, we show how to set up the imaging observation and change the background and level to  'hltds' and  'medium', respectively."
   ]
  },
  {
   "cell_type": "code",
   "execution_count": null,
   "id": "ea2f91b9",
   "metadata": {},
   "outputs": [],
   "source": [
    "from pandeia.engine.perform_calculation import perform_calculation\n",
    "from pandeia.engine.calc_utils import build_default_calc\n",
    "   \n",
    "# Get Default Parameters\n",
    "calc = build_default_calc('roman', 'wfi', 'imaging')\n",
    " \n",
    "# Update the background model to a different set\n",
    "calc['background'] = 'hltds'\n",
    "calc['background_level'] = 'medium'"
   ]
  },
  {
   "cell_type": "markdown",
   "id": "0ac537ed",
   "metadata": {},
   "source": [
    "#### Custom Backgrounds \n",
    "If you are interested in exploring the observing setup with background other than the pre-computed canned backgrounds, you can either use the RBT (available on the Roman Research Nexus) to generate the background or download a calculation from the [web ETC](roman.etc.stsci.edu) (available as a tar file in the ***Downloads*** tab under the ***Reports*** pane) where you will find 'background.fits' file to import from the engine. The custom background needs to be defined as a list containing the wavelength and flux arrays, denoted by square brackets, and set to the background. The background_level key will be ignored by the engine. The code below shows how to define the custom background in the engine using the background.fits file from the web ETC."
   ]
  },
  {
   "cell_type": "code",
   "execution_count": null,
   "id": "b43b0190",
   "metadata": {},
   "outputs": [],
   "source": [
    "from pandeia.engine.perform_calculation import perform_calculation\n",
    "from pandeia.engine.calc_utils import build_default_calc\n",
    "from astropy.io import fits\n",
    "   \n",
    "# Get Default Parameters\n",
    "calc = build_default_calc('roman', 'wfi', 'imaging')\n",
    " \n",
    "# Read the background.fits file from the web ETC\n",
    "bg_data = fits.open('backgrounds.fits')\n",
    "bg_wvl = bg_data[1].data['wavelength']\n",
    "bg_flux = bg_data[1].data['background']\n",
    " \n",
    "# Define the custom background\n",
    "custom_bg = [bg_wvl, bg_flux]\n",
    "calc['background'] = custom_bg\n",
    " \n",
    "# Perform the calculation\n",
    "report = perform_calculation(calc)"
   ]
  },
  {
   "cell_type": "markdown",
   "id": "62c45d51",
   "metadata": {},
   "source": [
    "Here, we show how to generate a custom background using the RBT and supply it to the engine. The code will simulate a background spectrum at a specific coordinate (RA = 34.5656 & Dec = -52.6140, both in decimal degrees) and wavelength (0.6291 microns). Then you can choose the specific observable day to supply to the engine and save it if needed. Note that RBT considers 366 calendar days in a year with Day 0 corresponding to Jan 1. In this example, we will look at the first observable day in the year. "
   ]
  },
  {
   "cell_type": "code",
   "execution_count": null,
   "id": "27f90f85",
   "metadata": {},
   "outputs": [],
   "source": [
    "from pandeia.engine.perform_calculation import perform_calculation\n",
    "from pandeia.engine.calc_utils import build_default_calc\n",
    "from roman_backgrounds import rbt\n",
    "from astropy import units as u\n",
    "from astropy.coordinates import SkyCoord\n",
    " \n",
    "# Define the coordinates\n",
    "ra = 34.5656 # in degrees\n",
    "dec = -52.6140 # in degrees\n",
    "wavelength = 0.6291 # in microns\n",
    "threshold = 1.5 # A cut off value above the minimum background, to calculate number of good days.\n",
    " \n",
    "# Create the RBT instance\n",
    "bg = rbt.background(ra, dec, wavelength, thresh=threshold)\n",
    " \n",
    "# Look at the all available observable days\n",
    "good_days = bg.bkg_data['calendar']\n",
    " \n",
    "# Define the day to look at the background spectrum for the target\n",
    "this_day = good_days[0]\n",
    " \n",
    "# Define the background spectrum\n",
    "bg_wvl = bg.bkg_data['wave_array']\n",
    "bg_flux = bg.bkg_data['total_bg'][this_day]\n",
    " \n",
    "   \n",
    "# Get Default Parameters\n",
    "calc = build_default_calc('roman', 'wfi', 'imaging')\n",
    " \n",
    "# Set the background configuration dictionary to the RBT-supplied background spectrum\n",
    "calc['background'] = [bg_wvl, bg_flux]\n",
    " \n",
    "# Save the background spectrum to a file\n",
    "bg.write_background(thisday=this_day, background_file = your_filename)\n",
    " \n",
    "# Perform the calculation\n",
    "report = perform_calculation(calc)"
   ]
  },
  {
   "cell_type": "markdown",
   "id": "a2ead35f",
   "metadata": {},
   "source": [
    "#### Importing input.json from the Web ETC into the Pandeia engine \n",
    "For calculations that completed successfully, the Web ETC provides a downloadable tar file in the ***Downloads*** tab in the ***Reports*** pane that contains useful products for additional offline analysis. One of the files contains the input configurations for the calculation in a json file (input.json). In this example, we show how to read in the input.json file in Pandeia and re-run the calculation again. "
   ]
  },
  {
   "cell_type": "code",
   "execution_count": null,
   "id": "19e3f12d",
   "metadata": {},
   "outputs": [],
   "source": [
    "from pandeia.engine import perform_calculation\n",
    "import json\n",
    "from textwrap import wrap\n",
    " \n",
    "calculation = \"input.json\"\n",
    "# load the JSON file\n",
    "with open(calculation,'r') as calcfile:\n",
    "    calc = json.load(calcfile)\n",
    " \n",
    "    # run the calculation\n",
    "    result = perform_calculation.perform_calculation(calc)\n",
    " \n",
    "    # Extract the pretty-printed web report\n",
    "    report = result['web_report']\n",
    " \n",
    "# Formatted output\n",
    "print(\"-\"*30 + \"\\033[1m RESULTS \\033[0m\" + \"-\"*30)\n",
    "for category in report:\n",
    "    # ANSI Pretty-print the report categories and apply word wrapping\n",
    "    print(\"\\033[1m\" + category[\"category\"] + \"\\033[0m\")\n",
    "    print('-'*len(category[\"category\"]))\n",
    "    for item in category[\"items\"]:\n",
    "        if \"value\" in item:\n",
    "            namelist =  wrap(item[\"name\"], width=36, subsequent_indent=\"    \")\n",
    "            if \"indent\" in item and item[\"indent\"]:\n",
    "                namelist[-1] = \"    \" + namelist[-1]\n",
    "            for i in range(len(namelist)-1):\n",
    "                print(f\"{namelist[i]:<36}\")\n",
    "            print(f\"{namelist[-1]:<36} {item['value']:>16} {item['unit']:<10}\")\n",
    "        else:\n",
    "            print(f\"{item['name']}\")\n",
    "    print()\n",
    " \n",
    "print(\"-\"*30 + \"\\033[1m WARNINGS \\033[0m\" + \"-\"*30)\n",
    "for x in result['warnings']:\n",
    "    # ANSI Pretty-print the warnings and apply word wrapping\n",
    "    warning_display = wrap(result[\"warnings\"][x], width=45, subsequent_indent=\" \")\n",
    " \n",
    "    print(f\"{x:<25}: {warning_display[0]}\")\n",
    "    if len(warning_display) > 1:\n",
    "        for idx in range(len(warning_display) -1):\n",
    "            print(f\"{\" \"*25}  {warning_display[idx+1]}\")\n",
    " \n",
    "print(\"-\"*70)"
   ]
  },
  {
   "cell_type": "markdown",
   "id": "f3b4f34e-6dab-4d83-8f0e-0dc900c0e2b6",
   "metadata": {
    "jp-MarkdownHeadingCollapsed": true
   },
   "source": [
    "## Additional Resources\n",
    "\n",
    "- The Roman User Documentation's [\"Pandeia for Roman\"](https://roman-docs.stsci.edu/simulation-tools-handbook-home/pandeia-for-roman) page and associated overview.\n",
    "- Full API references for [Pandeia Engine inputs](https://outerspace.stsci.edu/display/PEN/Pandeia+Engine+Input+API) and [Pandeia Engine outputs](https://outerspace.stsci.edu/display/PEN/Pandeia+Engine+Output+API).\n",
    "- The [Roman Help Desk](https://roman-docs.stsci.edu/roman-help-desk-at-stsci), an official outlet for user questions about Pandeia.\n",
    "- [Pandeia JWST Tutorials](https://jwst-docs.stsci.edu/jwst-exposure-time-calculator-overview/jwst-etc-pandeia-engine-tutorial/pandeia-quickstart#PandeiaQuickstart-Samplecode)"
   ]
  },
  {
   "cell_type": "markdown",
   "id": "34407a8d-b357-40b9-b87f-eb1bd783f80a",
   "metadata": {
    "slideshow": {
     "slide_type": "slide"
    }
   },
   "source": [
    "## About this notebook\n",
    "\n",
    "**Author:** Justin Otor, Eunkyu Han, Harish Khandrika      \n",
    "**Updated On:** 2025-9"
   ]
  },
  {
   "cell_type": "markdown",
   "id": "8f685f1a-0099-488e-8a05-578c67143729",
   "metadata": {},
   "source": [
    "***"
   ]
  },
  {
   "cell_type": "markdown",
   "id": "828cc7ad-e828-4c14-ad63-93468accbd6e",
   "metadata": {},
   "source": [
    "[Top of Page](#top)\n",
    "<img style=\"float: right;\" src=\"https://raw.githubusercontent.com/spacetelescope/notebooks/master/assets/stsci_pri_combo_mark_horizonal_white_bkgd.png\" alt=\"Space Telescope Logo\" width=\"200px\"/> "
   ]
  }
 ],
 "metadata": {
  "kernelspec": {
   "display_name": "pandeia_dev",
   "language": "python",
   "name": "python3"
  },
  "language_info": {
   "codemirror_mode": {
    "name": "ipython",
    "version": 3
   },
   "file_extension": ".py",
   "mimetype": "text/x-python",
   "name": "python",
   "nbconvert_exporter": "python",
   "pygments_lexer": "ipython3",
   "version": "3.11.3"
  }
 },
 "nbformat": 4,
 "nbformat_minor": 5
}
