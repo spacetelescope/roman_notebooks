{
 "cells": [
  {
   "cell_type": "markdown",
   "metadata": {
    "slideshow": {
     "slide_type": "slide"
    }
   },
   "source": [
    "# Roman WFI Synthetic Photometry with synphot"
   ]
  },
  {
   "cell_type": "markdown",
   "metadata": {
    "slideshow": {
     "slide_type": "skip"
    }
   },
   "source": [
    "***"
   ]
  },
  {
   "cell_type": "markdown",
   "metadata": {
    "slideshow": {
     "slide_type": "slide"
    }
   },
   "source": [
    "## Kernel Information and Read-Only Status\n",
    "\n",
    "To run this notebook, please select the \"Roman Calibration\" kernel at the top right of your window.\n",
    "\n",
    "This notebook is read-only. You can run cells and make edits, but you must save changes to a different location. We recommend saving the notebook within your home directory, or to a new folder within your home (e.g. <span style=\"font-variant:small-caps;\">file > save notebook as > my-nbs/nb.ipynb</span>). Note that a directory must exist before you attempt to add a notebook to it.\n",
    "\n",
    "## Imports\n",
    "- *os* for access to environment variables and file paths\n",
    "- *astropy.units* for unit specification and conversion\n",
    "- *matplotlib.pyplot* for plotting\n",
    "- *numpy* for data array creation and manipulation\n",
    "- *synphot* for synthetic photometry\n",
    "- *stsynphot* for access to HST, Roman, and other transmission curves\n",
    "- *webbpsf* for access to Roman and JWST transmission curves (optional)"
   ]
  },
  {
   "cell_type": "code",
   "execution_count": null,
   "metadata": {
    "slideshow": {
     "slide_type": "fragment"
    }
   },
   "outputs": [],
   "source": [
    "%matplotlib inline\n",
    "import os\n",
    "\n",
    "from astropy import units as u\n",
    "import matplotlib.pyplot as plt\n",
    "import numpy as np\n",
    "\n",
    "import synphot as syn\n",
    "import stsynphot as stsyn\n",
    "#import webbpsf"
   ]
  },
  {
   "cell_type": "markdown",
   "metadata": {
    "slideshow": {
     "slide_type": "slide"
    }
   },
   "source": [
    "## Introduction\n",
    "In this tutorial, we will demonstrate how to use synthetic photometry software to estimate the brightness of both empirical and theoretical sources as they would be measured by the Roman Wide Field Instrument (WFI). Note that we will use terms such as transmission and throughput interchangeably throughout the tutorial, but what we mean is the unitless measurement efficiency as a function of wavelength (or frequency) for the detection of photons at the end of the optics chain between the Roman primary mirror and the WFI detectors including all components in between (e.g., secondary mirror, optical elements, etc.)."
   ]
  },
  {
   "cell_type": "markdown",
   "metadata": {},
   "source": [
    "***"
   ]
  },
  {
   "cell_type": "markdown",
   "metadata": {
    "slideshow": {
     "slide_type": "slide"
    }
   },
   "source": [
    "## Loading data\n",
    "Data are loaded from Flexible Image Transport System (FITS) binary tables using functions within `stsynphot`. Data may also be loaded as NumPy NDArray objects, or for the Roman WFI and James Webb Space Telescope (JWST) instruments may be retrieved from `webbpsf`. Note that Roman WFI throughput information in `stsynphot` and `webbpsf` produce identical results. JWST instrument throughputs are currently only available via `webbpsf`. \n",
    "\n",
    "**NOTE:** Roman WFI throughputs are currently for a single detector and combine the entire optical chain. Updates to the transmission information are expected as part of the ground testing campaign of both the WFI and the integrated observatory."
   ]
  },
  {
   "cell_type": "markdown",
   "metadata": {},
   "source": [
    "## Use Cases and Examples\n",
    "\n",
    "### Plot the Roman WFI Filter Throughputs and Information\n",
    "\n",
    "There are two approaches to retrieving WFI throughput information. Here we will show both methods of loading the throughput information. All the remaining steps in the tutorial are independent from the specific loading method.\n",
    "\n",
    "#### Retrieving WFI Throughputs from WebbPSF\n",
    "\n",
    "To retrieve the optical element throughput information from `webbpsf`, we set up the WFI object, and use the method _get_synphot_bandpass, which takes the optical element name as the only argument. In the example below, we load the throughput information from the F129 imaging filter. This new Python object behaves as a callable function that takes as input the wavelength or frequency of interest, and will return the throughput at that wavelength or frequency.\n",
    "\n",
    "Note that we have commented out the lines in the following cell as this is optional for Roman, but is required for JWST."
   ]
  },
  {
   "cell_type": "code",
   "execution_count": null,
   "metadata": {},
   "outputs": [],
   "source": [
    "# Set up the Roman WFI object and retrieve the throughput of a filter\n",
    "#roman = webbpsf.WFI()\n",
    "#wfi_f129 = roman._get_synphot_bandpass('F129')\n",
    "#print(wfi_f129(1.29 * u.micron))"
   ]
  },
  {
   "cell_type": "markdown",
   "metadata": {},
   "source": [
    "#### Retrieving WFI Throughputs from stsynphot\n",
    "\n",
    "If we want to retrieve the same information using stsynphot, which contains tools to load STScI-specific bandpass information from the Spectral Atlas Files for Synphot Software, we use the synphot.band class and give as input a string that contains the mission, instrument, and element name, e.g., \"roman, wfi, f129\":"
   ]
  },
  {
   "cell_type": "code",
   "execution_count": null,
   "metadata": {},
   "outputs": [],
   "source": [
    "# Set up the Roman WFI object and retrieve the throughput of a filter\n",
    "wfi_f129 = stsyn.band('roman, wfi, f129')\n",
    "print(wfi_f129(1.29 * u.micron))"
   ]
  },
  {
   "cell_type": "markdown",
   "metadata": {},
   "source": [
    "#### Plotting and Computing Bandpass Information\n",
    "\n",
    "Regardless of the method we chose to load the throughput data, we can then plot the throughput curves and compute some information about our bandpasses. The following code block will generate a plot of the WFI imaging filter throughputs (with the exception of the wide F146 filter, which has been omitted for clarity):"
   ]
  },
  {
   "cell_type": "code",
   "execution_count": null,
   "metadata": {},
   "outputs": [],
   "source": [
    "# Set up the Roman WFI object and make a list of the optical element names\n",
    "roman_filter = 'F062 F087 F106 F129 F158 F184 F213'.lower().split()\n",
    " \n",
    "# Set up wavelengths from 0.4 to 2.5 microns in increments of 0.01 microns.\n",
    "waves = np.arange(0.4, 2.5, 0.01) * u.micron\n",
    " \n",
    "# Set up figure\n",
    "fig, ax = plt.subplots()\n",
    " \n",
    "# For each optical element, plot the throughput in a different color\n",
    "# and shade the area below the curve.\n",
    "colors = plt.cm.rainbow(np.linspace(0, 1, len(roman_filter)))\n",
    "for i, f in enumerate(roman_filter):\n",
    "    band = stsyn.band(f'roman,wfi,{f}')\n",
    "    clean = np.where(band(waves) > 0)\n",
    "    ax.plot(waves[clean], band(waves[clean]), color=colors[i])\n",
    "    ax.fill_between(waves[clean].value, band(waves[clean]).value, alpha=0.5, color=colors[i])\n",
    " \n",
    "# Set plot axis labels, ranges, and add grid lines\n",
    "ax.set_xlabel('Wavelength ($\\mu$m)')\n",
    "ax.set_ylabel('Throughput')\n",
    "ax.set_ylim(0, 1.05)\n",
    "ax.set_xlim(0.4, 2.5)\n",
    "ax.grid(':', alpha=0.3)"
   ]
  },
  {
   "cell_type": "markdown",
   "metadata": {},
   "source": [
    "We can also get information about the bandpasses using the following methods on the bandpass objects in synphot:"
   ]
  },
  {
   "cell_type": "code",
   "execution_count": null,
   "metadata": {},
   "outputs": [],
   "source": [
    "band = stsyn.band('roman, wfi, f129')\n",
    "print('WFI F129:')\n",
    "print(f'\\tBandwidth: {band.photbw():.5f}')\n",
    "print(f'\\tPivot wavelength: {band.pivot():.5f}')\n",
    "print(f'\\tFWHM: {band.fwhm():.5f}')"
   ]
  },
  {
   "cell_type": "markdown",
   "metadata": {},
   "source": [
    "### Synthetic Photometry of a Simulated Source\n",
    "\n",
    "Here we show how to perform synthetic photometry of a simulated source. For this example, we will use a star of spectral type M5III, and we will add additional extinction to the source spectrum using the Milky Way extinction law. We also normalize the spectrum to a particular Johnson V-band AB magnitude, but this could be normalized to any flux density or equivalent in any band (e.g., Hubble and JWST instruments, 2MASS, etc.)."
   ]
  },
  {
   "cell_type": "code",
   "execution_count": null,
   "metadata": {},
   "outputs": [],
   "source": [
    "# Retrieve the spectrum of the star\n",
    "star_spec = syn.SourceSpectrum.from_file(os.path.join(os.environ['PYSYN_CDBS'], 'grid', 'pickles', 'dat_uvk', 'pickles_uk_100.fits'))\n",
    " \n",
    "# Renormalize the spectrum to have a Johnson V-band magnitude of 22.5 ABmag\n",
    "norm_spec = star_spec.normalize(22.5 * u.ABmag, band=stsyn.band('johnson, v'))\n",
    " \n",
    "# Add extinction corresponding to E(B-V) = 2.3 using the Milky Way extinction law (Rv = 3.1)\n",
    "extinction = syn.ReddeningLaw.from_extinction_model('mwavg').extinction_curve(2.3)\n",
    "final_spec = norm_spec * extinction\n",
    " \n",
    "# Compute the flux density arrays\n",
    "wavelengths = np.arange(0.5, 2.5, 0.001) * u.micron\n",
    "norm_fluxes = norm_spec(wavelengths, flux_unit=u.Jy)\n",
    "final_fluxes = final_spec(wavelengths, flux_unit=u.Jy)\n",
    " \n",
    "# Plot the spectra\n",
    "fig, ax = plt.subplots(figsize=(10, 4))\n",
    "ax.plot(wavelengths, norm_fluxes, color='blue', lw=2, label='Normalized Spectrum, V = 22.5 ABmag')\n",
    "ax.plot(wavelengths, final_fluxes, color='red', lw=2, label=r'Reddened Spectrum, E(B $-$ V) = 2.3')\n",
    "ax.legend(loc=2)\n",
    "ax.set_ylabel('Flux Density (Jy)')\n",
    "ax.set_xlabel(r'Wavelength ($\\mu$m)');"
   ]
  },
  {
   "cell_type": "markdown",
   "metadata": {},
   "source": [
    "Now that we have our spectrum, we can \"observe\" it using the WFI:"
   ]
  },
  {
   "cell_type": "code",
   "execution_count": null,
   "metadata": {},
   "outputs": [],
   "source": [
    "# Load the WFI F158 element\n",
    "wfi_f158 = stsyn.band('roman, wfi, f158')\n",
    "\n",
    "# Observe the spectrum with the F158 bandpass\n",
    "obs_spec = syn.Observation(final_spec, wfi_f158)\n",
    " \n",
    "# Print out the magnitudes, flux density, and count rate (electrons per second) of the observed source\n",
    "print('M5III star, WFI F158:')\n",
    "print(f'\\t{obs_spec.effstim(syn.units.VEGAMAG, vegaspec=syn.SourceSpectrum.from_file(syn.conf.vega_file))}')\n",
    "print(f'\\t{obs_spec.effstim(u.ABmag)}')\n",
    "print(f'\\t{obs_spec.effstim(u.Jy)}')\n",
    "print(f'\\t{obs_spec.countrate(area=np.pi * (2.4 * u.m)**2)}')"
   ]
  },
  {
   "cell_type": "markdown",
   "metadata": {},
   "source": [
    "Now, let's suppose that we wish to estimate the brightness of a source with a spectral energy distribution that can be described with a power law with spectral index of $\\alpha=-1$. We have access to a library of Astropy models that can be used to approximate the input spectrum. We will normalize our example to a flux density of 5 mJy at 1.5 $\\mu$m."
   ]
  },
  {
   "cell_type": "code",
   "execution_count": null,
   "metadata": {},
   "outputs": [],
   "source": [
    "# Create spectrum model\n",
    "source = syn.SourceSpectrum(syn.models.PowerLawFlux1D(5 * u.mJy, 1.5 * u.micron, -1))"
   ]
  },
  {
   "cell_type": "markdown",
   "metadata": {},
   "source": [
    "Now, let's plot the spectrum and make sure that it looks correct:"
   ]
  },
  {
   "cell_type": "code",
   "execution_count": null,
   "metadata": {},
   "outputs": [],
   "source": [
    "# Create a wavelength array from 0.6 to 2.5 microns in bins of 0.001 micron.\n",
    "waves = np.arange(0.6, 2.5, 0.001) * u.micron\n",
    "\n",
    "# Plot the model\n",
    "fig, ax = plt.subplots()\n",
    "ax.plot(waves, source(waves, flux_unit=u.Jy))\n",
    "ax.set_ylabel('Flux Density (Jy)')\n",
    "ax.set_xlabel(r'Wavelength ($\\mu$m)')\n",
    "ax.set_yscale('log');"
   ]
  },
  {
   "cell_type": "markdown",
   "metadata": {},
   "source": [
    "Let's add another component to our spectrum to see how models can be combined. In this case, let's add a Gaussian absorption line at 1.2 $\\mu$m with an amplitude of 2 mJy and a full-width half-maximum (FWHM) of 0.1 $\\mu$m, and a Gaussian emission line at 1.5 $\\mu$m with an amplitude of 1 mJy and a FWHM of 0.01 $\\mu$m."
   ]
  },
  {
   "cell_type": "code",
   "execution_count": null,
   "metadata": {},
   "outputs": [],
   "source": [
    "# Create Gaussian emission lines\n",
    "abs_line = syn.SourceSpectrum(syn.models.GaussianFlux1D, amplitude = 2 * u.mJy, mean = 1.2 * u.micron, fwhm = 0.1 * u.micron)\n",
    "em_line = syn.SourceSpectrum(syn.models.GaussianFlux1D, amplitude = 1 * u.mJy, mean = 1.5 * u.micron, fwhm = 0.01 * u.micron)\n",
    "\n",
    "# Add components together and plot the total model\n",
    "total = source - abs_line + em_line\n",
    "fig, ax = plt.subplots()\n",
    "ax.plot(waves, total(waves, flux_unit=u.Jy))\n",
    "ax.set_xlabel(r'Wavelength ($\\mu$m)')\n",
    "ax.set_ylabel('Flux Density (Jy)')\n",
    "ax.set_yscale('log');"
   ]
  },
  {
   "cell_type": "markdown",
   "metadata": {},
   "source": [
    "Let's observe this model spectrum and take a look at what it looks like after it passes through the optical chain by convolving the model with one of our transmission curves:"
   ]
  },
  {
   "cell_type": "code",
   "execution_count": null,
   "metadata": {},
   "outputs": [],
   "source": [
    "f129 = stsyn.band('roman,wfi,f129')\n",
    "obs_model = syn.Observation(total, f129)\n",
    "\n",
    "# Add components together and plot the total model\n",
    "fig, ax = plt.subplots()\n",
    "ax.plot(waves, obs_model(waves, flux_unit=u.Jy))\n",
    "ax.set_xlabel(r'Wavelength ($\\mu$m)')\n",
    "ax.set_ylabel('Observed Flux Density (Jy)');"
   ]
  },
  {
   "cell_type": "markdown",
   "metadata": {},
   "source": [
    "With our observation object, we can get the integrated flux just as we did before:"
   ]
  },
  {
   "cell_type": "code",
   "execution_count": null,
   "metadata": {},
   "outputs": [],
   "source": [
    "print(f'{obs_model.effstim(u.Jy)}')"
   ]
  },
  {
   "cell_type": "markdown",
   "metadata": {},
   "source": [
    "## Aditional Resources\n",
    "\n",
    "- [synphot API documentation](https://synphot.readthedocs.io/en/latest/)\n",
    "- [stsynphot API documentation](https://stsynphot.readthedocs.io/en/latest/)\n",
    "- [Reference Atlases](https://archive.stsci.edu/hlsp/reference-atlases)\n",
    "- [RDox Synphot for Roman Article](https://roman-docs.stsci.edu/simulation-tools-handbook-home/simulation-development-utilities/synphot-for-roman)"
   ]
  },
  {
   "cell_type": "markdown",
   "metadata": {
    "slideshow": {
     "slide_type": "slide"
    }
   },
   "source": [
    "## About this notebook\n",
    "\n",
    "**Author:** Tyler Desjardins  \n",
    "**Updated On:** 2024-05-07"
   ]
  },
  {
   "cell_type": "markdown",
   "metadata": {},
   "source": [
    "***"
   ]
  },
  {
   "cell_type": "markdown",
   "metadata": {},
   "source": [
    "[Top of Page](#top)\n",
    "<img style=\"float: right;\" src=\"https://raw.githubusercontent.com/spacetelescope/notebooks/master/assets/stsci_pri_combo_mark_horizonal_white_bkgd.png\" alt=\"Space Telescope Logo\" width=\"200px\"/> "
   ]
  }
 ],
 "metadata": {
  "kernelspec": {
   "display_name": "Roman Calibration latest (2024-03-25)",
   "language": "python",
   "name": "roman-cal"
  },
  "language_info": {
   "codemirror_mode": {
    "name": "ipython",
    "version": 3
   },
   "file_extension": ".py",
   "mimetype": "text/x-python",
   "name": "python",
   "nbconvert_exporter": "python",
   "pygments_lexer": "ipython3",
   "version": "3.11.9"
  }
 },
 "nbformat": 4,
 "nbformat_minor": 4
}
