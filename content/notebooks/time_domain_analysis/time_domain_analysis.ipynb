{
 "cells": [
  {
   "cell_type": "markdown",
   "id": "b4c98ddf-620e-47ad-b371-83bcb1c76616",
   "metadata": {},
   "source": [
    "<a id=\"top\"></a>\n",
    "# Roman Lvl 4 Data Analysis for Time-Domain Astronomy\n",
    "**************\n",
    "**************"
   ]
  },
  {
   "cell_type": "markdown",
   "id": "95cceb25-a9fb-4248-a04c-60e5b42f54d3",
   "metadata": {},
   "source": [
    "## Kernel Information\n",
    "\n",
    "To run this notebook on the Roman Science Platform, please select the \"Roman Calibration\" kernel at the top right of your window."
   ]
  },
  {
   "cell_type": "markdown",
   "id": "25935e07-3b60-47f9-b630-41ed6d3a9340",
   "metadata": {},
   "source": [
    "## Learning Goals\n",
    "\n",
    "By the end of this tutorial, you will:\n",
    "\n",
    "- Display the Roman Open Universe (OU) data\n",
    "- Create a light curve of OU data\n",
    "- Create a gif of the data (including the images and light curves) as shown in the gif below. (gif: Courtesy of Wikipedia)"
   ]
  },
  {
   "cell_type": "markdown",
   "id": "4b45369e-4fd5-4bb1-8d54-a336a3518408",
   "metadata": {},
   "source": [
    "## Imports\n",
    "\n",
    "- *astropy.table Table* for creating tidy tables of the data\n",
    "- *matplotlib.pyplot* for plotting\n",
    "- *sncosmo*  for modeling and fitting light curves\n",
    "- *numpy* to handle array functions"
   ]
  },
  {
   "cell_type": "code",
   "execution_count": null,
   "id": "c0913878-d3d7-46f0-904c-b754f39a1284",
   "metadata": {},
   "outputs": [],
   "source": [
    "# Numerical operations\n",
    "import numpy as np  # For efficient numerical computations and array handling\n",
    "\n",
    "# Visualization\n",
    "import matplotlib.pyplot as plt  # For creating plots and figures\n",
    "from matplotlib.ticker import MaxNLocator\n",
    "from matplotlib.patches import Rectangle, ConnectionPatch, FancyArrow\n",
    "\n",
    "# Astronomy-specific libraries\n",
    "from astropy.table import Table  # For table manipulation and stacking\n",
    "from astropy.coordinates import SkyCoord\n",
    "from astropy.io import fits\n",
    "from astropy.wcs import WCS, FITSFixedWarning\n",
    "from astropy.visualization import ZScaleInterval, ImageNormalize\n",
    "from astropy.visualization.wcsaxes import WCSAxes\n",
    "from astropy.nddata import Cutout2D\n",
    "import sncosmo  # For modeling and fitting supernova light curves\n",
    "from photutils.aperture import CircularAperture, aperture_photometry\n",
    "from scipy.ndimage import rotate\n",
    "\n",
    "# Data handling\n",
    "import os\n",
    "import fsspec\n",
    "# Initialize fs with an S3 filesystem\n",
    "fs = fsspec.filesystem('s3', anon=True)  # Set anon=True for public access\n",
    "import gzip\n",
    "import imageio.v2 as imageio\n",
    "\n",
    "import warnings\n",
    "# Filter out the FITSFixedWarning, which is consequenceless and gets thrown every time you deal with a WCS in a Roman openuniverse simulated image using astropy.\n",
    "warnings.simplefilter('ignore',category=FITSFixedWarning)\n",
    "\n",
    "# My modules\n",
    "import orientation as orient\n",
    "\n",
    "from reproject import reproject_interp\n",
    "\n",
    "# Display the final GIF inline\n",
    "from IPython.display import Image, display"
   ]
  },
  {
   "cell_type": "markdown",
   "id": "d2c46d76-6ced-4a80-bdb0-6e7c962c350e",
   "metadata": {},
   "source": [
    "## Introduction\n",
    "\n",
    "This notebook is designed to provide a simple analysis of Level 4 imaging data products for the Roman Space Telescope with a focus on time-domain astronomy. Herre, we are leveraging the Open Universe (OU) simulated images, however, you can use any other data as well. The notebook processes and analyzes OU data to provide users with advanced data products that can support transient science, including supernovae, variable stars, and other time-sensitive phenomena.\n",
    "**************"
   ]
  },
  {
   "cell_type": "markdown",
   "id": "07277ebe-599a-4cd2-a0dd-54f25c18c615",
   "metadata": {},
   "source": [
    "![test](sn2018gv.gif)"
   ]
  },
  {
   "cell_type": "markdown",
   "id": "6ffbd6ea-a4e6-4b7b-ab92-16d8141dec0f",
   "metadata": {},
   "source": [
    "## Loading data\n",
    "\n",
    "This section reads an ECSV file in astropy table format that contains the photometric dataset for a random transient from the OU Roman simulatins. Our example table contains columns such as mjd-obs, flux, filter, and other metadata. Note that you can use and import your own table or dataset of any target, and it does not have to be OU data or in OU format.\n",
    "\n",
    "If you are interested in learning the details on how the following table was created is shown in step-by-step in several other notebooks available on the Roman Research Nexus (RRN), including:\n",
    "\n",
    "1) Accessing the dataset already hosted on RRN see [Data access and discovery].\n",
    "\n",
    "2) The fluxes were obtained using aperture photometry on the target of interest. For more info on aperture photmetry see [photometry](aperture_photometry/aperture_photometry.ipynb).\n",
    "\n",
    "3) To recreate our example photometric table that we will be using throuthout this notebook, see [creating an example dataset for time domain].\n",
    "\n",
    "4) If you would like to simulate your own data using romanisim, see [this other notebook].\n",
    "\n",
    "\n",
    "Please note that:\n",
    "\n",
    "- The naming convention of the OU data is slightly different than Romanisim.\n",
    "- You can use an example photometric table from a package called sncosmo using `sncosmo.load_example_data()`.\n"
   ]
  },
  {
   "cell_type": "code",
   "execution_count": null,
   "id": "7ce77a2d-5d20-4ffd-b15c-91db3d776bac",
   "metadata": {},
   "outputs": [],
   "source": [
    "# Load the input data\n",
    "LC_table = Table.read('Updated_Matching_Observations.ecsv', format='ascii.ecsv')\n",
    "lc_data = Table.read('Transformed_for_SNCosmo.ecsv', format='ascii.ecsv')"
   ]
  },
  {
   "cell_type": "code",
   "execution_count": null,
   "id": "a636cf1e-c991-48b6-a58b-51dc6029d5c2",
   "metadata": {},
   "outputs": [],
   "source": [
    "source_ra=9.61978\n",
    "source_dec=-44.3138"
   ]
  },
  {
   "cell_type": "markdown",
   "id": "98e6c79b-fc15-48c4-b02c-b5e7621d3d7d",
   "metadata": {},
   "source": [
    "## Displaying data <a class=\"anchor\" id=\"2-display\"></a>"
   ]
  },
  {
   "cell_type": "markdown",
   "id": "37d86711-ad6b-495a-86b5-9521f77a9a8a",
   "metadata": {},
   "source": [
    "### Displaying only 2 filters with target of interest highlighted\n",
    "\n",
    "Here we show how to display a random image from the OU dataset that contains a transient of interest"
   ]
  },
  {
   "cell_type": "markdown",
   "id": "12ff3ed4-de6a-40c3-8f72-8e317f796afc",
   "metadata": {},
   "source": [
    "### Displaying only 1 image with an aperture around the target of interest"
   ]
  },
  {
   "cell_type": "code",
   "execution_count": null,
   "id": "824a2805-3c35-4454-902c-0aaaf0119764",
   "metadata": {},
   "outputs": [],
   "source": [
    "fname = './Roman_TDS_simple_model_R062_407_7.fits.gz'\n",
    "\n",
    "with gzip.open(fname, 'rb') as f:\n",
    "    with fits.open(f) as hdul:\n",
    "        img = hdul[1].data\n",
    "        wcs = WCS(hdul[1].header)\n",
    "\n",
    "norm = ImageNormalize(img, interval=ZScaleInterval())\n",
    "x, y = wcs.world_to_pixel(SkyCoord(ra=source_ra, dec=source_dec, unit='deg'))\n",
    "\n",
    "fig = plt.figure(figsize=(6, 6))\n",
    "ax = fig.add_subplot(1, 1, 1, projection=wcs)\n",
    "ax.imshow(img, norm=norm, cmap='viridis', origin='lower')\n",
    "ax.set(xlabel='RA', ylabel='Dec')\n",
    "ax.coords[0].set_major_formatter('hh:mm:ss')\n",
    "ax.coords[1].set_major_formatter('dd:mm:ss')\n",
    "\n",
    "CircularAperture((x, y), r=3.0).plot(ax=ax, color='red', lw=2)\n",
    "cut = 50\n",
    "ax.add_patch(Rectangle((x - cut, y - cut), 2 * cut, 2 * cut, edgecolor='white', facecolor='none', lw=1))\n",
    "\n",
    "zoom_ax = fig.add_axes([0.52, 0.52, 0.35, 0.35], projection=wcs)\n",
    "zoom_ax.imshow(img, norm=norm, cmap='viridis', origin='lower')\n",
    "zoom_ax.set_xlim(x - cut, x + cut)\n",
    "zoom_ax.set_ylim(y - cut, y + cut)\n",
    "CircularAperture((x, y), r=3.0).plot(ax=zoom_ax, color='red', lw=2)\n",
    "\n",
    "for a, b in [((x + cut, y + cut), (1, 1)), ((x - cut, y - cut), (0, 0))]:\n",
    "    fig.add_artist(ConnectionPatch(xyA=a, coordsA=ax.transData, xyB=b, coordsB=zoom_ax.transAxes, color='white', lw=1))\n",
    "\n",
    "for c in zoom_ax.coords:\n",
    "    c.set_ticks_visible(False)\n",
    "    c.set_ticklabel_visible(False)\n",
    "\n",
    "plt.show()\n"
   ]
  },
  {
   "cell_type": "markdown",
   "id": "c454ef95-9565-4bae-abb0-98ff8b6da050",
   "metadata": {},
   "source": [
    "## Light curves <a class=\"anchor\" id=\"3-LCs\"></a>"
   ]
  },
  {
   "cell_type": "markdown",
   "id": "4d22dcd4-007b-4cdc-addf-5b86156eab01",
   "metadata": {},
   "source": [
    "### Preparing the Input Data\n",
    "\n",
    "sncosmo expects specific column names for light curve data and in astropy table format.\n",
    "\n",
    "In this step, we rename:\n",
    "\n",
    "mjd-obs to time (to represent the Modified Julian Date of the observation).\n",
    "\n",
    "filter to band (the specific bandpass filter used in the observation).\n",
    "\n",
    "flux remains unchanged as it's already appropriately named."
   ]
  },
  {
   "cell_type": "markdown",
   "id": "604a4193-6864-4613-ac8e-99070b5de485",
   "metadata": {},
   "source": [
    "(provide a text file that includes all the names of then relevant fits files, tell them that it takes a while to search the entire database, then explain how to do photometry for 1 of those files in the text file, then provide the full ecsv file with the original OU convention that includes the already done photometry for that specific target, and show several ecsv files that each include a different transient, refer to the aperture notebook for further info, we provide the searching funciton in a standalone .py file in within the same directory)"
   ]
  },
  {
   "cell_type": "markdown",
   "id": "66bb95d8-a3f3-4a17-86cb-62e8aee0e801",
   "metadata": {},
   "source": [
    "## Plotting a single light curve"
   ]
  },
  {
   "cell_type": "code",
   "execution_count": null,
   "id": "a8b7f4df-fec4-4cba-8756-bbea67f91ea2",
   "metadata": {},
   "outputs": [],
   "source": [
    "# Define the single filter to plot\n",
    "single_filter_name = 'f062'  # Replace 'f062' with your desired filter name; for example sdssz if you are using the sncosmo sample data\n",
    "\n",
    "# Select rows corresponding to the single filter\n",
    "filter_mask = lc_data['band'] == single_filter_name\n",
    "group = lc_data[filter_mask]\n",
    "\n",
    "# Check if the filter exists in the data\n",
    "if not np.any(filter_mask):\n",
    "    raise ValueError(f\"Filter '{single_filter_name}' not found in the data.\")\n",
    "    \n",
    "# Plot time vs. flux for the selected filter\n",
    "plt.figure(figsize=(6, 4))\n",
    "plt.scatter(group['time'], group['flux'], label=single_filter_name)\n",
    "\n",
    "# Customize the plot\n",
    "plt.xlabel(\"MJD (Modified Julian Date)\")\n",
    "plt.ylabel(\"Flux [AB]\")\n",
    "plt.xlim(61900,62800)\n",
    "plt.title(f\"Light Curve for Filter: {single_filter_name}\")\n",
    "plt.legend(title=\"Filter\")\n",
    "plt.gca().invert_yaxis()  # Invert y-axis for magnitudes (lower mags are brighter)\n",
    "plt.show()"
   ]
  },
  {
   "cell_type": "markdown",
   "id": "238b9cda-b0cb-44e7-8abc-35cb6eb2eda7",
   "metadata": {},
   "source": [
    "## Plotting a light curve of all filters"
   ]
  },
  {
   "cell_type": "code",
   "execution_count": null,
   "id": "c658c0cf-e691-4bc4-a3f9-68698986cd05",
   "metadata": {},
   "outputs": [],
   "source": [
    "# Group by filters and plot\n",
    "plt.figure(figsize=(6, 6))\n",
    "\n",
    "# Get unique filter names and assign them a color map\n",
    "filter_names = sorted(np.unique(lc_data['band']))  # Sort filters by name\n",
    "cmap = plt.colormaps.get_cmap('coolwarm')  # Updated to use modern colormap getter\n",
    "norm = ImageNormalize(vmin=0, vmax=len(filter_names) - 1)  # Normalize for filter indices\n",
    "\n",
    "# Ensure the 'flux' column is numeric\n",
    "lc_data['flux'] = np.asarray(lc_data['flux'], dtype=float)  # Convert to numeric\n",
    "mask_valid_flux = ~np.isnan(lc_data['flux'])  # Mask for valid flux values\n",
    "lc_data = lc_data[mask_valid_flux]  # Keep only rows with valid flux values\n",
    "\n",
    "# Initialize the magnitude offset\n",
    "offset = [-0.4,-0.8,0,0,0,0.7,2.8]\n",
    "\n",
    "# Iterate through each filter and plot\n",
    "for idx, filter_name in enumerate(filter_names):\n",
    "    # Select rows corresponding to the current filter\n",
    "    filter_mask = lc_data['band'] == filter_name\n",
    "    group = lc_data[filter_mask]\n",
    "    \n",
    "    # Apply the magnitude offset\n",
    "    adjusted_flux = group['flux'] + offset[idx]\n",
    "    \n",
    "    # Plot time vs. adjusted flux for the current filter\n",
    "    plt.scatter(group['time'], adjusted_flux, label=f\"{filter_name} + {offset[idx]}\", \n",
    "                color=cmap(norm(idx)))\n",
    "    \n",
    "    # Increment the magnitude offset for the next filter\n",
    "    # offset += 1\n",
    "\n",
    "# Customize the plot\n",
    "plt.xlabel(\"MJD (Modified Julian Date)\")\n",
    "plt.ylabel(\"Flux [AB] (adjusted)\")\n",
    "plt.title(\"Light Curves for Different Filters with Magnitude Offsets\")\n",
    "plt.legend(title=\"Filters + Offset\", ncols=2)\n",
    "plt.gca().invert_yaxis()  # Invert y-axis for magnitudes (lower mags are brighter)\n",
    "\n",
    "# # Add a dummy ScalarMappable for the colorbar\n",
    "# sm = plt.cm.ScalarMappable(cmap=cmap, norm=norm)\n",
    "# sm.set_array([])\n",
    "# cbar = plt.colorbar(sm, orientation='vertical', pad=0.02)\n",
    "# cbar.set_label('Filter Index (blue -> red)')\n",
    "plt.xlim(62000,62700)\n",
    "plt.grid(True)\n",
    "plt.show()\n"
   ]
  },
  {
   "cell_type": "markdown",
   "id": "69effd01-4037-4900-acb3-6ae09f69d5f5",
   "metadata": {},
   "source": [
    "(let's make a cutout of the target of interest, and then save the cutouts as new fits files with the wcs and everything for all the images and then make the gif of those cutouts instead of a gif of the entire FOV, the cutouts and the gif will be the third notebook)"
   ]
  },
  {
   "cell_type": "markdown",
   "id": "8857d19f-f69d-4d88-a708-cf2d7a95e565",
   "metadata": {},
   "source": [
    "# Let's display a gif of the images that corresponds to the above light curve!"
   ]
  },
  {
   "cell_type": "code",
   "execution_count": null,
   "id": "70049659-ea09-4b15-9600-c2c85bd17443",
   "metadata": {},
   "outputs": [],
   "source": [
    "def create_cutout_fits_gif(\n",
    "    lc_table, aperture_radius, n_images,\n",
    "    bucket_name, prefix, source_ra, source_dec,\n",
    "    save_dir, output_gif=\"fits_cutout.gif\", cutout_size=50\n",
    "):\n",
    "    \"\"\"\n",
    "    Generate a GIF from small cutouts around a target in aligned FITS images.\n",
    "\n",
    "    Parameters:\n",
    "        cutout_size (int): Size (in pixels) of the square cutout around the source.\n",
    "    \"\"\"\n",
    "    fs = filesystem('s3', anon=True)\n",
    "    os.makedirs(save_dir, exist_ok=True)\n",
    "\n",
    "    selected_rows = lc_table[:n_images]\n",
    "    frames = []\n",
    "\n",
    "    reference_wcs = None\n",
    "    reference_shape = None\n",
    "\n",
    "    for i, row in enumerate(selected_rows):\n",
    "        fits_file_path = f\"s3://{bucket_name}/{prefix}/{row['filter']}/{row['obs_id']}/{row['filename']}.gz\"\n",
    "        print(f\"Fetching: {fits_file_path}\")\n",
    "\n",
    "        try:\n",
    "            with fs.open(fits_file_path, mode='rb') as compressed_file:\n",
    "                with gzip.GzipFile(fileobj=compressed_file) as uncompressed_file:\n",
    "                    with fits.open(uncompressed_file) as hdul:\n",
    "                        img = hdul[1].data\n",
    "                        header = hdul[0].header\n",
    "                        wcs = WCS(header)\n",
    "\n",
    "            if reference_wcs is None:\n",
    "                reference_wcs = wcs\n",
    "                reference_shape = img.shape\n",
    "\n",
    "            aligned_img, _ = reproject_interp((img, wcs), reference_wcs, shape_out=reference_shape)\n",
    "            target_x, target_y = reference_wcs.all_world2pix(source_ra, source_dec, 0)\n",
    "\n",
    "            # Create cutout centered on source\n",
    "            cutout = Cutout2D(aligned_img, (target_x, target_y), cutout_size, wcs=reference_wcs)\n",
    "\n",
    "            norm = ImageNormalize(cutout.data, interval=ZScaleInterval())\n",
    "            fig, ax = plt.subplots()\n",
    "            ax.imshow(cutout.data, norm=norm, cmap='viridis', origin='lower')\n",
    "\n",
    "            # Draw aperture (now centered in cutout coords)\n",
    "            aperture = CircularAperture((cutout.data.shape[1] / 2, cutout.data.shape[0] / 2), r=aperture_radius)\n",
    "            aperture.plot(color='red', lw=1.5, ax=ax)\n",
    "\n",
    "            ax.set_title(f\"Band: {row['filter']} | Time: {row['mjd-obs']:.2f}\", fontsize=8)\n",
    "            ax.axis('off')\n",
    "\n",
    "            frame_path = os.path.join(save_dir, f\"cutout_frame_{i}.png\")\n",
    "            plt.savefig(frame_path, bbox_inches='tight', dpi=100)\n",
    "            frames.append(imageio.imread(frame_path))\n",
    "            plt.close()\n",
    "\n",
    "        except Exception as e:\n",
    "            print(f\"Error processing {fits_file_path}: {e}\")\n",
    "\n",
    "    if frames:\n",
    "        gif_path = os.path.join(save_dir, output_gif)\n",
    "        imageio.mimsave(gif_path, frames, duration=2)\n",
    "        print(f\"GIF saved at {gif_path}\")\n",
    "\n",
    "        for i in range(len(frames)):\n",
    "            os.remove(os.path.join(save_dir, f\"cutout_frame_{i}.png\"))\n",
    "    else:\n",
    "        print(\"No valid frames to create GIF.\")\n",
    "\n",
    "# Call the function\n",
    "create_cutout_fits_gif(\n",
    "    lc_table=LC_table,\n",
    "    aperture_radius=3.0,\n",
    "    n_images=5,\n",
    "    bucket_name=\"nasa-irsa-simulations\",\n",
    "    prefix=\"openuniverse2024/roman/full/RomanTDS/images/simple_model\",\n",
    "    source_ra=source_ra,\n",
    "    source_dec=source_dec,\n",
    "    save_dir='/Users/mshahbandeh/Roman/roman_notebooks-test/content/notebooks/',\n",
    "    output_gif=\"fits_cutout.gif\",\n",
    "    cutout_size=50\n",
    ")\n",
    "\n",
    "display(Image('/Users/mshahbandeh/Roman/roman_notebooks-test/content/notebooks/fits_cutout.gif'))"
   ]
  },
  {
   "cell_type": "markdown",
   "id": "a5117882-d29b-468a-8184-8ae3eec5c576",
   "metadata": {},
   "source": [
    "## Additional resources <a class=\"anchor\" id=\"6-ADs\"></a>\n",
    "\n",
    "- [Roman User Documentation -- RDox](https://roman-docs.stsci.edu/)\n",
    "- [RDox WFI Data Levels and Products](https://roman-docs.stsci.edu/data-handbook-home/wfi-data-format/data-levels-and-products#DataLevelsandProducts-L2ScienceDataSpecifications)\n",
    "- [Roman Help Desk](https://roman-docs.stsci.edu/roman-help-desk-at-stsci)"
   ]
  },
  {
   "cell_type": "markdown",
   "id": "5842f7b0-a2ed-4a56-9e79-4df0b8234d3c",
   "metadata": {},
   "source": [
    "## About this notebook <a class=\"anchor\" id=\"7-About\"></a>\n",
    "\n",
    "**Author:** [Melissa Shahbandeh](https://github.com/shahbandeh/roman_notebooks/tree/time-domain/content/notebooks/time_domain_analysis)  \n",
    "\n",
    "**Updated On:** 2025-03-25"
   ]
  },
  {
   "cell_type": "markdown",
   "id": "c022ca79-69ba-4e8f-89ce-6308ec61b298",
   "metadata": {},
   "source": [
    "**************"
   ]
  },
  {
   "cell_type": "markdown",
   "id": "d284a47f-22b4-433f-a7a6-6af95827f9af",
   "metadata": {},
   "source": [
    "[Top of Page](#top)\n",
    "<img style=\"float: right;\" src=\"https://raw.githubusercontent.com/spacetelescope/notebooks/master/assets/stsci_pri_combo_mark_horizonal_white_bkgd.png\" alt=\"Space Telescope Logo\" width=\"200px\"/> "
   ]
  }
 ],
 "metadata": {
  "kernelspec": {
   "display_name": "Python 3 (ipykernel)",
   "language": "python",
   "name": "python3"
  },
  "language_info": {
   "codemirror_mode": {
    "name": "ipython",
    "version": 3
   },
   "file_extension": ".py",
   "mimetype": "text/x-python",
   "name": "python",
   "nbconvert_exporter": "python",
   "pygments_lexer": "ipython3",
   "version": "3.12.2"
  }
 },
 "nbformat": 4,
 "nbformat_minor": 5
}
