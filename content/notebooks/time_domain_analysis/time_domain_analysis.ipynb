{
 "cells": [
  {
   "cell_type": "markdown",
   "id": "b4c98ddf-620e-47ad-b371-83bcb1c76616",
   "metadata": {},
   "source": [
    "<a id=\"top\"></a>\n",
    "# Roman Lvl 4 Data Analysis for Time-Domain Astronomy\n",
    "**************\n",
    "**************"
   ]
  },
  {
   "cell_type": "markdown",
   "id": "95cceb25-a9fb-4248-a04c-60e5b42f54d3",
   "metadata": {},
   "source": [
    "## Kernel Information\n",
    "\n",
    "To run this notebook on the Roman Science Platform, please select the \"Roman Calibration\" kernel at the top right of your window.\n",
    "**************"
   ]
  },
  {
   "cell_type": "markdown",
   "id": "25935e07-3b60-47f9-b630-41ed6d3a9340",
   "metadata": {},
   "source": [
    "## Learning Goals\n",
    "\n",
    "By the end of this tutorial, you will:\n",
    "\n",
    "- Create a light curve from Roman simulated data.\n",
    "- Calculate and extract cosmological parameters from the light curves.\n",
    "- Create color curves to have a better understanding of the color of the object.\n",
    "**************"
   ]
  },
  {
   "cell_type": "markdown",
   "id": "d2c46d76-6ced-4a80-bdb0-6e7c962c350e",
   "metadata": {},
   "source": [
    "## Introduction\n",
    "\n",
    "This notebook is designed to provide a simple analysis of Level 4 imaging data products for the Roman Space Telescope with a focus on time-domain astronomy. Herre, we are leveraging the Open Universe (OU) simulated images, however, you can use any other data as well. The notebook processes and analyzes OU data to provide users with advanced data products that can support transient science, including supernovae, variable stars, and other time-sensitive phenomena.\n",
    "**************"
   ]
  },
  {
   "cell_type": "markdown",
   "id": "54f40ed2-8c9b-448a-9172-2ea80edc20cb",
   "metadata": {},
   "source": [
    "# Table of Contents\n",
    "\n",
    "1. [Loading data](#1-input)\n",
    "   - Imports\n",
    "   - Reading the input data\n",
    "   - Preparing the input data\n",
    "2. [Light curves](#2-LCs)\n",
    "   - Plotting a single light curve\n",
    "   - Plotting a light curve of all filters\n",
    "   - Finding the peak brightness and time for each filter\n",
    "   - Computing the rise time and decline rate for each filter\n",
    "   - Fitting the light curves using sncosmo\n",
    "3. [Color curves](#3-CCs)\n",
    "   - Creating color curves\n",
    "   - Plotting several color curves\n",
    "4. [Additional resources](#4-ADs)\n",
    "5. [About this notebook](#5-About)\n",
    "6. [Citations](#6-Cite)"
   ]
  },
  {
   "cell_type": "markdown",
   "id": "63ba309e-3614-4c93-835b-ab7e96f8b452",
   "metadata": {},
   "source": [
    "**************\n",
    "# 1. Loading data <a class=\"anchor\" id=\"1-input\"></a>"
   ]
  },
  {
   "cell_type": "markdown",
   "id": "4b45369e-4fd5-4bb1-8d54-a336a3518408",
   "metadata": {},
   "source": [
    "## Imports\n",
    "\n",
    "Here we import the required packages for our data access examples including:\n",
    "- *astropy.table Table* for creating tidy tables of the data\n",
    "- *matplotlib.pyplot* for plotting\n",
    "- *sncosmo*  for modeling and fitting light curves\n",
    "- *numpy* to handle array functions"
   ]
  },
  {
   "cell_type": "code",
   "execution_count": null,
   "id": "c0913878-d3d7-46f0-904c-b754f39a1284",
   "metadata": {},
   "outputs": [],
   "source": [
    "# Numerical operations\n",
    "import numpy as np  # For efficient numerical computations and array handling\n",
    "\n",
    "# Visualization\n",
    "import matplotlib.pyplot as plt  # For creating plots and figures\n",
    "\n",
    "# Astronomy-specific libraries\n",
    "from astropy.table import Table  # For table manipulation and stacking\n",
    "import sncosmo  # For modeling and fitting supernova light curves"
   ]
  },
  {
   "cell_type": "markdown",
   "id": "6ffbd6ea-a4e6-4b7b-ab92-16d8141dec0f",
   "metadata": {},
   "source": [
    "## Reading the Input Data\n",
    "\n",
    "This section reads an ECSV file containing the photometric dataset for a random transient from the Open Univserse (OU) Roman simulatins. Details on how the following file was created is shown in another notebook called \"[Enter name and link of the notebook here]\" which is also available on the Roman Science Platform (RSP). \n",
    "\n",
    "The follwoing file contains columns such as mjd-obs, flux, filter, and other metadata.\n",
    "\n",
    "For more info on how to access the available data on the RSP see [this notebook].\n",
    "\n",
    "The fluxes were obtained using aperture photometry on the transient. For more info on aperture photmetry see [this other notebook]."
   ]
  },
  {
   "cell_type": "code",
   "execution_count": null,
   "id": "7ce77a2d-5d20-4ffd-b15c-91db3d776bac",
   "metadata": {},
   "outputs": [],
   "source": [
    "# Load the input data\n",
    "# This allows users to provide their own data in Astropy Table format\n",
    "LC_table = Table.read('Updated_Matching_Observations.ecsv', format='ascii.ecsv')\n",
    "\n",
    "# Filter out rows with missing flux values\n",
    "# Missing flux values could indicate incomplete or unreliable data points.\n",
    "LC_table = LC_table[~LC_table['flux'].mask]"
   ]
  },
  {
   "cell_type": "code",
   "execution_count": null,
   "id": "62375f65-f4fb-4b67-95e9-78f123df6702",
   "metadata": {},
   "outputs": [],
   "source": [
    "# If you can't access the above dataset or you just want to test and run the rest of the notebook, you can use an example photmetric dataset from a package called sncosmo as follows (more on sncosmo is detailed later)\n",
    "# LC_table = sncosmo.load_example_data()"
   ]
  },
  {
   "cell_type": "markdown",
   "id": "4d22dcd4-007b-4cdc-addf-5b86156eab01",
   "metadata": {},
   "source": [
    "## Preparing the Input Data\n",
    "\n",
    "sncosmo expects specific column names for light curve data and in astropy table format.\n",
    "\n",
    "In this step, we rename:\n",
    "\n",
    "mjd-obs to time (to represent the Modified Julian Date of the observation).\n",
    "\n",
    "filter to band (the specific bandpass filter used in the observation).\n",
    "\n",
    "flux remains unchanged as it's already appropriately named."
   ]
  },
  {
   "cell_type": "code",
   "execution_count": null,
   "id": "a22f12af-76b0-43c9-a9ae-35b03afa1d8c",
   "metadata": {},
   "outputs": [],
   "source": [
    "# Ensure column names are compatible with sncosmo, therefore compatible with the rest of the notebook\n",
    "# Rename original columns if needed\n",
    "required_renames = {\n",
    "    'mjd-obs': 'time',  # Rename 'mjd-obs' to 'time'\n",
    "    'filter': 'band',   # Rename 'filter' to 'band'\n",
    "    'flux': 'flux',     # Ensure 'flux' column exists\n",
    "}\n",
    "for old_name, new_name in required_renames.items():\n",
    "    if old_name in LC_table.colnames:\n",
    "        LC_table.rename_column(old_name, new_name)"
   ]
  },
  {
   "cell_type": "code",
   "execution_count": null,
   "id": "64259883-b11c-414f-abd7-bd0547bfdfed",
   "metadata": {},
   "outputs": [],
   "source": [
    "# Modify filter names to match sncosmo's Roman filter conventions. Uncomment the following only if you are using the Open Universe dataset\n",
    "# if 'band' in LC_table.colnames:\n",
    "#     LC_table['band'] = [\n",
    "#         band.replace(band[0], 'f') if band[0].isalpha() else band for band in LC_table['band']\n",
    "#     ]"
   ]
  },
  {
   "cell_type": "code",
   "execution_count": null,
   "id": "e8cc0be8-ad2e-40ac-8e9d-479a8b1c4645",
   "metadata": {},
   "outputs": [],
   "source": [
    "# Define and assign zero-point values for each filter\n",
    "zp_values = {\n",
    "    'f062': 27.5, 'f087': 27.0, 'f106': 26.5, 'f129': 26.0,\n",
    "    'f146': 25.8, 'f158': 25.6, 'f184': 25.4, 'f213': 25.2\n",
    "}\n",
    "if 'zp' not in LC_table.colnames:\n",
    "    LC_table['zp'] = [zp_values.get(band, np.nan) for band in LC_table['band']]\n",
    "\n",
    "# Add the magnitude system column\n",
    "if 'zpsys' not in LC_table.colnames:\n",
    "    LC_table['zpsys'] = ['ab'] * len(LC_table)"
   ]
  },
  {
   "cell_type": "code",
   "execution_count": null,
   "id": "8263201e-76cd-4e66-b8b2-a117a98d1f02",
   "metadata": {},
   "outputs": [],
   "source": [
    "# Convert flux to AB magnitude only if zpsys is not 'ab'\n",
    "if 'flux' in LC_table.colnames and 'zp' in LC_table.colnames and 'zpsys' in LC_table.colnames:\n",
    "    # Identify rows where zpsys is not 'ab'\n",
    "    non_ab_mask = LC_table['zpsys'] != 'ab'\n",
    "    \n",
    "    # Convert only those rows to the AB system\n",
    "    if np.any(non_ab_mask):  # Check if there are any non-ab rows to avoid unnecessary calculations\n",
    "        flux_values = np.asarray(LC_table['flux'][non_ab_mask], dtype=float)\n",
    "        zp_values = np.asarray(LC_table['zp'][non_ab_mask], dtype=float)\n",
    "        # Convert flux to AB system\n",
    "        LC_table['flux'][non_ab_mask] = -2.5 * np.log10(flux_values) + zp_values\n",
    "    \n",
    "    # Ensure all rows now have zpsys as 'ab'\n",
    "    LC_table['zpsys'][non_ab_mask] = 'ab'\n",
    "\n",
    "# Add a 'fluxerr' column if missing (default: 5% of flux)\n",
    "if 'fluxerr' not in LC_table.colnames:\n",
    "    if 'flux' in LC_table.colnames:\n",
    "        LC_table['fluxerr'] = 0.05 * LC_table['flux']\n",
    "    else:\n",
    "        raise ValueError(\"Input data must contain a 'flux' column to calculate 'fluxerr'.\")"
   ]
  },
  {
   "cell_type": "code",
   "execution_count": null,
   "id": "a7b5cd75-9430-4eea-91f0-dc261cdb74f5",
   "metadata": {
    "scrolled": true
   },
   "outputs": [],
   "source": [
    "# Select only the required columns for sncosmo\n",
    "required_columns = ['time', 'band', 'flux', 'fluxerr', 'zp', 'zpsys']\n",
    "for col in required_columns:\n",
    "    if col not in LC_table.colnames:\n",
    "        raise ValueError(f\"Required column '{col}' is missing in the input data.\")\n",
    "\n",
    "lc_data = LC_table[required_columns]\n",
    "\n",
    "# Save the transformed table to a new ECSV file\n",
    "output_filename = 'Transformed_for_SNCosmo.ecsv'\n",
    "lc_data.write(output_filename, format='ascii.ecsv', overwrite=True)\n",
    "\n",
    "# Display the first few rows of the transformed table\n",
    "print(\"Transformed Table for SNCosmo:\")\n",
    "print(lc_data)  # Show the first 10 rows"
   ]
  },
  {
   "cell_type": "markdown",
   "id": "c454ef95-9565-4bae-abb0-98ff8b6da050",
   "metadata": {},
   "source": [
    "**************\n",
    "# 2. Light curves <a class=\"anchor\" id=\"2-LCs\"></a>"
   ]
  },
  {
   "cell_type": "markdown",
   "id": "66bb95d8-a3f3-4a17-86cb-62e8aee0e801",
   "metadata": {},
   "source": [
    "## Plotting a single light curve"
   ]
  },
  {
   "cell_type": "code",
   "execution_count": null,
   "id": "a8b7f4df-fec4-4cba-8756-bbea67f91ea2",
   "metadata": {},
   "outputs": [],
   "source": [
    "# Define the single filter to plot\n",
    "single_filter_name = 'f062'  # Replace 'f062' with your desired filter name; for example sdssz if you are using the sncosmo sample data\n",
    "\n",
    "# Select rows corresponding to the single filter\n",
    "filter_mask = lc_data['band'] == single_filter_name\n",
    "group = lc_data[filter_mask]\n",
    "\n",
    "# Check if the filter exists in the data\n",
    "if not np.any(filter_mask):\n",
    "    raise ValueError(f\"Filter '{single_filter_name}' not found in the data.\")\n",
    "    \n",
    "# Plot time vs. flux for the selected filter\n",
    "plt.figure(figsize=(10, 6))\n",
    "plt.scatter(group['time'], group['flux'], label=single_filter_name)\n",
    "\n",
    "# Customize the plot\n",
    "plt.xlabel(\"MJD (Modified Julian Date)\")\n",
    "plt.ylabel(\"Flux [AB]\")\n",
    "plt.title(f\"Light Curve for Filter: {single_filter_name}\")\n",
    "plt.legend(title=\"Filter\")\n",
    "plt.gca().invert_yaxis()  # Invert y-axis for magnitudes (lower mags are brighter)\n",
    "plt.show()"
   ]
  },
  {
   "cell_type": "markdown",
   "id": "238b9cda-b0cb-44e7-8abc-35cb6eb2eda7",
   "metadata": {},
   "source": [
    "## Plotting a light curve of all filters"
   ]
  },
  {
   "cell_type": "code",
   "execution_count": null,
   "id": "858b4767-a98d-4b8e-8005-148341f25230",
   "metadata": {
    "scrolled": true
   },
   "outputs": [],
   "source": [
    "# Group by filters and plot\n",
    "plt.figure(figsize=(10, 6))\n",
    "\n",
    "# Get unique filter names\n",
    "filter_names = np.unique(lc_data['band'])\n",
    "\n",
    "# Iterate through each filter and plot\n",
    "for filter_name in filter_names:\n",
    "    # Select rows corresponding to the current filter\n",
    "    filter_mask = lc_data['band'] == filter_name\n",
    "    group = lc_data[filter_mask]\n",
    "    \n",
    "    # Plot time vs. flux for the current filter\n",
    "    plt.scatter(group['time'], group['flux'], label=filter_name)\n",
    "\n",
    "# Customize the plot\n",
    "plt.xlabel(\"MJD (Modified Julian Date)\")\n",
    "plt.ylabel(\"Flux [AB]\")\n",
    "plt.title(\"Light Curves for Different Filters\")\n",
    "plt.legend(title=\"Filters\", ncols=2)\n",
    "plt.gca().invert_yaxis()  # Invert y-axis for magnitudes (lower mags are brighter)\n",
    "plt.show()"
   ]
  },
  {
   "cell_type": "markdown",
   "id": "a7dfb4d8-586c-4154-ac32-40f16941ac78",
   "metadata": {},
   "source": [
    "## Finding the peak brightness and time for each filter"
   ]
  },
  {
   "cell_type": "code",
   "execution_count": null,
   "id": "984ec055-871d-435e-b844-6f76be47cf4f",
   "metadata": {
    "scrolled": true
   },
   "outputs": [],
   "source": [
    "# Ensuring the data is sorted by time\n",
    "lc_data.sort('time')\n",
    "\n",
    "# Finding the peak brightness and time for each filter\n",
    "peak_info = {}\n",
    "for filt in filter_names:\n",
    "    mask = lc_data['band'] == filt\n",
    "    filtered_data = lc_data[mask]\n",
    "    peak_flux = np.max(filtered_data['flux'])\n",
    "    peak_time = filtered_data['time'][np.argmax(filtered_data['flux'])]\n",
    "    peak_info[filt] = {'flux': peak_flux, 'time': peak_time}\n",
    "    print(f\"Filter: {filt}, Peak Flux: {peak_flux:.2f}, Peak Time: {peak_time:.2f}\")"
   ]
  },
  {
   "cell_type": "markdown",
   "id": "795c7b4c-59d0-4053-b52a-90c87d272e1b",
   "metadata": {},
   "source": [
    "## Computing the rise time and decline rate for each filters"
   ]
  },
  {
   "cell_type": "code",
   "execution_count": null,
   "id": "ead20c32-9292-476a-8ee5-46fb74c3685b",
   "metadata": {
    "scrolled": true
   },
   "outputs": [],
   "source": [
    "# Computing rise time and decline rate for all filters\n",
    "for filt in filter_names:\n",
    "    mask = lc_data['band'] == filt\n",
    "    filtered_data = lc_data[mask]\n",
    "    peak_flux = peak_info[filt]['flux']\n",
    "    peak_time = peak_info[filt]['time']\n",
    "\n",
    "    # Computing rise time (time to reach 50% of peak flux)\n",
    "    pre_peak_mask = filtered_data['time'] < peak_time\n",
    "    rise_data = filtered_data[pre_peak_mask]\n",
    "    if len(rise_data) > 0:\n",
    "        rise_time = peak_time - rise_data['time'][np.argmin(np.abs(rise_data['flux'] - 0.5 * peak_flux))]\n",
    "        rise_info = f\"Rise Time: {rise_time:.2f} days\"\n",
    "    else:\n",
    "        rise_info = \"Rise Time: Insufficient data\"\n",
    "\n",
    "    # Computing decline rate (flux decline 15 days after peak)\n",
    "    post_peak_mask = (filtered_data['time'] > peak_time) & (filtered_data['time'] <= peak_time + 15)\n",
    "    post_peak_data = filtered_data[post_peak_mask]\n",
    "    if len(post_peak_data) > 0:\n",
    "        flux_15_days = post_peak_data['flux'][-1]\n",
    "        decline_rate = (peak_flux - flux_15_days) / 15\n",
    "        decline_info = f\"Decline Rate: {decline_rate:.2f} flux units/day\"\n",
    "    else:\n",
    "        decline_info = \"Decline Rate: Insufficient data\"\n",
    "\n",
    "    # Printing both rise time and decline rate in a single line\n",
    "    print(f\"Filter: {filt}, {rise_info}, {decline_info}\")"
   ]
  },
  {
   "cell_type": "markdown",
   "id": "abc5add3-9335-483c-8377-eaa9f7438707",
   "metadata": {},
   "source": [
    "## Fitting the light curves using sncosmo\n",
    "\n",
    "We now fit our data with a sncosmo.Model used for a Type Ia supernova (using the SALT3 model) to get the light curve parameters. Light curve fitting parameters provide a bridge between observational data and physical or cosmological insights. They are key to understanding transient events, measuring distances, and exploring the nature of the universe.\n",
    "\n",
    "Fitting parameters include:\n",
    "\n",
    " 1. \\( t_0 \\): Time of Maximum Brightness**\n",
    "- **Definition**: The time (in MJD) when the transient reaches peak brightness.\n",
    "- **Significance**:\n",
    "  - Determines the event's timeline.\n",
    "  - Allows comparison of the light curve evolution with other observations (e.g., spectra).\n",
    "\n",
    "---\n",
    "\n",
    " 2. \\( x_0 \\): Amplitude (Luminosity Parameter)**\n",
    "- **Definition**: Scaling factor for the brightness of the light curve.\n",
    "- **Significance**:\n",
    "  - Related to the absolute magnitude and luminosity of the transient.\n",
    "  - Used for distance estimation (e.g., standard candles like Type Ia supernovae).\n",
    "\n",
    "---\n",
    "\n",
    " 3. \\( x_1 \\): Stretch (Light Curve Shape)**\n",
    "- **Definition**: Describes how fast or slow the transient brightens and fades compared to a standard template.\n",
    "- **Significance**:\n",
    "  - Indicates explosion energy and nickel-56 production (e.g., brighter events decay slower).\n",
    "  - Provides insights into the explosion mechanism and progenitor system.\n",
    "\n",
    "---\n",
    "\n",
    " 4. \\( c \\): Color Parameter**\n",
    "- **Definition**: A measure of color deviation from intrinsic properties, including dust extinction effects.\n",
    "- **Significance**:\n",
    "  - Estimates host galaxy dust extinction.\n",
    "  - Crucial for standardizing brightness for distance measurements.\n"
   ]
  },
  {
   "cell_type": "code",
   "execution_count": null,
   "id": "cf1b4cb7-d1ab-4286-b429-af1ee98c5350",
   "metadata": {
    "scrolled": true
   },
   "outputs": [],
   "source": [
    "# Initialize the sncosmo model (example: salt3_nir for Type Ia Supernovae in the NIR)\n",
    "model = sncosmo.Model(source='salt2')\n",
    "\n",
    "# Set initial parameters for the model if required (example: redshift)\n",
    "model.set(z=1.0)  # Adjust the redshift or other parameters as needed\n",
    "\n",
    "# Perform light curve fitting\n",
    "result, fitted_model = sncosmo.fit_lc(\n",
    "    lc_data,\n",
    "    model,\n",
    "    ['z', 't0', 'x0', 'x1', 'c'],  # Parameters to fit\n",
    "    bounds={\n",
    "        't0': (lc_data['time'].min(), lc_data['time'].max()),  # Bounds for time of peak\n",
    "        'x1': (-3e-6, 3),  # Bounds for stretch parameter\n",
    "        'c': (-3e-6, 3),  # Bounds for color parameter\n",
    "        'z':(0.01, 1.2) # Bounds for redshift\n",
    "    },\n",
    ")\n",
    "\n",
    "# Plot the original light curve data with the fitted model\n",
    "sncosmo.plot_lc(lc_data, model=fitted_model, errors=result.errors)\n",
    "plt.show()"
   ]
  },
  {
   "cell_type": "markdown",
   "id": "39ef9f28-fe14-41ff-92f7-fa1be4663f50",
   "metadata": {},
   "source": [
    "**************\n",
    "# 3. Color curves <a class=\"anchor\" id=\"3-CCs\"></a>"
   ]
  },
  {
   "cell_type": "markdown",
   "id": "bfc7afad-1958-4e74-8569-724df1cb4489",
   "metadata": {},
   "source": [
    "## Creating color curves"
   ]
  },
  {
   "cell_type": "code",
   "execution_count": null,
   "id": "3c97234f-d34a-4e41-b581-008cab4073e1",
   "metadata": {},
   "outputs": [],
   "source": [
    "# Create a dictionary to group fluxes by filter and time\n",
    "flux_dict = {filt: lc_data['flux'][lc_data['band'] == filt] for filt in filter_names}\n",
    "time_dict = {filt: lc_data['time'][lc_data['band'] == filt] for filt in filter_names}\n",
    "\n",
    "# Align times across filters to create color indices\n",
    "aligned_times = np.unique(np.concatenate([time_dict[filt] for filt in filter_names]))\n",
    "\n",
    "# Interpolate flux values for each filter at aligned times\n",
    "interp_flux = {}\n",
    "for filt in filter_names:\n",
    "    interp_flux[filt] = np.interp(aligned_times, time_dict[filt], flux_dict[filt])\n",
    "\n",
    "# # Compute color indices\n",
    "color_indices = {\n",
    "    'r-i': interp_flux['f087'] - interp_flux['f106'],  # Example: r-i; change the filter names accordingly\n",
    "    'g-r': interp_flux['f062'] - interp_flux['f087'],  # Example: g-r; change the filter names accordingly\n",
    "    'i-z': interp_flux['f106'] - interp_flux['f129']   # Example: i-z; change the filter names accordingly\n",
    "}\n",
    "\n",
    "# Uncomment if you are using the sample data from sncosmo\n",
    "# color_indices = {\n",
    "#     'r-i': interp_flux['sdssr'] - interp_flux['sdssi'],  # Example: r-i\n",
    "#     'r-g': interp_flux['sdssr'] - interp_flux['sdssg'],  # Example: r-g\n",
    "#     'i-z': interp_flux['sdssi'] - interp_flux['sdssz']   # Example: i-z\n",
    "# }"
   ]
  },
  {
   "cell_type": "markdown",
   "id": "ec8ffcbb-5063-4546-9b42-e5dc5fb874b9",
   "metadata": {},
   "source": [
    "## Plotting several color curves"
   ]
  },
  {
   "cell_type": "code",
   "execution_count": null,
   "id": "40122615-3933-4459-83ef-6287f287e1f8",
   "metadata": {
    "scrolled": true
   },
   "outputs": [],
   "source": [
    "# Plot color curves\n",
    "plt.figure(figsize=(10, 6))\n",
    "for color_index, values in color_indices.items():\n",
    "    plt.scatter(aligned_times, values, label=color_index)\n",
    "\n",
    "# Customize the plot\n",
    "plt.xlabel(\"MJD (Modified Julian Date)\")\n",
    "plt.ylabel(\"Color Index (Mag)\")\n",
    "plt.title(\"Color Curves Over Time\")\n",
    "plt.legend(title=\"Color Index\")\n",
    "plt.grid()\n",
    "plt.show()\n"
   ]
  },
  {
   "cell_type": "markdown",
   "id": "a5117882-d29b-468a-8184-8ae3eec5c576",
   "metadata": {},
   "source": [
    "**************\n",
    "# 4. Additional resources <a class=\"anchor\" id=\"4-ADs\"></a>"
   ]
  },
  {
   "cell_type": "markdown",
   "id": "c5865065-34cf-4bd6-a629-5b49d594b509",
   "metadata": {},
   "source": [
    "- [Roman User Documentation -- RDox](https://roman-docs.stsci.edu/)\n",
    "- [MAST](https://archive.stsci.edu)\n",
    "- [ASDF python API](https://asdf.readthedocs.io/en/latest/)\n",
    "- [ASDF standard](https://asdf-standard.readthedocs.io/)\n",
    "- [RDox WFI Data Levels and Products](https://roman-docs.stsci.edu/data-handbook-home/wfi-data-format/data-levels-and-products#DataLevelsandProducts-L2ScienceDataSpecifications)\n",
    "- [\"WebbPSF Overview\"](https://roman-docs.stsci.edu/simulation-tools-handbook-home/webbpsf-for-roman/overview-of-webbpsf)\n",
    "- [PSF photometry](https://photutils.readthedocs.io/en/stable/psf.html)\n",
    "- [Roman instrument model](https://webbpsf.readthedocs.io/en/stable/roman.html)\n",
    "- [Roman Help Desk](https://roman-docs.stsci.edu/roman-help-desk-at-stsci)"
   ]
  },
  {
   "cell_type": "markdown",
   "id": "5842f7b0-a2ed-4a56-9e79-4df0b8234d3c",
   "metadata": {},
   "source": [
    "**************\n",
    "# 5. About this notebook <a class=\"anchor\" id=\"5-About\"></a>\n",
    "\n",
    "If you have any questions or need further help with the material presented in this notebook, feel free to contact [mshahbandeh@stsci.edu](mshahbandeh@stsci.edu)."
   ]
  },
  {
   "cell_type": "markdown",
   "id": "f21728e6-0d8f-4393-a152-2306f095bf0c",
   "metadata": {},
   "source": [
    "**Author:** [Melissa Shahbandeh](https://github.com/shahbandeh/Roman)  \n",
    "\n",
    "**Updated On:** 2024-10-05"
   ]
  },
  {
   "cell_type": "markdown",
   "id": "bf2fb3f1-8b82-4cc8-9b6f-263fedfc3c0d",
   "metadata": {},
   "source": [
    "**************\n",
    "# 6. Citations <a class=\"anchor\" id=\"6-Cite\"></a>"
   ]
  },
  {
   "cell_type": "markdown",
   "id": "bd35b3b3-c821-420d-af71-2099d1efc307",
   "metadata": {},
   "source": [
    "[Open Universe Roman simulations](https://irsa.ipac.caltech.edu/data/theory/openuniverse2024/overview.html)\n",
    "[SNCosmo](https://zenodo.org/records/14025775)"
   ]
  },
  {
   "cell_type": "markdown",
   "id": "c022ca79-69ba-4e8f-89ce-6308ec61b298",
   "metadata": {},
   "source": [
    "**************\n",
    "**************"
   ]
  },
  {
   "cell_type": "markdown",
   "id": "d284a47f-22b4-433f-a7a6-6af95827f9af",
   "metadata": {},
   "source": [
    "[Top of Page](#top)\n",
    "<img style=\"float: right;\" src=\"https://raw.githubusercontent.com/spacetelescope/notebooks/master/assets/stsci_pri_combo_mark_horizonal_white_bkgd.png\" alt=\"Space Telescope Logo\" width=\"200px\"/> "
   ]
  }
 ],
 "metadata": {
  "kernelspec": {
   "display_name": "Python 3 (ipykernel)",
   "language": "python",
   "name": "python3"
  },
  "language_info": {
   "codemirror_mode": {
    "name": "ipython",
    "version": 3
   },
   "file_extension": ".py",
   "mimetype": "text/x-python",
   "name": "python",
   "nbconvert_exporter": "python",
   "pygments_lexer": "ipython3",
   "version": "3.12.2"
  }
 },
 "nbformat": 4,
 "nbformat_minor": 5
}
