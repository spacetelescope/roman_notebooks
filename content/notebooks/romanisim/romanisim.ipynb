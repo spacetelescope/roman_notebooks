{
 "cells": [
  {
   "cell_type": "markdown",
   "metadata": {
    "slideshow": {
     "slide_type": "slide"
    }
   },
   "source": [
    "# How to Generate L1 and L2 WFI Files with Roman I-Sim"
   ]
  },
  {
   "cell_type": "markdown",
   "metadata": {
    "slideshow": {
     "slide_type": "skip"
    }
   },
   "source": [
    "***"
   ]
  },
  {
   "cell_type": "markdown",
   "metadata": {
    "slideshow": {
     "slide_type": "slide"
    }
   },
   "source": [
    "## Kernel Information and Read-Only Status\n",
    "\n",
    "To run this notebook, please select the \"Roman Calibration\" kernel at the top right of your window.\n",
    "\n",
    "This notebook is read-only. You can run cells and make edits, but you must save changes to a different location. We recommend saving the notebook within your home directory, or to a new folder within your home (e.g. <span style=\"font-variant:small-caps;\">file > save notebook as > my-nbs/nb.ipynb</span>). Note that a directory must exist before you attempt to add a notebook to it.\n",
    "\n",
    "## Table of Contents\n",
    "- [Imports](#Imports)\n",
    "- [Introduction](#Introduction)\n",
    "- [Tutorial Data](#Tutorial-Data)\n",
    "- [Source Catalog Generation](#Source-Catalog-Generation)\n",
    "- [Image Simulation](#Image-Simulation)\n",
    "- [Advanced Use Cases](#Advanced-Use-Cases)\n",
    "   - [Dithered Observations](#Dithered-Observations)\n",
    "   - [Parallelized Simulations](#Parallelized-Simulations)\n",
    "- [Additional Resources](#Additional-Resources)\n",
    "   - [About This Notebook](#About-This-Notebook)"
   ]
  },
  {
   "cell_type": "markdown",
   "metadata": {},
   "source": [
    "## Imports\n",
    " Libraries used\n",
    "- *argparse* for formatting input options in romanisim\n",
    "- *astroquery.gaia* for querying the Gaia catalog\n",
    "- *astropy.coordinates* for storing celestial coordinates as Python objects\n",
    "- *astropy.time* for storing time information as Python objects\n",
    "- *astropy.table* for working with Astropy Table objects\n",
    "- *galsim* for image simulations\n",
    "- *numpy* for array operations\n",
    "- *romanisim* for image simulations\n",
    "- *s3fs* for accessing files in an S3 bucket\n",
    "\n",
    "Additionally, we include an optional import of the `concurrent` module to use in the advanced, parallelized example at the end of the tutorial."
   ]
  },
  {
   "cell_type": "code",
   "execution_count": null,
   "metadata": {
    "slideshow": {
     "slide_type": "fragment"
    }
   },
   "outputs": [],
   "source": [
    "import argparse\n",
    "from astroquery.gaia import Gaia\n",
    "from astropy.coordinates import SkyCoord\n",
    "from astropy.time import Time\n",
    "from astropy.table import vstack\n",
    "import galsim\n",
    "import numpy as np\n",
    "from romanisim import gaia, bandpass, catalog, log, wcs, persistence, parameters, ris_make_utils as ris\n",
    "import s3fs"
   ]
  },
  {
   "cell_type": "markdown",
   "metadata": {
    "slideshow": {
     "slide_type": "slide"
    }
   },
   "source": [
    "## Introduction\n",
    "\n",
    "The purpose of this notebook is to show how to generate simulated Level 1 (L1; uncalibrated ramp cubes) and Level 2 (L2; calibrated rate images) Roman Wide Field Instrument (WFI) Advanced Scientific Data Format (ASDF) files with Roman I-Sim (package name `romanisim`). Details about the Roman data levels can be found in the [Data Levels and Products](https://roman-docs.stsci.edu/data-handbook-home/wfi-data-format/data-levels-and-products) article in the Roman Documentation System (RDox). Briefly, a L1 file contains a single uncalibrated ramp exposure in units of Data Numbers (DN).  L1 files are three-dimensional data cubes, one dimension for time and two dimensions for image coordinates, that are shaped as  arrays with (N resultants, 4096 image rows, 4096 image columns). A resultant is a sample up-the-ramp, and represents either a single read of the WFI detectors or multiple reads that have been combined. The L2 WFI data are calibrated images in instrumental units of DN / second.  They are two-dimensional arrays shaped as (4088 image rows, 4088 image columns)."
   ]
  },
  {
   "cell_type": "markdown",
   "metadata": {},
   "source": [
    "***"
   ]
  },
  {
   "cell_type": "markdown",
   "metadata": {
    "slideshow": {
     "slide_type": "slide"
    }
   },
   "source": [
    "## Tutorial Data\n",
    "\n",
    "In this tutorial, we will create necessary data in memory or retrieve it from a catalog service. Catalog files are also available in the RSP S3 bucket, and can be streamed into memory using `astropy.table.Table` and the `s3fs` package instructions in the Data Discovery and Access tutorial. Also see the RSP documentation for more information on the catalogs available in the S3 bucket."
   ]
  },
  {
   "cell_type": "markdown",
   "metadata": {
    "slideshow": {
     "slide_type": "slide"
    }
   },
   "source": [
    "## Source Catalog Generation\n",
    "\n",
    "The `romanisim` package offers two options for generating source catalogs:\n",
    "1. Retrieve the source catalog from Gaia; or\n",
    "2. Parametrically generate a catalog of stars and/or galaxies.\n",
    "\n",
    "First, let's explore how to create a `romanisim`-compatible source catalog using Gaia. We will use a combination of `astroquery` and `romanisim` to query the Gaia catalog and then write the file in a format compatible with `romanisim`.\n",
    "\n",
    "In our example below, we will query the Gaia DR3 catalog for sources centered at (RA, Dec) = (80.0, 30.0) degrees and within a radius of 1 degree.\n",
    "\n",
    "**Note:** The Gaia query may take several minutes to complete."
   ]
  },
  {
   "cell_type": "code",
   "execution_count": null,
   "metadata": {},
   "outputs": [],
   "source": [
    "ra = 80.0  # Right ascension in degrees\n",
    "dec = 30.0  # Declination in degrees\n",
    "radius = 1  # Search radius in degrees\n",
    "\n",
    "query = f'SELECT * FROM gaiadr3.gaia_source WHERE distance({ra}, {dec}, ra, dec) < {radius}'\n",
    "job = Gaia.launch_job_async(query)\n",
    "# print(job)\n",
    "result = job.get_results()"
   ]
  },
  {
   "cell_type": "markdown",
   "metadata": {},
   "source": [
    "Once we have the result from the Gaia query, we can transform it into a format compatible with Roman I-Sim. We can also optionally write it to an Enhanced Character-Separated Value (ECSV) file compatible with Roman I-Sim:"
   ]
  },
  {
   "cell_type": "code",
   "execution_count": null,
   "metadata": {},
   "outputs": [],
   "source": [
    "# Filter the Gaia results for stars\n",
    "result = result[result['classprob_dsc_combmod_star'] >= 0.7]\n",
    "\n",
    "# Set the observation time\n",
    "obs_time = '2026-10-31T00:00:00'\n",
    "\n",
    "# Make the Roman I-Sim formatted catalog\n",
    "gaia_catalog = gaia.gaia2romanisimcat(result, Time(obs_time), fluxfields=set(bandpass.galsim2roman_bandpass.values()))"
   ]
  },
  {
   "cell_type": "markdown",
   "metadata": {},
   "source": [
    "Using any real catalog like Gaia, we need to remove any entries that are missing information. We can do this will the cell below:"
   ]
  },
  {
   "cell_type": "code",
   "execution_count": null,
   "metadata": {},
   "outputs": [],
   "source": [
    "# Reject anything with missing fluxes or positions\n",
    "names = [f for f in gaia_catalog.dtype.names if f[0] == 'F']\n",
    "names += ['ra', 'dec']\n",
    "\n",
    "bad = np.zeros(len(gaia_catalog), dtype='bool')\n",
    "for b in names:\n",
    "      bad = ~np.isfinite(gaia_catalog[b])\n",
    "      if hasattr(gaia_catalog[b], 'mask'):\n",
    "           bad |= gaia_catalog[b].mask\n",
    "      gaia_catalog = gaia_catalog[~bad]"
   ]
  },
  {
   "cell_type": "markdown",
   "metadata": {},
   "source": [
    "Now that we have a catalog, let's take a look at it. The catalog in memory is an `astropy.table.Table` object with over 1e5 rows:"
   ]
  },
  {
   "cell_type": "code",
   "execution_count": null,
   "metadata": {},
   "outputs": [],
   "source": [
    "gaia_catalog"
   ]
  },
  {
   "cell_type": "markdown",
   "metadata": {},
   "source": [
    "Alternatively, we can generate a completely synthetic catalog of stars and galaxies using tools in Roman I-Sim (see parameters in the cell below). In this tutorial, we will simulate a galaxy catalog and merge it with the Gaia star catalog above. The reason for this is that the Gaia magnitude limit is quite bright, which limits the galaxies in its catalog. At the same time, we need real Gaia point sources for the Roman calibration pipeline to match images to Gaia astrometry. \n",
    "\n",
    "Note that we can additionally simulate a star catalog if desired, which may be useful if we want to insert stars fainter than the Gaia magnitude limit, or if we do not plan to run the Gaia astrometric alignment step in RomanCal."
   ]
  },
  {
   "cell_type": "code",
   "execution_count": null,
   "metadata": {},
   "outputs": [],
   "source": [
    "# Galaxy catalog parameters\n",
    "\n",
    "ra = 80.0  # Right ascension of the catalog center in degrees\n",
    "dec = 30.0  # Declination of the catalog center in degrees\n",
    "radius = 0.4  # Radius of the catalog in degrees\n",
    "n_gal = 10_000  # Number of galaxies\n",
    "faint_mag = 22  # Faint magnitude limit of simulated sources\n",
    "hlight_radius = 0.3  # Half-light radius at the faint magnitude limit in units of arcseconds\n",
    "optical_element = 'F062 F087 F106 F129 F146 F158 F184 F213'.split()  # List of optical elements to simulate\n",
    "seed = 5346  # Random number seed for reproducibility\n",
    "\n",
    "# Create galaxy catalog\n",
    "galaxy_cat = catalog.make_galaxies(SkyCoord(ra, dec, unit='deg'), n_gal, radius=radius, index=0.4, faintmag=faint_mag, \n",
    "                                   hlr_at_faintmag=hlight_radius, bandpasses=optical_element, rng=None, seed=seed)\n",
    "\n",
    "# Merge the galaxy and Gaia catalogs\n",
    "full_catalog = vstack([galaxy_cat, gaia_catalog])\n",
    "\n",
    "# full_catalog.write('full_catalog.ecsv', format='ascii.ecsv', overwrite=True)"
   ]
  },
  {
   "cell_type": "markdown",
   "metadata": {},
   "source": [
    "The following cell is commented out, but if uncommented will create a simulated star catalog."
   ]
  },
  {
   "cell_type": "code",
   "execution_count": null,
   "metadata": {},
   "outputs": [],
   "source": [
    "#n_star = 30_000  # Number of stars\n",
    "\n",
    "#star_cat = catalog.make_stars(SkyCoord(ra, dec, unit='deg'), n_star, radius=radius, index=5/3., faintmag=faint_mag, \n",
    "#                              truncation_radius=None, bandpasses=optical_element, rng=None, seed=seed)\n"
   ]
  },
  {
   "cell_type": "markdown",
   "metadata": {},
   "source": [
    "As before, we have commented out the line that will write this to disk, and instead have kept it in memory. Below, let's print out the synthetic catalog and take a look:"
   ]
  },
  {
   "cell_type": "code",
   "execution_count": null,
   "metadata": {},
   "outputs": [],
   "source": [
    "full_catalog"
   ]
  },
  {
   "cell_type": "markdown",
   "metadata": {},
   "source": [
    "We can see galaxies at the top of the stacked catalog (notice type == \"SER\" for Sersic and values of n (the Sersic index) are not -1, while stars have type == PSF)."
   ]
  },
  {
   "cell_type": "markdown",
   "metadata": {},
   "source": [
    "## Image Simulation\n",
    "\n",
    "Here we show how to run the actual simulation using Roman I-Sim. The method for running the simulation for both L1 and L2 data is the same, so we will show an example for L2, and give instructions of how to modify this for L1.\n",
    "\n",
    "In our example, we are simulating only a single image, so we have set the persistance to the default. Future updates may include how to simulate persistance from multiple exposures.\n",
    "\n",
    "**Notes:** \n",
    "\n",
    "- Roman I-Sim allows the user to either use reference files from CRDS or to use no reference files. This latter mode is not recommended.\n",
    "- Each detector is simulated separately. We include instructions below for how to parallelize the simulations using the Python `concurrent` package.\n",
    "- Currently, the simulator does not include the effect of 1/f noise.\n",
    "- In operations, multi-accumulation (MA) tables (see the [MA table article](https://roman-docs.stsci.edu/raug/astronomers-proposal-tool-apt/appendix/appendix-wfi-multiaccum-tables) in the Roman APT Users Guide for more information) control the total exposure time and sampling up-the-ramp.\n",
    "\n",
    "In this case, we will create an observation using the detector WFI01 and the F106 optical element. The observation is simulated to occur at UTC time 2026-10-31T00:00:00 and an exposure time of ?? seconds (controlled by the MA table).\n",
    "\n",
    "**Note:** The first time you run this, it may take several minutes to download the appropriate calibration reference files. Any changes to the settings below may result in needing to download additional files and may incur some additional time to run."
   ]
  },
  {
   "cell_type": "code",
   "execution_count": null,
   "metadata": {},
   "outputs": [],
   "source": [
    "obs_date = '2026-10-31T00:00:00'  # Datetime of the simulated exposure\n",
    "sca = 1  # Change this number to simulate different WFI detectors 1 - 18\n",
    "optical_element = 'F106'  # Optical element to simulate\n",
    "ma_table_number = 3  # Multi-accumulation (MA) table number...do not recommend to change this as it must match files in CRDS\n",
    "seed = 7  # Galsim random number generator seed for reproducibility\n",
    "level = 2  # WFI data level to simulate...1 or 2\n",
    "cal_level = 'cal' if level == 2 else 'uncal'  # File name extension for data calibration level\n",
    "filename = f'r0003201001001001004_0001_wfi{sca:02d}_{cal_level}.asdf'  # Output file name on disk. Only change the first part up to _WFI to change the rootname of the file.\n",
    "\n",
    "# Set other arguments for use in Roman I-Sim. The code expects a specific format for these, so this is a little complicated looking.\n",
    "parser = argparse.ArgumentParser()\n",
    "parser.set_defaults(usecrds=True, webbpsf=True, level=level, filename=filename, drop_extra_dq=True)\n",
    "args = parser.parse_args([])\n",
    "\n",
    "# Set reference files to None for CRDS\n",
    "for k in parameters.reference_data:\n",
    "    parameters.reference_data[k] = None\n",
    "\n",
    "# Set Galsim RNG object\n",
    "rng = galsim.UniformDeviate(seed)\n",
    "\n",
    "# Set default persistance information\n",
    "persist = persistence.Persistence()\n",
    "\n",
    "# Set metadata\n",
    "metadata = ris.set_metadata(date=obs_date, bandpass=optical_element, sca=sca, ma_table_number=ma_table_number)\n",
    "\n",
    "# Update the WCS info\n",
    "wcs.fill_in_parameters(metadata, SkyCoord(ra, dec, unit='deg', frame='icrs'), boresight=False, pa_aper=0.0)\n",
    "\n",
    "# Run the simulation\n",
    "ris.simulate_image_file(args, metadata, full_catalog, rng, persist)"
   ]
  },
  {
   "cell_type": "markdown",
   "metadata": {},
   "source": [
    "If we want to simulate an L1 ramp cube, then we can change the level variable above to 1, which will also change the output file name to `*_uncal.asdf`. The rest of the information stays the same."
   ]
  },
  {
   "cell_type": "markdown",
   "metadata": {},
   "source": [
    "## Advanced Use Cases\n",
    "\n",
    "### Dithered Observations\n",
    "\n",
    "Dithering is the process of shifting the telescope position slightly such that astronomical sources fall on different pixel positions compared to the previous observation. Dithers comes in two types: \n",
    "- Large dithers for filling the gaps between the detectors on the sky and rejection of pixels affected by undesirable effects\n",
    "- Sub-pixel dithers for sampling of the point spread function (PSF)\n",
    "\n",
    "If we want to create a set of dithered observations, we need to determine the new pointing of the WFI. Here we introduce a Python class that can take an initial right ascension, declination, and position angle of the WFI and then apply offsets to update those parameters for a new pointing. First, let's import some new packages and modules that will help, specifically:\n",
    "- *pysiaf* for WFI coordinate transformations\n",
    "- *dataclasses* for simplifying the definition of a class\n",
    "- *typing* for type hinting of inputs and outputs"
   ]
  },
  {
   "cell_type": "code",
   "execution_count": null,
   "metadata": {},
   "outputs": [],
   "source": [
    "import pysiaf\n",
    "from dataclasses import dataclass\n",
    "from typing import Union"
   ]
  },
  {
   "cell_type": "markdown",
   "metadata": {},
   "source": [
    "Next, we create a Python class called `PointWFI` that takes three inputs: ra, dec, and roll_angle. Defining a class may be a little complicated for those who are new to Python, so don't worry too much about the details for now. Just know that this class takes your input position, creates an attitude matrix for the spacecraft using PySIAF, applies the offsets, and updates the pointing information."
   ]
  },
  {
   "cell_type": "code",
   "execution_count": null,
   "metadata": {},
   "outputs": [],
   "source": [
    "@dataclass(init=True, repr=True)\n",
    "class PointWFI:\n",
    "    \"\"\"\n",
    "    Inputs\n",
    "    ------\n",
    "    ra (float): Right ascension of the target placed at the geometric \n",
    "                center of the Wide Field Instrument (WFI) focal plane\n",
    "                array. This has units of degrees.\n",
    "    dec (float): Declination of the target placed at the geometric\n",
    "                 center of the WFI focal plane array. This has units\n",
    "                 of degrees.\n",
    "    roll_angle (float): Position angle of the WFI relative to the V3 axis\n",
    "                        measured from North to East. A value of 0.0 degrees\n",
    "                        would place the WFI in the \"smiley face\" orientation\n",
    "                        (U-shaped) on the celestial sphere.\n",
    "\n",
    "    Description\n",
    "    -----------\n",
    "    To use this class, insantiate it with your initial pointing like so:\n",
    "\n",
    "        >>> point = PointWFI(ra=30, dec=-45, roll_angle=10)\n",
    "    \n",
    "    and then dither using the dither method:\n",
    "\n",
    "        >>> point.dither(x_offset=10, y_offset=140)\n",
    "\n",
    "    This would shift the WFI 10 arcseconds along the X-axis of the WFI\n",
    "    and 140 arcseconds along the Y-axis of the WFI. These axes are in the ideal\n",
    "    coordinate system of the WFI, i.e, with the WFI oriented in a U-shape with \n",
    "    +x to the right and +y up. You can pull the new pointing info out of the object \n",
    "    either as attributes or by just printing the object:\n",
    "\n",
    "        >>> print(point.ra, point.dec)\n",
    "        >>> 29.95536280064078 -44.977122003232786\n",
    "\n",
    "    or\n",
    "\n",
    "        >>> point\n",
    "        >>> PointWFI(ra=29.95536280064078, dec=-44.977122003232786, roll_angle=10)\n",
    "    \"\"\"\n",
    "\n",
    "    # Set default pointing parameters\n",
    "    ra: float = 80.0\n",
    "    dec: float = 30.0\n",
    "    roll_angle: float = 0.0\n",
    "\n",
    "    # Post init method sets some other defaults and initializes\n",
    "    # the attitude matrix using PySIAF.\n",
    "    def __post_init__(self) -> None:\n",
    "        self.siaf_aperture = pysiaf.Siaf('Roman')['WFI_CEN']\n",
    "        self.v2_ref = self.siaf_aperture.V2Ref\n",
    "        self.v3_ref = self.siaf_aperture.V3Ref\n",
    "        self.attitude_matrix = pysiaf.utils.rotations.attitude(self.v2_ref, self.v3_ref, self.ra,\n",
    "                                        self.dec, self.roll_angle)\n",
    "        self.siaf_aperture.set_attitude_matrix(self.attitude_matrix)\n",
    "\n",
    "        # Compute the telescope pointing\n",
    "        self._update_boresight_position()\n",
    "\n",
    "    def _update_boresight_position(self):\n",
    "\n",
    "        # Compute the telescope pointing based on the WFI target.\n",
    "        boresight_sky = self.siaf_aperture.tel_to_sky(0, 0)\n",
    "        self.tel_ra = boresight_sky[0]\n",
    "        self.tel_dec = boresight_sky[1]\n",
    "        self.attitude_matrix = pysiaf.utils.rotations.attitude(0, 0, self.tel_ra, self.tel_dec, self.roll_angle)\n",
    "        self.tel_roll = pysiaf.utils.rotations.posangle(self.attitude_matrix, 0, 0)\n",
    "\n",
    "    def dither(self, x_offset: Union[int, float],\n",
    "               y_offset: Union[int, float]) -> None:\n",
    "        \"\"\"\n",
    "        Purpose\n",
    "        -------\n",
    "        Take in an ideal X and Y offset in arcseconds and shift the telescope\n",
    "        pointing to that position.\n",
    "\n",
    "        Inputs\n",
    "        ------\n",
    "        x_offset (float): The offset in arcseconds in the ideal X direction.\n",
    "\n",
    "        y_offset (float): The offset in arcseconds in the ideal Y direction.\n",
    "        \"\"\"\n",
    "\n",
    "        # Compute the new RA and Dec. The WFI_CEN aperture is defined such\n",
    "        # that the reference pixel position has ideal coodinates\n",
    "        # (X, Y) = (0, 0).\n",
    "        new_ra, new_dec = self.siaf_aperture.idl_to_sky(x_offset, y_offset)\n",
    "\n",
    "        # Construct the new attitude matrix keeping the roll angle the same.\n",
    "        self.attitude_matrix = pysiaf.utils.rotations.attitude(self.v2_ref, self.v3_ref, new_ra,\n",
    "                                        new_dec, self.roll_angle)\n",
    "        self.siaf_aperture.set_attitude_matrix(self.attitude_matrix)\n",
    "\n",
    "        # Update the boresight position and the target position of the WFI.\n",
    "        self._update_boresight_position()\n",
    "        self.ra = new_ra\n",
    "        self.dec = new_dec"
   ]
  },
  {
   "cell_type": "markdown",
   "metadata": {},
   "source": [
    "Now let's dither the WFI. Dither patterns for the WFI are in development, but let's use this four-point box gap-filling pattern as an example. Note that the dither offsets are represented in the ideal X and Y directions (this means that +X is to the right and +Y is up when the WFI is in the U-shaped orientation with WFI07 and WFI16 in the upper-right and upper-left corners, respectively). The offsets are in units of arcseconds, and each offset represents the offset from the previous position. So, the zeroth position starts with offsets of 0.00 in both X and Y, and the first position is relative to the zeroth one, second position is relative to first, etc. Here is the pattern:\n",
    "\n",
    "| Dither Step | Offset X (arcsec) | Offset Y (arcsec) |\n",
    "| --- | --- | --- |\n",
    "| 0 | 0.00 | 0.00 |\n",
    "| 1 | 0.55 | 103.00 |\n",
    "| 2 | 24.00 | 103.55 |\n",
    "| 3 | 24.55 | 0.55 |\n",
    "\n",
    "Now let's instantiate the `PointWFI` object with our initial pointing and move to the first dither position:"
   ]
  },
  {
   "cell_type": "code",
   "execution_count": null,
   "metadata": {},
   "outputs": [],
   "source": [
    "pointing = PointWFI(ra=80.0, dec=30.0, roll_angle=0.0)\n",
    "pointing.dither(x_offset=0.55, y_offset=103.00)\n",
    "print(pointing)"
   ]
  },
  {
   "cell_type": "markdown",
   "metadata": {},
   "source": [
    "We can see that the WFI shifted slightly in both right ascension and declination, but not by 0.55 and 103.00 arcseconds. Remember that the WFI dither offsets are specified in a coordinate system local to the WFI, so the offsets on the sky will be different (hence the need for the class we created above). To make it easier to script our simulations, we can pull the variables out of the `pointing` object, such as below where we show how to retrieve the `.ra` attribute:"
   ]
  },
  {
   "cell_type": "code",
   "execution_count": null,
   "metadata": {},
   "outputs": [],
   "source": [
    "pointing.ra"
   ]
  },
  {
   "cell_type": "markdown",
   "metadata": {},
   "source": [
    "### Parallelized Simulations\n",
    "\n",
    "Often, we will want to run a simulation using multiple detectors rather than just one at a time. Looping over the above in a serial fashion can take quite a long time, so we want to parallelize the work. In the example below, we will show how to parallelize the procedure with `Dask`. These cells are commented out by default, so to run them you need to uncomment all of the lines. Comments in code cells are marked with two # symbols (e.g., `## Comment`), so be sure to remove only the leading single # symbol."
   ]
  },
  {
   "cell_type": "code",
   "execution_count": null,
   "metadata": {},
   "outputs": [],
   "source": [
    "#!pip install dask[complete]"
   ]
  },
  {
   "cell_type": "code",
   "execution_count": null,
   "metadata": {},
   "outputs": [],
   "source": [
    "#from dask.distributed import Client"
   ]
  },
  {
   "cell_type": "markdown",
   "metadata": {},
   "source": [
    "At this point, it's helpful to redefine our simulation call above as a single function:"
   ]
  },
  {
   "cell_type": "code",
   "execution_count": null,
   "metadata": {},
   "outputs": [],
   "source": [
    "#def run_romanisim(catalog, ra=80.0, dec=30.0, obs_date = '2026-10-31T00:00:00', sca=1, expnum=1, optical_element='F106', \n",
    "#                  ma_table_number=3, level=2, filename=f'r0003201001001001004', seed=5346):\n",
    "#\n",
    "#    cal_level = 'cal' if level == 2 else 'uncal'\n",
    "#    filename = f'{filename}_{expnum:04d}_wfi{sca:02d}_{cal_level}.asdf'\n",
    "#\n",
    "#    # Set other arguments for use in Roman I-Sim. The code expects a specific format for these, so this is a little complicated looking.\n",
    "#    parser = argparse.ArgumentParser()\n",
    "#    parser.set_defaults(usecrds=True, webbpsf=True, level=level, filename=filename, drop_extra_dq=True)\n",
    "#    args = parser.parse_args([])\n",
    "#\n",
    "#    # Set reference files to None for CRDS\n",
    "#    for k in parameters.reference_data:\n",
    "#        parameters.reference_data[k] = None\n",
    "#\n",
    "#    # Set Galsim RNG object\n",
    "#    rng = galsim.UniformDeviate(seed)\n",
    "#\n",
    "#    # Set default persistance information\n",
    "#    persist = persistence.Persistence()\n",
    "#\n",
    "#    # Set metadata\n",
    "#    metadata = ris.set_metadata(date=obs_date, bandpass=optical_element, sca=sca, ma_table_number=ma_table_number)\n",
    "#\n",
    "#    # Update the WCS info\n",
    "#    wcs.fill_in_parameters(metadata, SkyCoord(ra, dec, unit='deg', frame='icrs'), boresight=False, pa_aper=0.0)\n",
    "#\n",
    "#    # Run the simulation\n",
    "#    sim_result = ris.simulate_image_file(args, metadata, catalog, rng, persist)\n",
    "#\n",
    "#    # Clean up the memory\n",
    "#    del sim_result"
   ]
  },
  {
   "cell_type": "markdown",
   "metadata": {},
   "source": [
    "Now we initialize the Dask `Client()` and pass our simulation jobs to it. Dask will take care of scheduling the jobs and allocating resources. That said, with the way we have set this up, we do have to be careful to not overload the Client or it can get stuck in a bit of a loop. Set the number of WFI detectors to be simulated in the for loop appropriately:\n",
    "\n",
    "- n_detectors = 3 for a laptop or small science platform server\n",
    "- n_detectors = 6 for a medium science platform server\n",
    "- n_detectors = 9 for a large science platform server\n",
    "\n",
    "The variable `offset` adds an offset to the numbering of the WFI detector names. If you want to simulate, e.g., detectors WFI01, WFI02, and WFI03, then set `n_detectors = 3` and `offset = 0`. If instead you want to simulate, e.g., detectors WFI04, WFI05, and WFI06, then set `n_detectors = 3` and `offset = 3`. The `expnum` variable lets you change the exposure number in the file name that is created (this is useful if you are simulated a series of dithered observations).\n",
    "\n",
    "**WARNING:** Please be cautious when parallelizing tasks such as Roman I-Sim as it can easily consume all of your RSP resources if handled incorrectly!\n",
    "\n",
    "We have commented out the lines below. If you want to run the parallelized simulation, uncomment all of the lines in the following code cell.\n",
    "\n",
    "**Note:** This cell may take several minutes to run. In addition, logging messages from `romanisim` and its dependencies will appear cluttered as they are executing simulataneously."
   ]
  },
  {
   "cell_type": "code",
   "execution_count": null,
   "metadata": {},
   "outputs": [],
   "source": [
    "## Number of detectors to simulate\n",
    "#n_detectors = 6\n",
    "#offset = 12\n",
    "#\n",
    "## Change this to increment the exposure number in the simulation output filename\n",
    "#expnum = 4\n",
    "#\n",
    "## Set up Dask client\n",
    "## Give each simulation call its own worker so that no one worker exceeds\n",
    "## the allocated memory.\n",
    "#dask_client = Client(n_workers=n_detectors)\n",
    "#\n",
    "## Create simulation runs to send to the client\n",
    "#tasks = []\n",
    "#for i in range(n_detectors):\n",
    "#\n",
    "#    # Create simulations with the full_catalog defined above and for 6\n",
    "#    # WFI detectors. Otherwise, use the default parameters.\n",
    "#    tasks.append(dask_client.submit(run_romanisim, full_catalog, **{'ra': pointing.ra, 'dec': pointing.dec, 'sca': i+1+offset, 'expnum': expnum}))\n",
    "#\n",
    "## Wait for all tasks to complete\n",
    "#results = dask_client.gather(tasks)\n",
    "#\n",
    "## Don't forget to close the Dask client!\n",
    "#dask_client.close()"
   ]
  },
  {
   "cell_type": "markdown",
   "metadata": {},
   "source": [
    "## Additional Resources\n",
    "- [Roman I-Sim Documentation](https://romanisim.readthedocs.io/en/latest/index.html)\n",
    "- [RomanCal Documentation](https://roman-pipeline.readthedocs.io/en/latest/index.html)\n",
    "- [Roman Documentation System (RDox)](https://roman-docs.stsci.edu)"
   ]
  },
  {
   "cell_type": "markdown",
   "metadata": {
    "slideshow": {
     "slide_type": "slide"
    }
   },
   "source": [
    "## About This Notebook\n",
    "**Author:** Sanjib Sharma, Tyler Desjardins  \n",
    "**Updated On:** 2024-09-27"
   ]
  },
  {
   "cell_type": "markdown",
   "metadata": {},
   "source": [
    "***"
   ]
  },
  {
   "cell_type": "markdown",
   "metadata": {},
   "source": [
    "[Top of Page](#top)\n",
    "<img style=\"float: right;\" src=\"https://raw.githubusercontent.com/spacetelescope/notebooks/master/assets/stsci_pri_combo_mark_horizonal_white_bkgd.png\" alt=\"Space Telescope Logo\" width=\"200px\"/> "
   ]
  }
 ],
 "metadata": {
  "kernelspec": {
   "display_name": "Python 3 (ipykernel)",
   "language": "python",
   "name": "python3"
  },
  "language_info": {
   "codemirror_mode": {
    "name": "ipython",
    "version": 3
   },
   "file_extension": ".py",
   "mimetype": "text/x-python",
   "name": "python",
   "nbconvert_exporter": "python",
   "pygments_lexer": "ipython3",
   "version": "3.11.11"
  }
 },
 "nbformat": 4,
 "nbformat_minor": 4
}
