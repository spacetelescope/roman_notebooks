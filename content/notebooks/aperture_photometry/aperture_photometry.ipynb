{
 "cells": [
  {
   "cell_type": "markdown",
   "metadata": {
    "slideshow": {
     "slide_type": "slide"
    }
   },
   "source": [
    "# Aperture Photometry"
   ]
  },
  {
   "cell_type": "markdown",
   "metadata": {
    "slideshow": {
     "slide_type": "skip"
    }
   },
   "source": [
    "***"
   ]
  },
  {
   "cell_type": "markdown",
   "metadata": {
    "slideshow": {
     "slide_type": "slide"
    }
   },
   "source": [
    "## Kernel Information and Read-Only Status\n",
    "\n",
    "To run this notebook, please select the \"Roman Calibration\" kernel at the top right of your window.\n",
    "\n",
    "This notebook is read-only. You can run cells and make edits, but you must save changes to a different location. We recommend saving the notebook within your home directory, or to a new folder within your home (e.g. <span style=\"font-variant:small-caps;\">file > save notebook as > my-nbs/nb.ipynb</span>). Note that a directory must exist before you attempt to add a notebook to it.\n",
    "\n",
    "## Table of Contents\n",
    "- [Imports](#Imports)\n",
    "- [Introduction](#Introduction)\n",
    "- [Tutorial Data](#Tutorial-Data)\n",
    "   - [Image Data](#Image-Data)\n",
    "   - [Source Catalog](#Source-Catalog)\n",
    "- [Forced Aperture Photometry](#Forced-Aperture-Photometry)\n",
    "   - [Create Apertures](#Create-Apertures)\n",
    "   - [Source Visualization](#Source-Visualization)\n",
    "   - [Aperture Photometry with Photutils](#Aperture-Photometry-with-Photutils)\n",
    "- [Additional Resources](#Additional-Resources)\n",
    "   - [About This Notebook](#About-This-Notebook)"
   ]
  },
  {
   "cell_type": "markdown",
   "metadata": {},
   "source": [
    "## Imports\n",
    "We are using standard libraries from the Numpy and Astropy stack.\n",
    "\n",
    "- *astropy*\n",
    "- *numpy*\n",
    "- *copy*\n",
    "- *matplotlib*\n",
    "- *photutils* is an Astropy-affiliated package for photometry\n",
    "- *roman_datamodels* opens and validates WFI data files\n",
    "- *s3fs* streams data from Simple Storage Service (S3) buckets on Amazon Web Services (AWS)"
   ]
  },
  {
   "cell_type": "code",
   "execution_count": null,
   "metadata": {
    "slideshow": {
     "slide_type": "fragment"
    }
   },
   "outputs": [],
   "source": [
    "from astropy.table import Table\n",
    "import copy\n",
    "import matplotlib.pyplot as plt\n",
    "import numpy as np\n",
    "from photutils.aperture import CircularAperture, aperture_photometry\n",
    "import roman_datamodels as rdm\n",
    "import s3fs"
   ]
  },
  {
   "cell_type": "markdown",
   "metadata": {
    "slideshow": {
     "slide_type": "slide"
    }
   },
   "source": [
    "## Introduction\n",
    "This notebook explains how to perform **forced aperture photometry** (also known as *forced photometry* or *aperture photometry*). Aperture photometry is useful for measuring the integrated fluxes for a set of specified source positions and aperture sizes. This technique is often valuable for extracting fluxes of known sources when it is impractical to fit for their positions and light distributions, or when simplicity and speed are high priorities. For example, aperture photometry can be used for:\n",
    "\n",
    "- **Faint sources.** If a source is too faint, then it can be difficult to fit for the source centroid, light profile, and flux.\n",
    "- **Sources detected at other wavelengths.** If a source is detected in a given bandpass, and the source size is expected to be the same across wavelengths, then it can be useful to define one aperture and measure the source fluxes across multiple filters.\n",
    "- **Time-series evolution of sources.** If a source brightness is decreasing over time, then we can use earlier observations obtained when the source was bright to specify an aperture and extract the flux in a time series.\n",
    "\n",
    "Here, we cover a simple example using the `photutils` package to extract fluxes from a catalog of known sources (stars and galaxies)."
   ]
  },
  {
   "cell_type": "markdown",
   "metadata": {},
   "source": [
    "***"
   ]
  },
  {
   "cell_type": "markdown",
   "metadata": {
    "slideshow": {
     "slide_type": "slide"
    }
   },
   "source": [
    "## Tutorial Data"
   ]
  },
  {
   "attachments": {},
   "cell_type": "markdown",
   "metadata": {
    "slideshow": {
     "slide_type": "slide"
    }
   },
   "source": [
    "In this tutorial, we use a Level 2 (L2; calibrated rate image) WFI data file that is the result of RomanCal processing of a Level 1 (L1; uncalibrated ramp cube) simulated file created with Roman I-Sim. If you have already worked through the tutorials \"Simulating WFI Imaging Data with Roman I-Sim\" and \"Calibrating WFI Exposures with RomanCal,\" then you may already have these files saved locally. If not, then these files are also stored in the science platform S3 bucket. For more information on how to access these data, see the Data Discovery and Access tutorial."
   ]
  },
  {
   "cell_type": "code",
   "execution_count": null,
   "metadata": {},
   "outputs": [],
   "source": [
    "# Stream the files from the S3 bucket if they are not in local storage\n",
    "#\n",
    "# Uncomment the following lines if you do not have the output files \n",
    "# from the tutorials \"Simulating WFI Imaging Data with Roman I-Sim\" and\n",
    "# \"Calibrating WFI Exposures with RomanCal\"\n",
    "#\n",
    "#"
   ]
  },
  {
   "attachments": {},
   "cell_type": "markdown",
   "metadata": {},
   "source": [
    "### Image Data\n",
    "\n",
    "We load a simulated Roman WFI image in the F106 filter generated with [Roman I-Sim](https://romanisim.readthedocs.io/) from a source catalog containing Gaia stars and simulated galaxies. This image covers a single WFI detector. It is a Level 2 (L2; calibrated rate image) file, meaning that the data were processed to flag and/or correct for detector-level effects (e.g., saturation, classic non-linearity, etc.), and that the ramp was fitted into a count rate image in units of Data Numbers (DN) per second."
   ]
  },
  {
   "cell_type": "code",
   "execution_count": null,
   "metadata": {},
   "outputs": [],
   "source": [
    "## FIX THIS CELL ONCE DATA ARE IN BUCKET\n",
    "\n",
    "#asdf_dir_uri = 's3://roman-sci-test-data-prod-summer-beta-test/'\n",
    "#fs = s3fs.S3FileSystem()\n",
    "#\n",
    "#asdf_file_uri = asdf_dir_uri + 'ROMANISIM/r0003201001001001004_0001_wfi01_cal.asdf'\n",
    "#\n",
    "#with fs.open(asdf_file_uri, 'rb') as f:\n",
    "#    dm = rdm.open(f)\n",
    "#    image = dm.data.value.copy()\n",
    "#    wcs = copy.deepcopy(dm.meta.wcs)"
   ]
  },
  {
   "cell_type": "code",
   "execution_count": null,
   "metadata": {},
   "outputs": [],
   "source": [
    "## TMP FIX FOR TESTING\n",
    "f = rdm.open('r0003201001001001004_0001_wfi01_cal.asdf')\n",
    "image = f.data.copy()\n",
    "wcs = copy.deepcopy(f.meta.wcs)"
   ]
  },
  {
   "cell_type": "markdown",
   "metadata": {},
   "source": [
    "### Source Catalog\n",
    "\n",
    "We also have access to a source catalog that was used to simulate the WFI image. It contains stars and galaxies, which are labeled as `PSF` and `SER` under the column `type`. Source fluxes are available in all WFI filters (`F062`, `F087`, `F106`, `F129`, `F146`, `F158`, `F184`, `F213`) and are sampled from a lognormal distribution. Note that fluxes are all given in *maggies*, which are defined as ${\\rm maggie} \\equiv 10^{-0.4 m_{AB}}$, for an AB apparent magnitude $m_{AB}$. \n",
    "\n",
    "For galaxies, morphological parameters like `n` (Sersic index), `half_light_radius`, `pa` (position angle), and `ba` (axis ratio) are also provided in the catalog. These are sampled according to fiducial (and likely unrealistic) distributions."
   ]
  },
  {
   "cell_type": "code",
   "execution_count": null,
   "metadata": {},
   "outputs": [],
   "source": [
    "## FIX THIS CELL ONCE DATA ARE IN BUCKET\n",
    "\n",
    "#catalog_file_uri = asdf_dir_uri + 'ROMANISIM/CATALOGS_SCRIPTS/fullcat_101M_pared_ra0.50_dec0.50_WFI01.ecsv'\n",
    "#with fs.open(catalog_file_uri, 'rb') as catalog_file_stream:\n",
    "#    cat = Table.read(catalog_file_stream, format='ascii.ecsv')"
   ]
  },
  {
   "cell_type": "code",
   "execution_count": null,
   "metadata": {},
   "outputs": [],
   "source": [
    "cat = Table.read('full_catalog.ecsv')"
   ]
  },
  {
   "cell_type": "markdown",
   "metadata": {},
   "source": [
    "We can also display the first five rows and all columns of the catalog:"
   ]
  },
  {
   "cell_type": "code",
   "execution_count": null,
   "metadata": {},
   "outputs": [],
   "source": [
    "cat[:5]"
   ]
  },
  {
   "cell_type": "markdown",
   "metadata": {},
   "source": [
    "We can convert (RA, Dec) to (x, y) positions on the WFI01 detector."
   ]
  },
  {
   "cell_type": "code",
   "execution_count": null,
   "metadata": {},
   "outputs": [],
   "source": [
    "x_cat, y_cat = wcs.world_to_array_index_values(cat[\"ra\"], cat[\"dec\"])"
   ]
  },
  {
   "cell_type": "markdown",
   "metadata": {},
   "source": [
    "It might be helpful to quantify the number of sources there are before we try to visualize them! We first create a mask of sources that actually fall on the detector, and then divide the remaining sources into stars and galaxies."
   ]
  },
  {
   "cell_type": "code",
   "execution_count": null,
   "metadata": {},
   "outputs": [],
   "source": [
    "on_detector_mask = (x_cat >= 0) & (x_cat <= 4095) & (y_cat >= 0) & (y_cat <= 4095)\n",
    "print(f\"Number of sources on detector: {sum(on_detector_mask)}\")\n",
    "\n",
    "stars = cat[on_detector_mask & (cat[\"type\"] == \"PSF\")]\n",
    "gals = cat[on_detector_mask & (cat[\"type\"] == \"SER\")]\n",
    "print(f\"Number of stars: {len(stars)}\\nNumber of galaxies: {len(gals)}\")"
   ]
  },
  {
   "cell_type": "markdown",
   "metadata": {},
   "source": [
    "Note that there are two orders of magnitude more stars than galaxies. We can now plot the distribution of source fluxes using a histogram. "
   ]
  },
  {
   "cell_type": "code",
   "execution_count": null,
   "metadata": {},
   "outputs": [],
   "source": [
    "fig, ax = plt.subplots()\n",
    "ax.hist(np.log10(stars[\"F106\"].value), bins=50, range=[-10, -5], log=True, label=\"Stars\")\n",
    "ax.hist(np.log10(gals[\"F106\"].value), bins=50, range=[-10, -5], log=True, label=\"Galaxies\")\n",
    "\n",
    "ax.set_xlabel(\"$\\log_{10}$(F106 flux [maggies])\")\n",
    "ax.set_ylabel(\"Number of sources\")\n",
    "ax.legend()\n",
    "\n",
    "ax.grid(alpha=0.3)"
   ]
  },
  {
   "cell_type": "markdown",
   "metadata": {},
   "source": [
    "## Forced Aperture Photometry\n",
    "\n",
    "Forced aperture photometry is the process of using previously known source positions to place apertures. We do this using the source catalog information above. If you do not have source positions, then you will need to do source detection first to determine the positions of sources (see [Additional Resources](#Additional-Resources))."
   ]
  },
  {
   "cell_type": "markdown",
   "metadata": {},
   "source": [
    "### Create Apertures"
   ]
  },
  {
   "cell_type": "markdown",
   "metadata": {},
   "source": [
    "From the catalogs, we now know the positions of every selected star and galaxy. We can define set aperture radii in units of pixels; we choose radii of 3 pixels for stars and 5 pixels for galaxies."
   ]
  },
  {
   "cell_type": "code",
   "execution_count": null,
   "metadata": {},
   "outputs": [],
   "source": [
    "stars = cat[cat['type'] == 'PSF']\n",
    "star_positions = [(y, x) for x, y in zip(*wcs.world_to_array_index_values(stars[\"ra\"], stars[\"dec\"]))]\n",
    "star_apertures = CircularAperture(positions=star_positions, r=3)\n",
    "\n",
    "galaxies = cat[cat['type'] == 'SER']\n",
    "galaxy_positions = [(y, x) for x, y in zip(*wcs.world_to_array_index_values(galaxies[\"ra\"], galaxies[\"dec\"]))]\n",
    "galaxy_apertures = CircularAperture(positions=galaxy_positions, r=5)"
   ]
  },
  {
   "cell_type": "markdown",
   "metadata": {},
   "source": [
    "### Source Visualization"
   ]
  },
  {
   "cell_type": "code",
   "execution_count": null,
   "metadata": {},
   "outputs": [],
   "source": [
    "fig, ax = plt.subplots(figsize=(9, 9))\n",
    "\n",
    "# show the simulated image\n",
    "ax.imshow(image, origin='lower', vmin=0, vmax=12, cmap=\"gray_r\", )\n",
    "\n",
    "# plot circles over bright galaxies and stars\n",
    "star_apertures.plot(color=\"C0\")\n",
    "galaxy_apertures.plot(color=\"C1\")\n",
    "\n",
    "# zoom in on 1/16th of the image\n",
    "ax.set_xlim(1024, 1536)\n",
    "ax.set_ylim(1024, 1536)\n",
    "\n",
    "plt.axis(\"off\")\n",
    "plt.show()"
   ]
  },
  {
   "cell_type": "markdown",
   "metadata": {},
   "source": [
    "### Aperture Photometry with Photutils\n",
    "\n",
    "We now perform aperture photometry on the selected sources. Note that the input catalog contained all sources in the region the WFI observed, but not all sources in the catalog were not necessarily located on a WFI detector. In that case, the apeture photometry result for that source will have a value of NaN."
   ]
  },
  {
   "cell_type": "code",
   "execution_count": null,
   "metadata": {},
   "outputs": [],
   "source": [
    "star_phot = aperture_photometry(image, star_apertures)\n",
    "star_phot"
   ]
  },
  {
   "cell_type": "code",
   "execution_count": null,
   "metadata": {},
   "outputs": [],
   "source": [
    "galaxy_phot = aperture_photometry(image, galaxy_apertures)\n",
    "galaxy_phot"
   ]
  },
  {
   "cell_type": "markdown",
   "metadata": {},
   "source": [
    "Let's evaluate our results by plotting the measured fluxes versus the simulated catalog fluxes. The blue points showing stars are follow a much tighter relation, which is expected given their compact sizes and smaller apertures. Meanwhile, galaxies require larger apertures, but still lose flux in some cases (for brighter galaxies) and/or are contaminated by other surrounding sources (often more noticeable for fainter galaxies)."
   ]
  },
  {
   "cell_type": "code",
   "execution_count": null,
   "metadata": {},
   "outputs": [],
   "source": [
    "fig, ax = plt.subplots(figsize=(5, 5))\n",
    "ax.scatter(stars[\"F106\"], star_phot[\"aperture_sum\"], s=5, c=\"C0\", label=\"Stars\", alpha=0.5)\n",
    "ax.scatter(galaxies[\"F106\"], galaxy_phot[\"aperture_sum\"], s=5, c=\"C1\", label=\"Galaxies\", alpha=0.5)\n",
    "\n",
    "# Set log scale on both axes\n",
    "ax.set_xscale(\"log\")\n",
    "ax.set_yscale(\"log\")\n",
    "\n",
    "# Label the axes\n",
    "ax.set_xlabel(\"F106 true flux (maggies)\")\n",
    "ax.set_ylabel(\"F106 Aperture flux (DN/s)\")\n",
    "ax.legend(loc=\"lower right\", fontsize=12)\n",
    "\n",
    "# Overplot a reference grid\n",
    "ax.grid(alpha=0.3)"
   ]
  },
  {
   "cell_type": "markdown",
   "metadata": {},
   "source": [
    "## Additional Resources\n",
    "The [Photutils documentation](https://photutils.readthedocs.io/en/stable/) has additional tutorials for detecting and fitting sources in images:\n",
    "\n",
    "- [Aperture photometry](https://photutils.readthedocs.io/en/stable/aperture.html)\n",
    "- [Background estimation](https://photutils.readthedocs.io/en/stable/background.html)\n",
    "- [Source detection](https://photutils.readthedocs.io/en/stable/detection.html)\n",
    "- [PSF photometry](https://photutils.readthedocs.io/en/stable/psf.html)"
   ]
  },
  {
   "cell_type": "markdown",
   "metadata": {
    "slideshow": {
     "slide_type": "slide"
    }
   },
   "source": [
    "## About This Notebook\n",
    "\n",
    "**Author:** John F. Wu, Tyler Desjardins\\\n",
    "**Updated On:** 2025-12-15"
   ]
  },
  {
   "cell_type": "markdown",
   "metadata": {},
   "source": [
    "***"
   ]
  },
  {
   "cell_type": "markdown",
   "metadata": {},
   "source": [
    "[Top of Page](#top)\n",
    "<img style=\"float: right;\" src=\"https://raw.githubusercontent.com/spacetelescope/notebooks/master/assets/stsci_pri_combo_mark_horizonal_white_bkgd.png\" alt=\"Space Telescope Logo\" width=\"200px\"/> "
   ]
  }
 ],
 "metadata": {
  "kernelspec": {
   "display_name": "Python 3 (ipykernel)",
   "language": "python",
   "name": "python3"
  },
  "language_info": {
   "codemirror_mode": {
    "name": "ipython",
    "version": 3
   },
   "file_extension": ".py",
   "mimetype": "text/x-python",
   "name": "python",
   "nbconvert_exporter": "python",
   "pygments_lexer": "ipython3",
   "version": "3.11.11"
  }
 },
 "nbformat": 4,
 "nbformat_minor": 4
}
