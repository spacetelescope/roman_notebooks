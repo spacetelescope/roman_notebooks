{
 "cells": [
  {
   "cell_type": "markdown",
   "metadata": {
    "slideshow": {
     "slide_type": "slide"
    }
   },
   "source": [
    "# The Roman Background Tool (RBT)"
   ]
  },
  {
   "cell_type": "markdown",
   "metadata": {
    "slideshow": {
     "slide_type": "skip"
    }
   },
   "source": [
    "***"
   ]
  },
  {
   "cell_type": "markdown",
   "metadata": {
    "slideshow": {
     "slide_type": "slide"
    }
   },
   "source": [
    "## Kernel Information and Read-Only Status\n",
    "\n",
    "To run this notebook, please select the \"Roman Calibration\" kernel at the top right of your window.\n",
    "\n",
    "This notebook is read-only. You can run cells and make edits, but you must save changes to a different location. We recommend saving the notebook within your home directory, or to a new folder within your home (e.g., <span style=\"font-variant:small-caps;\">File > Save Notebook As > my-nbs/nb.ipynb</span>). Note that the destination directory must exist before saving.\n",
    "\n",
    "\n",
    "## Introduction\n",
    "The Roman Background Tool (RBT) is an interactive visualization tool for exploring time-variable background levels across the sky as seen by the Nancy Grace Roman Space Telescope. It provides a fast and intuitive way to assess how background emission at a specific sky position and wavelength evolves throughout the year, using a Bokeh-based graphical user interface similar in style to the Roman Interactive Sensitivity Tool (RIST).\n",
    "\n",
    "RBT draws from a pre-computed sky background cache that includes zodiacal light, Galactic ISM, and thermal self-emission. Users can explore these components by adjusting the target’s:\n",
    "\n",
    "- RA/Dec (sky position)\n",
    "\n",
    "- Wavelength\n",
    "\n",
    "- Threshold above minimum background\n",
    "\n",
    "- Calendar day\n",
    "\n",
    "The tool produces an interactive bathtub plot showing total background versus calendar day, with optional breakdown into background components. This is useful for optimizing Roman WFI exposure scheduling and minimizing background contamination in faint source observations.\n",
    "\n",
    "## Requirements\n",
    "*RBT* uses the Roman background model cache and depends on the following packages:\n",
    "\n",
    "  - *numpy*\n",
    "  - *scipy*\n",
    "  - *healpy*\n",
    "  - *bokeh*\n",
    "\n",
    "## Import \n",
    "The Roman Background Tool is launched from within a Jupyter notebook using the ``plot_rbt`` module.\n",
    "\n",
    "To begin, run the cell below:\n",
    "\n",
    "***"
   ]
  },
  {
   "cell_type": "code",
   "execution_count": null,
   "metadata": {},
   "outputs": [],
   "source": [
    "from rbt_interface import plot_rbt\n",
    "from bokeh.io import show, output_notebook\n",
    "from bokeh.application import Application\n",
    "from bokeh.application.handlers.function import FunctionHandler"
   ]
  },
  {
   "cell_type": "code",
   "execution_count": null,
   "metadata": {},
   "outputs": [],
   "source": [
    "output_notebook()\n",
    "app = Application(FunctionHandler(plot_rbt))\n",
    "show(app)"
   ]
  },
  {
   "cell_type": "markdown",
   "metadata": {},
   "source": [
    "## Additional Resources\n",
    "\n",
    "- [RBT on RDox](https://roman-docs.stsci.edu/simulation-tools-handbook-home/roman-background-tool)\n",
    "- [Introduction to WFI](https://roman-docs.stsci.edu/roman-instruments-home/wfi-imaging-mode-user-guide/introduction-to-wfi)\n",
    "- [Pandeia for Roman on RDox](https://roman-docs.stsci.edu/simulation-tools-handbook-home/roman-wfi-exposure-time-calculator/pandeia-for-roman)\n",
    "- [Other Roman Simulation Tools](https://roman-docs.stsci.edu/simulation-tools-handbook-home)"
   ]
  },
  {
   "cell_type": "markdown",
   "metadata": {},
   "source": [
    "## Help\n",
    "For assistance with RBT, please contact the Roman SOC Help Desk through https://stsci.service-now.com/roman\n"
   ]
  },
  {
   "cell_type": "markdown",
   "metadata": {
    "slideshow": {
     "slide_type": "slide"
    }
   },
   "source": [
    "## About this Notebook\n",
    "\n",
    "**Author:** Melissa Shahbandeh  \n",
    "**Last Updated**: 2025-10-20"
   ]
  },
  {
   "cell_type": "markdown",
   "metadata": {},
   "source": [
    "***"
   ]
  },
  {
   "cell_type": "markdown",
   "metadata": {},
   "source": [
    "[Top of Page](#top)\n",
    "<img style=\"float: right;\" src=\"https://raw.githubusercontent.com/spacetelescope/notebooks/master/assets/stsci_pri_combo_mark_horizonal_white_bkgd.png\" alt=\"Space Telescope Logo\" width=\"200px\"/> "
   ]
  },
  {
   "cell_type": "code",
   "execution_count": null,
   "metadata": {},
   "outputs": [],
   "source": []
  }
 ],
 "metadata": {
  "kernelspec": {
   "display_name": "Python 3 (ipykernel)",
   "language": "python",
   "name": "python3"
  },
  "language_info": {
   "codemirror_mode": {
    "name": "ipython",
    "version": 3
   },
   "file_extension": ".py",
   "mimetype": "text/x-python",
   "name": "python",
   "nbconvert_exporter": "python",
   "pygments_lexer": "ipython3",
   "version": "3.12.2"
  }
 },
 "nbformat": 4,
 "nbformat_minor": 4
}
