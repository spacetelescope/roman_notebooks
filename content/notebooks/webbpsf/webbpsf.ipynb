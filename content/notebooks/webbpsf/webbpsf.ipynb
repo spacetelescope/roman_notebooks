{
 "cells": [
  {
   "cell_type": "markdown",
   "id": "009cb37f-c5ce-4ab0-8ff5-822820c2f8dc",
   "metadata": {
    "slideshow": {
     "slide_type": "slide"
    }
   },
   "source": [
    "# WebbPSF Tutorial"
   ]
  },
  {
   "cell_type": "markdown",
   "id": "0bf47fa8-811c-4a39-8d1a-768ead56aec7",
   "metadata": {
    "slideshow": {
     "slide_type": "skip"
    }
   },
   "source": [
    "***"
   ]
  },
  {
   "cell_type": "markdown",
   "id": "2c742062-e38a-44d9-ba8e-d9f8e1da59f5",
   "metadata": {
    "slideshow": {
     "slide_type": "slide"
    }
   },
   "source": [
    "## Kernel Information and Read-Only Status\n",
    "\n",
    "To run this notebook, please select the \"Roman Calibration\" kernel at the top right of your window.\n",
    "\n",
    "This notebook is read-only. You can run cells and make edits, but you must save changes to a different location. We recommend saving the notebook within your home directory, or to a new folder within your home (e.g. <span style=\"font-variant:small-caps;\">file > save notebook as > my-nbs/nb.ipynb</span>). Note that a directory must exist before you attempt to add a notebook to it.\n",
    "\n",
    "## Introduction\n",
    "**WebbPSF** is a realistic point spread function (PSF) simulator developed by STScI that supports both Roman and the James Webb Space Telescope. For Roman's Wide Field Imager (WFI), it harnesses the NASA Goddard Space Flight Center's latest optical models, including field-dependent aberrations across the WFI focal plane. There is also an experimental module for Roman's Coronagraph Instrument.\n",
    "\n",
    "This notebook serves as an introduction to simulating Roman WFI PSFs and computing standard PSF properties like full width at half maximum (FWHM) and encircled energy (EE)."
   ]
  },
  {
   "cell_type": "markdown",
   "id": "a042726f-3f6e-4c5e-afb8-61ce94203c46",
   "metadata": {
    "slideshow": {
     "slide_type": "slide"
    }
   },
   "source": [
    "## Imports\n",
    "\n",
    "Besides `webbpsf`, the `matplotlib`-related imports will help visualize simulated PSFs and their derivatives."
   ]
  },
  {
   "cell_type": "code",
   "execution_count": null,
   "id": "9b5fe555-9fd7-424a-bd8d-4464b33913a0",
   "metadata": {
    "slideshow": {
     "slide_type": "fragment"
    }
   },
   "outputs": [],
   "source": [
    "%matplotlib inline\n",
    "from matplotlib import pyplot as plt\n",
    "import matplotlib\n",
    "import webbpsf"
   ]
  },
  {
   "cell_type": "markdown",
   "id": "8d611320-085b-4683-be9f-88cd62c417a5",
   "metadata": {},
   "source": [
    "We also edit `matplotlib`'s interpolation setting to prevent any smoothing of pixel edges."
   ]
  },
  {
   "cell_type": "code",
   "execution_count": null,
   "id": "19ee728d-1620-4156-916c-b504800d8e8f",
   "metadata": {},
   "outputs": [],
   "source": [
    "matplotlib.rcParams['image.interpolation'] = 'nearest'"
   ]
  },
  {
   "cell_type": "markdown",
   "id": "4a6ea601-e8b5-4857-a498-46add036bef9",
   "metadata": {},
   "source": [
    "***"
   ]
  },
  {
   "cell_type": "markdown",
   "id": "88af2135-586b-4dea-97a0-b4737e3b6239",
   "metadata": {},
   "source": [
    "## Examples"
   ]
  },
  {
   "cell_type": "markdown",
   "id": "cf9456f2-7b1f-4c9d-a425-b5c2d8e46f07",
   "metadata": {},
   "source": [
    "### Quick PSF generation"
   ]
  },
  {
   "cell_type": "markdown",
   "id": "95a4df88-c21c-49a1-9ed1-e688659aaca7",
   "metadata": {},
   "source": [
    "#### Default parameters\n",
    "\n",
    "After selecting the proper instrument (Roman WFI), generating a PSF can be as short as a single line.\n",
    "\n",
    "**Note:** allow about a minute for this to run"
   ]
  },
  {
   "cell_type": "code",
   "execution_count": null,
   "id": "cb52176e-b3eb-464a-a688-09091807aabe",
   "metadata": {},
   "outputs": [],
   "source": [
    "wfi = webbpsf.roman.WFI()\n",
    "plt.figure(figsize=(6, 8))\n",
    "default_psf = wfi.calc_psf(display=True)"
   ]
  },
  {
   "cell_type": "markdown",
   "id": "b2cb8df4-e85c-4625-9b96-6ea944b45426",
   "metadata": {},
   "source": [
    "The resulting object contains a list of two FITS extensions, both containing idealized PSF images. `OVERSAMP` splits the detector's original number of pixels by the oversampling factor specified upon creation of the PSFs (by default, 4) while `DET_SAMP` retains the original pixel count.\n",
    "\n",
    "**Note:** Additional extensions that apply distortion to the idealized PSFs are in development for the WFI model."
   ]
  },
  {
   "cell_type": "code",
   "execution_count": null,
   "id": "7cedc980-3dd7-4963-a7bb-0fcfda19f6b5",
   "metadata": {},
   "outputs": [],
   "source": [
    "default_psf.info()"
   ]
  },
  {
   "cell_type": "markdown",
   "id": "1d5258f4-7dba-4809-a810-c7af013ad41d",
   "metadata": {},
   "source": [
    "The package includes a helper function for visualizing each extension of an existing PSF."
   ]
  },
  {
   "cell_type": "code",
   "execution_count": null,
   "id": "f048132b-ad65-4902-bac8-dff62881aab9",
   "metadata": {},
   "outputs": [],
   "source": [
    "webbpsf.display_psf(default_psf, ext='OVERSAMP')"
   ]
  },
  {
   "cell_type": "code",
   "execution_count": null,
   "id": "c198c669-a764-4ab8-a74d-4fc78e25379a",
   "metadata": {},
   "outputs": [],
   "source": [
    "webbpsf.display_psf(default_psf, ext='DET_SAMP')"
   ]
  },
  {
   "cell_type": "markdown",
   "id": "da4aae41-37f7-4c70-acff-e4fdfb08f3e1",
   "metadata": {},
   "source": [
    "The PSF object itself contains functionality for saving its contents for later use."
   ]
  },
  {
   "cell_type": "code",
   "execution_count": null,
   "id": "6e686499-d5b4-4757-92e9-f0e765afc04d",
   "metadata": {},
   "outputs": [],
   "source": [
    "default_psf.writeto('default_PSF.fits', overwrite=True)"
   ]
  },
  {
   "cell_type": "markdown",
   "id": "ce925bd6-f752-4bf5-9f95-58f22b46d6d7",
   "metadata": {},
   "source": [
    "#### Custom parameters\n",
    "\n",
    "You can simulate custom PSFs by modifying instrument class attributes like the detector, filter, and others. (Find all available attributes in the API documentation for the [Roman `WFI` class](https://webbpsf.readthedocs.io/en/latest/api/webbpsf.WFI.html#webbpsf.WFI) and [its parent `SpaceTelescopeInstrument` class](https://webbpsf.readthedocs.io/en/latest/api/webbpsf.SpaceTelescopeInstrument.html#webbpsf.SpaceTelescopeInstrument).)"
   ]
  },
  {
   "cell_type": "code",
   "execution_count": null,
   "id": "d718b95e-6637-4361-840c-e5336bd435b3",
   "metadata": {},
   "outputs": [],
   "source": [
    "wfi.filter_list"
   ]
  },
  {
   "cell_type": "markdown",
   "id": "154352da-90cd-451a-8fca-60497320b76a",
   "metadata": {},
   "source": [
    "**Note:** The following cell is commented out as it takes a long time to run. To run it, simply uncomment the lines and run the cell."
   ]
  },
  {
   "cell_type": "code",
   "execution_count": null,
   "id": "cb92168f-4964-4632-960a-2188fe379938",
   "metadata": {},
   "outputs": [],
   "source": [
    "# wfi.filter = 'GRISM1'\n",
    "# wfi.detector = 'SCA14'\n",
    "# wfi.detector_position = (1024, 1024)\n",
    " \n",
    "# custom_psf = wfi.calc_psf(display=True)"
   ]
  },
  {
   "cell_type": "markdown",
   "id": "cbacace1-589d-4a65-98cf-610f040b5276",
   "metadata": {},
   "source": [
    "### PSF profile and encircled energy"
   ]
  },
  {
   "cell_type": "markdown",
   "id": "30824e3e-21cb-4150-851b-e8f4b2935ee4",
   "metadata": {},
   "source": [
    "Once you've simulated a PSF, WebbPSF offers a method that measures its profile, FWHM, and encircled energy."
   ]
  },
  {
   "cell_type": "code",
   "execution_count": null,
   "id": "b30dace1-aa74-4194-913f-55ec3d11d47f",
   "metadata": {},
   "outputs": [],
   "source": [
    "src = webbpsf.specFromSpectralType('G0V', catalog='phoenix')\n",
    "poly_psf = wfi.calc_psf(source=src, nlambda=10, display=False)"
   ]
  },
  {
   "cell_type": "code",
   "execution_count": null,
   "id": "7c87e6bb-ca73-4532-9731-efc3de77ecaa",
   "metadata": {},
   "outputs": [],
   "source": [
    "plt.figure(figsize=(8, 6))\n",
    "webbpsf.display_profiles(poly_psf)"
   ]
  },
  {
   "cell_type": "markdown",
   "id": "e0e9bedc-7f2e-49c6-9f08-4ed6683e66a7",
   "metadata": {},
   "source": [
    "### Bulk PSF generation"
   ]
  },
  {
   "cell_type": "markdown",
   "id": "b92bc0dd-87a3-445b-9edc-f43d5e715f33",
   "metadata": {},
   "source": [
    "To generate several individual PSFs in a grid, WebbPSF implements the `GriddedPSFModel` class from `photutils`. (Learn more about this use case [in the WebbPSF documentation](https://webbpsf.readthedocs.io/en/latest/psf_grids.html).)\n",
    "\n",
    "As a toy example, below we generate a 3x3 grid of PSFs for a single WFI detector."
   ]
  },
  {
   "cell_type": "code",
   "execution_count": null,
   "id": "55ef3e4e-560d-4146-85ce-6359ad136995",
   "metadata": {
    "scrolled": true
   },
   "outputs": [],
   "source": [
    "wfi.detector = \"SCA07\"\n",
    "wfi.filter = \"F158\"\n",
    "wfi_grid = wfi.psf_grid(num_psfs=9, all_detectors=False)"
   ]
  },
  {
   "cell_type": "markdown",
   "id": "732f284d-6c57-449c-a206-eab8fb728c9a",
   "metadata": {},
   "source": [
    "And we use another WebbPSF helper function to visualize the grid.\n",
    "\n",
    "The top figure displays PSFs in each detector position specified by the grid. The bottom figure subtracts the mean PSF from each corresponding image from the top to show the effect of detector position on image quality."
   ]
  },
  {
   "cell_type": "code",
   "execution_count": null,
   "id": "c6f28e0c-a9ba-4112-ad70-210447b06d14",
   "metadata": {},
   "outputs": [],
   "source": [
    "webbpsf.gridded_library.display_psf_grid(wfi_grid)"
   ]
  },
  {
   "cell_type": "markdown",
   "id": "c50f66b3-8c7f-4227-a27e-ba1e2109cd44",
   "metadata": {},
   "source": [
    "With a PSF grid in hand, you can use a package like `photutils` to estimate PSFs at any given detector position by interpolation without the need to calculate each PSF individually. This is a major time-saver in source-heavy scientific use cases."
   ]
  },
  {
   "cell_type": "markdown",
   "id": "70ca0e4c-f605-40e5-be34-053ff5643297",
   "metadata": {},
   "source": [
    "## Aditional Resources\n",
    "\n",
    "- The Roman User Documentation's [\"WebbPSF Overview\"](https://roman-docs.stsci.edu/simulation-tools-handbook-home/webbpsf-for-roman/overview-of-webbpsf) page.\n",
    "- The latest version of the [WebbPSF documentation](https://webbpsf.readthedocs.io/en/stable/index.html) on ReadTheDocs, which includes a specific page on the package's [Roman instrument model](https://webbpsf.readthedocs.io/en/stable/roman.html).\n",
    "- The [Roman Help Desk](https://roman-docs.stsci.edu/roman-help-desk-at-stsci), an official outlet for user questions about WebbPSF."
   ]
  },
  {
   "cell_type": "markdown",
   "id": "497f1db5-297a-4ac4-8cfc-b989dd10683a",
   "metadata": {
    "slideshow": {
     "slide_type": "slide"
    }
   },
   "source": [
    "## About this notebook\n",
    "\n",
    "**Author:** Justin Otor  \n",
    "**Updated In:** 2024-05"
   ]
  },
  {
   "cell_type": "markdown",
   "id": "4d1c7c95-0eee-46d3-8e2a-0cf4f7e3dd40",
   "metadata": {},
   "source": [
    "***"
   ]
  },
  {
   "cell_type": "markdown",
   "id": "73de59d5-7c55-4db1-b965-0c1e60ab58c4",
   "metadata": {},
   "source": [
    "[Top of Page](#top)\n",
    "<img style=\"float: right;\" src=\"https://raw.githubusercontent.com/spacetelescope/notebooks/master/assets/stsci_pri_combo_mark_horizonal_white_bkgd.png\" alt=\"Space Telescope Logo\" width=\"200px\"/> "
   ]
  }
 ],
 "metadata": {
  "kernelspec": {
   "display_name": "Roman Calibration latest (2024-03-25)",
   "language": "python",
   "name": "roman-cal"
  },
  "language_info": {
   "codemirror_mode": {
    "name": "ipython",
    "version": 3
   },
   "file_extension": ".py",
   "mimetype": "text/x-python",
   "name": "python",
   "nbconvert_exporter": "python",
   "pygments_lexer": "ipython3",
   "version": "3.11.9"
  }
 },
 "nbformat": 4,
 "nbformat_minor": 5
}
