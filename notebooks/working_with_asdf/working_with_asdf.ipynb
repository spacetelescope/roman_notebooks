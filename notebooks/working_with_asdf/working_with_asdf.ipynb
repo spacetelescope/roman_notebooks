{
 "cells": [
  {
   "cell_type": "markdown",
   "metadata": {
    "slideshow": {
     "slide_type": "slide"
    }
   },
   "source": [
    "# How to open Roman Data Files (ASDF)"
   ]
  },
  {
   "cell_type": "markdown",
   "metadata": {
    "slideshow": {
     "slide_type": "skip"
    }
   },
   "source": [
    "***"
   ]
  },
  {
   "cell_type": "markdown",
   "metadata": {
    "slideshow": {
     "slide_type": "slide"
    }
   },
   "source": [
    "## Imports\n",
    "\n",
    "- *numpy* to handle array operations\n",
    "- *asdf* to handle ASDF input/output\n",
    "- *roman_datamodels* to handle input/output and validation of data models\n",
    "- *matplotlib.pyplot* for plotting data\n",
    "- *astropy.units* to handle units\n",
    "- *astropy.time* to handle time"
   ]
  },
  {
   "cell_type": "code",
   "execution_count": null,
   "metadata": {
    "slideshow": {
     "slide_type": "fragment"
    }
   },
   "outputs": [],
   "source": [
    "%matplotlib widget\n",
    "import numpy as np\n",
    "import asdf\n",
    "import roman_datamodels as rdm\n",
    "import matplotlib.pyplot as plt\n",
    "%config InlineBackend.figure_format='retina'\n",
    "import astropy.units as u\n",
    "import astropy.time\n",
    "from astropy.visualization import quantity_support\n",
    "quantity_support()\n",
    "from pprint import pprint"
   ]
  },
  {
   "cell_type": "markdown",
   "metadata": {
    "slideshow": {
     "slide_type": "slide"
    }
   },
   "source": [
    "## Introduction\n",
    "The main goal of this notebook is to illustrate how to open and handle Roman data.\n",
    "\n",
    "Roman data are stored in [Advanced Scientific Data Format (ASDF)](https://asdf-standard.readthedocs.io/) files.\n",
    "\n",
    "ASDF files are files with human-readable hierarchical metadata structure, with binary array data. ASDF data structure can be automatically validated.\n",
    "\n",
    "There are tools to interact with ASDF files in Python, Julia, C/C++, and IDL. In this example we focus on the Python interface.\n"
   ]
  },
  {
   "cell_type": "markdown",
   "metadata": {},
   "source": [
    "***"
   ]
  },
  {
   "cell_type": "markdown",
   "metadata": {
    "slideshow": {
     "slide_type": "slide"
    }
   },
   "source": [
    "## Quick start\n",
    "\n"
   ]
  },
  {
   "cell_type": "markdown",
   "metadata": {},
   "source": [
    "We will start by illustrating how to read the data using the basic `asdf` library.\n",
    "\n",
    "The main avenue to read an ASDF file is via the `open` method in the `asdf` package. This returns an `AsdfObject` object."
   ]
  },
  {
   "cell_type": "code",
   "execution_count": null,
   "metadata": {
    "slideshow": {
     "slide_type": "fragment"
    }
   },
   "outputs": [],
   "source": [
    "# This is just an example, but will need to change in the Roman Science Portal\n",
    "path_l2 = '/grp/roman/SCIENCE_PLATFORM_DATA/ROMANISIM/DENSE_REGION/R0.5_DP0.5_PA0/r0000101001001001001_01101_0001_WFI01_cal.asdf'"
   ]
  },
  {
   "cell_type": "code",
   "execution_count": null,
   "metadata": {},
   "outputs": [],
   "source": [
    "f = asdf.open(path_l2)"
   ]
  },
  {
   "cell_type": "markdown",
   "metadata": {},
   "source": [
    "A high-level summary of the file can be retrieved by using the `info()` method:"
   ]
  },
  {
   "cell_type": "code",
   "execution_count": null,
   "metadata": {},
   "outputs": [],
   "source": [
    "f.info()"
   ]
  },
  {
   "cell_type": "markdown",
   "metadata": {},
   "source": [
    "Another useful method to explore the contents of an ASDF file is the `.tree` attribute"
   ]
  },
  {
   "cell_type": "code",
   "execution_count": null,
   "metadata": {},
   "outputs": [],
   "source": [
    "pprint(f.tree) # This cell will print a lot of information, please feel free to skim or skip"
   ]
  },
  {
   "cell_type": "markdown",
   "metadata": {},
   "source": [
    "Note that, by default, `asdf.open()` does not load the data in memory unless told explicitly, which makes opening ASDF files a quick operation. \n",
    "\n",
    "We do have information about the shape and type of the different data blocks, but we don't have access to the data until we load them. We can load the data blocks that we want by either instantiating them, or by setting `lazy_load = False`."
   ]
  },
  {
   "cell_type": "markdown",
   "metadata": {},
   "source": [
    "An ASDF object can be used, effectively, like a nested dictionary. Each block can be explored via the `.keys()` attribute. "
   ]
  },
  {
   "cell_type": "code",
   "execution_count": null,
   "metadata": {},
   "outputs": [],
   "source": [
    "f['roman'][\"meta\"][\"wcs\"]"
   ]
  },
  {
   "cell_type": "code",
   "execution_count": null,
   "metadata": {},
   "outputs": [],
   "source": [
    "f.keys()"
   ]
  },
  {
   "cell_type": "markdown",
   "metadata": {},
   "source": [
    "For Roman ASDF files, the three high-level blocks are: \n",
    "* `asdf_library`: It contains information about the `asdf` library used to create the file.\n",
    "* `history`: It can contains metadata information about the extensions used to create the file.\n",
    "* `roman`: This is the block containing Roman's data and metadata information. Different data products will have different blocks under this one.\n",
    "\n",
    "Within the `roman` block the `data` block is the one containing the data image, which is calibrated in the case of level-2 and level-3 data products, and uncalibrated in the case of level-1 products.\n",
    "\n",
    "Other potentially interesting data blocks are `meta` containing the metadata information, `err` containing estimated uncertainties, and `dq` containing data quality flags. ##TODO add links to documents on these."
   ]
  },
  {
   "cell_type": "markdown",
   "metadata": {},
   "source": [
    "For a level-2 image, the list of blocks includes:"
   ]
  },
  {
   "cell_type": "code",
   "execution_count": null,
   "metadata": {},
   "outputs": [],
   "source": [
    "for key in f['roman'].keys():\n",
    "    print(key)"
   ]
  },
  {
   "cell_type": "markdown",
   "metadata": {},
   "source": [
    "We focus on the `data` block, containing the science image of interest."
   ]
  },
  {
   "cell_type": "code",
   "execution_count": null,
   "metadata": {},
   "outputs": [],
   "source": [
    "img = f['roman']['data']"
   ]
  },
  {
   "cell_type": "code",
   "execution_count": null,
   "metadata": {},
   "outputs": [],
   "source": [
    "type(img)"
   ]
  },
  {
   "cell_type": "markdown",
   "metadata": {},
   "source": [
    "Note that Roman images are expressed as `astropy.Quantity` objects, often with units attached to them. This functionality can only be used in Python. However, the images will still be loaded correctly using other languages (although the units will not automatically load)."
   ]
  },
  {
   "cell_type": "markdown",
   "metadata": {},
   "source": [
    "Using `astropy.Quantity` objects can help prevent confusion with units. Sometimes it is convenient to just handle the plain data arrays, and these are stored in the `value` attribute of the Quantity object."
   ]
  },
  {
   "cell_type": "code",
   "execution_count": null,
   "metadata": {},
   "outputs": [],
   "source": [
    "print('Exploring the values of `img`: ', img.value)\n",
    "print('Exploring the data type of `img.value`: ', type(img.value))\n",
    "print('Exploring the units of `img`: ', img.unit)\n",
    "print('Exploring the type of `img.units: ', type(img.unit))"
   ]
  },
  {
   "cell_type": "markdown",
   "metadata": {},
   "source": [
    "A typical operation with images is visualization. However, `matplotlib`'s `imshow` has a hard time rendering images with units. So we just plot the values."
   ]
  },
  {
   "cell_type": "code",
   "execution_count": null,
   "metadata": {},
   "outputs": [],
   "source": [
    "#NOTE: probably choose a different \"prettier\" image\n",
    "\n",
    "from matplotlib.colors import LogNorm  # Optional import, this is to show image in log scale\n",
    "from astropy.visualization import (MinMaxInterval, ZScaleInterval, SqrtStretch, SinhStretch,\n",
    "                                   ImageNormalize)  # optional imports to show image with nice stretch\n",
    "\n",
    "plt.figure(figsize=(12, 12), layout='tight')\n",
    "norm = ImageNormalize(img, interval=ZScaleInterval(),\n",
    "                      stretch=SinhStretch())\n",
    "plt.imshow(img.value, origin='lower', norm=norm)\n",
    "plt.colorbar(label=f'{img.unit}')\n",
    "plt.xlabel('X [px]', fontsize=16)\n",
    "plt.ylabel('Y [px]', fontsize=16)\n",
    "plt.title('Image data');"
   ]
  },
  {
   "cell_type": "markdown",
   "metadata": {},
   "source": [
    "And we can check things like a 1D histogram"
   ]
  },
  {
   "cell_type": "code",
   "execution_count": null,
   "metadata": {},
   "outputs": [],
   "source": [
    "plt.figure(figsize=(12, 6), layout='tight')\n",
    "plt.hist(img.flatten(), histtype='step', range=(-0.6, 0.6), bins=300);\n",
    "plt.xlabel(f'Pixel value [{img.unit}]', fontsize=16)\n",
    "plt.ylabel('Pixels/bin', fontsize=16);"
   ]
  },
  {
   "cell_type": "markdown",
   "metadata": {},
   "source": [
    "We can explore other image blocks, for example, the data quality (DQ) flags. These flags are summarized [here](https://roman-pipeline.readthedocs.io/en/latest/roman/references_general/references_general.html#data-quality-flags)."
   ]
  },
  {
   "cell_type": "code",
   "execution_count": null,
   "metadata": {},
   "outputs": [],
   "source": [
    "plt.figure(figsize=(12, 12), layout='tight')\n",
    "plt.imshow(f['roman']['dq'], origin='lower')\n",
    "plt.colorbar(label='DQ')\n",
    "plt.xlabel('X [px]', fontsize=16)\n",
    "plt.ylabel('Y [px]', fontsize=16)\n",
    "plt.title('DQ flags');"
   ]
  },
  {
   "cell_type": "markdown",
   "metadata": {},
   "source": [
    "Let's take a look at these values. The DQ values are the result of the sum of all flags/bits activated during processing."
   ]
  },
  {
   "cell_type": "code",
   "execution_count": null,
   "metadata": {},
   "outputs": [],
   "source": [
    "unique_dq = np.unique(f['roman']['dq'])"
   ]
  },
  {
   "cell_type": "code",
   "execution_count": null,
   "metadata": {},
   "outputs": [],
   "source": [
    "unique_dq"
   ]
  },
  {
   "cell_type": "code",
   "execution_count": null,
   "metadata": {},
   "outputs": [],
   "source": [
    "for uu in unique_dq:\n",
    "    br = np.binary_repr(uu)\n",
    "    print(\"------------\")\n",
    "    print('Flag', uu)\n",
    "    for ii, cc in enumerate(br[::-1]):\n",
    "        if int(cc)==1:\n",
    "            print('Bits on:', ii, 2**ii)"
   ]
  },
  {
   "cell_type": "markdown",
   "metadata": {},
   "source": [
    "## Exploring metadata"
   ]
  },
  {
   "cell_type": "markdown",
   "metadata": {},
   "source": [
    "One of the advantages of ASDF is its extendability, and the ability to store human-readable hierarchical metadata. Let's further explore the metadata in our `roman` data block."
   ]
  },
  {
   "cell_type": "code",
   "execution_count": null,
   "metadata": {},
   "outputs": [],
   "source": [
    "meta = f['roman']['meta']  # This way we get a dictionary"
   ]
  },
  {
   "cell_type": "code",
   "execution_count": null,
   "metadata": {},
   "outputs": [],
   "source": [
    "type(meta)"
   ]
  },
  {
   "cell_type": "code",
   "execution_count": null,
   "metadata": {},
   "outputs": [],
   "source": [
    "meta # Expect a long-ish output here"
   ]
  },
  {
   "cell_type": "markdown",
   "metadata": {},
   "source": [
    "We retrieved the `meta` datablock as a dictionary, which contains a collection of dictionaries. We iterate over its keys to see what it contains"
   ]
  },
  {
   "cell_type": "code",
   "execution_count": null,
   "metadata": {},
   "outputs": [],
   "source": [
    "for key in meta.keys():\n",
    "    print(key)"
   ]
  },
  {
   "cell_type": "markdown",
   "metadata": {},
   "source": [
    "And we can continue going deeper in the tree"
   ]
  },
  {
   "cell_type": "code",
   "execution_count": null,
   "metadata": {},
   "outputs": [],
   "source": [
    "for key in meta['aperture'].keys():\n",
    "    print(key)"
   ]
  },
  {
   "cell_type": "markdown",
   "metadata": {},
   "source": [
    "Alternatively, one can retrieve the data blocks as `stnode._node.DNode` objects (it requires `roman_datamodels`)"
   ]
  },
  {
   "cell_type": "code",
   "execution_count": null,
   "metadata": {},
   "outputs": [],
   "source": [
    "meta2 = f['roman'].meta"
   ]
  },
  {
   "cell_type": "code",
   "execution_count": null,
   "metadata": {},
   "outputs": [],
   "source": [
    "type(meta2)"
   ]
  },
  {
   "cell_type": "markdown",
   "metadata": {},
   "source": [
    "And one can go deeper in the tree following the same approach"
   ]
  },
  {
   "cell_type": "code",
   "execution_count": null,
   "metadata": {},
   "outputs": [],
   "source": [
    "ap = meta2.aperture"
   ]
  },
  {
   "cell_type": "code",
   "execution_count": null,
   "metadata": {},
   "outputs": [],
   "source": [
    "type(ap)"
   ]
  },
  {
   "cell_type": "markdown",
   "metadata": {},
   "source": [
    "The advantage of this approach is that you still have access to the schema of each node"
   ]
  },
  {
   "cell_type": "code",
   "execution_count": null,
   "metadata": {},
   "outputs": [],
   "source": [
    "pprint(ap.get_schema())"
   ]
  },
  {
   "cell_type": "markdown",
   "metadata": {},
   "source": [
    "### Taking advantage of `astropy.time.Time` objects in the metadata"
   ]
  },
  {
   "cell_type": "markdown",
   "metadata": {},
   "source": [
    "Another new feature in the Roman data is that times in the metadata are stored as `astropy.time.Time` objects, which have a lot of convenience methods to change to different reference systems and time formats. We illustrate here a few examples and for a more comprehensive view of `astropy.time` please check the documentation [here](https://docs.astropy.org/en/stable/time/)."
   ]
  },
  {
   "cell_type": "code",
   "execution_count": null,
   "metadata": {},
   "outputs": [],
   "source": [
    "start_time = meta2['exposure']['start_time']\n",
    "print('Start time of the exposure:', start_time, '; datatype:', type(start_time))"
   ]
  },
  {
   "cell_type": "markdown",
   "metadata": {},
   "source": [
    "We can express this start time as, for example, an MJD very easily:"
   ]
  },
  {
   "cell_type": "code",
   "execution_count": null,
   "metadata": {},
   "outputs": [],
   "source": [
    "start_time.mjd"
   ]
  },
  {
   "cell_type": "markdown",
   "metadata": {},
   "source": [
    "We can use `Time` objects and operate with them. For example, we can get the exposure length by just subtracting the start time from the end time:"
   ]
  },
  {
   "cell_type": "code",
   "execution_count": null,
   "metadata": {},
   "outputs": [],
   "source": [
    "end_time = meta2['exposure']['end_time']\n",
    "exp_len = end_time - start_time"
   ]
  },
  {
   "cell_type": "markdown",
   "metadata": {},
   "source": [
    "And then express the exposure length in different units:"
   ]
  },
  {
   "cell_type": "code",
   "execution_count": null,
   "metadata": {},
   "outputs": [],
   "source": [
    "print('Exposure length in seconds:', exp_len.to(u.s))\n",
    "print('Exposure length in days:', exp_len.to(u.day))\n",
    "print('Exposure length in years:', exp_len.to(u.year))"
   ]
  },
  {
   "cell_type": "markdown",
   "metadata": {},
   "source": [
    "### Plotting with world coordinates"
   ]
  },
  {
   "cell_type": "markdown",
   "metadata": {},
   "source": [
    "Roman uses generalized World Coordinate System standard ([GWCS](https://gwcs.readthedocs.io)). The WCS can be found in the `wcs` key under the `meta' block."
   ]
  },
  {
   "cell_type": "code",
   "execution_count": null,
   "metadata": {},
   "outputs": [],
   "source": [
    "gwcs = f['roman']['meta']['wcs']\n",
    "pprint(gwcs)"
   ]
  },
  {
   "cell_type": "markdown",
   "metadata": {},
   "source": [
    "The WCS can retrieved as an `gwcs` object, which is built upon and is compatible with `astropy.wcs` utilities."
   ]
  },
  {
   "cell_type": "code",
   "execution_count": null,
   "metadata": {},
   "outputs": [],
   "source": [
    "print(type(gwcs))"
   ]
  },
  {
   "cell_type": "markdown",
   "metadata": {},
   "source": [
    "The `gwcs` object can then be conveniently used to plot image with world coordinates."
   ]
  },
  {
   "cell_type": "code",
   "execution_count": null,
   "metadata": {},
   "outputs": [],
   "source": [
    "plt.figure(figsize=(12, 12), layout='tight')\n",
    "plt.subplot(projection=gwcs)\n",
    "norm = ImageNormalize(img, interval=ZScaleInterval(),\n",
    "                      stretch=SinhStretch())\n",
    "plt.imshow(img.value, origin='lower', norm=norm)\n",
    "plt.colorbar(label=f'{img.unit}')\n",
    "plt.grid(color='white', ls='solid')\n",
    "plt.xlabel('RA', fontsize=16)\n",
    "plt.ylabel('DEC', fontsize=16)\n",
    "plt.title('Image data');"
   ]
  },
  {
   "cell_type": "markdown",
   "metadata": {},
   "source": [
    "## Exploring L1 data"
   ]
  },
  {
   "cell_type": "markdown",
   "metadata": {},
   "source": [
    "In the previous section we illustrated how to use `asdf` to read a level-2 image, which trims away the reference pixels and the 33rd amplifier data. In this section, we show some example usage of level-1 (raw) data."
   ]
  },
  {
   "cell_type": "code",
   "execution_count": null,
   "metadata": {},
   "outputs": [],
   "source": [
    "path_l1 = '/grp/roman/SCIENCE_PLATFORM_DATA/ROMANISIM/DENSE_REGION/R0.5_DP0.5_PA0/r0000101001001001001_01101_0001_WFI01_uncal.asdf'\n",
    "g = asdf.open(path_l1)"
   ]
  },
  {
   "cell_type": "code",
   "execution_count": null,
   "metadata": {},
   "outputs": [],
   "source": [
    "g.info()"
   ]
  },
  {
   "cell_type": "markdown",
   "metadata": {},
   "source": [
    "Loading the data follows exactly the same procedure as before, but we see some extra data block: `amp33`, which contains the data from the 33rd amplifier. Additionally, the images are now 4096 $\\times$ 4096 pixels, which is different than the previous images with size 4088 $\\times$ 4088 pixels. On top of that, our `data` array is now a 3D datacube rather than a 2D image, and the units are different ($\\mathrm{DN}$ instead of $\\mathrm{DN}/\\mathrm{s}$)"
   ]
  },
  {
   "cell_type": "code",
   "execution_count": null,
   "metadata": {},
   "outputs": [],
   "source": [
    "plt.figure(figsize=(6, 6), layout='tight')\n",
    "plt.title('Up-the-ramp samples for pixel 1000, 1000')\n",
    "plt.plot(g['roman']['data'][:, 1000, 1000])\n",
    "plt.xlabel('Resultant number', fontsize=16)\n",
    "plt.ylabel('Pixel value [DN]', fontsize=16);"
   ]
  },
  {
   "cell_type": "markdown",
   "metadata": {},
   "source": [
    "The datacube in the level-1 data contains all resultant uncalibrated images that after processing yield the ramp images in level-2 images."
   ]
  },
  {
   "cell_type": "markdown",
   "metadata": {},
   "source": [
    "## Reading data using `roman_datamodels`\n",
    "\n",
    "All Roman data products conform to one of the data models described by the [`roman_datamodels`](https://roman-datamodels.readthedocs.io/en/latest/) package.\n",
    "\n",
    "This package provides the `asdf` library information to validate the files, and utilities to read and save data conforming to the official data models.\n",
    "\n",
    "We will illustrate how to use `roman_datamodels` in order to load data from an `asdf` file."
   ]
  },
  {
   "cell_type": "code",
   "execution_count": null,
   "metadata": {},
   "outputs": [],
   "source": [
    "data_rdm = rdm.open(path_l1)"
   ]
  },
  {
   "cell_type": "code",
   "execution_count": null,
   "metadata": {},
   "outputs": [],
   "source": [
    "print(type(data_rdm))"
   ]
  },
  {
   "cell_type": "markdown",
   "metadata": {},
   "source": [
    "`roman_datamodels` understood our level-1 data and identified it as a `ScienceRaw` model, which we explore further below.\n",
    "\n",
    "Again, the general `.info` method gives us information about the data."
   ]
  },
  {
   "cell_type": "code",
   "execution_count": null,
   "metadata": {},
   "outputs": [],
   "source": [
    "data_rdm.info()"
   ]
  },
  {
   "cell_type": "code",
   "execution_count": null,
   "metadata": {},
   "outputs": [],
   "source": [
    "for key in data_rdm.keys():\n",
    "    print(key)"
   ]
  },
  {
   "cell_type": "markdown",
   "metadata": {},
   "source": [
    "Note that, despite the key `roman` being shown by the `.info` method, the only keys present in the `ScienceRaw` object are those inside of the `roman` group displayed! This is because `data_rdm` is not an `AsdfObject` anymore, but a `ScienceRawModel` object!\n",
    "\n",
    "But we can still retrieve its data blocks easily by instantiating its corresponding attributes/nodes or by using the keys as dictionary keys. The former method will yield the corresponding `roman_datamodels` node, whereas the latter will yield a dictionary."
   ]
  },
  {
   "cell_type": "code",
   "execution_count": null,
   "metadata": {},
   "outputs": [],
   "source": [
    "type(data_rdm.meta), type(data_rdm['meta'])"
   ]
  },
  {
   "cell_type": "code",
   "execution_count": null,
   "metadata": {},
   "outputs": [],
   "source": [
    "mean_values = np.mean(data_rdm.data.value, axis=(1, 2))\n",
    "stdev = np.std(data_rdm.data.value, axis=(1, 2)) # standard deviation\n",
    "npix = data_rdm.data.shape[1]*data_rdm.data.shape[2] # number of pixels\n",
    "resultant = np.arange(1, mean_values.shape[0]+1)\n",
    "plt.figure(figsize=(6, 6), layout='tight')\n",
    "plt.errorbar(resultant, mean_values, stdev/np.sqrt(npix), marker='o', ls='none', fillstyle='none')\n",
    "plt.xlabel('Resultant number', fontsize=16)\n",
    "plt.ylabel('Mean pixel value with standard errors [DN]', fontsize=16);"
   ]
  },
  {
   "cell_type": "markdown",
   "metadata": {},
   "source": [
    "## Exercises\n",
    "Potentially delete"
   ]
  },
  {
   "cell_type": "markdown",
   "metadata": {},
   "source": [
    "## Aditional Resources\n",
    "\n",
    "For more information about Roman data products and additional resources please consider visiting the links below:\n",
    "\n",
    "- [Roman User Documentation -- RDox](https://roman-docs.stsci.edu/)\n",
    "- [MAST](https://archive.stsci.edu)\n",
    "- [ASDF python API](https://asdf.readthedocs.io/en/latest/)\n",
    "- [ASDF standard](https://asdf-standard.readthedocs.io/)"
   ]
  },
  {
   "cell_type": "markdown",
   "metadata": {
    "slideshow": {
     "slide_type": "slide"
    }
   },
   "source": [
    "## About this notebook\n",
    "Let the world know who the author of this great notebook is! If possible/appropriate, include a contact email address for users who might need support (e.g. archive@stsci.edu)\n",
    "\n",
    "**Author:** Javier Sánchez, Associate Scientist.  \n",
    "**Updated On:** 2024-05-23"
   ]
  },
  {
   "cell_type": "markdown",
   "metadata": {},
   "source": [
    "***"
   ]
  },
  {
   "cell_type": "markdown",
   "metadata": {},
   "source": [
    "[Top of Page](#top)\n",
    "<img style=\"float: right;\" src=\"https://raw.githubusercontent.com/spacetelescope/notebooks/master/assets/stsci_pri_combo_mark_horizonal_white_bkgd.png\" alt=\"Space Telescope Logo\" width=\"200px\"/> "
   ]
  }
 ],
 "metadata": {
  "kernelspec": {
   "display_name": "Python 3",
   "language": "python",
   "name": "python3"
  },
  "language_info": {
   "codemirror_mode": {
    "name": "ipython",
    "version": 3
   },
   "file_extension": ".py",
   "mimetype": "text/x-python",
   "name": "python",
   "nbconvert_exporter": "python",
   "pygments_lexer": "ipython3",
   "version": "3.12.3"
  }
 },
 "nbformat": 4,
 "nbformat_minor": 4
}
