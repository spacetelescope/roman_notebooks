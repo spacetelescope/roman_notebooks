{
 "cells": [
  {
   "cell_type": "markdown",
   "metadata": {
    "slideshow": {
     "slide_type": "slide"
    }
   },
   "source": [
    "# Measuring galaxy shapes"
   ]
  },
  {
   "cell_type": "markdown",
   "metadata": {
    "slideshow": {
     "slide_type": "skip"
    }
   },
   "source": [
    "***"
   ]
  },
  {
   "cell_type": "markdown",
   "metadata": {
    "slideshow": {
     "slide_type": "slide"
    }
   },
   "source": [
    "## Imports\n",
    " Describe the libraries we're using here. If there's something unusual, explain what the library is, and why we need it.\n",
    "- *numpy* to handle array functions\n",
    "- *asdf* for accessing Advanced Scientific Data Format (ASDF) files\n",
    "- *astropy.table Table* for manipulating tabulated data\n",
    "- *matplotlib.pyplot* for plotting data\n",
    "- *matplotlib.colors.LogNorm* to represent 2D arrays in log-scale.\n",
    "- *gwcs* to perform sky-to-detector coordinate transformations.\n",
    "- *astropy.coordinates* to perform sky-to-detector coordinate transformations.\n",
    "- *webbpsf* to access Roman's point-spread function.\n",
    "- *galsim* to measure source moments and generate Sérsic profiles.\n",
    "- *romanisim.bandpass.get_abflux* to convert flux from maggies to photons/s consistently with our simulation.\n",
    "- *scipy.optimize.curve_fit* to fit our data."
   ]
  },
  {
   "cell_type": "code",
   "execution_count": null,
   "metadata": {
    "slideshow": {
     "slide_type": "fragment"
    }
   },
   "outputs": [],
   "source": [
    "import numpy as np\n",
    "import asdf\n",
    "from astropy.table import Table\n",
    "import matplotlib.pyplot as plt\n",
    "from matplotlib.colors import LogNorm\n",
    "import webbpsf\n",
    "import galsim\n",
    "import gwcs\n",
    "from astropy.coordinates import SkyCoord\n",
    "import astropy.units as u\n",
    "from romanisim.bandpass import get_abflux\n",
    "from scipy.optimize import curve_fit\n",
    "%matplotlib inline"
   ]
  },
  {
   "cell_type": "code",
   "execution_count": null,
   "metadata": {},
   "outputs": [],
   "source": [
    "import os\n",
    "os.environ['WEBBPSF_PATH']=\"/grp/jwst/ote/webbpsf-data\""
   ]
  },
  {
   "cell_type": "markdown",
   "metadata": {
    "slideshow": {
     "slide_type": "slide"
    }
   },
   "source": [
    "## Introduction\n",
    "The main goal of this notebook is to illustrate a typical usage case of Roman images, which is performing shape measurements of astronomical sources. \n",
    "\n",
    "We are going to perform two sets of measurements. First, we rely on [`galsim`](https://galsim-developers.github.io/) to perform ellipticity measurements. In particular, we use the\n",
    "[REGAUSS method in its HSM module](https://galsim-developers.github.io/GalSim/_build/html/hsm.html) ([Hirata & Seljak 2003](https://ui.adsabs.harvard.edu/abs/2003MNRAS.343..459H/abstract), [Mandelbaum et al. 2005](https://ui.adsabs.harvard.edu/abs/2005MNRAS.361.1287M/abstract)). Second, we fit a galaxy cutout to a Sérsic model.\n",
    "\n",
    "This notebook relies on Advanced Scientific Data Format (`ASDF`) file manipulations. For additional information about these files\n",
    "and how to use them, please check our `exploring_ASDF` notebook.\n",
    "\n",
    "### Defining terms\n",
    "\n",
    "- ASDF: Advanced Scientific Data Format -- the current preferred data format for Roman's Science Pipelines."
   ]
  },
  {
   "cell_type": "markdown",
   "metadata": {},
   "source": [
    "***"
   ]
  },
  {
   "cell_type": "markdown",
   "metadata": {
    "slideshow": {
     "slide_type": "slide"
    }
   },
   "source": [
    "## Loading data\n",
    "The first step of the analysis is to read the Roman image data, which are stored in ASDF format. For this example we start with a calibrated level-2 simulated image created with [`romanisim`](https://romanisim.readthedocs.io). For more information about Roman's data products check the [Roman User Documentation](roman-docs.stsci.edu)."
   ]
  },
  {
   "cell_type": "code",
   "execution_count": null,
   "metadata": {
    "slideshow": {
     "slide_type": "fragment"
    }
   },
   "outputs": [],
   "source": [
    "# This  will change when the data are elsewhere\n",
    "img_path = '/grp/roman/SCIENCE_PLATFORM_DATA/ROMANISIM/DENSE_REGION/R0.5_DP0.5_PA0/r0000101001001001001_01101_0001_WFI01_cal.asdf'\n",
    "img_asdf = asdf.open(img_path)"
   ]
  },
  {
   "cell_type": "markdown",
   "metadata": {},
   "source": [
    "The idea to perform these measurements is to get image cutouts of the individual sources, and perform our measurements. There are many options to get the cutouts. We choose to use the input catalog from the simulation software to define our cutouts. In a more realistic scenario, we would run a detection algorithm to create the cutouts.\n",
    "\n",
    "We start by saving the image array in the `img_arr` variable. Remember that the `data` datablock in the ASDF files typically contain the data arrays, and these typically are `astropy.quantity.Quantity` objects with units and values. We are just interested in the value of the image (in DN/s/px)."
   ]
  },
  {
   "cell_type": "code",
   "execution_count": null,
   "metadata": {},
   "outputs": [],
   "source": [
    "img_arr = img_asdf['roman']['data'][:, :].value\n",
    "print('The units of the original data are: ', img_asdf['roman']['data'].unit)"
   ]
  },
  {
   "cell_type": "markdown",
   "metadata": {},
   "source": [
    "We read the input catalog using `astropy.table`. More details about these catalogs are available [here](https://romanisim.readthedocs.io/en/latest/romanisim/catalog.html)."
   ]
  },
  {
   "cell_type": "code",
   "execution_count": null,
   "metadata": {},
   "outputs": [],
   "source": [
    "cat_path = '/grp/roman/SCIENCE_PLATFORM_DATA/ROMANISIM/DENSE_REGION/R0.5_DP0.5_PA0/fullcat_101M_pared_ra0.50_dec0.50_WFI01.ecsv'\n",
    "catalog = Table.read(cat_path, format='ascii.ecsv')"
   ]
  },
  {
   "cell_type": "markdown",
   "metadata": {},
   "source": [
    "As a quick sanity check we plot the positions of 1% of the objects"
   ]
  },
  {
   "cell_type": "code",
   "execution_count": null,
   "metadata": {},
   "outputs": [],
   "source": [
    "plt.scatter(catalog['ra'][::100], catalog['dec'][::100], s=0.1)\n",
    "plt.xlabel('RA [deg]', fontsize=16)\n",
    "plt.ylabel('Dec [deg]', fontsize=16)"
   ]
  },
  {
   "cell_type": "markdown",
   "metadata": {},
   "source": [
    "## Creating cutouts and retrieving `webbpsf`'s PSF."
   ]
  },
  {
   "cell_type": "markdown",
   "metadata": {},
   "source": [
    "The positions are in sky coordinates. In order to make the cutouts we need the pixel coordinates in the image. In order to do that, we use the input World Coordinate System (WCS).\n",
    "In the case of Roman data, these correspond to GWCS objects. For more information about GWCS please check the documentation [here](https://gwcs.readthedocs.io/)."
   ]
  },
  {
   "cell_type": "code",
   "execution_count": null,
   "metadata": {},
   "outputs": [],
   "source": [
    "w = img_asdf['roman']['meta']['wcs'] # We call the GWCS object w for later usage"
   ]
  },
  {
   "cell_type": "code",
   "execution_count": null,
   "metadata": {},
   "outputs": [],
   "source": [
    "coords = SkyCoord(ra=catalog['ra']*u.deg, dec=catalog['dec']*u.deg)  # Save the catalogs' coordinates in a SkyCoord object\n",
    "y, x = w.world_to_array_index_values(coords)  # Convert from sky to detector indices"
   ]
  },
  {
   "cell_type": "markdown",
   "metadata": {},
   "source": [
    "For illustrative purposes, we focus on fairly bright objects ($21 < \\mathrm{mag}_{158} < 21.5$), and we will be interested in galaxies (marked as `type=SER` in the catalog)."
   ]
  },
  {
   "cell_type": "code",
   "execution_count": null,
   "metadata": {},
   "outputs": [],
   "source": [
    "gal_sel = (-2.5*np.log10(catalog['F158']) > 21) & (-2.5*np.log10(catalog['F158']) < 21.5) & (catalog['type'] == 'SER')\n",
    "print(np.count_nonzero(gal_sel), 'galaxies pass these selection criteria')"
   ]
  },
  {
   "cell_type": "markdown",
   "metadata": {},
   "source": [
    "The majority of morphological measurements require high-accuracy knowledge of the PSF. In the case of our simulated scene, we know that the PSF that was used to generate was obtained via `webbpsf`."
   ]
  },
  {
   "cell_type": "code",
   "execution_count": null,
   "metadata": {},
   "outputs": [],
   "source": [
    "band = img_asdf['roman']['meta']['instrument']['optical_element']\n",
    "print('The simulated band is:', band)\n",
    "nc = webbpsf.WFI()  # We tell webbpsf that we want a Roman PSF\n",
    "nc.filter = band  # We configure the filter\n",
    "psf = nc.calc_psf(fov_pixels=64)  # We configure the size of the PSF array\n",
    "psf_img = galsim.Image(psf[0].data, scale=0.11/4)  # We specify the pixel scale, webbpsf's PSF is 4x oversampled, and Roman's pixel scale is 0.11 arcsec/pixel\n",
    "plt.imshow(psf_img.array, norm=LogNorm())"
   ]
  },
  {
   "cell_type": "code",
   "execution_count": null,
   "metadata": {},
   "outputs": [],
   "source": [
    "psf_obj = galsim.InterpolatedImage(psf_img, flux=1)  # We save the PSF as an interpolated image so we can convolve and deconvolve later on"
   ]
  },
  {
   "cell_type": "code",
   "execution_count": null,
   "metadata": {},
   "outputs": [],
   "source": [
    "# We are going to select one of the galaxies within our galaxy selection gal_sel \n",
    "igal = 9\n",
    "# We create a fairly large cutout -- 4 times the half-light radius + 1 pixel for padding\n",
    "size = int(catalog['half_light_radius'][gal_sel][igal]*4/0.1+1)\n",
    "# We cut our original image on the selected coordinates of the source of interest\n",
    "xmin = int(x[gal_sel][igal] - size//2)\n",
    "xmax = xmin + size + 1\n",
    "ymin = int(y[gal_sel][igal] - size//2)\n",
    "ymax = ymin + size + 1\n",
    "cutout = galsim.Image(img_arr[ymin:ymax, xmin:xmax], scale=0.11)\n",
    "plt.imshow(cutout.array, origin='lower', norm=LogNorm())\n",
    "plt.colorbar(label='DN/s')\n",
    "plt.xlabel('X [pix]')\n",
    "plt.ylabel('Y [pix]')"
   ]
  },
  {
   "cell_type": "markdown",
   "metadata": {},
   "source": [
    "## Estimating the source's moments"
   ]
  },
  {
   "cell_type": "markdown",
   "metadata": {},
   "source": [
    "Now that we have our cutout saved as a `galsim.Image` object we can just use the `HSM` module to estimate the moments:"
   ]
  },
  {
   "cell_type": "code",
   "execution_count": null,
   "metadata": {},
   "outputs": [],
   "source": [
    "shape = galsim.hsm.FindAdaptiveMom(cutout, strict=False)"
   ]
  },
  {
   "cell_type": "code",
   "execution_count": null,
   "metadata": {},
   "outputs": [],
   "source": [
    "shape"
   ]
  },
  {
   "cell_type": "markdown",
   "metadata": {},
   "source": [
    "`shape` contains the source moments estimated from the best-fit elliptical Gaussian. Since we have the PSF model we can also try to estimate the PSF-corrected galaxy shear"
   ]
  },
  {
   "cell_type": "code",
   "execution_count": null,
   "metadata": {},
   "outputs": [],
   "source": [
    "shape2 = galsim.hsm.EstimateShear(cutout, psf_img, strict=False)"
   ]
  },
  {
   "cell_type": "code",
   "execution_count": null,
   "metadata": {},
   "outputs": [],
   "source": [
    "shape2"
   ]
  },
  {
   "cell_type": "markdown",
   "metadata": {},
   "source": [
    "## Fitting a source to a Sérsic profile"
   ]
  },
  {
   "cell_type": "markdown",
   "metadata": {},
   "source": [
    "Another typical morphological analysis consists on fitting the source to a [Sérsic profile](https://en.wikipedia.org/wiki/S%C3%A9rsic_profile) ([Sérsic 1963](https://ui.adsabs.harvard.edu/abs/1963BAAA....6...41S/abstract)). We are going to rely on `galsim`'s Sérsic implementation instead of doing our own.\n",
    "\n",
    "In our example we will ignore the pixel mask (data quality array), but will use the error image."
   ]
  },
  {
   "cell_type": "markdown",
   "metadata": {},
   "source": [
    "First, we get the zeropoint from `romanisim` so we can convert from the input catalog units (maggies) to DN/s"
   ]
  },
  {
   "cell_type": "code",
   "execution_count": null,
   "metadata": {},
   "outputs": [],
   "source": [
    "zp = get_abflux(band)"
   ]
  },
  {
   "cell_type": "markdown",
   "metadata": {},
   "source": [
    "Then we create our model:"
   ]
  },
  {
   "cell_type": "code",
   "execution_count": null,
   "metadata": {},
   "outputs": [],
   "source": [
    "def sersic_mod(cutout, n, hlr, flux, pa, x0, y0, q):\n",
    "    nx, ny = cutout.array.shape\n",
    "    flux = flux*zp  # total flux in photons/s\n",
    "    ser = galsim.Sersic(n, half_light_radius=hlr, flux=flux)\n",
    "    ser.shear(q=q, beta=pa*galsim.degrees)  # change PA and axis ratio\n",
    "    offset = galsim.PositionD(x=x0, y=y0)  # potentially shift a bit the profile\n",
    "    ser = galsim.convolve.Convolve(ser, psf_obj)  # add PSF\n",
    "    img = galsim.ImageD(nx, ny)  \n",
    "    ser.drawImage(image=img, offset=offset)  # draw image of the model\n",
    "    return img.array.flatten()  # return a 1D-array"
   ]
  },
  {
   "cell_type": "markdown",
   "metadata": {},
   "source": [
    "We initialize the model with the truth parameters"
   ]
  },
  {
   "cell_type": "code",
   "execution_count": null,
   "metadata": {},
   "outputs": [],
   "source": [
    "p0 = [catalog['n'][gal_sel][igal], catalog['half_light_radius'][gal_sel][igal], catalog['F158'][gal_sel][igal],\n",
    "              catalog['pa'][gal_sel][igal], 0., 0., catalog['ba'][gal_sel][igal]]\n",
    "fid_model = sersic_mod(cutout, p0[0], p0[1], p0[2], p0[3], p0[4], p0[5], p0[6])"
   ]
  },
  {
   "cell_type": "markdown",
   "metadata": {},
   "source": [
    "We obtain the error array in the location of the cutout"
   ]
  },
  {
   "cell_type": "code",
   "execution_count": null,
   "metadata": {},
   "outputs": [],
   "source": [
    "err_img = img_asdf['roman']['err'][ymin:ymax, xmin:xmax].value.flatten()"
   ]
  },
  {
   "cell_type": "markdown",
   "metadata": {},
   "source": [
    "And fit the model using `scipy`'s `curve_fit` method. We add some bounds to the parameter space in order avoid software issues and unphysical values -- galsim only supports `0.3 < n < 6.2`."
   ]
  },
  {
   "cell_type": "code",
   "execution_count": null,
   "metadata": {},
   "outputs": [],
   "source": [
    "pout, pcov = curve_fit(sersic_mod, cutout, cutout.array.flatten(), sigma=err_img,\n",
    "          p0=p0, bounds=([0.3, 0.05, 1e-11, 0, -size/2, -size/2, 0], [6.2, 3.0, 1e-7, 360, size/2, size/2, 1]))"
   ]
  },
  {
   "cell_type": "markdown",
   "metadata": {},
   "source": [
    "Let's see the resulting best-fit parameters of the fit"
   ]
  },
  {
   "cell_type": "code",
   "execution_count": null,
   "metadata": {},
   "outputs": [],
   "source": [
    "print('n', 'hlr', 'flux', 'pa', 'x0', 'y0', 'q') \n",
    "print(pout)\n",
    "print(p0)"
   ]
  },
  {
   "cell_type": "code",
   "execution_count": null,
   "metadata": {},
   "outputs": [],
   "source": [
    "model_out = sersic_mod(cutout, pout[0], pout[1], pout[2], pout[3], pout[4], pout[5], pout[6])"
   ]
  },
  {
   "cell_type": "markdown",
   "metadata": {},
   "source": [
    "Let's see the differences"
   ]
  },
  {
   "cell_type": "code",
   "execution_count": null,
   "metadata": {},
   "outputs": [],
   "source": [
    "plt.imshow(cutout.array-model_out.reshape(cutout.array.shape), origin='lower')\n",
    "plt.colorbar()\n"
   ]
  },
  {
   "cell_type": "markdown",
   "metadata": {},
   "source": [
    "Finally, we show the fiducial model, the resulting model, and the original image. Which one is closer?"
   ]
  },
  {
   "cell_type": "code",
   "execution_count": null,
   "metadata": {},
   "outputs": [],
   "source": [
    "plt.imshow(fid_model.reshape(cutout.array.shape), norm=LogNorm(1, 3))\n",
    "plt.colorbar(label='DN/s')\n",
    "plt.title('Fiducial model')\n",
    "plt.figure()\n",
    "plt.imshow(model_out.reshape(cutout.array.shape), norm=LogNorm(1, 3))\n",
    "plt.colorbar(label='DN/s')\n",
    "plt.title('Best-fit model')\n",
    "plt.figure()\n",
    "plt.imshow(cutout.array, norm=LogNorm(1, 3))\n",
    "plt.colorbar(label='DN/s')\n",
    "plt.title('Original image');"
   ]
  },
  {
   "cell_type": "markdown",
   "metadata": {},
   "source": [
    "## Aditional Resources\n",
    "\n",
    "- [Roman User Documentation (RDox)](https://roman-docs.stsci.edu/)\n",
    "- [Roman Notebooks](https://github.com/spacetelescope/roman_datamodels)\n",
    "- [`romanisim` documentation](https://romanisim.readthedocs.io/)\n",
    "- [`webbpsf` documentation](https://webbpsf.readthedocs.io/)"
   ]
  },
  {
   "cell_type": "markdown",
   "metadata": {
    "slideshow": {
     "slide_type": "slide"
    }
   },
   "source": [
    "## About this notebook\n",
    "\n",
    "**Author:** Javier Sánchez, Amethyst Barnes, Ami Choi.  \n",
    "**Updated On:** 2024-05-06"
   ]
  },
  {
   "cell_type": "markdown",
   "metadata": {},
   "source": [
    "***"
   ]
  },
  {
   "cell_type": "markdown",
   "metadata": {},
   "source": [
    "[Top of Page](#top)\n",
    "<img style=\"float: right;\" src=\"https://raw.githubusercontent.com/spacetelescope/notebooks/master/assets/stsci_pri_combo_mark_horizonal_white_bkgd.png\" alt=\"Space Telescope Logo\" width=\"200px\"/> "
   ]
  }
 ],
 "metadata": {
  "kernelspec": {
   "display_name": "Python 3 (ipykernel)",
   "language": "python",
   "name": "python3"
  },
  "language_info": {
   "codemirror_mode": {
    "name": "ipython",
    "version": 3
   },
   "file_extension": ".py",
   "mimetype": "text/x-python",
   "name": "python",
   "nbconvert_exporter": "python",
   "pygments_lexer": "ipython3",
   "version": "3.12.0"
  }
 },
 "nbformat": 4,
 "nbformat_minor": 4
}
