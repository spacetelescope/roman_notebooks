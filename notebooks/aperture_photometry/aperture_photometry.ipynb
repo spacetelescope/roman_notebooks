{
 "cells": [
  {
   "cell_type": "markdown",
   "metadata": {
    "slideshow": {
     "slide_type": "slide"
    }
   },
   "source": [
    "# Forced Aperture Photometry"
   ]
  },
  {
   "cell_type": "markdown",
   "metadata": {
    "slideshow": {
     "slide_type": "skip"
    }
   },
   "source": [
    "***"
   ]
  },
  {
   "cell_type": "markdown",
   "metadata": {
    "slideshow": {
     "slide_type": "slide"
    }
   },
   "source": [
    "## Imports\n",
    "We are using standard libraries from the Numpy and Astropy stack.\n",
    "\n",
    "- `asdf` opens the Roman WFI images in the Advanced Scientific Data Format (ASDF). \n",
    "- `photutils` is an Astropy-affiliated package for photometry.\n",
    "- `roman_datamodels` handles and validates data using schemas that define the expected structure of Roman data.\n",
    "- `s3fs` streams data from Simple Storage Service (S3) buckets on Amazon Web Services (AWS)."
   ]
  },
  {
   "cell_type": "code",
   "execution_count": null,
   "metadata": {
    "slideshow": {
     "slide_type": "fragment"
    }
   },
   "outputs": [],
   "source": [
    "import asdf\n",
    "from astropy.io import fits\n",
    "from astropy.table import Table\n",
    "import copy\n",
    "import matplotlib.pyplot as plt\n",
    "import numpy as np\n",
    "import photutils\n",
    "import roman_datamodels as rdm\n",
    "import s3fs"
   ]
  },
  {
   "cell_type": "markdown",
   "metadata": {
    "slideshow": {
     "slide_type": "slide"
    }
   },
   "source": [
    "## Introduction to aperture photometry\n",
    "This notebook explains how to perform **forced aperture photometry** (also known as just *forced photometry* or *aperture photometry*). Aperture photometry is useful for measuring the integrated fluxes for a set of specified source positions and aperture sizes. This technique is often valuable for extracting fluxes of known sources when it is impractical to fit for its position and light distribution, or when simplicity and speed are high priorities. For example, aperture photometry can be used for:\n",
    "\n",
    "- **Faint sources.** If a source is too faint, then it can become difficult to fit for the source centroid, light profile, and flux.\n",
    "- **Sources detected at other wavelengths.** If a source is detected at another wavelength (e.g., in another band), and the source size is expected to be the same across wavelengths, then it can be useful to define an aperture using that other wavelength in order to measure source fluxes for all wavelengths.\n",
    "- **Time-series evolution of sources.** If a source brightness is decreasing over time, then we can use earlier observations to specify an aperture and extract the flux.\n",
    "\n",
    "Here, we cover a simple example using the `photutils` package to extract fluxes from a catalog of known sources (stars and galaxies)."
   ]
  },
  {
   "cell_type": "markdown",
   "metadata": {},
   "source": [
    "***"
   ]
  },
  {
   "cell_type": "markdown",
   "metadata": {
    "slideshow": {
     "slide_type": "slide"
    }
   },
   "source": [
    "## Loading data"
   ]
  },
  {
   "cell_type": "markdown",
   "metadata": {
    "slideshow": {
     "slide_type": "slide"
    }
   },
   "source": [
    "We obtain data from S3 buckets by using `s3fs`."
   ]
  },
  {
   "cell_type": "markdown",
   "metadata": {},
   "source": [
    "### WFI image\n",
    "\n",
    "We will load a simulated calibrated Roman WFI image in the F158 filter generated using [Roman I-Sim](https://romanisim.readthedocs.io/) using a mock source catalog of galaxies and stars (described below). This $4088 \\times 4088$-pixel image covers a single detector, SCA 01. It is a Level 2 image, meaning that the up-the-ramp fitting has already been performed (along with other calibration pipeline steps), and the resulting pixel units are `DN/s`, or Digital Number per second."
   ]
  },
  {
   "cell_type": "code",
   "execution_count": null,
   "metadata": {},
   "outputs": [],
   "source": [
    "asdf_dir_uri = 's3://roman-sci-test-data-prod-summer-beta-test/'\n",
    "fs = s3fs.S3FileSystem()\n",
    "\n",
    "asdf_file_uri = asdf_dir_uri + 'ROMANISIM/DENSE_REGION/R0.5_DP0.5_PA0/r0000101001001001001_01101_0001_WFI01_cal.asdf'\n",
    "\n",
    "with fs.open(asdf_file_uri, 'rb') as f:\n",
    "    dm = rdm.open(f)\n",
    "    image = dm.data.value.copy()\n",
    "    wcs = copy.deepcopy(dm.meta.wcs)"
   ]
  },
  {
   "cell_type": "markdown",
   "metadata": {},
   "source": [
    "### Source catalog\n",
    "\n",
    "We also have access to a source catalog that was used to simulate the WFI image. It contains stars and galaxies, which are labeled as `PSF` and `SER` under the column `type`. Source fluxes are available in all WFI filters (`F062`, `F087`, `F106`, `F129`, `F146`, `F158`, `F184`, `F213`) and are sampled from a lognormal distribution. Note that fluxes are all given in *maggies*, which are defined as ${\\rm maggie} \\equiv 10^{-0.4 m_{AB}}$, for an AB apparent magnitude $m_{AB}$. \n",
    "\n",
    "For galaxies, morphological parameters like `n` (Sersic index), `half_light_radius`, `pa` (position angle), and `ba` (axis ratio) are also provided in the catalog. These are sampled according to fiducial (and likely unrealistic) distributions."
   ]
  },
  {
   "cell_type": "code",
   "execution_count": null,
   "metadata": {},
   "outputs": [],
   "source": [
    "catalog_file_uri = asdf_dir_uri + 'ROMANISIM/CATALOGS_SCRIPTS/fullcat_101M_pared_ra0.50_dec0.50_WFI01.ecsv'\n",
    "with fs.open(catalog_file_uri) as catalog_file_stream:\n",
    "    cat = Table.read(catalog_fname)"
   ]
  },
  {
   "cell_type": "markdown",
   "metadata": {},
   "source": [
    "We can also display the first five rows and all columns of the catalog:"
   ]
  },
  {
   "cell_type": "code",
   "execution_count": null,
   "metadata": {},
   "outputs": [],
   "source": [
    "cat[:5]"
   ]
  },
  {
   "cell_type": "markdown",
   "metadata": {},
   "source": [
    "We can convert (RA, Dec) to (x, y) positions on the WFI 01 detector."
   ]
  },
  {
   "cell_type": "code",
   "execution_count": null,
   "metadata": {},
   "outputs": [],
   "source": [
    "x_cat, y_cat = wcs.world_to_array_index_values(cat[\"ra\"], cat[\"dec\"])"
   ]
  },
  {
   "cell_type": "markdown",
   "metadata": {},
   "source": [
    "It might be helpful to see how many sources there are before we try to visualize them! We first make a mask of sources that actually fall on the detector, and then divide the remaining sources into stars and galaxies."
   ]
  },
  {
   "cell_type": "code",
   "execution_count": null,
   "metadata": {},
   "outputs": [],
   "source": [
    "on_detector_mask = (x_cat >= 0) & (x_cat <= 4095) & (y_cat >= 0) & (y_cat <= 4095)\n",
    "print(f\"Number of sources on detector: {sum(on_detector_mask)}\")\n",
    "\n",
    "stars = cat[on_detector_mask & (cat[\"type\"] == \"PSF\")]\n",
    "gals = cat[on_detector_mask & (cat[\"type\"] == \"SER\")]\n",
    "print(f\"Number of stars: {len(stars)}\\nNumber of galaxies: {len(gals)}\")"
   ]
  },
  {
   "cell_type": "markdown",
   "metadata": {},
   "source": [
    "Note that there are two orders of magnitude more stars than galaxies! We can now plot the distribution of source fluxes using a histogram. "
   ]
  },
  {
   "cell_type": "code",
   "execution_count": null,
   "metadata": {},
   "outputs": [],
   "source": [
    "plt.figure(figsize=(4, 3), dpi=150)\n",
    "plt.hist(np.log10(stars[\"F158\"].value), bins=50, range=[-10, -5], log=True, label=\"Stars\")\n",
    "plt.hist(np.log10(gals[\"F158\"].value), bins=50, range=[-10, -5], log=True, label=\"Galaxies\")\n",
    "\n",
    "plt.xlabel(\"$\\log_{10}$(F158 flux [maggies])\")\n",
    "plt.ylabel(\"Number of sources\")\n",
    "plt.legend()\n",
    "\n",
    "plt.grid(alpha=0.15)"
   ]
  },
  {
   "cell_type": "markdown",
   "metadata": {},
   "source": [
    "## Forced aperture photometry\n",
    "\n",
    "For simplicity, we will perform aperture photometry on a smaller sample of about 1000 stars and 1000 galaxies."
   ]
  },
  {
   "cell_type": "markdown",
   "metadata": {},
   "source": [
    "### Selection of bright stars and galaxies"
   ]
  },
  {
   "cell_type": "markdown",
   "metadata": {},
   "source": [
    "We will define a limiting magnitude of $3 \\times 10^{-9}$ maggies in the F158 band, and then select every 100th star and every galaxy. This will give us approximately the same number of stars as galaxies.\n",
    "\n",
    "From the catalogs, we now know the positions for every star and galaxy. We can define set aperture radii in units of pixels; we choose radii of 3 pixels for stars and 5 pixels for galaxies."
   ]
  },
  {
   "cell_type": "code",
   "execution_count": null,
   "metadata": {},
   "outputs": [],
   "source": [
    "limiting_flux = 3e-9"
   ]
  },
  {
   "cell_type": "code",
   "execution_count": null,
   "metadata": {},
   "outputs": [],
   "source": [
    "bright_stars = stars[(stars[\"F158\"] > limiting_flux)][::100]\n",
    "print(f\"We have selected {len(bright_stars)} bright stars.\")"
   ]
  },
  {
   "cell_type": "code",
   "execution_count": null,
   "metadata": {},
   "outputs": [],
   "source": [
    "star_positions = [(y, x) for x, y in zip(*wcs.world_to_array_index_values(bright_stars[\"ra\"], bright_stars[\"dec\"]))]\n",
    "star_apertures = photutils.aperture.CircularAperture(\n",
    "    positions=star_positions, \n",
    "    r=3\n",
    ")"
   ]
  },
  {
   "cell_type": "code",
   "execution_count": null,
   "metadata": {},
   "outputs": [],
   "source": [
    "bright_galaxies = gals[gals[\"F158\"] > limiting_flux]\n",
    "print(f\"We have selected {len(bright_galaxies)} bright galaxies.\")"
   ]
  },
  {
   "cell_type": "code",
   "execution_count": null,
   "metadata": {},
   "outputs": [],
   "source": [
    "galaxy_positions = [(y, x) for x, y in zip(*wcs.world_to_array_index_values(bright_galaxies[\"ra\"], bright_galaxies[\"dec\"]))]\n",
    "galaxy_apertures = photutils.aperture.CircularAperture(\n",
    "    positions=galaxy_positions, \n",
    "    r=5\n",
    ")"
   ]
  },
  {
   "cell_type": "markdown",
   "metadata": {},
   "source": [
    "### Visualize 1/16th of simulated image"
   ]
  },
  {
   "cell_type": "code",
   "execution_count": null,
   "metadata": {},
   "outputs": [],
   "source": [
    "plt.figure(figsize=(9, 9), dpi=150)\n",
    "\n",
    "# show the simulated image\n",
    "plt.imshow(image, origin='lower', vmin=0, vmax=12, cmap=\"gray_r\", )\n",
    "\n",
    "# plot circles over bright galaxies and stars\n",
    "star_apertures.plot(color=\"C0\")\n",
    "galaxy_apertures.plot(color=\"C1\")\n",
    "\n",
    "# zoom in on 1/16th of the image\n",
    "plt.xlim(1024, 1536)\n",
    "plt.ylim(1024, 1536)\n",
    "\n",
    "plt.axis(\"off\")\n",
    "plt.show()"
   ]
  },
  {
   "cell_type": "markdown",
   "metadata": {},
   "source": [
    "### Aperture photometry with `photutils`"
   ]
  },
  {
   "cell_type": "code",
   "execution_count": null,
   "metadata": {},
   "outputs": [],
   "source": [
    "star_phot = photutils.aperture.aperture_photometry(image, star_apertures)\n",
    "star_phot[:5]"
   ]
  },
  {
   "cell_type": "code",
   "execution_count": null,
   "metadata": {},
   "outputs": [],
   "source": [
    "galaxy_phot = photutils.aperture.aperture_photometry(image, galaxy_apertures)\n",
    "galaxy_phot[:5]"
   ]
  },
  {
   "cell_type": "markdown",
   "metadata": {},
   "source": [
    "We can now evaluate our aperture photometry! The blue points showing stars are follow a much tighter relation, which is expected given their compact sizes and smaller apertures. Meanwhile, galaxies require larger apertures, but still lose flux in some cases (for brighter galaxies) and/or are contaminated by other surrounding sources (often more noticeable for fainter galaxies)."
   ]
  },
  {
   "cell_type": "code",
   "execution_count": null,
   "metadata": {},
   "outputs": [],
   "source": [
    "plt.figure(figsize=(5, 5), dpi=150)\n",
    "plt.scatter(bright_stars[\"F158\"], star_phot[\"aperture_sum\"], s=5, c=\"C0\", label=\"Stars\")\n",
    "plt.scatter(bright_galaxies[\"F158\"], galaxy_phot[\"aperture_sum\"], s=5, c=\"C1\", label=\"Galaxies\")\n",
    "\n",
    "plt.xscale(\"log\")\n",
    "plt.yscale(\"log\")\n",
    "plt.xlim(3e-9, 3e-7)\n",
    "plt.ylim(6e1, 6e3)\n",
    "\n",
    "plt.xlabel(\"F158 true flux (maggies)\")\n",
    "plt.ylabel(\"F158 Aperture flux (DN/s)\")\n",
    "plt.legend(loc=\"lower right\", fontsize=12)\n",
    "\n",
    "plt.grid(alpha=0.15)"
   ]
  },
  {
   "cell_type": "markdown",
   "metadata": {},
   "source": [
    "## Aditional Resources\n",
    "The [`photutils` documentation](https://photutils.readthedocs.io/en/stable/) has additional tutorials for detecting and fitting sources in images:\n",
    "\n",
    "- [Aperture photometry](https://photutils.readthedocs.io/en/stable/aperture.html)\n",
    "- [Background estimation](https://photutils.readthedocs.io/en/stable/background.html)\n",
    "- [Source detection](https://photutils.readthedocs.io/en/stable/detection.html)\n",
    "- [PSF photometry](https://photutils.readthedocs.io/en/stable/psf.html)"
   ]
  },
  {
   "cell_type": "markdown",
   "metadata": {
    "slideshow": {
     "slide_type": "slide"
    }
   },
   "source": [
    "## About this notebook\n",
    "\n",
    "**Author:** John F. Wu (jowu@stsci.edu) \n",
    "**Updated On:** 2024-05-03"
   ]
  },
  {
   "cell_type": "markdown",
   "metadata": {},
   "source": [
    "***"
   ]
  },
  {
   "cell_type": "markdown",
   "metadata": {},
   "source": [
    "[Top of Page](#top)\n",
    "<img style=\"float: right;\" src=\"https://raw.githubusercontent.com/spacetelescope/notebooks/master/assets/stsci_pri_combo_mark_horizonal_white_bkgd.png\" alt=\"Space Telescope Logo\" width=\"200px\"/> "
   ]
  }
 ],
 "metadata": {
  "kernelspec": {
   "display_name": "Python 3 (ipykernel)",
   "language": "python",
   "name": "python3"
  },
  "language_info": {
   "codemirror_mode": {
    "name": "ipython",
    "version": 3
   },
   "file_extension": ".py",
   "mimetype": "text/x-python",
   "name": "python",
   "nbconvert_exporter": "python",
   "pygments_lexer": "ipython3",
   "version": "3.11.9"
  }
 },
 "nbformat": 4,
 "nbformat_minor": 4
}
